{
 "cells": [
  {
   "cell_type": "markdown",
   "metadata": {},
   "source": [
    "# import necessary packages"
   ]
  },
  {
   "cell_type": "code",
   "execution_count": 1,
   "metadata": {},
   "outputs": [
    {
     "name": "stderr",
     "output_type": "stream",
     "text": [
      "Using TensorFlow backend.\n"
     ]
    }
   ],
   "source": [
    "from tensorflow.keras import layers\n",
    "import tensorflow.keras as keras\n",
    "import tensorflow as tf\n",
    "\n",
    "import tensorflow_datasets as tfds\n",
    "\n",
    "from keras.preprocessing.sequence import pad_sequences\n",
    "\n",
    "import pandas as pd\n",
    "import numpy as np"
   ]
  },
  {
   "cell_type": "markdown",
   "metadata": {},
   "source": [
    "# imdb_reviews/submwords8k - 8000 vocab size\n",
    "# read train_data, test_data and info"
   ]
  },
  {
   "cell_type": "code",
   "execution_count": 2,
   "metadata": {
    "scrolled": true
   },
   "outputs": [],
   "source": [
    "(train_data, test_data), info = tfds.load('imdb_reviews/subwords8k', split=(tfds.Split.TRAIN, tfds.Split.TEST), \n",
    "                                          with_info=True, as_supervised=True)"
   ]
  },
  {
   "cell_type": "markdown",
   "metadata": {},
   "source": [
    "# Type of 'info'"
   ]
  },
  {
   "cell_type": "code",
   "execution_count": 3,
   "metadata": {},
   "outputs": [
    {
     "data": {
      "text/plain": [
       "tensorflow_datasets.core.dataset_info.DatasetInfo"
      ]
     },
     "execution_count": 3,
     "metadata": {},
     "output_type": "execute_result"
    }
   ],
   "source": [
    "type(info)"
   ]
  },
  {
   "cell_type": "markdown",
   "metadata": {},
   "source": [
    "# What is in 'info'"
   ]
  },
  {
   "cell_type": "code",
   "execution_count": 4,
   "metadata": {
    "scrolled": true
   },
   "outputs": [
    {
     "data": {
      "text/plain": [
       "tfds.core.DatasetInfo(\n",
       "    name='imdb_reviews',\n",
       "    version=1.0.0,\n",
       "    description='Large Movie Review Dataset.\n",
       "This is a dataset for binary sentiment classification containing substantially more data than previous benchmark datasets. We provide a set of 25,000 highly polar movie reviews for training, and 25,000 for testing. There is additional unlabeled data for use as well.',\n",
       "    homepage='http://ai.stanford.edu/~amaas/data/sentiment/',\n",
       "    features=FeaturesDict({\n",
       "        'label': ClassLabel(shape=(), dtype=tf.int64, num_classes=2),\n",
       "        'text': Text(shape=(None,), dtype=tf.int64, encoder=<SubwordTextEncoder vocab_size=8185>),\n",
       "    }),\n",
       "    total_num_examples=100000,\n",
       "    splits={\n",
       "        'test': 25000,\n",
       "        'train': 25000,\n",
       "        'unsupervised': 50000,\n",
       "    },\n",
       "    supervised_keys=('text', 'label'),\n",
       "    citation=\"\"\"@InProceedings{maas-EtAl:2011:ACL-HLT2011,\n",
       "      author    = {Maas, Andrew L.  and  Daly, Raymond E.  and  Pham, Peter T.  and  Huang, Dan  and  Ng, Andrew Y.  and  Potts, Christopher},\n",
       "      title     = {Learning Word Vectors for Sentiment Analysis},\n",
       "      booktitle = {Proceedings of the 49th Annual Meeting of the Association for Computational Linguistics: Human Language Technologies},\n",
       "      month     = {June},\n",
       "      year      = {2011},\n",
       "      address   = {Portland, Oregon, USA},\n",
       "      publisher = {Association for Computational Linguistics},\n",
       "      pages     = {142--150},\n",
       "      url       = {http://www.aclweb.org/anthology/P11-1015}\n",
       "    }\"\"\",\n",
       "    redistribution_info=,\n",
       ")"
      ]
     },
     "execution_count": 4,
     "metadata": {},
     "output_type": "execute_result"
    }
   ],
   "source": [
    "info"
   ]
  },
  {
   "cell_type": "markdown",
   "metadata": {},
   "source": [
    "# info.features"
   ]
  },
  {
   "cell_type": "code",
   "execution_count": 5,
   "metadata": {
    "scrolled": true
   },
   "outputs": [
    {
     "data": {
      "text/plain": [
       "FeaturesDict({\n",
       "    'label': ClassLabel(shape=(), dtype=tf.int64, num_classes=2),\n",
       "    'text': Text(shape=(None,), dtype=tf.int64, encoder=<SubwordTextEncoder vocab_size=8185>),\n",
       "})"
      ]
     },
     "execution_count": 5,
     "metadata": {},
     "output_type": "execute_result"
    }
   ],
   "source": [
    "info.features"
   ]
  },
  {
   "cell_type": "markdown",
   "metadata": {},
   "source": [
    "# info.features['text']"
   ]
  },
  {
   "cell_type": "code",
   "execution_count": 6,
   "metadata": {},
   "outputs": [
    {
     "data": {
      "text/plain": [
       "Text(shape=(None,), dtype=tf.int64, encoder=<SubwordTextEncoder vocab_size=8185>)"
      ]
     },
     "execution_count": 6,
     "metadata": {},
     "output_type": "execute_result"
    }
   ],
   "source": [
    "info.features['text']"
   ]
  },
  {
   "cell_type": "markdown",
   "metadata": {},
   "source": [
    "# info.features['text'].encoder"
   ]
  },
  {
   "cell_type": "code",
   "execution_count": 7,
   "metadata": {
    "scrolled": true
   },
   "outputs": [
    {
     "data": {
      "text/plain": [
       "<SubwordTextEncoder vocab_size=8185>"
      ]
     },
     "execution_count": 7,
     "metadata": {},
     "output_type": "execute_result"
    }
   ],
   "source": [
    "info.features['text'].encoder"
   ]
  },
  {
   "cell_type": "code",
   "execution_count": 8,
   "metadata": {},
   "outputs": [],
   "source": [
    "encoder = info.features['text'].encoder"
   ]
  },
  {
   "cell_type": "markdown",
   "metadata": {},
   "source": [
    "# info.features['text'].encoder.vocab_size"
   ]
  },
  {
   "cell_type": "code",
   "execution_count": 9,
   "metadata": {},
   "outputs": [
    {
     "data": {
      "text/plain": [
       "8185"
      ]
     },
     "execution_count": 9,
     "metadata": {},
     "output_type": "execute_result"
    }
   ],
   "source": [
    "encoder.vocab_size"
   ]
  },
  {
   "cell_type": "markdown",
   "metadata": {},
   "source": [
    "# info.features['text'].encoder.subwords - after tokenization"
   ]
  },
  {
   "cell_type": "code",
   "execution_count": 10,
   "metadata": {},
   "outputs": [
    {
     "data": {
      "text/plain": [
       "['the_',\n",
       " ', ',\n",
       " '. ',\n",
       " 'a_',\n",
       " 'and_',\n",
       " 'of_',\n",
       " 'to_',\n",
       " 's_',\n",
       " 'is_',\n",
       " 'br',\n",
       " 'in_',\n",
       " 'I_',\n",
       " 'that_',\n",
       " 'this_',\n",
       " 'it_',\n",
       " ' /><',\n",
       " ' />',\n",
       " 'was_',\n",
       " 'The_',\n",
       " 'as_',\n",
       " 't_',\n",
       " 'with_',\n",
       " 'for_',\n",
       " '.<',\n",
       " 'on_',\n",
       " 'but_',\n",
       " 'movie_',\n",
       " ' (',\n",
       " 'are_',\n",
       " 'his_',\n",
       " 'have_',\n",
       " 'film_',\n",
       " 'not_',\n",
       " 'ing_',\n",
       " 'be_',\n",
       " 'ed_',\n",
       " 'you_',\n",
       " ' \"',\n",
       " 'it',\n",
       " 'd_',\n",
       " 'an_',\n",
       " 'he_',\n",
       " 'by_',\n",
       " 'at_',\n",
       " 'one_',\n",
       " 'who_',\n",
       " 'y_',\n",
       " 'from_',\n",
       " 'e_',\n",
       " 'or_',\n",
       " 'all_',\n",
       " 'like_',\n",
       " 'they_',\n",
       " '\" ',\n",
       " 'so_',\n",
       " 'just_',\n",
       " 'has_',\n",
       " ') ',\n",
       " 'her_',\n",
       " 'about_',\n",
       " 'out_',\n",
       " 'This_',\n",
       " 'some_',\n",
       " 'ly_',\n",
       " 'movie',\n",
       " 'film',\n",
       " 'very_',\n",
       " 'more_',\n",
       " 'It_',\n",
       " 'would_',\n",
       " 'what_',\n",
       " 'when_',\n",
       " 'which_',\n",
       " 'good_',\n",
       " 'if_',\n",
       " 'up_',\n",
       " 'only_',\n",
       " 'even_',\n",
       " 'their_',\n",
       " 'had_',\n",
       " 'really_',\n",
       " 'my_',\n",
       " 'can_',\n",
       " 'no_',\n",
       " 'were_',\n",
       " 'see_',\n",
       " 'she_',\n",
       " '? ',\n",
       " 'than_',\n",
       " '! ',\n",
       " 'there_',\n",
       " 'get_',\n",
       " 'been_',\n",
       " 'into_',\n",
       " ' - ',\n",
       " 'will_',\n",
       " 'much_',\n",
       " 'story_',\n",
       " 'because_',\n",
       " 'ing',\n",
       " 'time_',\n",
       " 'n_',\n",
       " 'we_',\n",
       " 'ed',\n",
       " 'me_',\n",
       " ': ',\n",
       " 'most_',\n",
       " 'other_',\n",
       " 'don',\n",
       " 'do_',\n",
       " 'm_',\n",
       " 'es_',\n",
       " 'how_',\n",
       " 'also_',\n",
       " 'make_',\n",
       " 'its_',\n",
       " 'could_',\n",
       " 'first_',\n",
       " 'any_',\n",
       " \"' \",\n",
       " 'people_',\n",
       " 'great_',\n",
       " 've_',\n",
       " 'ly',\n",
       " 'er_',\n",
       " 'made_',\n",
       " 'r_',\n",
       " 'But_',\n",
       " 'think_',\n",
       " \" '\",\n",
       " 'i_',\n",
       " 'bad_',\n",
       " 'A_',\n",
       " 'And_',\n",
       " 'It',\n",
       " 'on',\n",
       " '; ',\n",
       " 'him_',\n",
       " 'being_',\n",
       " 'never_',\n",
       " 'way_',\n",
       " 'that',\n",
       " 'many_',\n",
       " 'then_',\n",
       " 'where_',\n",
       " 'two_',\n",
       " 'In_',\n",
       " 'after_',\n",
       " 'too_',\n",
       " 'little_',\n",
       " 'you',\n",
       " '), ',\n",
       " 'well_',\n",
       " 'ng_',\n",
       " 'your_',\n",
       " 'If_',\n",
       " 'l_',\n",
       " '). ',\n",
       " 'does_',\n",
       " 'ever_',\n",
       " 'them_',\n",
       " 'did_',\n",
       " 'watch_',\n",
       " 'know_',\n",
       " 'seen_',\n",
       " 'time',\n",
       " 'er',\n",
       " 'character_',\n",
       " 'over_',\n",
       " 'characters_',\n",
       " 'movies_',\n",
       " 'man_',\n",
       " 'There_',\n",
       " 'love_',\n",
       " 'best_',\n",
       " 'still_',\n",
       " 'off_',\n",
       " 'such_',\n",
       " 'in',\n",
       " 'should_',\n",
       " 'the',\n",
       " 're_',\n",
       " 'He_',\n",
       " 'plot_',\n",
       " 'films_',\n",
       " 'go_',\n",
       " 'these_',\n",
       " 'acting_',\n",
       " 'doesn',\n",
       " 'es',\n",
       " 'show_',\n",
       " 'through_',\n",
       " 'better_',\n",
       " 'al_',\n",
       " 'something_',\n",
       " 'didn',\n",
       " 'back_',\n",
       " 'those_',\n",
       " 'us_',\n",
       " 'less_',\n",
       " '...',\n",
       " 'say_',\n",
       " 'is',\n",
       " 'one',\n",
       " 'makes_',\n",
       " 'and',\n",
       " 'can',\n",
       " 'all',\n",
       " 'ion_',\n",
       " 'find_',\n",
       " 'scene_',\n",
       " 'old_',\n",
       " 'real_',\n",
       " 'few_',\n",
       " 'going_',\n",
       " 'well',\n",
       " 'actually_',\n",
       " 'watching_',\n",
       " 'life_',\n",
       " 'me',\n",
       " '. <',\n",
       " 'o_',\n",
       " 'man',\n",
       " 'there',\n",
       " 'scenes_',\n",
       " 'same_',\n",
       " 'he',\n",
       " 'end_',\n",
       " 'this',\n",
       " '... ',\n",
       " 'k_',\n",
       " 'while_',\n",
       " 'thing_',\n",
       " 'of',\n",
       " 'look_',\n",
       " 'quite_',\n",
       " 'out',\n",
       " 'lot_',\n",
       " 'want_',\n",
       " 'why_',\n",
       " 'seems_',\n",
       " 'every_',\n",
       " 'll_',\n",
       " 'pretty_',\n",
       " 'got_',\n",
       " 'able_',\n",
       " 'nothing_',\n",
       " 'good',\n",
       " 'As_',\n",
       " 'story',\n",
       " ' & ',\n",
       " 'another_',\n",
       " 'take_',\n",
       " 'to',\n",
       " 'years_',\n",
       " 'between_',\n",
       " 'give_',\n",
       " 'am_',\n",
       " 'work_',\n",
       " 'isn',\n",
       " 'part_',\n",
       " 'before_',\n",
       " 'actors_',\n",
       " 'may_',\n",
       " 'gets_',\n",
       " 'young_',\n",
       " 'down_',\n",
       " 'around_',\n",
       " 'ng',\n",
       " 'thought_',\n",
       " 'though_',\n",
       " 'end',\n",
       " 'without_',\n",
       " 'What_',\n",
       " 'They_',\n",
       " 'things_',\n",
       " 'life',\n",
       " 'always_',\n",
       " 'must_',\n",
       " 'cast_',\n",
       " 'almost_',\n",
       " 'h_',\n",
       " '10',\n",
       " 'saw_',\n",
       " 'own_',\n",
       " 'here',\n",
       " 'bit_',\n",
       " 'come_',\n",
       " 'both_',\n",
       " 'might_',\n",
       " 'g_',\n",
       " 'whole_',\n",
       " 'new_',\n",
       " 'director_',\n",
       " 'them',\n",
       " 'horror_',\n",
       " 'ce',\n",
       " 'You_',\n",
       " 'least_',\n",
       " 'bad',\n",
       " 'big_',\n",
       " 'enough_',\n",
       " 'him',\n",
       " 'feel_',\n",
       " 'probably_',\n",
       " 'up',\n",
       " 'here_',\n",
       " 'making_',\n",
       " 'long_',\n",
       " 'her',\n",
       " 'st_',\n",
       " 'kind_',\n",
       " '--',\n",
       " 'original_',\n",
       " 'fact_',\n",
       " 'rather_',\n",
       " 'or',\n",
       " 'far_',\n",
       " 'nt_',\n",
       " 'played_',\n",
       " 'found_',\n",
       " 'last_',\n",
       " 'movies',\n",
       " 'When_',\n",
       " 'so',\n",
       " '\", ',\n",
       " 'comes_',\n",
       " 'action_',\n",
       " 'She_',\n",
       " 've',\n",
       " 'our_',\n",
       " 'anything_',\n",
       " 'funny_',\n",
       " 'ion',\n",
       " 'right_',\n",
       " 'way',\n",
       " 'trying_',\n",
       " 'now_',\n",
       " 'ous_',\n",
       " 'each_',\n",
       " 'done_',\n",
       " 'since_',\n",
       " 'ic_',\n",
       " 'point_',\n",
       " '\". ',\n",
       " 'wasn',\n",
       " 'interesting_',\n",
       " 'c_',\n",
       " 'worst_',\n",
       " 'te_',\n",
       " 'le_',\n",
       " 'ble_',\n",
       " 'ty_',\n",
       " 'looks_',\n",
       " 'show',\n",
       " 'put_',\n",
       " 'looking_',\n",
       " 'especially_',\n",
       " 'believe_',\n",
       " 'en_',\n",
       " 'goes_',\n",
       " 'over',\n",
       " 'ce_',\n",
       " 'p_',\n",
       " 'films',\n",
       " 'hard_',\n",
       " 'main_',\n",
       " 'be',\n",
       " 'having_',\n",
       " 'ry',\n",
       " 'TV_',\n",
       " 'worth_',\n",
       " 'One_',\n",
       " 'do',\n",
       " 'al',\n",
       " 're',\n",
       " 'again',\n",
       " 'series_',\n",
       " 'takes_',\n",
       " 'guy_',\n",
       " 'family_',\n",
       " 'seem_',\n",
       " 'plays_',\n",
       " 'role_',\n",
       " 'away_',\n",
       " 'world_',\n",
       " 'My_',\n",
       " 'character',\n",
       " ', \"',\n",
       " 'performance_',\n",
       " '2_',\n",
       " 'So_',\n",
       " 'watched_',\n",
       " 'John_',\n",
       " 'th_',\n",
       " 'plot',\n",
       " 'script_',\n",
       " 'For_',\n",
       " 'sure_',\n",
       " 'characters',\n",
       " 'set_',\n",
       " 'different_',\n",
       " 'minutes_',\n",
       " 'All_',\n",
       " 'American_',\n",
       " 'anyone_',\n",
       " 'Not_',\n",
       " 'music_',\n",
       " 'ry_',\n",
       " 'shows_',\n",
       " 'too',\n",
       " 'son_',\n",
       " 'en',\n",
       " 'day_',\n",
       " 'use_',\n",
       " 'someone_',\n",
       " 'for',\n",
       " 'woman_',\n",
       " 'yet_',\n",
       " '.\" ',\n",
       " 'during_',\n",
       " 'she',\n",
       " 'ro',\n",
       " '- ',\n",
       " 'times_',\n",
       " 'left_',\n",
       " 'used_',\n",
       " 'le',\n",
       " 'three_',\n",
       " 'play_',\n",
       " 'work',\n",
       " 'ness_',\n",
       " 'We_',\n",
       " 'girl_',\n",
       " 'comedy_',\n",
       " 'ment_',\n",
       " 'an',\n",
       " 'simply_',\n",
       " 'off',\n",
       " 'ies_',\n",
       " 'funny',\n",
       " 'ne',\n",
       " 'acting',\n",
       " 'That_',\n",
       " 'fun_',\n",
       " 'completely_',\n",
       " 'st',\n",
       " 'seeing_',\n",
       " 'us',\n",
       " 'te',\n",
       " 'special_',\n",
       " 'ation_',\n",
       " 'as',\n",
       " 'ive_',\n",
       " 'ful_',\n",
       " 'read_',\n",
       " 'reason_',\n",
       " 'co',\n",
       " 'need_',\n",
       " 'sa',\n",
       " 'true_',\n",
       " 'ted_',\n",
       " 'like',\n",
       " 'ck',\n",
       " 'place_',\n",
       " 'they',\n",
       " '10_',\n",
       " 'However',\n",
       " 'until_',\n",
       " 'rest_',\n",
       " 'sense_',\n",
       " 'ity_',\n",
       " 'everything_',\n",
       " 'people',\n",
       " 'nt',\n",
       " 'ending_',\n",
       " 'again_',\n",
       " 'ers_',\n",
       " 'given_',\n",
       " 'idea_',\n",
       " 'let_',\n",
       " 'nice_',\n",
       " 'help_',\n",
       " 'no',\n",
       " 'truly_',\n",
       " 'beautiful_',\n",
       " 'ter',\n",
       " 'ck_',\n",
       " 'version_',\n",
       " 'try_',\n",
       " 'came_',\n",
       " 'Even_',\n",
       " 'DVD_',\n",
       " 'se',\n",
       " 'mis',\n",
       " 'scene',\n",
       " 'job_',\n",
       " 'ting_',\n",
       " 'Me',\n",
       " 'At_',\n",
       " 'who',\n",
       " 'money_',\n",
       " 'ment',\n",
       " 'ch',\n",
       " 'recommend_',\n",
       " 'was',\n",
       " 'once_',\n",
       " 'getting_',\n",
       " 'tell_',\n",
       " 'de_',\n",
       " 'gives_',\n",
       " 'not',\n",
       " 'Lo',\n",
       " 'we',\n",
       " 'son',\n",
       " 'shot_',\n",
       " 'second_',\n",
       " 'After_',\n",
       " 'To_',\n",
       " 'high_',\n",
       " 'screen_',\n",
       " ' -- ',\n",
       " 'keep_',\n",
       " 'felt_',\n",
       " 'with',\n",
       " 'great',\n",
       " 'everyone_',\n",
       " 'although_',\n",
       " 'poor_',\n",
       " 'el',\n",
       " 'half_',\n",
       " 'playing_',\n",
       " 'couple_',\n",
       " 'now',\n",
       " 'ble',\n",
       " 'excellent_',\n",
       " 'enjoy_',\n",
       " 'couldn',\n",
       " 'x_',\n",
       " 'ne_',\n",
       " ',\" ',\n",
       " 'ie_',\n",
       " 'go',\n",
       " 'become_',\n",
       " 'less',\n",
       " 'himself_',\n",
       " 'supposed_',\n",
       " 'won',\n",
       " 'understand_',\n",
       " 'seen',\n",
       " 'ally_',\n",
       " 'THE_',\n",
       " 'se_',\n",
       " 'actor_',\n",
       " 'ts_',\n",
       " 'small_',\n",
       " 'line_',\n",
       " 'na',\n",
       " 'audience_',\n",
       " 'fan_',\n",
       " 'et',\n",
       " 'world',\n",
       " 'entire_',\n",
       " 'said_',\n",
       " 'at',\n",
       " '3_',\n",
       " 'scenes',\n",
       " 'rs_',\n",
       " 'full_',\n",
       " 'year_',\n",
       " 'men_',\n",
       " 'ke',\n",
       " 'doing_',\n",
       " 'went_',\n",
       " 'director',\n",
       " 'back',\n",
       " 'early_',\n",
       " 'Hollywood_',\n",
       " 'start_',\n",
       " 'liked_',\n",
       " 'against_',\n",
       " 'remember_',\n",
       " 'love',\n",
       " 'He',\n",
       " 'along_',\n",
       " 'ic',\n",
       " 'His_',\n",
       " 'wife_',\n",
       " 'effects_',\n",
       " 'together_',\n",
       " 'ch_',\n",
       " 'Ra',\n",
       " 'ty',\n",
       " 'maybe_',\n",
       " 'age',\n",
       " 'S_',\n",
       " 'While_',\n",
       " 'often_',\n",
       " 'sort_',\n",
       " 'definitely_',\n",
       " 'No',\n",
       " 'script',\n",
       " 'times',\n",
       " 'absolutely_',\n",
       " 'book_',\n",
       " 'day',\n",
       " 'human_',\n",
       " 'There',\n",
       " 'top_',\n",
       " 'ta',\n",
       " 'becomes_',\n",
       " 'piece_',\n",
       " 'waste_',\n",
       " 'seemed_',\n",
       " 'down',\n",
       " '5_',\n",
       " 'later_',\n",
       " 'rs',\n",
       " 'ja',\n",
       " 'certainly_',\n",
       " 'budget_',\n",
       " 'th',\n",
       " 'nce_',\n",
       " '200',\n",
       " '. (',\n",
       " 'age_',\n",
       " 'next_',\n",
       " 'ar',\n",
       " 'several_',\n",
       " 'ling_',\n",
       " 'short_',\n",
       " 'sh',\n",
       " 'fe',\n",
       " 'Of_',\n",
       " 'instead_',\n",
       " 'Man',\n",
       " 'T_',\n",
       " 'right',\n",
       " 'father_',\n",
       " 'actors',\n",
       " 'wanted_',\n",
       " 'cast',\n",
       " 'black_',\n",
       " 'Don',\n",
       " 'more',\n",
       " '1_',\n",
       " 'comedy',\n",
       " 'better',\n",
       " 'camera_',\n",
       " 'wonderful_',\n",
       " 'production_',\n",
       " 'inter',\n",
       " 'course',\n",
       " 'low_',\n",
       " 'else_',\n",
       " 'w_',\n",
       " 'ness',\n",
       " 'course_',\n",
       " 'based_',\n",
       " 'ti',\n",
       " 'Some_',\n",
       " 'know',\n",
       " 'house_',\n",
       " 'say',\n",
       " 'de',\n",
       " 'watch',\n",
       " 'ous',\n",
       " 'pro',\n",
       " 'tries_',\n",
       " 'ra',\n",
       " 'kids_',\n",
       " 'etc',\n",
       " ' \\x96 ',\n",
       " 'loved_',\n",
       " 'est_',\n",
       " 'fun',\n",
       " 'made',\n",
       " 'video_',\n",
       " 'un',\n",
       " 'totally_',\n",
       " 'Michael_',\n",
       " 'ho',\n",
       " 'mind_',\n",
       " 'No_',\n",
       " 'Be',\n",
       " 'ive',\n",
       " 'La',\n",
       " 'Fi',\n",
       " 'du',\n",
       " 'ers',\n",
       " 'Well',\n",
       " 'wants_',\n",
       " 'How_',\n",
       " 'series',\n",
       " 'performances_',\n",
       " 'written_',\n",
       " 'live_',\n",
       " 'New_',\n",
       " 'So',\n",
       " 'Ne',\n",
       " 'Na',\n",
       " 'night_',\n",
       " 'ge',\n",
       " 'gave_',\n",
       " 'home_',\n",
       " 'heart',\n",
       " 'women_',\n",
       " 'nu',\n",
       " 'ss_',\n",
       " 'hope_',\n",
       " 'ci',\n",
       " 'friends_',\n",
       " 'Se',\n",
       " 'years',\n",
       " 'sub',\n",
       " 'head_',\n",
       " 'Y_',\n",
       " 'Du',\n",
       " '. \"',\n",
       " 'turn_',\n",
       " 'red_',\n",
       " 'perfect_',\n",
       " 'already_',\n",
       " 'classic_',\n",
       " 'tri',\n",
       " 'ss',\n",
       " 'person_',\n",
       " 'star_',\n",
       " 'screen',\n",
       " 'style_',\n",
       " 'ur',\n",
       " 'starts_',\n",
       " 'under_',\n",
       " 'Then_',\n",
       " 'ke_',\n",
       " 'ine',\n",
       " 'ies',\n",
       " 'um',\n",
       " 'ie',\n",
       " 'face_',\n",
       " 'ir',\n",
       " 'enjoyed_',\n",
       " 'point',\n",
       " 'lines_',\n",
       " 'Mr',\n",
       " 'turns_',\n",
       " 'what',\n",
       " 'side_',\n",
       " 'sex_',\n",
       " 'Ha',\n",
       " 'final_',\n",
       " ').<',\n",
       " 'With_',\n",
       " 'care_',\n",
       " 'tion_',\n",
       " 'She',\n",
       " 'ation',\n",
       " 'Ar',\n",
       " 'ma',\n",
       " 'problem_',\n",
       " 'lost_',\n",
       " 'are',\n",
       " 'li',\n",
       " '4_',\n",
       " 'fully_',\n",
       " 'oo',\n",
       " 'sha',\n",
       " 'Just_',\n",
       " 'name_',\n",
       " 'ina',\n",
       " 'boy_',\n",
       " 'finally_',\n",
       " 'ol',\n",
       " '!<',\n",
       " 'Bo',\n",
       " 'about',\n",
       " 'though',\n",
       " 'hand',\n",
       " 'ton',\n",
       " 'lead_',\n",
       " 'school_',\n",
       " 'ns',\n",
       " 'ha',\n",
       " 'favorite_',\n",
       " 'stupid_',\n",
       " 'gi',\n",
       " 'original',\n",
       " 'mean_',\n",
       " 'To',\n",
       " 'took_',\n",
       " 'either_',\n",
       " 'ni',\n",
       " 'book',\n",
       " 'episode_',\n",
       " 'om',\n",
       " 'Su',\n",
       " 'D_',\n",
       " 'Mc',\n",
       " 'house',\n",
       " 'cannot_',\n",
       " 'stars_',\n",
       " 'behind_',\n",
       " 'see',\n",
       " 'other',\n",
       " 'Che',\n",
       " 'role',\n",
       " 'art',\n",
       " 'ever',\n",
       " 'Why_',\n",
       " 'father',\n",
       " 'case_',\n",
       " 'tic_',\n",
       " 'moments_',\n",
       " 'Co',\n",
       " 'works_',\n",
       " 'sound_',\n",
       " 'Ta',\n",
       " 'guess_',\n",
       " 'perhaps_',\n",
       " 'Vi',\n",
       " 'thing',\n",
       " 'fine_',\n",
       " 'fact',\n",
       " 'music',\n",
       " 'non',\n",
       " 'ful',\n",
       " 'action',\n",
       " 'ity',\n",
       " 'ct',\n",
       " 'ate_',\n",
       " 'type_',\n",
       " 'lack_',\n",
       " 'death_',\n",
       " 'art_',\n",
       " 'able',\n",
       " 'Ja',\n",
       " 'ge_',\n",
       " 'wouldn',\n",
       " 'am',\n",
       " 'tor',\n",
       " 'extremely_',\n",
       " 'pre',\n",
       " 'self',\n",
       " 'Mor',\n",
       " 'particularly_',\n",
       " 'bo',\n",
       " 'est',\n",
       " 'Ba',\n",
       " 'ya',\n",
       " 'play',\n",
       " 'Pa',\n",
       " 'ther',\n",
       " 'heard_',\n",
       " 'however',\n",
       " 'ver',\n",
       " 'dy_',\n",
       " 'Sa',\n",
       " 'ding_',\n",
       " 'led_',\n",
       " 'late_',\n",
       " 'feeling_',\n",
       " 'per',\n",
       " 'low',\n",
       " 'ably_',\n",
       " 'Un',\n",
       " 'On_',\n",
       " 'known_',\n",
       " 'kill_',\n",
       " 'fight_',\n",
       " 'beginning_',\n",
       " 'cat',\n",
       " 'bit',\n",
       " 'title_',\n",
       " 'vo',\n",
       " 'short',\n",
       " 'old',\n",
       " 'including_',\n",
       " 'Da',\n",
       " 'coming_',\n",
       " 'That',\n",
       " 'place',\n",
       " 'looked_',\n",
       " 'best',\n",
       " 'Lu',\n",
       " 'ent_',\n",
       " 'bla',\n",
       " 'quality_',\n",
       " 'except_',\n",
       " '...<',\n",
       " 'ff',\n",
       " 'decent_',\n",
       " 'much',\n",
       " 'De',\n",
       " 'Bu',\n",
       " 'ter_',\n",
       " 'attempt_',\n",
       " 'Bi',\n",
       " 'taking_',\n",
       " 'ig',\n",
       " 'Ti',\n",
       " 'whose_',\n",
       " 'dialogue_',\n",
       " 'zz',\n",
       " 'war_',\n",
       " 'ill',\n",
       " 'Te',\n",
       " 'war',\n",
       " 'Hu',\n",
       " 'James_',\n",
       " '..',\n",
       " 'under',\n",
       " 'ring_',\n",
       " 'pa',\n",
       " 'ot',\n",
       " 'expect_',\n",
       " 'Ga',\n",
       " 'itself_',\n",
       " 'line',\n",
       " 'lives_',\n",
       " 'let',\n",
       " 'Dr',\n",
       " 'mp',\n",
       " 'che',\n",
       " 'mean',\n",
       " 'called_',\n",
       " 'complete_',\n",
       " 'terrible_',\n",
       " 'boring_',\n",
       " 'others_',\n",
       " '\" (',\n",
       " 'aren',\n",
       " 'star',\n",
       " 'long',\n",
       " 'Li',\n",
       " 'mother_',\n",
       " 'si',\n",
       " 'highly_',\n",
       " 'ab',\n",
       " 'ex',\n",
       " 'os',\n",
       " 'nd',\n",
       " 'ten_',\n",
       " 'ten',\n",
       " 'run_',\n",
       " 'directed_',\n",
       " 'town_',\n",
       " 'friend_',\n",
       " 'David_',\n",
       " 'taken_',\n",
       " 'finds_',\n",
       " 'fans_',\n",
       " 'Mar',\n",
       " 'writing_',\n",
       " 'white_',\n",
       " 'u_',\n",
       " 'obviously_',\n",
       " 'mar',\n",
       " 'Ho',\n",
       " 'year',\n",
       " 'stop_',\n",
       " 'f_',\n",
       " 'leave_',\n",
       " 'king_',\n",
       " 'act_',\n",
       " 'mind',\n",
       " 'entertaining_',\n",
       " 'ish_',\n",
       " 'Ka',\n",
       " 'throughout_',\n",
       " 'viewer_',\n",
       " 'despite_',\n",
       " 'Robert_',\n",
       " 'somewhat_',\n",
       " 'hour_',\n",
       " 'car_',\n",
       " 'evil_',\n",
       " 'Although_',\n",
       " 'wrong_',\n",
       " 'Ro',\n",
       " 'dead_',\n",
       " 'body_',\n",
       " 'awful_',\n",
       " 'home',\n",
       " 'exactly_',\n",
       " 'bi',\n",
       " 'family',\n",
       " 'ts',\n",
       " 'usually_',\n",
       " 'told_',\n",
       " 'z_',\n",
       " 'oc',\n",
       " 'minutes',\n",
       " 'tra',\n",
       " 'some',\n",
       " 'actor',\n",
       " 'den',\n",
       " 'but',\n",
       " 'Sha',\n",
       " 'tu',\n",
       " 'strong_',\n",
       " ...]"
      ]
     },
     "execution_count": 10,
     "metadata": {},
     "output_type": "execute_result"
    }
   ],
   "source": [
    "info.features['text'].encoder.subwords"
   ]
  },
  {
   "cell_type": "markdown",
   "metadata": {},
   "source": [
    "# type of 'train_data'"
   ]
  },
  {
   "cell_type": "code",
   "execution_count": 11,
   "metadata": {
    "scrolled": true
   },
   "outputs": [
    {
     "data": {
      "text/plain": [
       "tensorflow.python.data.ops.dataset_ops.DatasetV1Adapter"
      ]
     },
     "execution_count": 11,
     "metadata": {},
     "output_type": "execute_result"
    }
   ],
   "source": [
    "type(train_data)"
   ]
  },
  {
   "cell_type": "markdown",
   "metadata": {},
   "source": [
    "# see what is in train_data"
   ]
  },
  {
   "cell_type": "code",
   "execution_count": 12,
   "metadata": {
    "scrolled": true
   },
   "outputs": [
    {
     "name": "stdout",
     "output_type": "stream",
     "text": [
      "tf.Tensor(\n",
      "[  62    9    4  301 4161  267  148    1 3240 1779  787    3   62 2315\n",
      "  260 7968   21 1240   20  445   20  261  204    2    5   15  635 7742\n",
      "  149   97  101   25  184 4127    3 4666 7913  690   25    9  176    1\n",
      "  175  233   60   14  694    2   26   30 1858 3162   34    9 3636   40\n",
      "  267   11   14 2362 8050    3   19  695   29   51 1816 7138    2   26\n",
      "   14  101    1  397 3953  199  615    3   19  328    9 3362 4712 7961\n",
      "    5    1  184    9   77 4167   64 1152    2   55   12  459 1461    6\n",
      " 1713 3326   11 1147    7 1464 5691 7961  421 8026   38 1746 1074  618\n",
      "   54   65    3 1987    2    1 3326   29  214    5  318 2338 3960 8039\n",
      "    2    5  325    2   14   32    9 4157 7961   44  883 7975], shape=(138,), dtype=int64)\n",
      "tf.Tensor(0, shape=(), dtype=int64)\n"
     ]
    }
   ],
   "source": [
    "for x,y in train_data:\n",
    "    \n",
    "    print(x)\n",
    "    print(y)\n",
    "    \n",
    "    break"
   ]
  },
  {
   "cell_type": "markdown",
   "metadata": {},
   "source": [
    "# types contained in train_data "
   ]
  },
  {
   "cell_type": "code",
   "execution_count": 13,
   "metadata": {},
   "outputs": [
    {
     "name": "stdout",
     "output_type": "stream",
     "text": [
      "<class 'tensorflow.python.framework.ops.EagerTensor'>\n",
      "<class 'tensorflow.python.framework.ops.EagerTensor'>\n"
     ]
    }
   ],
   "source": [
    "for x,y in train_data:\n",
    "    \n",
    "    print(type(x))\n",
    "    print(type(y))\n",
    "    \n",
    "    break"
   ]
  },
  {
   "cell_type": "markdown",
   "metadata": {},
   "source": [
    "# this is how to take the array in an EagerTensor element in train_data"
   ]
  },
  {
   "cell_type": "code",
   "execution_count": 14,
   "metadata": {
    "scrolled": false
   },
   "outputs": [
    {
     "name": "stdout",
     "output_type": "stream",
     "text": [
      "[  62    9    4  301 4161  267  148    1 3240 1779  787    3   62 2315\n",
      "  260 7968   21 1240   20  445   20  261  204    2    5   15  635 7742\n",
      "  149   97  101   25  184 4127    3 4666 7913  690   25    9  176    1\n",
      "  175  233   60   14  694    2   26   30 1858 3162   34    9 3636   40\n",
      "  267   11   14 2362 8050    3   19  695   29   51 1816 7138    2   26\n",
      "   14  101    1  397 3953  199  615    3   19  328    9 3362 4712 7961\n",
      "    5    1  184    9   77 4167   64 1152    2   55   12  459 1461    6\n",
      " 1713 3326   11 1147    7 1464 5691 7961  421 8026   38 1746 1074  618\n",
      "   54   65    3 1987    2    1 3326   29  214    5  318 2338 3960 8039\n",
      "    2    5  325    2   14   32    9 4157 7961   44  883 7975]\n"
     ]
    }
   ],
   "source": [
    "for x,y in train_data:\n",
    "    \n",
    "    print(x.numpy())\n",
    "    \n",
    "    break"
   ]
  },
  {
   "cell_type": "markdown",
   "metadata": {},
   "source": [
    "# take the text sequences (integer encoded sequences) in train_data into a list\n",
    "# also take the labels into a list"
   ]
  },
  {
   "cell_type": "code",
   "execution_count": 15,
   "metadata": {},
   "outputs": [],
   "source": [
    "train_text_sequences = list()\n",
    "train_labels = list()\n",
    "for x,y in train_data:\n",
    "    train_text_sequences.append(x.numpy())\n",
    "    train_labels.append(y.numpy())"
   ]
  },
  {
   "cell_type": "markdown",
   "metadata": {},
   "source": [
    "# take the text sequences list and labels list into a dataframe"
   ]
  },
  {
   "cell_type": "code",
   "execution_count": 16,
   "metadata": {},
   "outputs": [],
   "source": [
    "dct_train_labeled_text = {'text sequences': train_text_sequences, 'labels': train_labels}"
   ]
  },
  {
   "cell_type": "code",
   "execution_count": 17,
   "metadata": {},
   "outputs": [],
   "source": [
    "df_train_labeled_text = pd.DataFrame(dct_train_labeled_text)"
   ]
  },
  {
   "cell_type": "code",
   "execution_count": 18,
   "metadata": {
    "scrolled": false
   },
   "outputs": [
    {
     "data": {
      "text/html": [
       "<div>\n",
       "<style scoped>\n",
       "    .dataframe tbody tr th:only-of-type {\n",
       "        vertical-align: middle;\n",
       "    }\n",
       "\n",
       "    .dataframe tbody tr th {\n",
       "        vertical-align: top;\n",
       "    }\n",
       "\n",
       "    .dataframe thead th {\n",
       "        text-align: right;\n",
       "    }\n",
       "</style>\n",
       "<table border=\"1\" class=\"dataframe\">\n",
       "  <thead>\n",
       "    <tr style=\"text-align: right;\">\n",
       "      <th></th>\n",
       "      <th>text sequences</th>\n",
       "      <th>labels</th>\n",
       "    </tr>\n",
       "  </thead>\n",
       "  <tbody>\n",
       "    <tr>\n",
       "      <td>0</td>\n",
       "      <td>[62, 9, 4, 301, 4161, 267, 148, 1, 3240, 1779,...</td>\n",
       "      <td>0</td>\n",
       "    </tr>\n",
       "    <tr>\n",
       "      <td>1</td>\n",
       "      <td>[2130, 99, 12, 18, 55, 2554, 2, 3508, 5, 7995,...</td>\n",
       "      <td>0</td>\n",
       "    </tr>\n",
       "    <tr>\n",
       "      <td>2</td>\n",
       "      <td>[4491, 40, 6, 1, 7450, 34, 4798, 80, 4, 238, 7...</td>\n",
       "      <td>1</td>\n",
       "    </tr>\n",
       "    <tr>\n",
       "      <td>3</td>\n",
       "      <td>[398, 105, 14, 9, 4, 98, 13, 732, 22, 63, 333,...</td>\n",
       "      <td>0</td>\n",
       "    </tr>\n",
       "    <tr>\n",
       "      <td>4</td>\n",
       "      <td>[62, 9, 33, 4, 132, 65, 3, 69, 2494, 1, 293, 5...</td>\n",
       "      <td>1</td>\n",
       "    </tr>\n",
       "  </tbody>\n",
       "</table>\n",
       "</div>"
      ],
      "text/plain": [
       "                                      text sequences  labels\n",
       "0  [62, 9, 4, 301, 4161, 267, 148, 1, 3240, 1779,...       0\n",
       "1  [2130, 99, 12, 18, 55, 2554, 2, 3508, 5, 7995,...       0\n",
       "2  [4491, 40, 6, 1, 7450, 34, 4798, 80, 4, 238, 7...       1\n",
       "3  [398, 105, 14, 9, 4, 98, 13, 732, 22, 63, 333,...       0\n",
       "4  [62, 9, 33, 4, 132, 65, 3, 69, 2494, 1, 293, 5...       1"
      ]
     },
     "execution_count": 18,
     "metadata": {},
     "output_type": "execute_result"
    }
   ],
   "source": [
    "df_train_labeled_text.head()"
   ]
  },
  {
   "cell_type": "markdown",
   "metadata": {},
   "source": [
    "# the text sequences are of variable length"
   ]
  },
  {
   "cell_type": "code",
   "execution_count": 19,
   "metadata": {},
   "outputs": [],
   "source": [
    "length_of_train_text = list()\n",
    "for i,r in df_train_labeled_text.iterrows():\n",
    "    length_of_train_text.append(len(r['text sequences']))"
   ]
  },
  {
   "cell_type": "code",
   "execution_count": 20,
   "metadata": {},
   "outputs": [
    {
     "data": {
      "text/plain": [
       "[138, 200, 708, 146, 126]"
      ]
     },
     "execution_count": 20,
     "metadata": {},
     "output_type": "execute_result"
    }
   ],
   "source": [
    "length_of_train_text[:5]"
   ]
  },
  {
   "cell_type": "code",
   "execution_count": 21,
   "metadata": {},
   "outputs": [
    {
     "data": {
      "text/plain": [
       "3944"
      ]
     },
     "execution_count": 21,
     "metadata": {},
     "output_type": "execute_result"
    }
   ],
   "source": [
    "max(length_of_train_text)"
   ]
  },
  {
   "cell_type": "code",
   "execution_count": 22,
   "metadata": {},
   "outputs": [
    {
     "data": {
      "text/plain": [
       "11"
      ]
     },
     "execution_count": 22,
     "metadata": {},
     "output_type": "execute_result"
    }
   ],
   "source": [
    "min(length_of_train_text)"
   ]
  },
  {
   "cell_type": "markdown",
   "metadata": {},
   "source": [
    "# take the text sequences and labels in the test_data into lists"
   ]
  },
  {
   "cell_type": "code",
   "execution_count": 23,
   "metadata": {},
   "outputs": [],
   "source": [
    "test_text_sequences = list()\n",
    "test_labels = list()\n",
    "for x,y in test_data:\n",
    "    test_text_sequences.append(x.numpy())\n",
    "    test_labels.append(y.numpy())"
   ]
  },
  {
   "cell_type": "markdown",
   "metadata": {},
   "source": [
    "# convert these lists into a dataframe "
   ]
  },
  {
   "cell_type": "code",
   "execution_count": 24,
   "metadata": {},
   "outputs": [],
   "source": [
    "dct_test_labeled_text = {'text sequences': test_text_sequences, 'labels': test_labels}"
   ]
  },
  {
   "cell_type": "code",
   "execution_count": 25,
   "metadata": {},
   "outputs": [],
   "source": [
    "df_test_labeled_text = pd.DataFrame(dct_test_labeled_text)"
   ]
  },
  {
   "cell_type": "code",
   "execution_count": 26,
   "metadata": {
    "scrolled": true
   },
   "outputs": [
    {
     "data": {
      "text/html": [
       "<div>\n",
       "<style scoped>\n",
       "    .dataframe tbody tr th:only-of-type {\n",
       "        vertical-align: middle;\n",
       "    }\n",
       "\n",
       "    .dataframe tbody tr th {\n",
       "        vertical-align: top;\n",
       "    }\n",
       "\n",
       "    .dataframe thead th {\n",
       "        text-align: right;\n",
       "    }\n",
       "</style>\n",
       "<table border=\"1\" class=\"dataframe\">\n",
       "  <thead>\n",
       "    <tr style=\"text-align: right;\">\n",
       "      <th></th>\n",
       "      <th>text sequences</th>\n",
       "      <th>labels</th>\n",
       "    </tr>\n",
       "  </thead>\n",
       "  <tbody>\n",
       "    <tr>\n",
       "      <td>0</td>\n",
       "      <td>[69, 5680, 22, 155, 6819, 7961, 6197, 309, 215...</td>\n",
       "      <td>1</td>\n",
       "    </tr>\n",
       "    <tr>\n",
       "      <td>1</td>\n",
       "      <td>[12, 582, 448, 14, 44, 82, 1080, 2667, 464, 44...</td>\n",
       "      <td>0</td>\n",
       "    </tr>\n",
       "    <tr>\n",
       "      <td>2</td>\n",
       "      <td>[62, 631, 32, 620, 3783, 8, 84, 3877, 190, 3, ...</td>\n",
       "      <td>1</td>\n",
       "    </tr>\n",
       "    <tr>\n",
       "      <td>3</td>\n",
       "      <td>[6270, 762, 21, 5290, 6724, 3077, 8, 11, 59, 4...</td>\n",
       "      <td>0</td>\n",
       "    </tr>\n",
       "    <tr>\n",
       "      <td>4</td>\n",
       "      <td>[8002, 7968, 111, 81, 33, 215, 7, 613, 82, 101...</td>\n",
       "      <td>0</td>\n",
       "    </tr>\n",
       "  </tbody>\n",
       "</table>\n",
       "</div>"
      ],
      "text/plain": [
       "                                      text sequences  labels\n",
       "0  [69, 5680, 22, 155, 6819, 7961, 6197, 309, 215...       1\n",
       "1  [12, 582, 448, 14, 44, 82, 1080, 2667, 464, 44...       0\n",
       "2  [62, 631, 32, 620, 3783, 8, 84, 3877, 190, 3, ...       1\n",
       "3  [6270, 762, 21, 5290, 6724, 3077, 8, 11, 59, 4...       0\n",
       "4  [8002, 7968, 111, 81, 33, 215, 7, 613, 82, 101...       0"
      ]
     },
     "execution_count": 26,
     "metadata": {},
     "output_type": "execute_result"
    }
   ],
   "source": [
    "df_test_labeled_text.head()"
   ]
  },
  {
   "cell_type": "markdown",
   "metadata": {},
   "source": [
    "# length of text sequences in test_data are of variable length"
   ]
  },
  {
   "cell_type": "code",
   "execution_count": 27,
   "metadata": {},
   "outputs": [],
   "source": [
    "length_of_test_text = list()\n",
    "for i,r in df_test_labeled_text.iterrows():\n",
    "    length_of_test_text.append(len(r['text sequences']))"
   ]
  },
  {
   "cell_type": "code",
   "execution_count": 28,
   "metadata": {},
   "outputs": [
    {
     "data": {
      "text/plain": [
       "[226, 248, 203, 163, 159]"
      ]
     },
     "execution_count": 28,
     "metadata": {},
     "output_type": "execute_result"
    }
   ],
   "source": [
    "length_of_test_text[:5]"
   ]
  },
  {
   "cell_type": "code",
   "execution_count": 29,
   "metadata": {},
   "outputs": [
    {
     "data": {
      "text/plain": [
       "3454"
      ]
     },
     "execution_count": 29,
     "metadata": {},
     "output_type": "execute_result"
    }
   ],
   "source": [
    "max(length_of_test_text)"
   ]
  },
  {
   "cell_type": "code",
   "execution_count": 30,
   "metadata": {
    "scrolled": true
   },
   "outputs": [
    {
     "data": {
      "text/plain": [
       "9"
      ]
     },
     "execution_count": 30,
     "metadata": {},
     "output_type": "execute_result"
    }
   ],
   "source": [
    "min(length_of_test_text)"
   ]
  },
  {
   "cell_type": "markdown",
   "metadata": {},
   "source": [
    "# take the train text sequences and test text sequences as lists"
   ]
  },
  {
   "cell_type": "code",
   "execution_count": 31,
   "metadata": {},
   "outputs": [],
   "source": [
    "X_train = list(df_train_labeled_text['text sequences'])"
   ]
  },
  {
   "cell_type": "code",
   "execution_count": 32,
   "metadata": {},
   "outputs": [],
   "source": [
    "X_test = list(df_test_labeled_text['text sequences'])"
   ]
  },
  {
   "cell_type": "markdown",
   "metadata": {},
   "source": [
    "# pad the text sequences\n",
    "# add 0s to text sequences having length less than the max length\n",
    "# truncate the text sequences having length more than the max length to max length"
   ]
  },
  {
   "cell_type": "code",
   "execution_count": 33,
   "metadata": {},
   "outputs": [],
   "source": [
    "maxlen = 100\n",
    "\n",
    "X_train = pad_sequences(X_train, padding='post', maxlen=maxlen)\n",
    "X_test = pad_sequences(X_test, padding='post', maxlen=maxlen)"
   ]
  },
  {
   "cell_type": "markdown",
   "metadata": {},
   "source": [
    "# after padding see the lengths of text sequences in train and test data "
   ]
  },
  {
   "cell_type": "code",
   "execution_count": 34,
   "metadata": {},
   "outputs": [],
   "source": [
    "train_post_padding_length = list()\n",
    "for a in X_train:\n",
    "    train_post_padding_length.append(len(a))\n",
    "    \n",
    "test_post_padding_length = list()\n",
    "for a in X_test:\n",
    "    test_post_padding_length.append(len(a))"
   ]
  },
  {
   "cell_type": "code",
   "execution_count": 35,
   "metadata": {},
   "outputs": [
    {
     "data": {
      "text/plain": [
       "[100, 100, 100, 100, 100]"
      ]
     },
     "execution_count": 35,
     "metadata": {},
     "output_type": "execute_result"
    }
   ],
   "source": [
    "train_post_padding_length[:5]"
   ]
  },
  {
   "cell_type": "code",
   "execution_count": 36,
   "metadata": {
    "scrolled": true
   },
   "outputs": [
    {
     "data": {
      "text/plain": [
       "[100, 100, 100, 100, 100]"
      ]
     },
     "execution_count": 36,
     "metadata": {},
     "output_type": "execute_result"
    }
   ],
   "source": [
    "test_post_padding_length[:5]"
   ]
  },
  {
   "cell_type": "markdown",
   "metadata": {},
   "source": [
    "# build the neural network model_1 - global average pooling 1D"
   ]
  },
  {
   "cell_type": "code",
   "execution_count": 37,
   "metadata": {
    "scrolled": false
   },
   "outputs": [
    {
     "name": "stdout",
     "output_type": "stream",
     "text": [
      "Model: \"sequential\"\n",
      "_________________________________________________________________\n",
      "Layer (type)                 Output Shape              Param #   \n",
      "=================================================================\n",
      "embedding (Embedding)        (None, None, 16)          130960    \n",
      "_________________________________________________________________\n",
      "global_average_pooling1d (Gl (None, 16)                0         \n",
      "_________________________________________________________________\n",
      "dense (Dense)                (None, 16)                272       \n",
      "_________________________________________________________________\n",
      "dense_1 (Dense)              (None, 1)                 17        \n",
      "=================================================================\n",
      "Total params: 131,249\n",
      "Trainable params: 131,249\n",
      "Non-trainable params: 0\n",
      "_________________________________________________________________\n"
     ]
    }
   ],
   "source": [
    "embedding_dim=16\n",
    "\n",
    "model_1 = keras.Sequential([\n",
    "  layers.Embedding(encoder.vocab_size, embedding_dim),\n",
    "  layers.GlobalAveragePooling1D(),\n",
    "  layers.Dense(16, activation='relu'),\n",
    "  layers.Dense(1)\n",
    "])\n",
    "\n",
    "model_1.summary()"
   ]
  },
  {
   "cell_type": "markdown",
   "metadata": {},
   "source": [
    "# take the train labels as a numpy array"
   ]
  },
  {
   "cell_type": "code",
   "execution_count": 38,
   "metadata": {},
   "outputs": [],
   "source": [
    "y_train = list(df_train_labeled_text['labels'])\n",
    "y_train = np.array(y_train)"
   ]
  },
  {
   "cell_type": "markdown",
   "metadata": {},
   "source": [
    "# take the test labels as a numpy array "
   ]
  },
  {
   "cell_type": "code",
   "execution_count": 39,
   "metadata": {},
   "outputs": [],
   "source": [
    "y_test = list(df_test_labeled_text['labels'])\n",
    "y_test = np.array(y_test)"
   ]
  },
  {
   "cell_type": "markdown",
   "metadata": {},
   "source": [
    "# compile the model_1"
   ]
  },
  {
   "cell_type": "code",
   "execution_count": 40,
   "metadata": {},
   "outputs": [],
   "source": [
    "model_1.compile(optimizer='adam',\n",
    "              loss=tf.keras.losses.BinaryCrossentropy(from_logits=True),\n",
    "              metrics=['accuracy'])"
   ]
  },
  {
   "cell_type": "markdown",
   "metadata": {},
   "source": [
    "# train the model_1"
   ]
  },
  {
   "cell_type": "code",
   "execution_count": 41,
   "metadata": {},
   "outputs": [
    {
     "name": "stdout",
     "output_type": "stream",
     "text": [
      "Train on 25000 samples\n",
      "Epoch 1/5\n",
      "25000/25000 [==============================] - ETA: 5:49 - loss: 0.6932 - accuracy: 0.40 - ETA: 12s - loss: 0.6930 - accuracy: 0.4917 - ETA: 6s - loss: 0.6925 - accuracy: 0.504 - ETA: 4s - loss: 0.6918 - accuracy: 0.50 - ETA: 3s - loss: 0.6905 - accuracy: 0.50 - ETA: 3s - loss: 0.6889 - accuracy: 0.50 - ETA: 2s - loss: 0.6866 - accuracy: 0.49 - ETA: 2s - loss: 0.6836 - accuracy: 0.49 - ETA: 2s - loss: 0.6797 - accuracy: 0.49 - ETA: 1s - loss: 0.6749 - accuracy: 0.49 - ETA: 1s - loss: 0.6685 - accuracy: 0.49 - ETA: 1s - loss: 0.6605 - accuracy: 0.50 - ETA: 1s - loss: 0.6529 - accuracy: 0.51 - ETA: 1s - loss: 0.6451 - accuracy: 0.52 - ETA: 1s - loss: 0.6377 - accuracy: 0.53 - ETA: 0s - loss: 0.6277 - accuracy: 0.55 - ETA: 0s - loss: 0.6195 - accuracy: 0.56 - ETA: 0s - loss: 0.6113 - accuracy: 0.57 - ETA: 0s - loss: 0.6038 - accuracy: 0.58 - ETA: 0s - loss: 0.5959 - accuracy: 0.59 - ETA: 0s - loss: 0.5880 - accuracy: 0.60 - ETA: 0s - loss: 0.5808 - accuracy: 0.61 - ETA: 0s - loss: 0.5736 - accuracy: 0.62 - ETA: 0s - loss: 0.5676 - accuracy: 0.63 - ETA: 0s - loss: 0.5613 - accuracy: 0.63 - ETA: 0s - loss: 0.5547 - accuracy: 0.64 - ETA: 0s - loss: 0.5484 - accuracy: 0.65 - 2s 73us/sample - loss: 0.5434 - accuracy: 0.6565\n",
      "Epoch 2/5\n",
      "25000/25000 [==============================] - ETA: 2s - loss: 0.4520 - accuracy: 0.75 - ETA: 1s - loss: 0.3529 - accuracy: 0.82 - ETA: 1s - loss: 0.3474 - accuracy: 0.83 - ETA: 1s - loss: 0.3361 - accuracy: 0.84 - ETA: 1s - loss: 0.3387 - accuracy: 0.84 - ETA: 1s - loss: 0.3400 - accuracy: 0.84 - ETA: 1s - loss: 0.3378 - accuracy: 0.84 - ETA: 0s - loss: 0.3345 - accuracy: 0.84 - ETA: 0s - loss: 0.3334 - accuracy: 0.84 - ETA: 0s - loss: 0.3304 - accuracy: 0.84 - ETA: 0s - loss: 0.3317 - accuracy: 0.84 - ETA: 0s - loss: 0.3314 - accuracy: 0.84 - ETA: 0s - loss: 0.3311 - accuracy: 0.84 - ETA: 0s - loss: 0.3307 - accuracy: 0.84 - ETA: 0s - loss: 0.3283 - accuracy: 0.84 - ETA: 0s - loss: 0.3280 - accuracy: 0.84 - ETA: 0s - loss: 0.3281 - accuracy: 0.84 - ETA: 0s - loss: 0.3282 - accuracy: 0.85 - ETA: 0s - loss: 0.3286 - accuracy: 0.84 - ETA: 0s - loss: 0.3268 - accuracy: 0.85 - ETA: 0s - loss: 0.3273 - accuracy: 0.84 - ETA: 0s - loss: 0.3274 - accuracy: 0.84 - ETA: 0s - loss: 0.3263 - accuracy: 0.85 - ETA: 0s - loss: 0.3264 - accuracy: 0.85 - ETA: 0s - loss: 0.3269 - accuracy: 0.85 - ETA: 0s - loss: 0.3272 - accuracy: 0.85 - ETA: 0s - loss: 0.3281 - accuracy: 0.84 - 1s 55us/sample - loss: 0.3274 - accuracy: 0.8501\n",
      "Epoch 3/5\n",
      "25000/25000 [==============================] - ETA: 2s - loss: 0.1641 - accuracy: 0.93 - ETA: 1s - loss: 0.2645 - accuracy: 0.89 - ETA: 1s - loss: 0.2640 - accuracy: 0.89 - ETA: 1s - loss: 0.2640 - accuracy: 0.88 - ETA: 1s - loss: 0.2605 - accuracy: 0.89 - ETA: 1s - loss: 0.2646 - accuracy: 0.88 - ETA: 1s - loss: 0.2606 - accuracy: 0.89 - ETA: 0s - loss: 0.2608 - accuracy: 0.89 - ETA: 0s - loss: 0.2622 - accuracy: 0.88 - ETA: 0s - loss: 0.2643 - accuracy: 0.88 - ETA: 0s - loss: 0.2647 - accuracy: 0.88 - ETA: 0s - loss: 0.2654 - accuracy: 0.88 - ETA: 0s - loss: 0.2653 - accuracy: 0.88 - ETA: 0s - loss: 0.2642 - accuracy: 0.88 - ETA: 0s - loss: 0.2628 - accuracy: 0.88 - ETA: 0s - loss: 0.2642 - accuracy: 0.88 - ETA: 0s - loss: 0.2659 - accuracy: 0.88 - ETA: 0s - loss: 0.2672 - accuracy: 0.88 - ETA: 0s - loss: 0.2672 - accuracy: 0.88 - ETA: 0s - loss: 0.2681 - accuracy: 0.88 - ETA: 0s - loss: 0.2678 - accuracy: 0.88 - ETA: 0s - loss: 0.2683 - accuracy: 0.88 - ETA: 0s - loss: 0.2680 - accuracy: 0.88 - ETA: 0s - loss: 0.2689 - accuracy: 0.88 - ETA: 0s - loss: 0.2691 - accuracy: 0.88 - ETA: 0s - loss: 0.2708 - accuracy: 0.88 - ETA: 0s - loss: 0.2710 - accuracy: 0.88 - 1s 55us/sample - loss: 0.2718 - accuracy: 0.8802\n",
      "Epoch 4/5\n",
      "25000/25000 [==============================] - ETA: 2s - loss: 0.1728 - accuracy: 0.87 - ETA: 1s - loss: 0.2213 - accuracy: 0.90 - ETA: 1s - loss: 0.2218 - accuracy: 0.90 - ETA: 1s - loss: 0.2256 - accuracy: 0.91 - ETA: 1s - loss: 0.2202 - accuracy: 0.91 - ETA: 1s - loss: 0.2264 - accuracy: 0.90 - ETA: 1s - loss: 0.2274 - accuracy: 0.90 - ETA: 1s - loss: 0.2248 - accuracy: 0.90 - ETA: 0s - loss: 0.2263 - accuracy: 0.90 - ETA: 0s - loss: 0.2264 - accuracy: 0.90 - ETA: 0s - loss: 0.2298 - accuracy: 0.90 - ETA: 0s - loss: 0.2288 - accuracy: 0.90 - ETA: 0s - loss: 0.2285 - accuracy: 0.90 - ETA: 0s - loss: 0.2280 - accuracy: 0.90 - ETA: 0s - loss: 0.2289 - accuracy: 0.90 - ETA: 0s - loss: 0.2310 - accuracy: 0.90 - ETA: 0s - loss: 0.2311 - accuracy: 0.90 - ETA: 0s - loss: 0.2323 - accuracy: 0.90 - ETA: 0s - loss: 0.2340 - accuracy: 0.90 - ETA: 0s - loss: 0.2341 - accuracy: 0.90 - ETA: 0s - loss: 0.2351 - accuracy: 0.90 - ETA: 0s - loss: 0.2347 - accuracy: 0.90 - ETA: 0s - loss: 0.2376 - accuracy: 0.89 - ETA: 0s - loss: 0.2376 - accuracy: 0.89 - ETA: 0s - loss: 0.2393 - accuracy: 0.89 - ETA: 0s - loss: 0.2410 - accuracy: 0.89 - ETA: 0s - loss: 0.2417 - accuracy: 0.89 - ETA: 0s - loss: 0.2430 - accuracy: 0.89 - 1s 56us/sample - loss: 0.2433 - accuracy: 0.8963\n",
      "Epoch 5/5\n",
      "25000/25000 [==============================] - ETA: 2s - loss: 0.1550 - accuracy: 0.96 - ETA: 1s - loss: 0.1944 - accuracy: 0.92 - ETA: 1s - loss: 0.2012 - accuracy: 0.92 - ETA: 1s - loss: 0.1982 - accuracy: 0.92 - ETA: 1s - loss: 0.2062 - accuracy: 0.91 - ETA: 1s - loss: 0.2033 - accuracy: 0.91 - ETA: 0s - loss: 0.2032 - accuracy: 0.91 - ETA: 0s - loss: 0.1999 - accuracy: 0.92 - ETA: 0s - loss: 0.2027 - accuracy: 0.91 - ETA: 0s - loss: 0.2037 - accuracy: 0.91 - ETA: 0s - loss: 0.2037 - accuracy: 0.91 - ETA: 0s - loss: 0.2062 - accuracy: 0.91 - ETA: 0s - loss: 0.2071 - accuracy: 0.91 - ETA: 0s - loss: 0.2102 - accuracy: 0.91 - ETA: 0s - loss: 0.2100 - accuracy: 0.91 - ETA: 0s - loss: 0.2120 - accuracy: 0.91 - ETA: 0s - loss: 0.2137 - accuracy: 0.91 - ETA: 0s - loss: 0.2152 - accuracy: 0.91 - ETA: 0s - loss: 0.2179 - accuracy: 0.90 - ETA: 0s - loss: 0.2171 - accuracy: 0.90 - ETA: 0s - loss: 0.2183 - accuracy: 0.90 - ETA: 0s - loss: 0.2192 - accuracy: 0.90 - ETA: 0s - loss: 0.2206 - accuracy: 0.90 - ETA: 0s - loss: 0.2219 - accuracy: 0.90 - ETA: 0s - loss: 0.2237 - accuracy: 0.90 - 1s 50us/sample - loss: 0.2238 - accuracy: 0.9061\n"
     ]
    }
   ],
   "source": [
    "history_1 = model_1.fit(X_train, y_train, epochs=5)"
   ]
  },
  {
   "cell_type": "markdown",
   "metadata": {},
   "source": [
    "# evaluate the trained model_1 on test data"
   ]
  },
  {
   "cell_type": "code",
   "execution_count": 42,
   "metadata": {},
   "outputs": [
    {
     "name": "stdout",
     "output_type": "stream",
     "text": [
      "25000/25000 [==============================] - ETA: 46s - loss: 0.3395 - accuracy: 0.843 - ETA: 1s - loss: 0.4915 - accuracy: 0.802 - ETA: 0s - loss: 0.4938 - accuracy: 0.79 - ETA: 0s - loss: 0.4890 - accuracy: 0.79 - ETA: 0s - loss: 0.4847 - accuracy: 0.80 - ETA: 0s - loss: 0.4847 - accuracy: 0.80 - ETA: 0s - loss: 0.4834 - accuracy: 0.80 - ETA: 0s - loss: 0.4748 - accuracy: 0.80 - ETA: 0s - loss: 0.4724 - accuracy: 0.80 - ETA: 0s - loss: 0.4718 - accuracy: 0.80 - ETA: 0s - loss: 0.4735 - accuracy: 0.80 - 1s 25us/sample - loss: 0.4731 - accuracy: 0.8057\n"
     ]
    },
    {
     "data": {
      "text/plain": [
       "[0.47305155502319335, 0.80572]"
      ]
     },
     "execution_count": 42,
     "metadata": {},
     "output_type": "execute_result"
    }
   ],
   "source": [
    "model_1.evaluate(X_test, y_test)"
   ]
  },
  {
   "cell_type": "markdown",
   "metadata": {},
   "source": [
    "# build the neural network model_2 - lstm"
   ]
  },
  {
   "cell_type": "code",
   "execution_count": 43,
   "metadata": {
    "scrolled": true
   },
   "outputs": [
    {
     "name": "stdout",
     "output_type": "stream",
     "text": [
      "Model: \"sequential_1\"\n",
      "_________________________________________________________________\n",
      "Layer (type)                 Output Shape              Param #   \n",
      "=================================================================\n",
      "embedding_1 (Embedding)      (None, None, 16)          130960    \n",
      "_________________________________________________________________\n",
      "lstm (LSTM)                  (None, 128)               74240     \n",
      "_________________________________________________________________\n",
      "dense_2 (Dense)              (None, 16)                2064      \n",
      "_________________________________________________________________\n",
      "dense_3 (Dense)              (None, 1)                 17        \n",
      "=================================================================\n",
      "Total params: 207,281\n",
      "Trainable params: 207,281\n",
      "Non-trainable params: 0\n",
      "_________________________________________________________________\n"
     ]
    }
   ],
   "source": [
    "embedding_dim=16\n",
    "\n",
    "model_2 = keras.Sequential([\n",
    "  layers.Embedding(encoder.vocab_size, embedding_dim),\n",
    "  layers.LSTM(128),\n",
    "  layers.Dense(16, activation='relu'),\n",
    "  layers.Dense(1)\n",
    "])\n",
    "\n",
    "model_2.summary()"
   ]
  },
  {
   "cell_type": "markdown",
   "metadata": {},
   "source": [
    "# compile the model_2"
   ]
  },
  {
   "cell_type": "code",
   "execution_count": 44,
   "metadata": {},
   "outputs": [],
   "source": [
    "model_2.compile(optimizer='adam',\n",
    "              loss=tf.keras.losses.BinaryCrossentropy(from_logits=True),\n",
    "              metrics=['accuracy'])"
   ]
  },
  {
   "cell_type": "markdown",
   "metadata": {},
   "source": [
    "# train the model_2"
   ]
  },
  {
   "cell_type": "code",
   "execution_count": 45,
   "metadata": {
    "scrolled": true
   },
   "outputs": [
    {
     "name": "stdout",
     "output_type": "stream",
     "text": [
      "Train on 25000 samples\n",
      "Epoch 1/5\n"
     ]
    },
    {
     "name": "stdout",
     "output_type": "stream",
     "text": [
      " 5920/25000 [======>.......................] - ETA: 18:48 - loss: 0.6927 - accuracy: 0.625 - ETA: 9:49 - loss: 0.6921 - accuracy: 0.593 - ETA: 6:48 - loss: 0.6923 - accuracy: 0.57 - ETA: 5:17 - loss: 0.6912 - accuracy: 0.58 - ETA: 4:22 - loss: 0.6923 - accuracy: 0.56 - ETA: 3:46 - loss: 0.6915 - accuracy: 0.56 - ETA: 3:19 - loss: 0.6925 - accuracy: 0.55 - ETA: 3:00 - loss: 0.6923 - accuracy: 0.55 - ETA: 2:45 - loss: 0.6936 - accuracy: 0.53 - ETA: 2:33 - loss: 0.6948 - accuracy: 0.51 - ETA: 2:23 - loss: 0.6955 - accuracy: 0.50 - ETA: 2:14 - loss: 0.6957 - accuracy: 0.50 - ETA: 2:07 - loss: 0.6958 - accuracy: 0.49 - ETA: 2:01 - loss: 0.6955 - accuracy: 0.50 - ETA: 1:56 - loss: 0.6952 - accuracy: 0.50 - ETA: 1:51 - loss: 0.6949 - accuracy: 0.50 - ETA: 1:47 - loss: 0.6947 - accuracy: 0.51 - ETA: 1:44 - loss: 0.6945 - accuracy: 0.51 - ETA: 1:40 - loss: 0.6943 - accuracy: 0.51 - ETA: 1:37 - loss: 0.6942 - accuracy: 0.51 - ETA: 1:35 - loss: 0.6943 - accuracy: 0.51 - ETA: 1:32 - loss: 0.6943 - accuracy: 0.51 - ETA: 1:30 - loss: 0.6940 - accuracy: 0.51 - ETA: 1:28 - loss: 0.6939 - accuracy: 0.51 - ETA: 1:26 - loss: 0.6939 - accuracy: 0.51 - ETA: 1:24 - loss: 0.6936 - accuracy: 0.51 - ETA: 1:23 - loss: 0.6935 - accuracy: 0.52 - ETA: 1:21 - loss: 0.6934 - accuracy: 0.52 - ETA: 1:20 - loss: 0.6931 - accuracy: 0.52 - ETA: 1:19 - loss: 0.6931 - accuracy: 0.52 - ETA: 1:17 - loss: 0.6930 - accuracy: 0.52 - ETA: 1:16 - loss: 0.6926 - accuracy: 0.52 - ETA: 1:15 - loss: 0.6924 - accuracy: 0.53 - ETA: 1:14 - loss: 0.6926 - accuracy: 0.52 - ETA: 1:13 - loss: 0.6924 - accuracy: 0.52 - ETA: 1:12 - loss: 0.6917 - accuracy: 0.53 - ETA: 1:11 - loss: 0.6929 - accuracy: 0.52 - ETA: 1:11 - loss: 0.6929 - accuracy: 0.52 - ETA: 1:10 - loss: 0.6929 - accuracy: 0.52 - ETA: 1:09 - loss: 0.6923 - accuracy: 0.53 - ETA: 1:09 - loss: 0.6925 - accuracy: 0.53 - ETA: 1:08 - loss: 0.6923 - accuracy: 0.53 - ETA: 1:07 - loss: 0.6923 - accuracy: 0.53 - ETA: 1:07 - loss: 0.6926 - accuracy: 0.52 - ETA: 1:06 - loss: 0.6923 - accuracy: 0.52 - ETA: 1:05 - loss: 0.6924 - accuracy: 0.52 - ETA: 1:05 - loss: 0.6924 - accuracy: 0.52 - ETA: 1:04 - loss: 0.6925 - accuracy: 0.52 - ETA: 1:04 - loss: 0.6926 - accuracy: 0.52 - ETA: 1:03 - loss: 0.6925 - accuracy: 0.52 - ETA: 1:03 - loss: 0.6925 - accuracy: 0.52 - ETA: 1:02 - loss: 0.6922 - accuracy: 0.52 - ETA: 1:02 - loss: 0.6922 - accuracy: 0.52 - ETA: 1:01 - loss: 0.6921 - accuracy: 0.52 - ETA: 1:01 - loss: 0.6918 - accuracy: 0.53 - ETA: 1:01 - loss: 0.6918 - accuracy: 0.53 - ETA: 1:00 - loss: 0.6918 - accuracy: 0.53 - ETA: 1:00 - loss: 0.6917 - accuracy: 0.53 - ETA: 59s - loss: 0.6918 - accuracy: 0.5302 - ETA: 59s - loss: 0.6917 - accuracy: 0.529 - ETA: 59s - loss: 0.6921 - accuracy: 0.526 - ETA: 58s - loss: 0.6924 - accuracy: 0.522 - ETA: 58s - loss: 0.6924 - accuracy: 0.522 - ETA: 58s - loss: 0.6923 - accuracy: 0.523 - ETA: 57s - loss: 0.6923 - accuracy: 0.522 - ETA: 57s - loss: 0.6924 - accuracy: 0.521 - ETA: 57s - loss: 0.6923 - accuracy: 0.521 - ETA: 56s - loss: 0.6923 - accuracy: 0.520 - ETA: 56s - loss: 0.6923 - accuracy: 0.521 - ETA: 56s - loss: 0.6924 - accuracy: 0.521 - ETA: 56s - loss: 0.6924 - accuracy: 0.522 - ETA: 55s - loss: 0.6925 - accuracy: 0.520 - ETA: 55s - loss: 0.6925 - accuracy: 0.519 - ETA: 55s - loss: 0.6925 - accuracy: 0.517 - ETA: 54s - loss: 0.6925 - accuracy: 0.517 - ETA: 54s - loss: 0.6925 - accuracy: 0.516 - ETA: 54s - loss: 0.6925 - accuracy: 0.515 - ETA: 54s - loss: 0.6925 - accuracy: 0.514 - ETA: 54s - loss: 0.6924 - accuracy: 0.516 - ETA: 53s - loss: 0.6924 - accuracy: 0.515 - ETA: 53s - loss: 0.6925 - accuracy: 0.514 - ETA: 53s - loss: 0.6925 - accuracy: 0.515 - ETA: 53s - loss: 0.6924 - accuracy: 0.515 - ETA: 52s - loss: 0.6924 - accuracy: 0.515 - ETA: 52s - loss: 0.6923 - accuracy: 0.516 - ETA: 52s - loss: 0.6923 - accuracy: 0.518 - ETA: 52s - loss: 0.6922 - accuracy: 0.518 - ETA: 52s - loss: 0.6923 - accuracy: 0.516 - ETA: 51s - loss: 0.6923 - accuracy: 0.516 - ETA: 51s - loss: 0.6922 - accuracy: 0.517 - ETA: 51s - loss: 0.6923 - accuracy: 0.515 - ETA: 51s - loss: 0.6923 - accuracy: 0.514 - ETA: 51s - loss: 0.6924 - accuracy: 0.514 - ETA: 50s - loss: 0.6923 - accuracy: 0.515 - ETA: 50s - loss: 0.6923 - accuracy: 0.514 - ETA: 50s - loss: 0.6923 - accuracy: 0.513 - ETA: 50s - loss: 0.6922 - accuracy: 0.513 - ETA: 50s - loss: 0.6922 - accuracy: 0.511 - ETA: 50s - loss: 0.6921 - accuracy: 0.510 - ETA: 49s - loss: 0.6920 - accuracy: 0.510 - ETA: 49s - loss: 0.6919 - accuracy: 0.511 - ETA: 49s - loss: 0.6919 - accuracy: 0.512 - ETA: 49s - loss: 0.6917 - accuracy: 0.510 - ETA: 49s - loss: 0.6915 - accuracy: 0.511 - ETA: 49s - loss: 0.6910 - accuracy: 0.512 - ETA: 48s - loss: 0.6929 - accuracy: 0.513 - ETA: 48s - loss: 0.6920 - accuracy: 0.515 - ETA: 48s - loss: 0.6917 - accuracy: 0.515 - ETA: 48s - loss: 0.6916 - accuracy: 0.515 - ETA: 48s - loss: 0.6915 - accuracy: 0.515 - ETA: 48s - loss: 0.6911 - accuracy: 0.516 - ETA: 47s - loss: 0.6912 - accuracy: 0.515 - ETA: 47s - loss: 0.6917 - accuracy: 0.514 - ETA: 47s - loss: 0.6915 - accuracy: 0.514 - ETA: 47s - loss: 0.6907 - accuracy: 0.516 - ETA: 47s - loss: 0.6909 - accuracy: 0.515 - ETA: 47s - loss: 0.6908 - accuracy: 0.515 - ETA: 47s - loss: 0.6908 - accuracy: 0.515 - ETA: 46s - loss: 0.6909 - accuracy: 0.514 - ETA: 46s - loss: 0.6906 - accuracy: 0.514 - ETA: 46s - loss: 0.6906 - accuracy: 0.513 - ETA: 46s - loss: 0.6904 - accuracy: 0.514 - ETA: 46s - loss: 0.6906 - accuracy: 0.512 - ETA: 46s - loss: 0.6906 - accuracy: 0.512 - ETA: 46s - loss: 0.6905 - accuracy: 0.511 - ETA: 46s - loss: 0.6904 - accuracy: 0.510 - ETA: 45s - loss: 0.6902 - accuracy: 0.511 - ETA: 45s - loss: 0.6900 - accuracy: 0.510 - ETA: 45s - loss: 0.6901 - accuracy: 0.510 - ETA: 45s - loss: 0.6901 - accuracy: 0.510 - ETA: 45s - loss: 0.6898 - accuracy: 0.510 - ETA: 45s - loss: 0.6894 - accuracy: 0.512 - ETA: 45s - loss: 0.6893 - accuracy: 0.512 - ETA: 44s - loss: 0.6890 - accuracy: 0.512 - ETA: 44s - loss: 0.6892 - accuracy: 0.511 - ETA: 44s - loss: 0.6891 - accuracy: 0.510 - ETA: 44s - loss: 0.6888 - accuracy: 0.510 - ETA: 44s - loss: 0.6886 - accuracy: 0.511 - ETA: 44s - loss: 0.6885 - accuracy: 0.511 - ETA: 44s - loss: 0.6881 - accuracy: 0.511 - ETA: 44s - loss: 0.6881 - accuracy: 0.511 - ETA: 44s - loss: 0.6879 - accuracy: 0.510 - ETA: 43s - loss: 0.6876 - accuracy: 0.510 - ETA: 43s - loss: 0.6873 - accuracy: 0.511 - ETA: 43s - loss: 0.6867 - accuracy: 0.511 - ETA: 43s - loss: 0.6864 - accuracy: 0.511 - ETA: 43s - loss: 0.6858 - accuracy: 0.511 - ETA: 43s - loss: 0.6861 - accuracy: 0.511 - ETA: 43s - loss: 0.6857 - accuracy: 0.511 - ETA: 43s - loss: 0.6848 - accuracy: 0.512 - ETA: 43s - loss: 0.6842 - accuracy: 0.510 - ETA: 42s - loss: 0.6838 - accuracy: 0.510 - ETA: 42s - loss: 0.6835 - accuracy: 0.511 - ETA: 42s - loss: 0.6833 - accuracy: 0.511 - ETA: 42s - loss: 0.6834 - accuracy: 0.512 - ETA: 42s - loss: 0.6831 - accuracy: 0.514 - ETA: 42s - loss: 0.6828 - accuracy: 0.514 - ETA: 42s - loss: 0.6823 - accuracy: 0.515 - ETA: 42s - loss: 0.6820 - accuracy: 0.516 - ETA: 42s - loss: 0.6820 - accuracy: 0.517 - ETA: 42s - loss: 0.6817 - accuracy: 0.519 - ETA: 41s - loss: 0.6813 - accuracy: 0.519 - ETA: 41s - loss: 0.6808 - accuracy: 0.521 - ETA: 41s - loss: 0.6806 - accuracy: 0.521 - ETA: 41s - loss: 0.6800 - accuracy: 0.522 - ETA: 41s - loss: 0.6790 - accuracy: 0.523 - ETA: 41s - loss: 0.6796 - accuracy: 0.524 - ETA: 41s - loss: 0.6792 - accuracy: 0.525 - ETA: 41s - loss: 0.6788 - accuracy: 0.524 - ETA: 41s - loss: 0.6785 - accuracy: 0.525 - ETA: 41s - loss: 0.6778 - accuracy: 0.526 - ETA: 40s - loss: 0.6769 - accuracy: 0.527 - ETA: 40s - loss: 0.6769 - accuracy: 0.527 - ETA: 40s - loss: 0.6767 - accuracy: 0.528 - ETA: 40s - loss: 0.6766 - accuracy: 0.528 - ETA: 40s - loss: 0.6760 - accuracy: 0.528 - ETA: 40s - loss: 0.6751 - accuracy: 0.530 - ETA: 40s - loss: 0.6754 - accuracy: 0.529 - ETA: 40s - loss: 0.6749 - accuracy: 0.530 - ETA: 40s - loss: 0.6749 - accuracy: 0.530 - ETA: 40s - loss: 0.6745 - accuracy: 0.530 - ETA: 39s - loss: 0.6740 - accuracy: 0.530 - ETA: 39s - loss: 0.6739 - accuracy: 0.531 - ETA: 39s - loss: 0.6732 - accuracy: 0.532 - ETA: 39s - loss: 0.6729 - accuracy: 0.5338\b\b\b\b\b\b\b\b\b\b\b\b\b\b\b\b\b\b\b\b\b\b\b\b\b\b\b\b\b\b\b\b\b\b\b\b\b\b\b\b\b\b\b\b\b\b\b\b\b\b\b\b\b\b\b\b\b\b\b\b\b\b\b\b\b\b\b\b\b\b\b\b\b\b\b\b\b\b\b\b\b\b\b\b\b\b\b\b\b"
     ]
    },
    {
     "name": "stdout",
     "output_type": "stream",
     "text": [
      "11872/25000 [=============>................] - ETA: 39s - loss: 0.6725 - accuracy: 0.534 - ETA: 39s - loss: 0.6720 - accuracy: 0.535 - ETA: 39s - loss: 0.6717 - accuracy: 0.536 - ETA: 39s - loss: 0.6708 - accuracy: 0.536 - ETA: 39s - loss: 0.6710 - accuracy: 0.537 - ETA: 39s - loss: 0.6710 - accuracy: 0.537 - ETA: 39s - loss: 0.6706 - accuracy: 0.538 - ETA: 39s - loss: 0.6702 - accuracy: 0.539 - ETA: 38s - loss: 0.6697 - accuracy: 0.539 - ETA: 38s - loss: 0.6686 - accuracy: 0.541 - ETA: 38s - loss: 0.6677 - accuracy: 0.542 - ETA: 38s - loss: 0.6672 - accuracy: 0.543 - ETA: 38s - loss: 0.6666 - accuracy: 0.543 - ETA: 38s - loss: 0.6650 - accuracy: 0.545 - ETA: 38s - loss: 0.6647 - accuracy: 0.546 - ETA: 38s - loss: 0.6633 - accuracy: 0.547 - ETA: 38s - loss: 0.6627 - accuracy: 0.548 - ETA: 38s - loss: 0.6618 - accuracy: 0.550 - ETA: 38s - loss: 0.6608 - accuracy: 0.551 - ETA: 38s - loss: 0.6601 - accuracy: 0.552 - ETA: 38s - loss: 0.6602 - accuracy: 0.553 - ETA: 37s - loss: 0.6594 - accuracy: 0.554 - ETA: 37s - loss: 0.6587 - accuracy: 0.555 - ETA: 37s - loss: 0.6583 - accuracy: 0.555 - ETA: 37s - loss: 0.6579 - accuracy: 0.556 - ETA: 37s - loss: 0.6578 - accuracy: 0.556 - ETA: 37s - loss: 0.6575 - accuracy: 0.556 - ETA: 37s - loss: 0.6567 - accuracy: 0.556 - ETA: 37s - loss: 0.6566 - accuracy: 0.556 - ETA: 37s - loss: 0.6567 - accuracy: 0.556 - ETA: 37s - loss: 0.6562 - accuracy: 0.556 - ETA: 37s - loss: 0.6557 - accuracy: 0.557 - ETA: 37s - loss: 0.6548 - accuracy: 0.558 - ETA: 36s - loss: 0.6539 - accuracy: 0.559 - ETA: 36s - loss: 0.6538 - accuracy: 0.559 - ETA: 36s - loss: 0.6537 - accuracy: 0.560 - ETA: 36s - loss: 0.6533 - accuracy: 0.561 - ETA: 36s - loss: 0.6528 - accuracy: 0.560 - ETA: 36s - loss: 0.6516 - accuracy: 0.561 - ETA: 36s - loss: 0.6514 - accuracy: 0.562 - ETA: 36s - loss: 0.6511 - accuracy: 0.563 - ETA: 36s - loss: 0.6507 - accuracy: 0.563 - ETA: 36s - loss: 0.6501 - accuracy: 0.564 - ETA: 36s - loss: 0.6493 - accuracy: 0.565 - ETA: 36s - loss: 0.6487 - accuracy: 0.566 - ETA: 36s - loss: 0.6482 - accuracy: 0.567 - ETA: 35s - loss: 0.6476 - accuracy: 0.567 - ETA: 35s - loss: 0.6469 - accuracy: 0.569 - ETA: 35s - loss: 0.6473 - accuracy: 0.569 - ETA: 35s - loss: 0.6466 - accuracy: 0.570 - ETA: 35s - loss: 0.6459 - accuracy: 0.571 - ETA: 35s - loss: 0.6454 - accuracy: 0.572 - ETA: 35s - loss: 0.6444 - accuracy: 0.574 - ETA: 35s - loss: 0.6437 - accuracy: 0.574 - ETA: 35s - loss: 0.6430 - accuracy: 0.575 - ETA: 35s - loss: 0.6428 - accuracy: 0.576 - ETA: 35s - loss: 0.6421 - accuracy: 0.577 - ETA: 35s - loss: 0.6412 - accuracy: 0.577 - ETA: 35s - loss: 0.6403 - accuracy: 0.578 - ETA: 35s - loss: 0.6390 - accuracy: 0.579 - ETA: 35s - loss: 0.6387 - accuracy: 0.580 - ETA: 34s - loss: 0.6380 - accuracy: 0.581 - ETA: 34s - loss: 0.6371 - accuracy: 0.582 - ETA: 34s - loss: 0.6365 - accuracy: 0.582 - ETA: 34s - loss: 0.6360 - accuracy: 0.583 - ETA: 34s - loss: 0.6351 - accuracy: 0.584 - ETA: 34s - loss: 0.6345 - accuracy: 0.584 - ETA: 34s - loss: 0.6340 - accuracy: 0.585 - ETA: 34s - loss: 0.6333 - accuracy: 0.586 - ETA: 34s - loss: 0.6327 - accuracy: 0.586 - ETA: 34s - loss: 0.6324 - accuracy: 0.587 - ETA: 34s - loss: 0.6319 - accuracy: 0.588 - ETA: 34s - loss: 0.6311 - accuracy: 0.588 - ETA: 34s - loss: 0.6300 - accuracy: 0.590 - ETA: 34s - loss: 0.6295 - accuracy: 0.590 - ETA: 34s - loss: 0.6294 - accuracy: 0.591 - ETA: 34s - loss: 0.6295 - accuracy: 0.591 - ETA: 33s - loss: 0.6288 - accuracy: 0.591 - ETA: 33s - loss: 0.6284 - accuracy: 0.592 - ETA: 33s - loss: 0.6278 - accuracy: 0.592 - ETA: 33s - loss: 0.6275 - accuracy: 0.593 - ETA: 33s - loss: 0.6267 - accuracy: 0.593 - ETA: 33s - loss: 0.6262 - accuracy: 0.594 - ETA: 33s - loss: 0.6255 - accuracy: 0.595 - ETA: 33s - loss: 0.6243 - accuracy: 0.596 - ETA: 33s - loss: 0.6237 - accuracy: 0.597 - ETA: 33s - loss: 0.6230 - accuracy: 0.597 - ETA: 33s - loss: 0.6225 - accuracy: 0.598 - ETA: 33s - loss: 0.6214 - accuracy: 0.599 - ETA: 33s - loss: 0.6207 - accuracy: 0.600 - ETA: 33s - loss: 0.6197 - accuracy: 0.601 - ETA: 33s - loss: 0.6195 - accuracy: 0.601 - ETA: 32s - loss: 0.6191 - accuracy: 0.601 - ETA: 32s - loss: 0.6187 - accuracy: 0.602 - ETA: 32s - loss: 0.6181 - accuracy: 0.603 - ETA: 32s - loss: 0.6177 - accuracy: 0.603 - ETA: 32s - loss: 0.6172 - accuracy: 0.604 - ETA: 32s - loss: 0.6164 - accuracy: 0.604 - ETA: 32s - loss: 0.6156 - accuracy: 0.605 - ETA: 32s - loss: 0.6152 - accuracy: 0.605 - ETA: 32s - loss: 0.6143 - accuracy: 0.606 - ETA: 32s - loss: 0.6145 - accuracy: 0.606 - ETA: 32s - loss: 0.6142 - accuracy: 0.607 - ETA: 32s - loss: 0.6132 - accuracy: 0.608 - ETA: 32s - loss: 0.6127 - accuracy: 0.608 - ETA: 32s - loss: 0.6115 - accuracy: 0.609 - ETA: 32s - loss: 0.6107 - accuracy: 0.610 - ETA: 32s - loss: 0.6099 - accuracy: 0.611 - ETA: 31s - loss: 0.6098 - accuracy: 0.612 - ETA: 31s - loss: 0.6093 - accuracy: 0.612 - ETA: 31s - loss: 0.6089 - accuracy: 0.613 - ETA: 31s - loss: 0.6091 - accuracy: 0.613 - ETA: 31s - loss: 0.6088 - accuracy: 0.614 - ETA: 31s - loss: 0.6082 - accuracy: 0.614 - ETA: 31s - loss: 0.6077 - accuracy: 0.615 - ETA: 31s - loss: 0.6076 - accuracy: 0.615 - ETA: 31s - loss: 0.6072 - accuracy: 0.616 - ETA: 31s - loss: 0.6069 - accuracy: 0.617 - ETA: 31s - loss: 0.6065 - accuracy: 0.617 - ETA: 31s - loss: 0.6058 - accuracy: 0.618 - ETA: 31s - loss: 0.6054 - accuracy: 0.619 - ETA: 31s - loss: 0.6044 - accuracy: 0.620 - ETA: 31s - loss: 0.6036 - accuracy: 0.620 - ETA: 31s - loss: 0.6038 - accuracy: 0.621 - ETA: 30s - loss: 0.6024 - accuracy: 0.622 - ETA: 30s - loss: 0.6029 - accuracy: 0.622 - ETA: 30s - loss: 0.6033 - accuracy: 0.622 - ETA: 30s - loss: 0.6027 - accuracy: 0.622 - ETA: 30s - loss: 0.6025 - accuracy: 0.623 - ETA: 30s - loss: 0.6020 - accuracy: 0.623 - ETA: 30s - loss: 0.6019 - accuracy: 0.624 - ETA: 30s - loss: 0.6012 - accuracy: 0.625 - ETA: 30s - loss: 0.6014 - accuracy: 0.625 - ETA: 30s - loss: 0.6014 - accuracy: 0.626 - ETA: 30s - loss: 0.6011 - accuracy: 0.626 - ETA: 30s - loss: 0.6009 - accuracy: 0.627 - ETA: 30s - loss: 0.6005 - accuracy: 0.627 - ETA: 30s - loss: 0.6003 - accuracy: 0.628 - ETA: 30s - loss: 0.6002 - accuracy: 0.628 - ETA: 29s - loss: 0.6001 - accuracy: 0.628 - ETA: 29s - loss: 0.6001 - accuracy: 0.629 - ETA: 29s - loss: 0.5998 - accuracy: 0.629 - ETA: 29s - loss: 0.5995 - accuracy: 0.630 - ETA: 29s - loss: 0.5991 - accuracy: 0.630 - ETA: 29s - loss: 0.5982 - accuracy: 0.631 - ETA: 29s - loss: 0.5981 - accuracy: 0.631 - ETA: 29s - loss: 0.5979 - accuracy: 0.632 - ETA: 29s - loss: 0.5972 - accuracy: 0.633 - ETA: 29s - loss: 0.5968 - accuracy: 0.633 - ETA: 29s - loss: 0.5967 - accuracy: 0.633 - ETA: 29s - loss: 0.5961 - accuracy: 0.634 - ETA: 29s - loss: 0.5956 - accuracy: 0.634 - ETA: 29s - loss: 0.5955 - accuracy: 0.634 - ETA: 29s - loss: 0.5952 - accuracy: 0.634 - ETA: 29s - loss: 0.5949 - accuracy: 0.634 - ETA: 28s - loss: 0.5953 - accuracy: 0.634 - ETA: 28s - loss: 0.5951 - accuracy: 0.634 - ETA: 28s - loss: 0.5950 - accuracy: 0.634 - ETA: 28s - loss: 0.5949 - accuracy: 0.634 - ETA: 28s - loss: 0.5946 - accuracy: 0.634 - ETA: 28s - loss: 0.5942 - accuracy: 0.634 - ETA: 28s - loss: 0.5939 - accuracy: 0.634 - ETA: 28s - loss: 0.5934 - accuracy: 0.635 - ETA: 28s - loss: 0.5934 - accuracy: 0.635 - ETA: 28s - loss: 0.5933 - accuracy: 0.636 - ETA: 28s - loss: 0.5932 - accuracy: 0.636 - ETA: 28s - loss: 0.5927 - accuracy: 0.636 - ETA: 28s - loss: 0.5922 - accuracy: 0.637 - ETA: 28s - loss: 0.5917 - accuracy: 0.638 - ETA: 28s - loss: 0.5917 - accuracy: 0.638 - ETA: 28s - loss: 0.5912 - accuracy: 0.638 - ETA: 27s - loss: 0.5910 - accuracy: 0.638 - ETA: 27s - loss: 0.5902 - accuracy: 0.639 - ETA: 27s - loss: 0.5900 - accuracy: 0.639 - ETA: 27s - loss: 0.5897 - accuracy: 0.640 - ETA: 27s - loss: 0.5898 - accuracy: 0.640 - ETA: 27s - loss: 0.5893 - accuracy: 0.641 - ETA: 27s - loss: 0.5891 - accuracy: 0.641 - ETA: 27s - loss: 0.5887 - accuracy: 0.642 - ETA: 27s - loss: 0.5885 - accuracy: 0.642 - ETA: 27s - loss: 0.5885 - accuracy: 0.642 - ETA: 27s - loss: 0.5881 - accuracy: 0.642 - ETA: 27s - loss: 0.5881 - accuracy: 0.643 - ETA: 27s - loss: 0.5879 - accuracy: 0.643 - ETA: 27s - loss: 0.5876 - accuracy: 0.643 - ETA: 27s - loss: 0.5872 - accuracy: 0.6441"
     ]
    },
    {
     "name": "stdout",
     "output_type": "stream",
     "text": [
      "17824/25000 [====================>.........] - ETA: 26s - loss: 0.5870 - accuracy: 0.644 - ETA: 26s - loss: 0.5866 - accuracy: 0.644 - ETA: 26s - loss: 0.5859 - accuracy: 0.645 - ETA: 26s - loss: 0.5856 - accuracy: 0.645 - ETA: 26s - loss: 0.5855 - accuracy: 0.645 - ETA: 26s - loss: 0.5851 - accuracy: 0.646 - ETA: 26s - loss: 0.5848 - accuracy: 0.646 - ETA: 26s - loss: 0.5844 - accuracy: 0.647 - ETA: 26s - loss: 0.5841 - accuracy: 0.647 - ETA: 26s - loss: 0.5833 - accuracy: 0.648 - ETA: 26s - loss: 0.5828 - accuracy: 0.648 - ETA: 26s - loss: 0.5826 - accuracy: 0.649 - ETA: 26s - loss: 0.5826 - accuracy: 0.649 - ETA: 26s - loss: 0.5822 - accuracy: 0.649 - ETA: 26s - loss: 0.5817 - accuracy: 0.650 - ETA: 26s - loss: 0.5816 - accuracy: 0.650 - ETA: 25s - loss: 0.5817 - accuracy: 0.650 - ETA: 25s - loss: 0.5812 - accuracy: 0.650 - ETA: 25s - loss: 0.5809 - accuracy: 0.651 - ETA: 25s - loss: 0.5802 - accuracy: 0.651 - ETA: 25s - loss: 0.5796 - accuracy: 0.652 - ETA: 25s - loss: 0.5790 - accuracy: 0.652 - ETA: 25s - loss: 0.5784 - accuracy: 0.653 - ETA: 25s - loss: 0.5777 - accuracy: 0.654 - ETA: 25s - loss: 0.5773 - accuracy: 0.654 - ETA: 25s - loss: 0.5774 - accuracy: 0.654 - ETA: 25s - loss: 0.5772 - accuracy: 0.655 - ETA: 25s - loss: 0.5773 - accuracy: 0.655 - ETA: 25s - loss: 0.5769 - accuracy: 0.655 - ETA: 25s - loss: 0.5769 - accuracy: 0.655 - ETA: 25s - loss: 0.5769 - accuracy: 0.656 - ETA: 24s - loss: 0.5769 - accuracy: 0.656 - ETA: 24s - loss: 0.5769 - accuracy: 0.656 - ETA: 24s - loss: 0.5765 - accuracy: 0.656 - ETA: 24s - loss: 0.5765 - accuracy: 0.656 - ETA: 24s - loss: 0.5764 - accuracy: 0.657 - ETA: 24s - loss: 0.5762 - accuracy: 0.657 - ETA: 24s - loss: 0.5764 - accuracy: 0.657 - ETA: 24s - loss: 0.5766 - accuracy: 0.657 - ETA: 24s - loss: 0.5763 - accuracy: 0.657 - ETA: 24s - loss: 0.5762 - accuracy: 0.657 - ETA: 24s - loss: 0.5761 - accuracy: 0.657 - ETA: 24s - loss: 0.5760 - accuracy: 0.658 - ETA: 24s - loss: 0.5760 - accuracy: 0.658 - ETA: 24s - loss: 0.5760 - accuracy: 0.658 - ETA: 24s - loss: 0.5759 - accuracy: 0.658 - ETA: 24s - loss: 0.5759 - accuracy: 0.658 - ETA: 23s - loss: 0.5754 - accuracy: 0.659 - ETA: 23s - loss: 0.5752 - accuracy: 0.659 - ETA: 23s - loss: 0.5749 - accuracy: 0.660 - ETA: 23s - loss: 0.5744 - accuracy: 0.660 - ETA: 23s - loss: 0.5743 - accuracy: 0.660 - ETA: 23s - loss: 0.5741 - accuracy: 0.660 - ETA: 23s - loss: 0.5742 - accuracy: 0.660 - ETA: 23s - loss: 0.5742 - accuracy: 0.660 - ETA: 23s - loss: 0.5739 - accuracy: 0.660 - ETA: 23s - loss: 0.5739 - accuracy: 0.660 - ETA: 23s - loss: 0.5734 - accuracy: 0.661 - ETA: 23s - loss: 0.5731 - accuracy: 0.661 - ETA: 23s - loss: 0.5726 - accuracy: 0.661 - ETA: 23s - loss: 0.5721 - accuracy: 0.662 - ETA: 23s - loss: 0.5718 - accuracy: 0.662 - ETA: 22s - loss: 0.5714 - accuracy: 0.663 - ETA: 22s - loss: 0.5710 - accuracy: 0.663 - ETA: 22s - loss: 0.5706 - accuracy: 0.663 - ETA: 22s - loss: 0.5704 - accuracy: 0.664 - ETA: 22s - loss: 0.5701 - accuracy: 0.664 - ETA: 22s - loss: 0.5705 - accuracy: 0.664 - ETA: 22s - loss: 0.5701 - accuracy: 0.664 - ETA: 22s - loss: 0.5705 - accuracy: 0.664 - ETA: 22s - loss: 0.5704 - accuracy: 0.664 - ETA: 22s - loss: 0.5699 - accuracy: 0.665 - ETA: 22s - loss: 0.5696 - accuracy: 0.665 - ETA: 22s - loss: 0.5697 - accuracy: 0.665 - ETA: 22s - loss: 0.5694 - accuracy: 0.666 - ETA: 22s - loss: 0.5693 - accuracy: 0.666 - ETA: 22s - loss: 0.5694 - accuracy: 0.665 - ETA: 22s - loss: 0.5693 - accuracy: 0.666 - ETA: 21s - loss: 0.5692 - accuracy: 0.666 - ETA: 21s - loss: 0.5686 - accuracy: 0.666 - ETA: 21s - loss: 0.5683 - accuracy: 0.667 - ETA: 21s - loss: 0.5683 - accuracy: 0.667 - ETA: 21s - loss: 0.5681 - accuracy: 0.667 - ETA: 21s - loss: 0.5678 - accuracy: 0.667 - ETA: 21s - loss: 0.5677 - accuracy: 0.667 - ETA: 21s - loss: 0.5676 - accuracy: 0.668 - ETA: 21s - loss: 0.5674 - accuracy: 0.668 - ETA: 21s - loss: 0.5673 - accuracy: 0.668 - ETA: 21s - loss: 0.5670 - accuracy: 0.668 - ETA: 21s - loss: 0.5666 - accuracy: 0.669 - ETA: 21s - loss: 0.5663 - accuracy: 0.669 - ETA: 21s - loss: 0.5661 - accuracy: 0.669 - ETA: 21s - loss: 0.5658 - accuracy: 0.669 - ETA: 21s - loss: 0.5655 - accuracy: 0.670 - ETA: 20s - loss: 0.5653 - accuracy: 0.670 - ETA: 20s - loss: 0.5651 - accuracy: 0.670 - ETA: 20s - loss: 0.5648 - accuracy: 0.670 - ETA: 20s - loss: 0.5651 - accuracy: 0.671 - ETA: 20s - loss: 0.5648 - accuracy: 0.671 - ETA: 20s - loss: 0.5646 - accuracy: 0.671 - ETA: 20s - loss: 0.5641 - accuracy: 0.671 - ETA: 20s - loss: 0.5638 - accuracy: 0.672 - ETA: 20s - loss: 0.5633 - accuracy: 0.672 - ETA: 20s - loss: 0.5630 - accuracy: 0.672 - ETA: 20s - loss: 0.5629 - accuracy: 0.672 - ETA: 20s - loss: 0.5628 - accuracy: 0.673 - ETA: 20s - loss: 0.5626 - accuracy: 0.673 - ETA: 20s - loss: 0.5624 - accuracy: 0.673 - ETA: 20s - loss: 0.5619 - accuracy: 0.674 - ETA: 19s - loss: 0.5618 - accuracy: 0.674 - ETA: 19s - loss: 0.5614 - accuracy: 0.674 - ETA: 19s - loss: 0.5613 - accuracy: 0.674 - ETA: 19s - loss: 0.5611 - accuracy: 0.674 - ETA: 19s - loss: 0.5610 - accuracy: 0.674 - ETA: 19s - loss: 0.5607 - accuracy: 0.675 - ETA: 19s - loss: 0.5606 - accuracy: 0.675 - ETA: 19s - loss: 0.5608 - accuracy: 0.675 - ETA: 19s - loss: 0.5613 - accuracy: 0.675 - ETA: 19s - loss: 0.5610 - accuracy: 0.675 - ETA: 19s - loss: 0.5607 - accuracy: 0.675 - ETA: 19s - loss: 0.5605 - accuracy: 0.675 - ETA: 19s - loss: 0.5603 - accuracy: 0.676 - ETA: 19s - loss: 0.5603 - accuracy: 0.676 - ETA: 19s - loss: 0.5601 - accuracy: 0.676 - ETA: 18s - loss: 0.5598 - accuracy: 0.676 - ETA: 18s - loss: 0.5593 - accuracy: 0.677 - ETA: 18s - loss: 0.5593 - accuracy: 0.677 - ETA: 18s - loss: 0.5591 - accuracy: 0.677 - ETA: 18s - loss: 0.5589 - accuracy: 0.677 - ETA: 18s - loss: 0.5588 - accuracy: 0.677 - ETA: 18s - loss: 0.5591 - accuracy: 0.677 - ETA: 18s - loss: 0.5588 - accuracy: 0.678 - ETA: 18s - loss: 0.5586 - accuracy: 0.678 - ETA: 18s - loss: 0.5584 - accuracy: 0.678 - ETA: 18s - loss: 0.5583 - accuracy: 0.678 - ETA: 18s - loss: 0.5580 - accuracy: 0.678 - ETA: 18s - loss: 0.5578 - accuracy: 0.678 - ETA: 18s - loss: 0.5576 - accuracy: 0.679 - ETA: 18s - loss: 0.5573 - accuracy: 0.679 - ETA: 17s - loss: 0.5570 - accuracy: 0.679 - ETA: 17s - loss: 0.5568 - accuracy: 0.679 - ETA: 17s - loss: 0.5567 - accuracy: 0.679 - ETA: 17s - loss: 0.5567 - accuracy: 0.680 - ETA: 17s - loss: 0.5565 - accuracy: 0.680 - ETA: 17s - loss: 0.5563 - accuracy: 0.680 - ETA: 17s - loss: 0.5563 - accuracy: 0.680 - ETA: 17s - loss: 0.5560 - accuracy: 0.681 - ETA: 17s - loss: 0.5557 - accuracy: 0.681 - ETA: 17s - loss: 0.5553 - accuracy: 0.681 - ETA: 17s - loss: 0.5550 - accuracy: 0.682 - ETA: 17s - loss: 0.5547 - accuracy: 0.682 - ETA: 17s - loss: 0.5547 - accuracy: 0.682 - ETA: 17s - loss: 0.5544 - accuracy: 0.682 - ETA: 17s - loss: 0.5541 - accuracy: 0.682 - ETA: 16s - loss: 0.5535 - accuracy: 0.683 - ETA: 16s - loss: 0.5531 - accuracy: 0.683 - ETA: 16s - loss: 0.5530 - accuracy: 0.683 - ETA: 16s - loss: 0.5526 - accuracy: 0.683 - ETA: 16s - loss: 0.5524 - accuracy: 0.684 - ETA: 16s - loss: 0.5521 - accuracy: 0.684 - ETA: 16s - loss: 0.5521 - accuracy: 0.684 - ETA: 16s - loss: 0.5527 - accuracy: 0.684 - ETA: 16s - loss: 0.5525 - accuracy: 0.684 - ETA: 16s - loss: 0.5523 - accuracy: 0.684 - ETA: 16s - loss: 0.5521 - accuracy: 0.684 - ETA: 16s - loss: 0.5519 - accuracy: 0.685 - ETA: 16s - loss: 0.5519 - accuracy: 0.685 - ETA: 16s - loss: 0.5519 - accuracy: 0.685 - ETA: 16s - loss: 0.5517 - accuracy: 0.685 - ETA: 16s - loss: 0.5514 - accuracy: 0.685 - ETA: 15s - loss: 0.5513 - accuracy: 0.685 - ETA: 15s - loss: 0.5511 - accuracy: 0.685 - ETA: 15s - loss: 0.5511 - accuracy: 0.685 - ETA: 15s - loss: 0.5508 - accuracy: 0.686 - ETA: 15s - loss: 0.5508 - accuracy: 0.686 - ETA: 15s - loss: 0.5505 - accuracy: 0.686 - ETA: 15s - loss: 0.5504 - accuracy: 0.686 - ETA: 15s - loss: 0.5502 - accuracy: 0.686 - ETA: 15s - loss: 0.5500 - accuracy: 0.686 - ETA: 15s - loss: 0.5497 - accuracy: 0.687 - ETA: 15s - loss: 0.5492 - accuracy: 0.687 - ETA: 15s - loss: 0.5491 - accuracy: 0.687 - ETA: 15s - loss: 0.5489 - accuracy: 0.688 - ETA: 15s - loss: 0.5485 - accuracy: 0.688 - ETA: 15s - loss: 0.5481 - accuracy: 0.688 - ETA: 14s - loss: 0.5477 - accuracy: 0.6888"
     ]
    },
    {
     "name": "stdout",
     "output_type": "stream",
     "text": [
      "23936/25000 [===========================>..] - ETA: 14s - loss: 0.5473 - accuracy: 0.689 - ETA: 14s - loss: 0.5472 - accuracy: 0.689 - ETA: 14s - loss: 0.5474 - accuracy: 0.689 - ETA: 14s - loss: 0.5472 - accuracy: 0.689 - ETA: 14s - loss: 0.5471 - accuracy: 0.689 - ETA: 14s - loss: 0.5467 - accuracy: 0.689 - ETA: 14s - loss: 0.5463 - accuracy: 0.690 - ETA: 14s - loss: 0.5460 - accuracy: 0.690 - ETA: 14s - loss: 0.5459 - accuracy: 0.690 - ETA: 14s - loss: 0.5459 - accuracy: 0.691 - ETA: 14s - loss: 0.5455 - accuracy: 0.691 - ETA: 14s - loss: 0.5454 - accuracy: 0.691 - ETA: 14s - loss: 0.5452 - accuracy: 0.691 - ETA: 14s - loss: 0.5450 - accuracy: 0.691 - ETA: 13s - loss: 0.5449 - accuracy: 0.692 - ETA: 13s - loss: 0.5448 - accuracy: 0.692 - ETA: 13s - loss: 0.5448 - accuracy: 0.692 - ETA: 13s - loss: 0.5444 - accuracy: 0.692 - ETA: 13s - loss: 0.5443 - accuracy: 0.692 - ETA: 13s - loss: 0.5439 - accuracy: 0.693 - ETA: 13s - loss: 0.5435 - accuracy: 0.693 - ETA: 13s - loss: 0.5433 - accuracy: 0.693 - ETA: 13s - loss: 0.5430 - accuracy: 0.694 - ETA: 13s - loss: 0.5427 - accuracy: 0.694 - ETA: 13s - loss: 0.5426 - accuracy: 0.694 - ETA: 13s - loss: 0.5426 - accuracy: 0.694 - ETA: 13s - loss: 0.5426 - accuracy: 0.694 - ETA: 13s - loss: 0.5424 - accuracy: 0.695 - ETA: 13s - loss: 0.5420 - accuracy: 0.695 - ETA: 12s - loss: 0.5419 - accuracy: 0.695 - ETA: 12s - loss: 0.5419 - accuracy: 0.695 - ETA: 12s - loss: 0.5419 - accuracy: 0.695 - ETA: 12s - loss: 0.5420 - accuracy: 0.695 - ETA: 12s - loss: 0.5416 - accuracy: 0.696 - ETA: 12s - loss: 0.5414 - accuracy: 0.696 - ETA: 12s - loss: 0.5412 - accuracy: 0.696 - ETA: 12s - loss: 0.5410 - accuracy: 0.696 - ETA: 12s - loss: 0.5409 - accuracy: 0.696 - ETA: 12s - loss: 0.5409 - accuracy: 0.696 - ETA: 12s - loss: 0.5407 - accuracy: 0.696 - ETA: 12s - loss: 0.5404 - accuracy: 0.697 - ETA: 12s - loss: 0.5402 - accuracy: 0.697 - ETA: 12s - loss: 0.5400 - accuracy: 0.697 - ETA: 12s - loss: 0.5397 - accuracy: 0.697 - ETA: 11s - loss: 0.5396 - accuracy: 0.697 - ETA: 11s - loss: 0.5393 - accuracy: 0.698 - ETA: 11s - loss: 0.5389 - accuracy: 0.698 - ETA: 11s - loss: 0.5387 - accuracy: 0.698 - ETA: 11s - loss: 0.5385 - accuracy: 0.698 - ETA: 11s - loss: 0.5384 - accuracy: 0.698 - ETA: 11s - loss: 0.5382 - accuracy: 0.698 - ETA: 11s - loss: 0.5382 - accuracy: 0.698 - ETA: 11s - loss: 0.5378 - accuracy: 0.699 - ETA: 11s - loss: 0.5379 - accuracy: 0.699 - ETA: 11s - loss: 0.5379 - accuracy: 0.699 - ETA: 11s - loss: 0.5376 - accuracy: 0.699 - ETA: 11s - loss: 0.5377 - accuracy: 0.699 - ETA: 11s - loss: 0.5375 - accuracy: 0.699 - ETA: 11s - loss: 0.5373 - accuracy: 0.700 - ETA: 10s - loss: 0.5372 - accuracy: 0.700 - ETA: 10s - loss: 0.5370 - accuracy: 0.700 - ETA: 10s - loss: 0.5369 - accuracy: 0.700 - ETA: 10s - loss: 0.5364 - accuracy: 0.701 - ETA: 10s - loss: 0.5362 - accuracy: 0.701 - ETA: 10s - loss: 0.5362 - accuracy: 0.701 - ETA: 10s - loss: 0.5358 - accuracy: 0.701 - ETA: 10s - loss: 0.5357 - accuracy: 0.701 - ETA: 10s - loss: 0.5356 - accuracy: 0.702 - ETA: 10s - loss: 0.5353 - accuracy: 0.702 - ETA: 10s - loss: 0.5354 - accuracy: 0.702 - ETA: 10s - loss: 0.5350 - accuracy: 0.702 - ETA: 10s - loss: 0.5350 - accuracy: 0.702 - ETA: 10s - loss: 0.5348 - accuracy: 0.702 - ETA: 10s - loss: 0.5345 - accuracy: 0.703 - ETA: 9s - loss: 0.5345 - accuracy: 0.703 - ETA: 9s - loss: 0.5346 - accuracy: 0.70 - ETA: 9s - loss: 0.5345 - accuracy: 0.70 - ETA: 9s - loss: 0.5343 - accuracy: 0.70 - ETA: 9s - loss: 0.5339 - accuracy: 0.70 - ETA: 9s - loss: 0.5339 - accuracy: 0.70 - ETA: 9s - loss: 0.5340 - accuracy: 0.70 - ETA: 9s - loss: 0.5339 - accuracy: 0.70 - ETA: 9s - loss: 0.5335 - accuracy: 0.70 - ETA: 9s - loss: 0.5330 - accuracy: 0.70 - ETA: 9s - loss: 0.5327 - accuracy: 0.70 - ETA: 9s - loss: 0.5326 - accuracy: 0.70 - ETA: 9s - loss: 0.5322 - accuracy: 0.70 - ETA: 9s - loss: 0.5319 - accuracy: 0.70 - ETA: 9s - loss: 0.5321 - accuracy: 0.70 - ETA: 8s - loss: 0.5319 - accuracy: 0.70 - ETA: 8s - loss: 0.5317 - accuracy: 0.70 - ETA: 8s - loss: 0.5317 - accuracy: 0.70 - ETA: 8s - loss: 0.5314 - accuracy: 0.70 - ETA: 8s - loss: 0.5312 - accuracy: 0.70 - ETA: 8s - loss: 0.5311 - accuracy: 0.70 - ETA: 8s - loss: 0.5309 - accuracy: 0.70 - ETA: 8s - loss: 0.5309 - accuracy: 0.70 - ETA: 8s - loss: 0.5308 - accuracy: 0.70 - ETA: 8s - loss: 0.5305 - accuracy: 0.70 - ETA: 8s - loss: 0.5303 - accuracy: 0.70 - ETA: 8s - loss: 0.5302 - accuracy: 0.70 - ETA: 8s - loss: 0.5299 - accuracy: 0.70 - ETA: 8s - loss: 0.5299 - accuracy: 0.70 - ETA: 8s - loss: 0.5296 - accuracy: 0.70 - ETA: 7s - loss: 0.5293 - accuracy: 0.70 - ETA: 7s - loss: 0.5289 - accuracy: 0.70 - ETA: 7s - loss: 0.5286 - accuracy: 0.70 - ETA: 7s - loss: 0.5282 - accuracy: 0.70 - ETA: 7s - loss: 0.5282 - accuracy: 0.70 - ETA: 7s - loss: 0.5280 - accuracy: 0.70 - ETA: 7s - loss: 0.5281 - accuracy: 0.70 - ETA: 7s - loss: 0.5277 - accuracy: 0.70 - ETA: 7s - loss: 0.5275 - accuracy: 0.70 - ETA: 7s - loss: 0.5270 - accuracy: 0.70 - ETA: 7s - loss: 0.5268 - accuracy: 0.71 - ETA: 7s - loss: 0.5270 - accuracy: 0.70 - ETA: 7s - loss: 0.5269 - accuracy: 0.71 - ETA: 7s - loss: 0.5268 - accuracy: 0.71 - ETA: 7s - loss: 0.5267 - accuracy: 0.71 - ETA: 6s - loss: 0.5264 - accuracy: 0.71 - ETA: 6s - loss: 0.5264 - accuracy: 0.71 - ETA: 6s - loss: 0.5260 - accuracy: 0.71 - ETA: 6s - loss: 0.5260 - accuracy: 0.71 - ETA: 6s - loss: 0.5259 - accuracy: 0.71 - ETA: 6s - loss: 0.5258 - accuracy: 0.71 - ETA: 6s - loss: 0.5257 - accuracy: 0.71 - ETA: 6s - loss: 0.5258 - accuracy: 0.71 - ETA: 6s - loss: 0.5255 - accuracy: 0.71 - ETA: 6s - loss: 0.5255 - accuracy: 0.71 - ETA: 6s - loss: 0.5254 - accuracy: 0.71 - ETA: 6s - loss: 0.5252 - accuracy: 0.71 - ETA: 6s - loss: 0.5249 - accuracy: 0.71 - ETA: 6s - loss: 0.5247 - accuracy: 0.71 - ETA: 6s - loss: 0.5243 - accuracy: 0.71 - ETA: 5s - loss: 0.5242 - accuracy: 0.71 - ETA: 5s - loss: 0.5241 - accuracy: 0.71 - ETA: 5s - loss: 0.5240 - accuracy: 0.71 - ETA: 5s - loss: 0.5241 - accuracy: 0.71 - ETA: 5s - loss: 0.5240 - accuracy: 0.71 - ETA: 5s - loss: 0.5240 - accuracy: 0.71 - ETA: 5s - loss: 0.5241 - accuracy: 0.71 - ETA: 5s - loss: 0.5240 - accuracy: 0.71 - ETA: 5s - loss: 0.5239 - accuracy: 0.71 - ETA: 5s - loss: 0.5237 - accuracy: 0.71 - ETA: 5s - loss: 0.5237 - accuracy: 0.71 - ETA: 5s - loss: 0.5234 - accuracy: 0.71 - ETA: 5s - loss: 0.5235 - accuracy: 0.71 - ETA: 5s - loss: 0.5236 - accuracy: 0.71 - ETA: 5s - loss: 0.5235 - accuracy: 0.71 - ETA: 4s - loss: 0.5234 - accuracy: 0.71 - ETA: 4s - loss: 0.5232 - accuracy: 0.71 - ETA: 4s - loss: 0.5232 - accuracy: 0.71 - ETA: 4s - loss: 0.5230 - accuracy: 0.71 - ETA: 4s - loss: 0.5230 - accuracy: 0.71 - ETA: 4s - loss: 0.5229 - accuracy: 0.71 - ETA: 4s - loss: 0.5228 - accuracy: 0.71 - ETA: 4s - loss: 0.5226 - accuracy: 0.71 - ETA: 4s - loss: 0.5224 - accuracy: 0.71 - ETA: 4s - loss: 0.5221 - accuracy: 0.71 - ETA: 4s - loss: 0.5219 - accuracy: 0.71 - ETA: 4s - loss: 0.5217 - accuracy: 0.71 - ETA: 4s - loss: 0.5217 - accuracy: 0.71 - ETA: 4s - loss: 0.5215 - accuracy: 0.71 - ETA: 4s - loss: 0.5217 - accuracy: 0.71 - ETA: 3s - loss: 0.5215 - accuracy: 0.71 - ETA: 3s - loss: 0.5215 - accuracy: 0.71 - ETA: 3s - loss: 0.5213 - accuracy: 0.71 - ETA: 3s - loss: 0.5209 - accuracy: 0.71 - ETA: 3s - loss: 0.5208 - accuracy: 0.71 - ETA: 3s - loss: 0.5207 - accuracy: 0.71 - ETA: 3s - loss: 0.5206 - accuracy: 0.71 - ETA: 3s - loss: 0.5205 - accuracy: 0.71 - ETA: 3s - loss: 0.5204 - accuracy: 0.71 - ETA: 3s - loss: 0.5203 - accuracy: 0.71 - ETA: 3s - loss: 0.5203 - accuracy: 0.71 - ETA: 3s - loss: 0.5203 - accuracy: 0.71 - ETA: 3s - loss: 0.5202 - accuracy: 0.71 - ETA: 3s - loss: 0.5201 - accuracy: 0.71 - ETA: 3s - loss: 0.5198 - accuracy: 0.71 - ETA: 2s - loss: 0.5198 - accuracy: 0.71 - ETA: 2s - loss: 0.5197 - accuracy: 0.71 - ETA: 2s - loss: 0.5198 - accuracy: 0.71 - ETA: 2s - loss: 0.5198 - accuracy: 0.71 - ETA: 2s - loss: 0.5195 - accuracy: 0.71 - ETA: 2s - loss: 0.5194 - accuracy: 0.71 - ETA: 2s - loss: 0.5191 - accuracy: 0.71 - ETA: 2s - loss: 0.5192 - accuracy: 0.71 - ETA: 2s - loss: 0.5190 - accuracy: 0.71 - ETA: 2s - loss: 0.5188 - accuracy: 0.71 - ETA: 2s - loss: 0.5189 - accuracy: 0.71 - ETA: 2s - loss: 0.5186 - accuracy: 0.7186"
     ]
    },
    {
     "name": "stdout",
     "output_type": "stream",
     "text": [
      "25000/25000 [==============================] - ETA: 2s - loss: 0.5182 - accuracy: 0.71 - ETA: 2s - loss: 0.5182 - accuracy: 0.71 - ETA: 2s - loss: 0.5181 - accuracy: 0.71 - ETA: 1s - loss: 0.5181 - accuracy: 0.71 - ETA: 1s - loss: 0.5179 - accuracy: 0.71 - ETA: 1s - loss: 0.5178 - accuracy: 0.71 - ETA: 1s - loss: 0.5175 - accuracy: 0.71 - ETA: 1s - loss: 0.5173 - accuracy: 0.71 - ETA: 1s - loss: 0.5172 - accuracy: 0.71 - ETA: 1s - loss: 0.5170 - accuracy: 0.72 - ETA: 1s - loss: 0.5169 - accuracy: 0.72 - ETA: 1s - loss: 0.5169 - accuracy: 0.72 - ETA: 1s - loss: 0.5167 - accuracy: 0.72 - ETA: 1s - loss: 0.5167 - accuracy: 0.72 - ETA: 1s - loss: 0.5165 - accuracy: 0.72 - ETA: 1s - loss: 0.5163 - accuracy: 0.72 - ETA: 1s - loss: 0.5162 - accuracy: 0.72 - ETA: 1s - loss: 0.5161 - accuracy: 0.72 - ETA: 0s - loss: 0.5161 - accuracy: 0.72 - ETA: 0s - loss: 0.5161 - accuracy: 0.72 - ETA: 0s - loss: 0.5160 - accuracy: 0.72 - ETA: 0s - loss: 0.5159 - accuracy: 0.72 - ETA: 0s - loss: 0.5158 - accuracy: 0.72 - ETA: 0s - loss: 0.5160 - accuracy: 0.72 - ETA: 0s - loss: 0.5160 - accuracy: 0.72 - ETA: 0s - loss: 0.5159 - accuracy: 0.72 - ETA: 0s - loss: 0.5159 - accuracy: 0.72 - ETA: 0s - loss: 0.5158 - accuracy: 0.72 - ETA: 0s - loss: 0.5156 - accuracy: 0.72 - ETA: 0s - loss: 0.5155 - accuracy: 0.72 - ETA: 0s - loss: 0.5154 - accuracy: 0.72 - ETA: 0s - loss: 0.5153 - accuracy: 0.72 - ETA: 0s - loss: 0.5152 - accuracy: 0.72 - 52s 2ms/sample - loss: 0.5151 - accuracy: 0.7218\n",
      "Epoch 2/5\n"
     ]
    },
    {
     "name": "stdout",
     "output_type": "stream",
     "text": [
      " 5952/25000 [======>.......................] - ETA: 49s - loss: 0.3849 - accuracy: 0.781 - ETA: 50s - loss: 0.3950 - accuracy: 0.796 - ETA: 52s - loss: 0.3544 - accuracy: 0.833 - ETA: 52s - loss: 0.3369 - accuracy: 0.835 - ETA: 52s - loss: 0.3226 - accuracy: 0.837 - ETA: 52s - loss: 0.2999 - accuracy: 0.859 - ETA: 52s - loss: 0.3042 - accuracy: 0.852 - ETA: 52s - loss: 0.3132 - accuracy: 0.843 - ETA: 53s - loss: 0.3118 - accuracy: 0.847 - ETA: 52s - loss: 0.3114 - accuracy: 0.850 - ETA: 52s - loss: 0.3216 - accuracy: 0.846 - ETA: 52s - loss: 0.3257 - accuracy: 0.851 - ETA: 52s - loss: 0.3358 - accuracy: 0.843 - ETA: 52s - loss: 0.3395 - accuracy: 0.843 - ETA: 52s - loss: 0.3427 - accuracy: 0.845 - ETA: 52s - loss: 0.3350 - accuracy: 0.849 - ETA: 52s - loss: 0.3289 - accuracy: 0.854 - ETA: 52s - loss: 0.3367 - accuracy: 0.849 - ETA: 52s - loss: 0.3426 - accuracy: 0.850 - ETA: 52s - loss: 0.3441 - accuracy: 0.850 - ETA: 52s - loss: 0.3480 - accuracy: 0.843 - ETA: 52s - loss: 0.3477 - accuracy: 0.839 - ETA: 52s - loss: 0.3415 - accuracy: 0.842 - ETA: 52s - loss: 0.3393 - accuracy: 0.841 - ETA: 51s - loss: 0.3366 - accuracy: 0.843 - ETA: 51s - loss: 0.3404 - accuracy: 0.841 - ETA: 51s - loss: 0.3390 - accuracy: 0.841 - ETA: 51s - loss: 0.3411 - accuracy: 0.841 - ETA: 51s - loss: 0.3371 - accuracy: 0.844 - ETA: 51s - loss: 0.3336 - accuracy: 0.846 - ETA: 51s - loss: 0.3324 - accuracy: 0.848 - ETA: 51s - loss: 0.3378 - accuracy: 0.846 - ETA: 51s - loss: 0.3347 - accuracy: 0.849 - ETA: 51s - loss: 0.3339 - accuracy: 0.848 - ETA: 51s - loss: 0.3377 - accuracy: 0.848 - ETA: 51s - loss: 0.3330 - accuracy: 0.850 - ETA: 51s - loss: 0.3325 - accuracy: 0.852 - ETA: 51s - loss: 0.3275 - accuracy: 0.855 - ETA: 51s - loss: 0.3227 - accuracy: 0.858 - ETA: 51s - loss: 0.3208 - accuracy: 0.859 - ETA: 51s - loss: 0.3200 - accuracy: 0.859 - ETA: 51s - loss: 0.3226 - accuracy: 0.857 - ETA: 51s - loss: 0.3187 - accuracy: 0.858 - ETA: 50s - loss: 0.3201 - accuracy: 0.858 - ETA: 50s - loss: 0.3213 - accuracy: 0.857 - ETA: 50s - loss: 0.3217 - accuracy: 0.857 - ETA: 50s - loss: 0.3224 - accuracy: 0.857 - ETA: 50s - loss: 0.3210 - accuracy: 0.858 - ETA: 50s - loss: 0.3233 - accuracy: 0.859 - ETA: 50s - loss: 0.3215 - accuracy: 0.860 - ETA: 50s - loss: 0.3204 - accuracy: 0.860 - ETA: 50s - loss: 0.3185 - accuracy: 0.861 - ETA: 50s - loss: 0.3180 - accuracy: 0.861 - ETA: 50s - loss: 0.3196 - accuracy: 0.861 - ETA: 50s - loss: 0.3205 - accuracy: 0.861 - ETA: 50s - loss: 0.3182 - accuracy: 0.863 - ETA: 50s - loss: 0.3196 - accuracy: 0.862 - ETA: 50s - loss: 0.3215 - accuracy: 0.861 - ETA: 50s - loss: 0.3210 - accuracy: 0.861 - ETA: 49s - loss: 0.3248 - accuracy: 0.860 - ETA: 49s - loss: 0.3262 - accuracy: 0.859 - ETA: 49s - loss: 0.3272 - accuracy: 0.858 - ETA: 49s - loss: 0.3320 - accuracy: 0.856 - ETA: 49s - loss: 0.3301 - accuracy: 0.858 - ETA: 49s - loss: 0.3300 - accuracy: 0.858 - ETA: 49s - loss: 0.3297 - accuracy: 0.858 - ETA: 49s - loss: 0.3307 - accuracy: 0.857 - ETA: 49s - loss: 0.3298 - accuracy: 0.857 - ETA: 49s - loss: 0.3289 - accuracy: 0.857 - ETA: 49s - loss: 0.3295 - accuracy: 0.857 - ETA: 49s - loss: 0.3312 - accuracy: 0.856 - ETA: 49s - loss: 0.3298 - accuracy: 0.856 - ETA: 49s - loss: 0.3289 - accuracy: 0.857 - ETA: 48s - loss: 0.3269 - accuracy: 0.859 - ETA: 48s - loss: 0.3258 - accuracy: 0.859 - ETA: 48s - loss: 0.3263 - accuracy: 0.859 - ETA: 48s - loss: 0.3255 - accuracy: 0.859 - ETA: 48s - loss: 0.3248 - accuracy: 0.860 - ETA: 48s - loss: 0.3257 - accuracy: 0.859 - ETA: 48s - loss: 0.3237 - accuracy: 0.860 - ETA: 48s - loss: 0.3231 - accuracy: 0.861 - ETA: 48s - loss: 0.3210 - accuracy: 0.861 - ETA: 48s - loss: 0.3232 - accuracy: 0.861 - ETA: 48s - loss: 0.3235 - accuracy: 0.860 - ETA: 48s - loss: 0.3251 - accuracy: 0.861 - ETA: 48s - loss: 0.3248 - accuracy: 0.861 - ETA: 48s - loss: 0.3331 - accuracy: 0.858 - ETA: 48s - loss: 0.3347 - accuracy: 0.857 - ETA: 48s - loss: 0.3346 - accuracy: 0.857 - ETA: 48s - loss: 0.3369 - accuracy: 0.855 - ETA: 47s - loss: 0.3382 - accuracy: 0.855 - ETA: 47s - loss: 0.3378 - accuracy: 0.855 - ETA: 47s - loss: 0.3376 - accuracy: 0.855 - ETA: 47s - loss: 0.3373 - accuracy: 0.856 - ETA: 47s - loss: 0.3380 - accuracy: 0.855 - ETA: 47s - loss: 0.3398 - accuracy: 0.854 - ETA: 47s - loss: 0.3401 - accuracy: 0.855 - ETA: 47s - loss: 0.3418 - accuracy: 0.854 - ETA: 47s - loss: 0.3433 - accuracy: 0.853 - ETA: 47s - loss: 0.3437 - accuracy: 0.853 - ETA: 47s - loss: 0.3434 - accuracy: 0.854 - ETA: 47s - loss: 0.3441 - accuracy: 0.854 - ETA: 47s - loss: 0.3449 - accuracy: 0.853 - ETA: 47s - loss: 0.3449 - accuracy: 0.853 - ETA: 46s - loss: 0.3453 - accuracy: 0.853 - ETA: 46s - loss: 0.3444 - accuracy: 0.854 - ETA: 46s - loss: 0.3450 - accuracy: 0.854 - ETA: 46s - loss: 0.3439 - accuracy: 0.854 - ETA: 46s - loss: 0.3424 - accuracy: 0.855 - ETA: 46s - loss: 0.3419 - accuracy: 0.855 - ETA: 46s - loss: 0.3424 - accuracy: 0.854 - ETA: 46s - loss: 0.3417 - accuracy: 0.854 - ETA: 46s - loss: 0.3417 - accuracy: 0.854 - ETA: 46s - loss: 0.3409 - accuracy: 0.854 - ETA: 46s - loss: 0.3402 - accuracy: 0.854 - ETA: 46s - loss: 0.3399 - accuracy: 0.855 - ETA: 46s - loss: 0.3402 - accuracy: 0.855 - ETA: 46s - loss: 0.3395 - accuracy: 0.855 - ETA: 46s - loss: 0.3393 - accuracy: 0.856 - ETA: 46s - loss: 0.3387 - accuracy: 0.856 - ETA: 45s - loss: 0.3383 - accuracy: 0.856 - ETA: 46s - loss: 0.3395 - accuracy: 0.856 - ETA: 46s - loss: 0.3396 - accuracy: 0.855 - ETA: 46s - loss: 0.3383 - accuracy: 0.856 - ETA: 45s - loss: 0.3391 - accuracy: 0.856 - ETA: 45s - loss: 0.3396 - accuracy: 0.855 - ETA: 45s - loss: 0.3390 - accuracy: 0.856 - ETA: 45s - loss: 0.3388 - accuracy: 0.856 - ETA: 45s - loss: 0.3382 - accuracy: 0.856 - ETA: 45s - loss: 0.3378 - accuracy: 0.857 - ETA: 45s - loss: 0.3370 - accuracy: 0.857 - ETA: 45s - loss: 0.3362 - accuracy: 0.857 - ETA: 45s - loss: 0.3356 - accuracy: 0.857 - ETA: 45s - loss: 0.3347 - accuracy: 0.858 - ETA: 45s - loss: 0.3340 - accuracy: 0.858 - ETA: 45s - loss: 0.3330 - accuracy: 0.859 - ETA: 45s - loss: 0.3336 - accuracy: 0.858 - ETA: 45s - loss: 0.3338 - accuracy: 0.858 - ETA: 45s - loss: 0.3347 - accuracy: 0.858 - ETA: 45s - loss: 0.3344 - accuracy: 0.858 - ETA: 45s - loss: 0.3353 - accuracy: 0.857 - ETA: 44s - loss: 0.3360 - accuracy: 0.857 - ETA: 44s - loss: 0.3352 - accuracy: 0.858 - ETA: 44s - loss: 0.3344 - accuracy: 0.859 - ETA: 44s - loss: 0.3335 - accuracy: 0.859 - ETA: 44s - loss: 0.3335 - accuracy: 0.859 - ETA: 44s - loss: 0.3322 - accuracy: 0.859 - ETA: 44s - loss: 0.3322 - accuracy: 0.859 - ETA: 44s - loss: 0.3336 - accuracy: 0.859 - ETA: 44s - loss: 0.3332 - accuracy: 0.859 - ETA: 44s - loss: 0.3324 - accuracy: 0.859 - ETA: 44s - loss: 0.3329 - accuracy: 0.859 - ETA: 44s - loss: 0.3332 - accuracy: 0.859 - ETA: 44s - loss: 0.3334 - accuracy: 0.859 - ETA: 44s - loss: 0.3327 - accuracy: 0.859 - ETA: 43s - loss: 0.3327 - accuracy: 0.859 - ETA: 43s - loss: 0.3322 - accuracy: 0.859 - ETA: 43s - loss: 0.3329 - accuracy: 0.859 - ETA: 43s - loss: 0.3330 - accuracy: 0.859 - ETA: 43s - loss: 0.3328 - accuracy: 0.858 - ETA: 43s - loss: 0.3329 - accuracy: 0.858 - ETA: 43s - loss: 0.3327 - accuracy: 0.859 - ETA: 43s - loss: 0.3326 - accuracy: 0.859 - ETA: 43s - loss: 0.3337 - accuracy: 0.858 - ETA: 43s - loss: 0.3343 - accuracy: 0.858 - ETA: 43s - loss: 0.3345 - accuracy: 0.858 - ETA: 43s - loss: 0.3342 - accuracy: 0.858 - ETA: 43s - loss: 0.3342 - accuracy: 0.858 - ETA: 43s - loss: 0.3342 - accuracy: 0.858 - ETA: 42s - loss: 0.3333 - accuracy: 0.858 - ETA: 42s - loss: 0.3337 - accuracy: 0.858 - ETA: 42s - loss: 0.3343 - accuracy: 0.858 - ETA: 42s - loss: 0.3348 - accuracy: 0.858 - ETA: 42s - loss: 0.3349 - accuracy: 0.858 - ETA: 42s - loss: 0.3349 - accuracy: 0.858 - ETA: 42s - loss: 0.3348 - accuracy: 0.858 - ETA: 42s - loss: 0.3357 - accuracy: 0.857 - ETA: 42s - loss: 0.3351 - accuracy: 0.858 - ETA: 42s - loss: 0.3344 - accuracy: 0.858 - ETA: 42s - loss: 0.3340 - accuracy: 0.859 - ETA: 42s - loss: 0.3344 - accuracy: 0.858 - ETA: 42s - loss: 0.3343 - accuracy: 0.858 - ETA: 42s - loss: 0.3339 - accuracy: 0.858 - ETA: 41s - loss: 0.3336 - accuracy: 0.859 - ETA: 41s - loss: 0.3334 - accuracy: 0.859 - ETA: 41s - loss: 0.3339 - accuracy: 0.8590"
     ]
    },
    {
     "name": "stdout",
     "output_type": "stream",
     "text": [
      "11904/25000 [=============>................] - ETA: 41s - loss: 0.3334 - accuracy: 0.859 - ETA: 41s - loss: 0.3330 - accuracy: 0.859 - ETA: 41s - loss: 0.3331 - accuracy: 0.859 - ETA: 41s - loss: 0.3333 - accuracy: 0.859 - ETA: 41s - loss: 0.3336 - accuracy: 0.859 - ETA: 41s - loss: 0.3340 - accuracy: 0.859 - ETA: 41s - loss: 0.3345 - accuracy: 0.859 - ETA: 41s - loss: 0.3343 - accuracy: 0.859 - ETA: 41s - loss: 0.3352 - accuracy: 0.858 - ETA: 41s - loss: 0.3349 - accuracy: 0.858 - ETA: 41s - loss: 0.3347 - accuracy: 0.858 - ETA: 40s - loss: 0.3337 - accuracy: 0.859 - ETA: 40s - loss: 0.3338 - accuracy: 0.859 - ETA: 40s - loss: 0.3334 - accuracy: 0.859 - ETA: 40s - loss: 0.3340 - accuracy: 0.859 - ETA: 40s - loss: 0.3337 - accuracy: 0.859 - ETA: 40s - loss: 0.3332 - accuracy: 0.860 - ETA: 40s - loss: 0.3329 - accuracy: 0.860 - ETA: 40s - loss: 0.3329 - accuracy: 0.860 - ETA: 40s - loss: 0.3323 - accuracy: 0.860 - ETA: 40s - loss: 0.3323 - accuracy: 0.860 - ETA: 40s - loss: 0.3316 - accuracy: 0.861 - ETA: 40s - loss: 0.3311 - accuracy: 0.861 - ETA: 40s - loss: 0.3319 - accuracy: 0.860 - ETA: 40s - loss: 0.3324 - accuracy: 0.860 - ETA: 40s - loss: 0.3330 - accuracy: 0.860 - ETA: 39s - loss: 0.3323 - accuracy: 0.860 - ETA: 39s - loss: 0.3322 - accuracy: 0.860 - ETA: 39s - loss: 0.3320 - accuracy: 0.860 - ETA: 39s - loss: 0.3320 - accuracy: 0.860 - ETA: 39s - loss: 0.3318 - accuracy: 0.860 - ETA: 39s - loss: 0.3317 - accuracy: 0.860 - ETA: 39s - loss: 0.3319 - accuracy: 0.860 - ETA: 39s - loss: 0.3331 - accuracy: 0.860 - ETA: 39s - loss: 0.3330 - accuracy: 0.860 - ETA: 39s - loss: 0.3329 - accuracy: 0.860 - ETA: 39s - loss: 0.3334 - accuracy: 0.860 - ETA: 39s - loss: 0.3339 - accuracy: 0.860 - ETA: 39s - loss: 0.3331 - accuracy: 0.860 - ETA: 39s - loss: 0.3333 - accuracy: 0.860 - ETA: 39s - loss: 0.3336 - accuracy: 0.860 - ETA: 38s - loss: 0.3341 - accuracy: 0.859 - ETA: 38s - loss: 0.3340 - accuracy: 0.859 - ETA: 38s - loss: 0.3335 - accuracy: 0.859 - ETA: 38s - loss: 0.3340 - accuracy: 0.859 - ETA: 38s - loss: 0.3337 - accuracy: 0.859 - ETA: 38s - loss: 0.3334 - accuracy: 0.859 - ETA: 38s - loss: 0.3334 - accuracy: 0.859 - ETA: 38s - loss: 0.3333 - accuracy: 0.859 - ETA: 38s - loss: 0.3329 - accuracy: 0.859 - ETA: 38s - loss: 0.3322 - accuracy: 0.859 - ETA: 38s - loss: 0.3336 - accuracy: 0.859 - ETA: 38s - loss: 0.3333 - accuracy: 0.859 - ETA: 38s - loss: 0.3330 - accuracy: 0.859 - ETA: 38s - loss: 0.3328 - accuracy: 0.859 - ETA: 38s - loss: 0.3331 - accuracy: 0.859 - ETA: 37s - loss: 0.3338 - accuracy: 0.859 - ETA: 37s - loss: 0.3331 - accuracy: 0.859 - ETA: 37s - loss: 0.3331 - accuracy: 0.859 - ETA: 37s - loss: 0.3331 - accuracy: 0.859 - ETA: 37s - loss: 0.3329 - accuracy: 0.859 - ETA: 37s - loss: 0.3335 - accuracy: 0.859 - ETA: 37s - loss: 0.3338 - accuracy: 0.858 - ETA: 37s - loss: 0.3337 - accuracy: 0.858 - ETA: 37s - loss: 0.3330 - accuracy: 0.859 - ETA: 37s - loss: 0.3330 - accuracy: 0.859 - ETA: 37s - loss: 0.3325 - accuracy: 0.859 - ETA: 37s - loss: 0.3325 - accuracy: 0.860 - ETA: 37s - loss: 0.3319 - accuracy: 0.860 - ETA: 37s - loss: 0.3317 - accuracy: 0.860 - ETA: 37s - loss: 0.3314 - accuracy: 0.860 - ETA: 36s - loss: 0.3320 - accuracy: 0.860 - ETA: 36s - loss: 0.3316 - accuracy: 0.860 - ETA: 36s - loss: 0.3312 - accuracy: 0.860 - ETA: 36s - loss: 0.3315 - accuracy: 0.860 - ETA: 36s - loss: 0.3310 - accuracy: 0.860 - ETA: 36s - loss: 0.3307 - accuracy: 0.860 - ETA: 36s - loss: 0.3304 - accuracy: 0.860 - ETA: 36s - loss: 0.3301 - accuracy: 0.861 - ETA: 36s - loss: 0.3311 - accuracy: 0.860 - ETA: 36s - loss: 0.3307 - accuracy: 0.861 - ETA: 36s - loss: 0.3317 - accuracy: 0.860 - ETA: 36s - loss: 0.3312 - accuracy: 0.861 - ETA: 36s - loss: 0.3317 - accuracy: 0.861 - ETA: 36s - loss: 0.3309 - accuracy: 0.861 - ETA: 36s - loss: 0.3306 - accuracy: 0.861 - ETA: 35s - loss: 0.3313 - accuracy: 0.861 - ETA: 35s - loss: 0.3309 - accuracy: 0.861 - ETA: 35s - loss: 0.3314 - accuracy: 0.860 - ETA: 35s - loss: 0.3315 - accuracy: 0.860 - ETA: 35s - loss: 0.3320 - accuracy: 0.860 - ETA: 35s - loss: 0.3316 - accuracy: 0.860 - ETA: 35s - loss: 0.3322 - accuracy: 0.860 - ETA: 35s - loss: 0.3319 - accuracy: 0.860 - ETA: 35s - loss: 0.3321 - accuracy: 0.860 - ETA: 35s - loss: 0.3324 - accuracy: 0.860 - ETA: 35s - loss: 0.3322 - accuracy: 0.860 - ETA: 35s - loss: 0.3326 - accuracy: 0.860 - ETA: 35s - loss: 0.3327 - accuracy: 0.860 - ETA: 35s - loss: 0.3329 - accuracy: 0.860 - ETA: 34s - loss: 0.3329 - accuracy: 0.860 - ETA: 34s - loss: 0.3324 - accuracy: 0.860 - ETA: 34s - loss: 0.3327 - accuracy: 0.860 - ETA: 34s - loss: 0.3325 - accuracy: 0.860 - ETA: 34s - loss: 0.3325 - accuracy: 0.860 - ETA: 34s - loss: 0.3322 - accuracy: 0.860 - ETA: 34s - loss: 0.3319 - accuracy: 0.860 - ETA: 34s - loss: 0.3317 - accuracy: 0.860 - ETA: 34s - loss: 0.3323 - accuracy: 0.860 - ETA: 34s - loss: 0.3328 - accuracy: 0.859 - ETA: 34s - loss: 0.3329 - accuracy: 0.859 - ETA: 34s - loss: 0.3328 - accuracy: 0.859 - ETA: 34s - loss: 0.3329 - accuracy: 0.859 - ETA: 34s - loss: 0.3339 - accuracy: 0.859 - ETA: 34s - loss: 0.3345 - accuracy: 0.859 - ETA: 33s - loss: 0.3342 - accuracy: 0.859 - ETA: 33s - loss: 0.3337 - accuracy: 0.860 - ETA: 33s - loss: 0.3334 - accuracy: 0.860 - ETA: 33s - loss: 0.3333 - accuracy: 0.860 - ETA: 33s - loss: 0.3331 - accuracy: 0.860 - ETA: 33s - loss: 0.3329 - accuracy: 0.860 - ETA: 33s - loss: 0.3326 - accuracy: 0.860 - ETA: 33s - loss: 0.3328 - accuracy: 0.860 - ETA: 33s - loss: 0.3328 - accuracy: 0.860 - ETA: 33s - loss: 0.3332 - accuracy: 0.860 - ETA: 33s - loss: 0.3331 - accuracy: 0.860 - ETA: 33s - loss: 0.3328 - accuracy: 0.860 - ETA: 33s - loss: 0.3325 - accuracy: 0.860 - ETA: 33s - loss: 0.3328 - accuracy: 0.860 - ETA: 32s - loss: 0.3325 - accuracy: 0.860 - ETA: 32s - loss: 0.3327 - accuracy: 0.860 - ETA: 32s - loss: 0.3328 - accuracy: 0.860 - ETA: 32s - loss: 0.3327 - accuracy: 0.860 - ETA: 32s - loss: 0.3329 - accuracy: 0.860 - ETA: 32s - loss: 0.3328 - accuracy: 0.860 - ETA: 32s - loss: 0.3329 - accuracy: 0.860 - ETA: 32s - loss: 0.3331 - accuracy: 0.860 - ETA: 32s - loss: 0.3328 - accuracy: 0.860 - ETA: 32s - loss: 0.3339 - accuracy: 0.860 - ETA: 32s - loss: 0.3334 - accuracy: 0.860 - ETA: 32s - loss: 0.3334 - accuracy: 0.860 - ETA: 32s - loss: 0.3334 - accuracy: 0.860 - ETA: 32s - loss: 0.3333 - accuracy: 0.860 - ETA: 31s - loss: 0.3330 - accuracy: 0.860 - ETA: 31s - loss: 0.3329 - accuracy: 0.860 - ETA: 31s - loss: 0.3328 - accuracy: 0.860 - ETA: 31s - loss: 0.3338 - accuracy: 0.860 - ETA: 31s - loss: 0.3342 - accuracy: 0.860 - ETA: 31s - loss: 0.3340 - accuracy: 0.860 - ETA: 31s - loss: 0.3334 - accuracy: 0.860 - ETA: 31s - loss: 0.3336 - accuracy: 0.860 - ETA: 31s - loss: 0.3338 - accuracy: 0.860 - ETA: 31s - loss: 0.3342 - accuracy: 0.860 - ETA: 31s - loss: 0.3342 - accuracy: 0.860 - ETA: 31s - loss: 0.3343 - accuracy: 0.860 - ETA: 31s - loss: 0.3339 - accuracy: 0.860 - ETA: 31s - loss: 0.3339 - accuracy: 0.860 - ETA: 30s - loss: 0.3334 - accuracy: 0.860 - ETA: 30s - loss: 0.3335 - accuracy: 0.860 - ETA: 30s - loss: 0.3336 - accuracy: 0.860 - ETA: 30s - loss: 0.3337 - accuracy: 0.860 - ETA: 30s - loss: 0.3335 - accuracy: 0.860 - ETA: 30s - loss: 0.3334 - accuracy: 0.860 - ETA: 30s - loss: 0.3332 - accuracy: 0.860 - ETA: 30s - loss: 0.3334 - accuracy: 0.860 - ETA: 30s - loss: 0.3335 - accuracy: 0.860 - ETA: 30s - loss: 0.3334 - accuracy: 0.860 - ETA: 30s - loss: 0.3330 - accuracy: 0.860 - ETA: 30s - loss: 0.3327 - accuracy: 0.860 - ETA: 30s - loss: 0.3328 - accuracy: 0.860 - ETA: 30s - loss: 0.3326 - accuracy: 0.860 - ETA: 30s - loss: 0.3325 - accuracy: 0.860 - ETA: 30s - loss: 0.3328 - accuracy: 0.860 - ETA: 29s - loss: 0.3328 - accuracy: 0.860 - ETA: 29s - loss: 0.3324 - accuracy: 0.860 - ETA: 29s - loss: 0.3322 - accuracy: 0.860 - ETA: 29s - loss: 0.3324 - accuracy: 0.860 - ETA: 29s - loss: 0.3321 - accuracy: 0.861 - ETA: 29s - loss: 0.3321 - accuracy: 0.861 - ETA: 29s - loss: 0.3321 - accuracy: 0.861 - ETA: 29s - loss: 0.3319 - accuracy: 0.861 - ETA: 29s - loss: 0.3318 - accuracy: 0.861 - ETA: 29s - loss: 0.3313 - accuracy: 0.861 - ETA: 29s - loss: 0.3312 - accuracy: 0.861 - ETA: 29s - loss: 0.3311 - accuracy: 0.861 - ETA: 29s - loss: 0.3308 - accuracy: 0.8618"
     ]
    },
    {
     "name": "stdout",
     "output_type": "stream",
     "text": [
      "17856/25000 [====================>.........] - ETA: 29s - loss: 0.3308 - accuracy: 0.861 - ETA: 28s - loss: 0.3307 - accuracy: 0.861 - ETA: 28s - loss: 0.3308 - accuracy: 0.861 - ETA: 28s - loss: 0.3310 - accuracy: 0.861 - ETA: 28s - loss: 0.3309 - accuracy: 0.861 - ETA: 28s - loss: 0.3309 - accuracy: 0.861 - ETA: 28s - loss: 0.3310 - accuracy: 0.861 - ETA: 28s - loss: 0.3312 - accuracy: 0.861 - ETA: 28s - loss: 0.3315 - accuracy: 0.861 - ETA: 28s - loss: 0.3321 - accuracy: 0.860 - ETA: 28s - loss: 0.3321 - accuracy: 0.860 - ETA: 28s - loss: 0.3321 - accuracy: 0.860 - ETA: 28s - loss: 0.3320 - accuracy: 0.860 - ETA: 28s - loss: 0.3318 - accuracy: 0.860 - ETA: 28s - loss: 0.3320 - accuracy: 0.860 - ETA: 28s - loss: 0.3321 - accuracy: 0.860 - ETA: 27s - loss: 0.3322 - accuracy: 0.860 - ETA: 27s - loss: 0.3327 - accuracy: 0.860 - ETA: 27s - loss: 0.3324 - accuracy: 0.860 - ETA: 27s - loss: 0.3324 - accuracy: 0.860 - ETA: 27s - loss: 0.3322 - accuracy: 0.860 - ETA: 27s - loss: 0.3320 - accuracy: 0.860 - ETA: 27s - loss: 0.3322 - accuracy: 0.860 - ETA: 27s - loss: 0.3324 - accuracy: 0.860 - ETA: 27s - loss: 0.3330 - accuracy: 0.859 - ETA: 27s - loss: 0.3336 - accuracy: 0.859 - ETA: 27s - loss: 0.3339 - accuracy: 0.859 - ETA: 27s - loss: 0.3340 - accuracy: 0.859 - ETA: 27s - loss: 0.3341 - accuracy: 0.859 - ETA: 26s - loss: 0.3342 - accuracy: 0.859 - ETA: 26s - loss: 0.3343 - accuracy: 0.859 - ETA: 26s - loss: 0.3341 - accuracy: 0.859 - ETA: 26s - loss: 0.3344 - accuracy: 0.859 - ETA: 26s - loss: 0.3343 - accuracy: 0.859 - ETA: 26s - loss: 0.3339 - accuracy: 0.859 - ETA: 26s - loss: 0.3341 - accuracy: 0.859 - ETA: 26s - loss: 0.3339 - accuracy: 0.859 - ETA: 26s - loss: 0.3340 - accuracy: 0.859 - ETA: 26s - loss: 0.3345 - accuracy: 0.859 - ETA: 26s - loss: 0.3349 - accuracy: 0.859 - ETA: 26s - loss: 0.3352 - accuracy: 0.858 - ETA: 26s - loss: 0.3352 - accuracy: 0.858 - ETA: 26s - loss: 0.3352 - accuracy: 0.858 - ETA: 25s - loss: 0.3351 - accuracy: 0.858 - ETA: 25s - loss: 0.3350 - accuracy: 0.858 - ETA: 25s - loss: 0.3352 - accuracy: 0.858 - ETA: 25s - loss: 0.3357 - accuracy: 0.858 - ETA: 25s - loss: 0.3356 - accuracy: 0.858 - ETA: 25s - loss: 0.3360 - accuracy: 0.858 - ETA: 25s - loss: 0.3359 - accuracy: 0.858 - ETA: 25s - loss: 0.3356 - accuracy: 0.858 - ETA: 25s - loss: 0.3353 - accuracy: 0.858 - ETA: 25s - loss: 0.3356 - accuracy: 0.858 - ETA: 25s - loss: 0.3355 - accuracy: 0.858 - ETA: 25s - loss: 0.3356 - accuracy: 0.858 - ETA: 25s - loss: 0.3355 - accuracy: 0.858 - ETA: 25s - loss: 0.3352 - accuracy: 0.859 - ETA: 24s - loss: 0.3358 - accuracy: 0.858 - ETA: 24s - loss: 0.3356 - accuracy: 0.858 - ETA: 24s - loss: 0.3357 - accuracy: 0.858 - ETA: 24s - loss: 0.3361 - accuracy: 0.858 - ETA: 24s - loss: 0.3362 - accuracy: 0.858 - ETA: 24s - loss: 0.3363 - accuracy: 0.858 - ETA: 24s - loss: 0.3362 - accuracy: 0.858 - ETA: 24s - loss: 0.3367 - accuracy: 0.857 - ETA: 24s - loss: 0.3367 - accuracy: 0.857 - ETA: 24s - loss: 0.3364 - accuracy: 0.858 - ETA: 24s - loss: 0.3363 - accuracy: 0.858 - ETA: 24s - loss: 0.3362 - accuracy: 0.858 - ETA: 24s - loss: 0.3363 - accuracy: 0.858 - ETA: 24s - loss: 0.3364 - accuracy: 0.858 - ETA: 24s - loss: 0.3364 - accuracy: 0.858 - ETA: 23s - loss: 0.3363 - accuracy: 0.858 - ETA: 23s - loss: 0.3364 - accuracy: 0.857 - ETA: 23s - loss: 0.3364 - accuracy: 0.857 - ETA: 23s - loss: 0.3360 - accuracy: 0.858 - ETA: 23s - loss: 0.3361 - accuracy: 0.857 - ETA: 23s - loss: 0.3361 - accuracy: 0.857 - ETA: 23s - loss: 0.3360 - accuracy: 0.858 - ETA: 23s - loss: 0.3358 - accuracy: 0.858 - ETA: 23s - loss: 0.3356 - accuracy: 0.858 - ETA: 23s - loss: 0.3355 - accuracy: 0.858 - ETA: 23s - loss: 0.3354 - accuracy: 0.858 - ETA: 23s - loss: 0.3351 - accuracy: 0.858 - ETA: 23s - loss: 0.3347 - accuracy: 0.858 - ETA: 23s - loss: 0.3345 - accuracy: 0.858 - ETA: 22s - loss: 0.3344 - accuracy: 0.858 - ETA: 22s - loss: 0.3340 - accuracy: 0.859 - ETA: 22s - loss: 0.3341 - accuracy: 0.858 - ETA: 22s - loss: 0.3343 - accuracy: 0.858 - ETA: 22s - loss: 0.3340 - accuracy: 0.858 - ETA: 22s - loss: 0.3337 - accuracy: 0.858 - ETA: 22s - loss: 0.3338 - accuracy: 0.858 - ETA: 22s - loss: 0.3338 - accuracy: 0.858 - ETA: 22s - loss: 0.3335 - accuracy: 0.859 - ETA: 22s - loss: 0.3339 - accuracy: 0.858 - ETA: 22s - loss: 0.3339 - accuracy: 0.858 - ETA: 22s - loss: 0.3336 - accuracy: 0.859 - ETA: 22s - loss: 0.3334 - accuracy: 0.859 - ETA: 22s - loss: 0.3332 - accuracy: 0.859 - ETA: 21s - loss: 0.3334 - accuracy: 0.859 - ETA: 21s - loss: 0.3330 - accuracy: 0.859 - ETA: 21s - loss: 0.3330 - accuracy: 0.859 - ETA: 21s - loss: 0.3331 - accuracy: 0.859 - ETA: 21s - loss: 0.3330 - accuracy: 0.858 - ETA: 21s - loss: 0.3328 - accuracy: 0.859 - ETA: 21s - loss: 0.3330 - accuracy: 0.859 - ETA: 21s - loss: 0.3327 - accuracy: 0.859 - ETA: 21s - loss: 0.3325 - accuracy: 0.859 - ETA: 21s - loss: 0.3329 - accuracy: 0.859 - ETA: 21s - loss: 0.3331 - accuracy: 0.858 - ETA: 21s - loss: 0.3330 - accuracy: 0.858 - ETA: 21s - loss: 0.3328 - accuracy: 0.859 - ETA: 21s - loss: 0.3329 - accuracy: 0.859 - ETA: 20s - loss: 0.3329 - accuracy: 0.859 - ETA: 20s - loss: 0.3330 - accuracy: 0.859 - ETA: 20s - loss: 0.3329 - accuracy: 0.858 - ETA: 20s - loss: 0.3328 - accuracy: 0.859 - ETA: 20s - loss: 0.3327 - accuracy: 0.859 - ETA: 20s - loss: 0.3336 - accuracy: 0.858 - ETA: 20s - loss: 0.3335 - accuracy: 0.858 - ETA: 20s - loss: 0.3334 - accuracy: 0.858 - ETA: 20s - loss: 0.3333 - accuracy: 0.858 - ETA: 20s - loss: 0.3329 - accuracy: 0.859 - ETA: 20s - loss: 0.3333 - accuracy: 0.859 - ETA: 20s - loss: 0.3332 - accuracy: 0.859 - ETA: 20s - loss: 0.3332 - accuracy: 0.859 - ETA: 20s - loss: 0.3336 - accuracy: 0.858 - ETA: 20s - loss: 0.3337 - accuracy: 0.858 - ETA: 19s - loss: 0.3338 - accuracy: 0.858 - ETA: 19s - loss: 0.3341 - accuracy: 0.858 - ETA: 19s - loss: 0.3337 - accuracy: 0.858 - ETA: 19s - loss: 0.3338 - accuracy: 0.858 - ETA: 19s - loss: 0.3336 - accuracy: 0.858 - ETA: 19s - loss: 0.3337 - accuracy: 0.858 - ETA: 19s - loss: 0.3337 - accuracy: 0.858 - ETA: 19s - loss: 0.3339 - accuracy: 0.858 - ETA: 19s - loss: 0.3338 - accuracy: 0.858 - ETA: 19s - loss: 0.3338 - accuracy: 0.858 - ETA: 19s - loss: 0.3341 - accuracy: 0.858 - ETA: 19s - loss: 0.3340 - accuracy: 0.858 - ETA: 19s - loss: 0.3339 - accuracy: 0.858 - ETA: 19s - loss: 0.3338 - accuracy: 0.858 - ETA: 18s - loss: 0.3338 - accuracy: 0.858 - ETA: 18s - loss: 0.3337 - accuracy: 0.858 - ETA: 18s - loss: 0.3338 - accuracy: 0.858 - ETA: 18s - loss: 0.3336 - accuracy: 0.858 - ETA: 18s - loss: 0.3335 - accuracy: 0.858 - ETA: 18s - loss: 0.3332 - accuracy: 0.858 - ETA: 18s - loss: 0.3333 - accuracy: 0.858 - ETA: 18s - loss: 0.3335 - accuracy: 0.858 - ETA: 18s - loss: 0.3334 - accuracy: 0.858 - ETA: 18s - loss: 0.3332 - accuracy: 0.858 - ETA: 18s - loss: 0.3334 - accuracy: 0.858 - ETA: 18s - loss: 0.3334 - accuracy: 0.858 - ETA: 18s - loss: 0.3333 - accuracy: 0.858 - ETA: 18s - loss: 0.3333 - accuracy: 0.858 - ETA: 18s - loss: 0.3332 - accuracy: 0.858 - ETA: 17s - loss: 0.3329 - accuracy: 0.858 - ETA: 17s - loss: 0.3331 - accuracy: 0.858 - ETA: 17s - loss: 0.3331 - accuracy: 0.858 - ETA: 17s - loss: 0.3335 - accuracy: 0.858 - ETA: 17s - loss: 0.3334 - accuracy: 0.858 - ETA: 17s - loss: 0.3332 - accuracy: 0.858 - ETA: 17s - loss: 0.3332 - accuracy: 0.858 - ETA: 17s - loss: 0.3333 - accuracy: 0.858 - ETA: 17s - loss: 0.3335 - accuracy: 0.858 - ETA: 17s - loss: 0.3334 - accuracy: 0.858 - ETA: 17s - loss: 0.3331 - accuracy: 0.858 - ETA: 17s - loss: 0.3330 - accuracy: 0.858 - ETA: 17s - loss: 0.3332 - accuracy: 0.858 - ETA: 17s - loss: 0.3329 - accuracy: 0.858 - ETA: 16s - loss: 0.3328 - accuracy: 0.858 - ETA: 16s - loss: 0.3328 - accuracy: 0.858 - ETA: 16s - loss: 0.3326 - accuracy: 0.858 - ETA: 16s - loss: 0.3327 - accuracy: 0.858 - ETA: 16s - loss: 0.3331 - accuracy: 0.858 - ETA: 16s - loss: 0.3331 - accuracy: 0.858 - ETA: 16s - loss: 0.3334 - accuracy: 0.857 - ETA: 16s - loss: 0.3331 - accuracy: 0.858 - ETA: 16s - loss: 0.3332 - accuracy: 0.858 - ETA: 16s - loss: 0.3329 - accuracy: 0.858 - ETA: 16s - loss: 0.3331 - accuracy: 0.858 - ETA: 16s - loss: 0.3328 - accuracy: 0.858 - ETA: 16s - loss: 0.3329 - accuracy: 0.858 - ETA: 16s - loss: 0.3330 - accuracy: 0.8583"
     ]
    },
    {
     "name": "stdout",
     "output_type": "stream",
     "text": [
      "23936/25000 [===========================>..] - ETA: 15s - loss: 0.3330 - accuracy: 0.858 - ETA: 15s - loss: 0.3334 - accuracy: 0.858 - ETA: 15s - loss: 0.3332 - accuracy: 0.858 - ETA: 15s - loss: 0.3334 - accuracy: 0.857 - ETA: 15s - loss: 0.3333 - accuracy: 0.857 - ETA: 15s - loss: 0.3334 - accuracy: 0.857 - ETA: 15s - loss: 0.3335 - accuracy: 0.857 - ETA: 15s - loss: 0.3336 - accuracy: 0.857 - ETA: 15s - loss: 0.3337 - accuracy: 0.857 - ETA: 15s - loss: 0.3337 - accuracy: 0.857 - ETA: 15s - loss: 0.3338 - accuracy: 0.857 - ETA: 15s - loss: 0.3341 - accuracy: 0.857 - ETA: 15s - loss: 0.3342 - accuracy: 0.857 - ETA: 15s - loss: 0.3344 - accuracy: 0.857 - ETA: 15s - loss: 0.3343 - accuracy: 0.857 - ETA: 14s - loss: 0.3345 - accuracy: 0.857 - ETA: 14s - loss: 0.3346 - accuracy: 0.857 - ETA: 14s - loss: 0.3349 - accuracy: 0.857 - ETA: 14s - loss: 0.3350 - accuracy: 0.857 - ETA: 14s - loss: 0.3352 - accuracy: 0.857 - ETA: 14s - loss: 0.3352 - accuracy: 0.856 - ETA: 14s - loss: 0.3352 - accuracy: 0.856 - ETA: 14s - loss: 0.3352 - accuracy: 0.856 - ETA: 14s - loss: 0.3354 - accuracy: 0.856 - ETA: 14s - loss: 0.3356 - accuracy: 0.856 - ETA: 14s - loss: 0.3355 - accuracy: 0.856 - ETA: 14s - loss: 0.3355 - accuracy: 0.856 - ETA: 14s - loss: 0.3355 - accuracy: 0.856 - ETA: 14s - loss: 0.3356 - accuracy: 0.856 - ETA: 13s - loss: 0.3355 - accuracy: 0.856 - ETA: 13s - loss: 0.3353 - accuracy: 0.856 - ETA: 13s - loss: 0.3354 - accuracy: 0.856 - ETA: 13s - loss: 0.3355 - accuracy: 0.856 - ETA: 13s - loss: 0.3354 - accuracy: 0.856 - ETA: 13s - loss: 0.3353 - accuracy: 0.856 - ETA: 13s - loss: 0.3354 - accuracy: 0.856 - ETA: 13s - loss: 0.3354 - accuracy: 0.856 - ETA: 13s - loss: 0.3358 - accuracy: 0.856 - ETA: 13s - loss: 0.3357 - accuracy: 0.856 - ETA: 13s - loss: 0.3359 - accuracy: 0.856 - ETA: 13s - loss: 0.3361 - accuracy: 0.855 - ETA: 13s - loss: 0.3360 - accuracy: 0.855 - ETA: 13s - loss: 0.3361 - accuracy: 0.855 - ETA: 12s - loss: 0.3359 - accuracy: 0.855 - ETA: 12s - loss: 0.3360 - accuracy: 0.855 - ETA: 12s - loss: 0.3358 - accuracy: 0.856 - ETA: 12s - loss: 0.3358 - accuracy: 0.856 - ETA: 12s - loss: 0.3358 - accuracy: 0.856 - ETA: 12s - loss: 0.3358 - accuracy: 0.856 - ETA: 12s - loss: 0.3358 - accuracy: 0.856 - ETA: 12s - loss: 0.3356 - accuracy: 0.856 - ETA: 12s - loss: 0.3357 - accuracy: 0.856 - ETA: 12s - loss: 0.3356 - accuracy: 0.856 - ETA: 12s - loss: 0.3357 - accuracy: 0.856 - ETA: 12s - loss: 0.3355 - accuracy: 0.856 - ETA: 12s - loss: 0.3355 - accuracy: 0.856 - ETA: 12s - loss: 0.3355 - accuracy: 0.856 - ETA: 11s - loss: 0.3356 - accuracy: 0.856 - ETA: 11s - loss: 0.3357 - accuracy: 0.856 - ETA: 11s - loss: 0.3356 - accuracy: 0.856 - ETA: 11s - loss: 0.3357 - accuracy: 0.856 - ETA: 11s - loss: 0.3357 - accuracy: 0.856 - ETA: 11s - loss: 0.3357 - accuracy: 0.856 - ETA: 11s - loss: 0.3357 - accuracy: 0.856 - ETA: 11s - loss: 0.3359 - accuracy: 0.856 - ETA: 11s - loss: 0.3361 - accuracy: 0.855 - ETA: 11s - loss: 0.3361 - accuracy: 0.855 - ETA: 11s - loss: 0.3360 - accuracy: 0.855 - ETA: 11s - loss: 0.3360 - accuracy: 0.855 - ETA: 11s - loss: 0.3359 - accuracy: 0.855 - ETA: 11s - loss: 0.3356 - accuracy: 0.856 - ETA: 10s - loss: 0.3354 - accuracy: 0.856 - ETA: 10s - loss: 0.3355 - accuracy: 0.855 - ETA: 10s - loss: 0.3353 - accuracy: 0.856 - ETA: 10s - loss: 0.3353 - accuracy: 0.856 - ETA: 10s - loss: 0.3354 - accuracy: 0.856 - ETA: 10s - loss: 0.3354 - accuracy: 0.856 - ETA: 10s - loss: 0.3353 - accuracy: 0.856 - ETA: 10s - loss: 0.3353 - accuracy: 0.856 - ETA: 10s - loss: 0.3355 - accuracy: 0.855 - ETA: 10s - loss: 0.3354 - accuracy: 0.856 - ETA: 10s - loss: 0.3356 - accuracy: 0.856 - ETA: 10s - loss: 0.3354 - accuracy: 0.856 - ETA: 10s - loss: 0.3355 - accuracy: 0.856 - ETA: 10s - loss: 0.3355 - accuracy: 0.856 - ETA: 9s - loss: 0.3356 - accuracy: 0.856 - ETA: 9s - loss: 0.3354 - accuracy: 0.85 - ETA: 9s - loss: 0.3354 - accuracy: 0.85 - ETA: 9s - loss: 0.3352 - accuracy: 0.85 - ETA: 9s - loss: 0.3351 - accuracy: 0.85 - ETA: 9s - loss: 0.3351 - accuracy: 0.85 - ETA: 9s - loss: 0.3351 - accuracy: 0.85 - ETA: 9s - loss: 0.3353 - accuracy: 0.85 - ETA: 9s - loss: 0.3353 - accuracy: 0.85 - ETA: 9s - loss: 0.3354 - accuracy: 0.85 - ETA: 9s - loss: 0.3357 - accuracy: 0.85 - ETA: 9s - loss: 0.3358 - accuracy: 0.85 - ETA: 9s - loss: 0.3359 - accuracy: 0.85 - ETA: 9s - loss: 0.3358 - accuracy: 0.85 - ETA: 8s - loss: 0.3356 - accuracy: 0.85 - ETA: 8s - loss: 0.3356 - accuracy: 0.85 - ETA: 8s - loss: 0.3356 - accuracy: 0.85 - ETA: 8s - loss: 0.3357 - accuracy: 0.85 - ETA: 8s - loss: 0.3355 - accuracy: 0.85 - ETA: 8s - loss: 0.3356 - accuracy: 0.85 - ETA: 8s - loss: 0.3358 - accuracy: 0.85 - ETA: 8s - loss: 0.3358 - accuracy: 0.85 - ETA: 8s - loss: 0.3360 - accuracy: 0.85 - ETA: 8s - loss: 0.3362 - accuracy: 0.85 - ETA: 8s - loss: 0.3362 - accuracy: 0.85 - ETA: 8s - loss: 0.3362 - accuracy: 0.85 - ETA: 8s - loss: 0.3365 - accuracy: 0.85 - ETA: 7s - loss: 0.3365 - accuracy: 0.85 - ETA: 7s - loss: 0.3366 - accuracy: 0.85 - ETA: 7s - loss: 0.3368 - accuracy: 0.85 - ETA: 7s - loss: 0.3368 - accuracy: 0.85 - ETA: 7s - loss: 0.3370 - accuracy: 0.85 - ETA: 7s - loss: 0.3372 - accuracy: 0.85 - ETA: 7s - loss: 0.3373 - accuracy: 0.85 - ETA: 7s - loss: 0.3375 - accuracy: 0.85 - ETA: 7s - loss: 0.3375 - accuracy: 0.85 - ETA: 7s - loss: 0.3374 - accuracy: 0.85 - ETA: 7s - loss: 0.3377 - accuracy: 0.85 - ETA: 7s - loss: 0.3375 - accuracy: 0.85 - ETA: 7s - loss: 0.3376 - accuracy: 0.85 - ETA: 7s - loss: 0.3376 - accuracy: 0.85 - ETA: 6s - loss: 0.3378 - accuracy: 0.85 - ETA: 6s - loss: 0.3376 - accuracy: 0.85 - ETA: 6s - loss: 0.3376 - accuracy: 0.85 - ETA: 6s - loss: 0.3377 - accuracy: 0.85 - ETA: 6s - loss: 0.3378 - accuracy: 0.85 - ETA: 6s - loss: 0.3379 - accuracy: 0.85 - ETA: 6s - loss: 0.3379 - accuracy: 0.85 - ETA: 6s - loss: 0.3379 - accuracy: 0.85 - ETA: 6s - loss: 0.3381 - accuracy: 0.85 - ETA: 6s - loss: 0.3383 - accuracy: 0.85 - ETA: 6s - loss: 0.3383 - accuracy: 0.85 - ETA: 6s - loss: 0.3384 - accuracy: 0.85 - ETA: 6s - loss: 0.3384 - accuracy: 0.85 - ETA: 6s - loss: 0.3386 - accuracy: 0.85 - ETA: 5s - loss: 0.3385 - accuracy: 0.85 - ETA: 5s - loss: 0.3383 - accuracy: 0.85 - ETA: 5s - loss: 0.3385 - accuracy: 0.85 - ETA: 5s - loss: 0.3383 - accuracy: 0.85 - ETA: 5s - loss: 0.3386 - accuracy: 0.85 - ETA: 5s - loss: 0.3386 - accuracy: 0.85 - ETA: 5s - loss: 0.3389 - accuracy: 0.85 - ETA: 5s - loss: 0.3390 - accuracy: 0.85 - ETA: 5s - loss: 0.3391 - accuracy: 0.85 - ETA: 5s - loss: 0.3389 - accuracy: 0.85 - ETA: 5s - loss: 0.3392 - accuracy: 0.85 - ETA: 5s - loss: 0.3394 - accuracy: 0.85 - ETA: 5s - loss: 0.3398 - accuracy: 0.85 - ETA: 5s - loss: 0.3400 - accuracy: 0.85 - ETA: 4s - loss: 0.3399 - accuracy: 0.85 - ETA: 4s - loss: 0.3399 - accuracy: 0.85 - ETA: 4s - loss: 0.3400 - accuracy: 0.85 - ETA: 4s - loss: 0.3400 - accuracy: 0.85 - ETA: 4s - loss: 0.3400 - accuracy: 0.85 - ETA: 4s - loss: 0.3401 - accuracy: 0.85 - ETA: 4s - loss: 0.3403 - accuracy: 0.85 - ETA: 4s - loss: 0.3402 - accuracy: 0.85 - ETA: 4s - loss: 0.3403 - accuracy: 0.85 - ETA: 4s - loss: 0.3403 - accuracy: 0.85 - ETA: 4s - loss: 0.3405 - accuracy: 0.85 - ETA: 4s - loss: 0.3405 - accuracy: 0.85 - ETA: 4s - loss: 0.3404 - accuracy: 0.85 - ETA: 4s - loss: 0.3405 - accuracy: 0.85 - ETA: 3s - loss: 0.3405 - accuracy: 0.85 - ETA: 3s - loss: 0.3404 - accuracy: 0.85 - ETA: 3s - loss: 0.3404 - accuracy: 0.85 - ETA: 3s - loss: 0.3405 - accuracy: 0.85 - ETA: 3s - loss: 0.3403 - accuracy: 0.85 - ETA: 3s - loss: 0.3403 - accuracy: 0.85 - ETA: 3s - loss: 0.3402 - accuracy: 0.85 - ETA: 3s - loss: 0.3403 - accuracy: 0.85 - ETA: 3s - loss: 0.3404 - accuracy: 0.85 - ETA: 3s - loss: 0.3404 - accuracy: 0.85 - ETA: 3s - loss: 0.3404 - accuracy: 0.85 - ETA: 3s - loss: 0.3403 - accuracy: 0.85 - ETA: 3s - loss: 0.3403 - accuracy: 0.85 - ETA: 2s - loss: 0.3403 - accuracy: 0.85 - ETA: 2s - loss: 0.3403 - accuracy: 0.85 - ETA: 2s - loss: 0.3401 - accuracy: 0.85 - ETA: 2s - loss: 0.3400 - accuracy: 0.85 - ETA: 2s - loss: 0.3400 - accuracy: 0.85 - ETA: 2s - loss: 0.3404 - accuracy: 0.85 - ETA: 2s - loss: 0.3405 - accuracy: 0.85 - ETA: 2s - loss: 0.3406 - accuracy: 0.85 - ETA: 2s - loss: 0.3405 - accuracy: 0.8523"
     ]
    },
    {
     "name": "stdout",
     "output_type": "stream",
     "text": [
      "25000/25000 [==============================] - ETA: 2s - loss: 0.3404 - accuracy: 0.85 - ETA: 2s - loss: 0.3405 - accuracy: 0.85 - ETA: 2s - loss: 0.3404 - accuracy: 0.85 - ETA: 2s - loss: 0.3403 - accuracy: 0.85 - ETA: 2s - loss: 0.3402 - accuracy: 0.85 - ETA: 1s - loss: 0.3406 - accuracy: 0.85 - ETA: 1s - loss: 0.3406 - accuracy: 0.85 - ETA: 1s - loss: 0.3406 - accuracy: 0.85 - ETA: 1s - loss: 0.3404 - accuracy: 0.85 - ETA: 1s - loss: 0.3405 - accuracy: 0.85 - ETA: 1s - loss: 0.3403 - accuracy: 0.85 - ETA: 1s - loss: 0.3405 - accuracy: 0.85 - ETA: 1s - loss: 0.3406 - accuracy: 0.85 - ETA: 1s - loss: 0.3406 - accuracy: 0.85 - ETA: 1s - loss: 0.3405 - accuracy: 0.85 - ETA: 1s - loss: 0.3405 - accuracy: 0.85 - ETA: 1s - loss: 0.3405 - accuracy: 0.85 - ETA: 1s - loss: 0.3407 - accuracy: 0.85 - ETA: 1s - loss: 0.3407 - accuracy: 0.85 - ETA: 0s - loss: 0.3407 - accuracy: 0.85 - ETA: 0s - loss: 0.3407 - accuracy: 0.85 - ETA: 0s - loss: 0.3407 - accuracy: 0.85 - ETA: 0s - loss: 0.3406 - accuracy: 0.85 - ETA: 0s - loss: 0.3405 - accuracy: 0.85 - ETA: 0s - loss: 0.3403 - accuracy: 0.85 - ETA: 0s - loss: 0.3407 - accuracy: 0.85 - ETA: 0s - loss: 0.3408 - accuracy: 0.85 - ETA: 0s - loss: 0.3410 - accuracy: 0.85 - ETA: 0s - loss: 0.3408 - accuracy: 0.85 - ETA: 0s - loss: 0.3408 - accuracy: 0.85 - ETA: 0s - loss: 0.3410 - accuracy: 0.85 - ETA: 0s - loss: 0.3411 - accuracy: 0.85 - ETA: 0s - loss: 0.3410 - accuracy: 0.85 - 57s 2ms/sample - loss: 0.3410 - accuracy: 0.8518\n",
      "Epoch 3/5\n"
     ]
    },
    {
     "name": "stdout",
     "output_type": "stream",
     "text": [
      " 5952/25000 [======>.......................] - ETA: 56s - loss: 0.3494 - accuracy: 0.875 - ETA: 58s - loss: 0.2913 - accuracy: 0.890 - ETA: 59s - loss: 0.2830 - accuracy: 0.895 - ETA: 59s - loss: 0.2610 - accuracy: 0.914 - ETA: 58s - loss: 0.2487 - accuracy: 0.925 - ETA: 59s - loss: 0.2376 - accuracy: 0.921 - ETA: 58s - loss: 0.2370 - accuracy: 0.915 - ETA: 58s - loss: 0.2612 - accuracy: 0.910 - ETA: 58s - loss: 0.2607 - accuracy: 0.906 - ETA: 57s - loss: 0.2496 - accuracy: 0.909 - ETA: 57s - loss: 0.2433 - accuracy: 0.911 - ETA: 57s - loss: 0.2354 - accuracy: 0.911 - ETA: 56s - loss: 0.2405 - accuracy: 0.906 - ETA: 56s - loss: 0.2517 - accuracy: 0.904 - ETA: 56s - loss: 0.2482 - accuracy: 0.904 - ETA: 56s - loss: 0.2444 - accuracy: 0.906 - ETA: 56s - loss: 0.2557 - accuracy: 0.900 - ETA: 56s - loss: 0.2605 - accuracy: 0.899 - ETA: 56s - loss: 0.2640 - accuracy: 0.899 - ETA: 56s - loss: 0.2579 - accuracy: 0.901 - ETA: 55s - loss: 0.2541 - accuracy: 0.900 - ETA: 55s - loss: 0.2537 - accuracy: 0.899 - ETA: 55s - loss: 0.2548 - accuracy: 0.899 - ETA: 55s - loss: 0.2546 - accuracy: 0.898 - ETA: 55s - loss: 0.2510 - accuracy: 0.900 - ETA: 56s - loss: 0.2509 - accuracy: 0.901 - ETA: 56s - loss: 0.2503 - accuracy: 0.900 - ETA: 55s - loss: 0.2493 - accuracy: 0.902 - ETA: 55s - loss: 0.2548 - accuracy: 0.901 - ETA: 55s - loss: 0.2552 - accuracy: 0.900 - ETA: 55s - loss: 0.2579 - accuracy: 0.899 - ETA: 55s - loss: 0.2590 - accuracy: 0.898 - ETA: 55s - loss: 0.2571 - accuracy: 0.899 - ETA: 55s - loss: 0.2636 - accuracy: 0.898 - ETA: 55s - loss: 0.2648 - accuracy: 0.898 - ETA: 55s - loss: 0.2684 - accuracy: 0.897 - ETA: 55s - loss: 0.2682 - accuracy: 0.898 - ETA: 55s - loss: 0.2729 - accuracy: 0.898 - ETA: 54s - loss: 0.2724 - accuracy: 0.899 - ETA: 54s - loss: 0.2756 - accuracy: 0.897 - ETA: 54s - loss: 0.2798 - accuracy: 0.895 - ETA: 54s - loss: 0.2786 - accuracy: 0.895 - ETA: 54s - loss: 0.2795 - accuracy: 0.894 - ETA: 54s - loss: 0.2788 - accuracy: 0.894 - ETA: 54s - loss: 0.2796 - accuracy: 0.894 - ETA: 54s - loss: 0.2808 - accuracy: 0.893 - ETA: 54s - loss: 0.2784 - accuracy: 0.893 - ETA: 54s - loss: 0.2789 - accuracy: 0.893 - ETA: 53s - loss: 0.2799 - accuracy: 0.892 - ETA: 53s - loss: 0.2795 - accuracy: 0.891 - ETA: 53s - loss: 0.2788 - accuracy: 0.890 - ETA: 53s - loss: 0.2763 - accuracy: 0.892 - ETA: 53s - loss: 0.2756 - accuracy: 0.893 - ETA: 53s - loss: 0.2765 - accuracy: 0.893 - ETA: 53s - loss: 0.2766 - accuracy: 0.894 - ETA: 53s - loss: 0.2769 - accuracy: 0.893 - ETA: 53s - loss: 0.2761 - accuracy: 0.894 - ETA: 53s - loss: 0.2729 - accuracy: 0.894 - ETA: 53s - loss: 0.2716 - accuracy: 0.895 - ETA: 52s - loss: 0.2686 - accuracy: 0.896 - ETA: 52s - loss: 0.2694 - accuracy: 0.896 - ETA: 52s - loss: 0.2677 - accuracy: 0.897 - ETA: 52s - loss: 0.2686 - accuracy: 0.896 - ETA: 52s - loss: 0.2709 - accuracy: 0.895 - ETA: 52s - loss: 0.2739 - accuracy: 0.892 - ETA: 52s - loss: 0.2729 - accuracy: 0.892 - ETA: 52s - loss: 0.2730 - accuracy: 0.892 - ETA: 52s - loss: 0.2721 - accuracy: 0.892 - ETA: 52s - loss: 0.2712 - accuracy: 0.892 - ETA: 52s - loss: 0.2718 - accuracy: 0.892 - ETA: 52s - loss: 0.2723 - accuracy: 0.890 - ETA: 51s - loss: 0.2741 - accuracy: 0.889 - ETA: 51s - loss: 0.2760 - accuracy: 0.889 - ETA: 51s - loss: 0.2785 - accuracy: 0.888 - ETA: 51s - loss: 0.2771 - accuracy: 0.888 - ETA: 51s - loss: 0.2781 - accuracy: 0.888 - ETA: 51s - loss: 0.2783 - accuracy: 0.888 - ETA: 51s - loss: 0.2779 - accuracy: 0.889 - ETA: 51s - loss: 0.2770 - accuracy: 0.890 - ETA: 51s - loss: 0.2759 - accuracy: 0.891 - ETA: 51s - loss: 0.2740 - accuracy: 0.892 - ETA: 51s - loss: 0.2731 - accuracy: 0.892 - ETA: 51s - loss: 0.2716 - accuracy: 0.893 - ETA: 50s - loss: 0.2703 - accuracy: 0.894 - ETA: 50s - loss: 0.2687 - accuracy: 0.894 - ETA: 50s - loss: 0.2679 - accuracy: 0.895 - ETA: 50s - loss: 0.2675 - accuracy: 0.895 - ETA: 50s - loss: 0.2684 - accuracy: 0.894 - ETA: 50s - loss: 0.2675 - accuracy: 0.895 - ETA: 50s - loss: 0.2662 - accuracy: 0.895 - ETA: 50s - loss: 0.2647 - accuracy: 0.895 - ETA: 50s - loss: 0.2631 - accuracy: 0.896 - ETA: 50s - loss: 0.2630 - accuracy: 0.896 - ETA: 50s - loss: 0.2629 - accuracy: 0.896 - ETA: 50s - loss: 0.2651 - accuracy: 0.895 - ETA: 50s - loss: 0.2650 - accuracy: 0.895 - ETA: 50s - loss: 0.2659 - accuracy: 0.894 - ETA: 50s - loss: 0.2652 - accuracy: 0.895 - ETA: 49s - loss: 0.2668 - accuracy: 0.893 - ETA: 49s - loss: 0.2676 - accuracy: 0.893 - ETA: 49s - loss: 0.2675 - accuracy: 0.892 - ETA: 49s - loss: 0.2674 - accuracy: 0.893 - ETA: 49s - loss: 0.2683 - accuracy: 0.892 - ETA: 49s - loss: 0.2687 - accuracy: 0.891 - ETA: 49s - loss: 0.2702 - accuracy: 0.890 - ETA: 49s - loss: 0.2700 - accuracy: 0.890 - ETA: 49s - loss: 0.2707 - accuracy: 0.889 - ETA: 49s - loss: 0.2721 - accuracy: 0.887 - ETA: 49s - loss: 0.2738 - accuracy: 0.886 - ETA: 49s - loss: 0.2735 - accuracy: 0.886 - ETA: 49s - loss: 0.2736 - accuracy: 0.887 - ETA: 49s - loss: 0.2736 - accuracy: 0.887 - ETA: 49s - loss: 0.2747 - accuracy: 0.887 - ETA: 49s - loss: 0.2739 - accuracy: 0.888 - ETA: 49s - loss: 0.2741 - accuracy: 0.887 - ETA: 49s - loss: 0.2748 - accuracy: 0.887 - ETA: 49s - loss: 0.2746 - accuracy: 0.887 - ETA: 48s - loss: 0.2738 - accuracy: 0.887 - ETA: 48s - loss: 0.2748 - accuracy: 0.887 - ETA: 48s - loss: 0.2739 - accuracy: 0.887 - ETA: 48s - loss: 0.2738 - accuracy: 0.887 - ETA: 48s - loss: 0.2731 - accuracy: 0.887 - ETA: 48s - loss: 0.2726 - accuracy: 0.888 - ETA: 48s - loss: 0.2724 - accuracy: 0.887 - ETA: 48s - loss: 0.2715 - accuracy: 0.888 - ETA: 48s - loss: 0.2707 - accuracy: 0.888 - ETA: 48s - loss: 0.2702 - accuracy: 0.888 - ETA: 48s - loss: 0.2708 - accuracy: 0.888 - ETA: 48s - loss: 0.2696 - accuracy: 0.888 - ETA: 48s - loss: 0.2686 - accuracy: 0.889 - ETA: 48s - loss: 0.2693 - accuracy: 0.889 - ETA: 48s - loss: 0.2689 - accuracy: 0.889 - ETA: 48s - loss: 0.2686 - accuracy: 0.889 - ETA: 48s - loss: 0.2684 - accuracy: 0.889 - ETA: 48s - loss: 0.2695 - accuracy: 0.889 - ETA: 48s - loss: 0.2689 - accuracy: 0.889 - ETA: 48s - loss: 0.2688 - accuracy: 0.890 - ETA: 48s - loss: 0.2687 - accuracy: 0.889 - ETA: 48s - loss: 0.2689 - accuracy: 0.889 - ETA: 48s - loss: 0.2677 - accuracy: 0.890 - ETA: 47s - loss: 0.2680 - accuracy: 0.890 - ETA: 47s - loss: 0.2677 - accuracy: 0.890 - ETA: 47s - loss: 0.2670 - accuracy: 0.890 - ETA: 47s - loss: 0.2672 - accuracy: 0.890 - ETA: 47s - loss: 0.2683 - accuracy: 0.889 - ETA: 47s - loss: 0.2690 - accuracy: 0.889 - ETA: 47s - loss: 0.2678 - accuracy: 0.890 - ETA: 47s - loss: 0.2682 - accuracy: 0.890 - ETA: 47s - loss: 0.2676 - accuracy: 0.890 - ETA: 47s - loss: 0.2676 - accuracy: 0.890 - ETA: 47s - loss: 0.2674 - accuracy: 0.890 - ETA: 47s - loss: 0.2680 - accuracy: 0.890 - ETA: 47s - loss: 0.2676 - accuracy: 0.890 - ETA: 47s - loss: 0.2670 - accuracy: 0.890 - ETA: 46s - loss: 0.2675 - accuracy: 0.890 - ETA: 46s - loss: 0.2672 - accuracy: 0.890 - ETA: 46s - loss: 0.2664 - accuracy: 0.890 - ETA: 46s - loss: 0.2657 - accuracy: 0.891 - ETA: 46s - loss: 0.2652 - accuracy: 0.891 - ETA: 46s - loss: 0.2647 - accuracy: 0.891 - ETA: 46s - loss: 0.2640 - accuracy: 0.892 - ETA: 46s - loss: 0.2653 - accuracy: 0.891 - ETA: 46s - loss: 0.2651 - accuracy: 0.892 - ETA: 46s - loss: 0.2646 - accuracy: 0.892 - ETA: 46s - loss: 0.2660 - accuracy: 0.891 - ETA: 46s - loss: 0.2664 - accuracy: 0.891 - ETA: 46s - loss: 0.2656 - accuracy: 0.891 - ETA: 46s - loss: 0.2653 - accuracy: 0.891 - ETA: 46s - loss: 0.2655 - accuracy: 0.891 - ETA: 45s - loss: 0.2655 - accuracy: 0.891 - ETA: 45s - loss: 0.2647 - accuracy: 0.891 - ETA: 45s - loss: 0.2651 - accuracy: 0.891 - ETA: 45s - loss: 0.2643 - accuracy: 0.891 - ETA: 45s - loss: 0.2644 - accuracy: 0.891 - ETA: 45s - loss: 0.2638 - accuracy: 0.892 - ETA: 45s - loss: 0.2642 - accuracy: 0.891 - ETA: 45s - loss: 0.2633 - accuracy: 0.892 - ETA: 45s - loss: 0.2637 - accuracy: 0.892 - ETA: 45s - loss: 0.2654 - accuracy: 0.891 - ETA: 45s - loss: 0.2665 - accuracy: 0.891 - ETA: 45s - loss: 0.2666 - accuracy: 0.890 - ETA: 45s - loss: 0.2667 - accuracy: 0.890 - ETA: 45s - loss: 0.2664 - accuracy: 0.890 - ETA: 45s - loss: 0.2662 - accuracy: 0.890 - ETA: 45s - loss: 0.2666 - accuracy: 0.890 - ETA: 44s - loss: 0.2662 - accuracy: 0.8900"
     ]
    },
    {
     "name": "stdout",
     "output_type": "stream",
     "text": [
      "11904/25000 [=============>................] - ETA: 44s - loss: 0.2657 - accuracy: 0.890 - ETA: 44s - loss: 0.2649 - accuracy: 0.890 - ETA: 44s - loss: 0.2652 - accuracy: 0.890 - ETA: 44s - loss: 0.2653 - accuracy: 0.890 - ETA: 44s - loss: 0.2662 - accuracy: 0.890 - ETA: 44s - loss: 0.2654 - accuracy: 0.890 - ETA: 44s - loss: 0.2655 - accuracy: 0.890 - ETA: 44s - loss: 0.2667 - accuracy: 0.890 - ETA: 44s - loss: 0.2669 - accuracy: 0.890 - ETA: 44s - loss: 0.2667 - accuracy: 0.890 - ETA: 44s - loss: 0.2659 - accuracy: 0.890 - ETA: 43s - loss: 0.2661 - accuracy: 0.890 - ETA: 43s - loss: 0.2657 - accuracy: 0.891 - ETA: 43s - loss: 0.2656 - accuracy: 0.891 - ETA: 43s - loss: 0.2657 - accuracy: 0.891 - ETA: 43s - loss: 0.2654 - accuracy: 0.891 - ETA: 43s - loss: 0.2654 - accuracy: 0.891 - ETA: 43s - loss: 0.2667 - accuracy: 0.890 - ETA: 43s - loss: 0.2674 - accuracy: 0.890 - ETA: 43s - loss: 0.2670 - accuracy: 0.891 - ETA: 43s - loss: 0.2672 - accuracy: 0.891 - ETA: 43s - loss: 0.2671 - accuracy: 0.891 - ETA: 43s - loss: 0.2683 - accuracy: 0.890 - ETA: 43s - loss: 0.2690 - accuracy: 0.889 - ETA: 43s - loss: 0.2693 - accuracy: 0.889 - ETA: 42s - loss: 0.2702 - accuracy: 0.889 - ETA: 42s - loss: 0.2701 - accuracy: 0.889 - ETA: 42s - loss: 0.2707 - accuracy: 0.889 - ETA: 42s - loss: 0.2712 - accuracy: 0.889 - ETA: 42s - loss: 0.2713 - accuracy: 0.889 - ETA: 42s - loss: 0.2716 - accuracy: 0.889 - ETA: 42s - loss: 0.2712 - accuracy: 0.889 - ETA: 42s - loss: 0.2705 - accuracy: 0.889 - ETA: 42s - loss: 0.2701 - accuracy: 0.889 - ETA: 42s - loss: 0.2712 - accuracy: 0.888 - ETA: 42s - loss: 0.2708 - accuracy: 0.888 - ETA: 42s - loss: 0.2706 - accuracy: 0.889 - ETA: 42s - loss: 0.2709 - accuracy: 0.889 - ETA: 42s - loss: 0.2709 - accuracy: 0.888 - ETA: 41s - loss: 0.2709 - accuracy: 0.888 - ETA: 41s - loss: 0.2714 - accuracy: 0.888 - ETA: 41s - loss: 0.2718 - accuracy: 0.888 - ETA: 41s - loss: 0.2719 - accuracy: 0.888 - ETA: 41s - loss: 0.2715 - accuracy: 0.888 - ETA: 41s - loss: 0.2713 - accuracy: 0.888 - ETA: 41s - loss: 0.2713 - accuracy: 0.888 - ETA: 41s - loss: 0.2722 - accuracy: 0.888 - ETA: 41s - loss: 0.2721 - accuracy: 0.888 - ETA: 41s - loss: 0.2721 - accuracy: 0.888 - ETA: 41s - loss: 0.2720 - accuracy: 0.888 - ETA: 41s - loss: 0.2721 - accuracy: 0.888 - ETA: 41s - loss: 0.2720 - accuracy: 0.888 - ETA: 40s - loss: 0.2723 - accuracy: 0.887 - ETA: 40s - loss: 0.2725 - accuracy: 0.887 - ETA: 40s - loss: 0.2718 - accuracy: 0.888 - ETA: 40s - loss: 0.2716 - accuracy: 0.887 - ETA: 40s - loss: 0.2711 - accuracy: 0.888 - ETA: 40s - loss: 0.2706 - accuracy: 0.888 - ETA: 40s - loss: 0.2704 - accuracy: 0.888 - ETA: 40s - loss: 0.2721 - accuracy: 0.887 - ETA: 40s - loss: 0.2726 - accuracy: 0.887 - ETA: 40s - loss: 0.2729 - accuracy: 0.887 - ETA: 40s - loss: 0.2733 - accuracy: 0.887 - ETA: 40s - loss: 0.2735 - accuracy: 0.887 - ETA: 39s - loss: 0.2731 - accuracy: 0.887 - ETA: 39s - loss: 0.2736 - accuracy: 0.887 - ETA: 39s - loss: 0.2738 - accuracy: 0.888 - ETA: 39s - loss: 0.2748 - accuracy: 0.887 - ETA: 39s - loss: 0.2748 - accuracy: 0.887 - ETA: 39s - loss: 0.2753 - accuracy: 0.886 - ETA: 39s - loss: 0.2751 - accuracy: 0.886 - ETA: 39s - loss: 0.2753 - accuracy: 0.886 - ETA: 39s - loss: 0.2750 - accuracy: 0.886 - ETA: 39s - loss: 0.2751 - accuracy: 0.887 - ETA: 39s - loss: 0.2748 - accuracy: 0.887 - ETA: 39s - loss: 0.2752 - accuracy: 0.887 - ETA: 39s - loss: 0.2753 - accuracy: 0.887 - ETA: 38s - loss: 0.2756 - accuracy: 0.887 - ETA: 38s - loss: 0.2756 - accuracy: 0.887 - ETA: 38s - loss: 0.2759 - accuracy: 0.887 - ETA: 38s - loss: 0.2759 - accuracy: 0.887 - ETA: 38s - loss: 0.2766 - accuracy: 0.886 - ETA: 38s - loss: 0.2769 - accuracy: 0.886 - ETA: 38s - loss: 0.2776 - accuracy: 0.886 - ETA: 38s - loss: 0.2783 - accuracy: 0.886 - ETA: 38s - loss: 0.2786 - accuracy: 0.886 - ETA: 38s - loss: 0.2782 - accuracy: 0.886 - ETA: 38s - loss: 0.2776 - accuracy: 0.887 - ETA: 38s - loss: 0.2774 - accuracy: 0.887 - ETA: 38s - loss: 0.2770 - accuracy: 0.887 - ETA: 38s - loss: 0.2768 - accuracy: 0.887 - ETA: 37s - loss: 0.2764 - accuracy: 0.887 - ETA: 37s - loss: 0.2768 - accuracy: 0.887 - ETA: 37s - loss: 0.2764 - accuracy: 0.887 - ETA: 37s - loss: 0.2763 - accuracy: 0.887 - ETA: 37s - loss: 0.2761 - accuracy: 0.887 - ETA: 37s - loss: 0.2763 - accuracy: 0.887 - ETA: 37s - loss: 0.2767 - accuracy: 0.887 - ETA: 37s - loss: 0.2763 - accuracy: 0.887 - ETA: 37s - loss: 0.2760 - accuracy: 0.888 - ETA: 37s - loss: 0.2759 - accuracy: 0.888 - ETA: 37s - loss: 0.2758 - accuracy: 0.888 - ETA: 37s - loss: 0.2757 - accuracy: 0.888 - ETA: 37s - loss: 0.2755 - accuracy: 0.888 - ETA: 36s - loss: 0.2760 - accuracy: 0.888 - ETA: 36s - loss: 0.2763 - accuracy: 0.888 - ETA: 36s - loss: 0.2760 - accuracy: 0.888 - ETA: 36s - loss: 0.2760 - accuracy: 0.888 - ETA: 36s - loss: 0.2761 - accuracy: 0.888 - ETA: 36s - loss: 0.2763 - accuracy: 0.888 - ETA: 36s - loss: 0.2767 - accuracy: 0.888 - ETA: 36s - loss: 0.2763 - accuracy: 0.888 - ETA: 36s - loss: 0.2760 - accuracy: 0.888 - ETA: 36s - loss: 0.2766 - accuracy: 0.888 - ETA: 36s - loss: 0.2768 - accuracy: 0.888 - ETA: 36s - loss: 0.2765 - accuracy: 0.888 - ETA: 36s - loss: 0.2764 - accuracy: 0.888 - ETA: 36s - loss: 0.2760 - accuracy: 0.888 - ETA: 35s - loss: 0.2759 - accuracy: 0.888 - ETA: 35s - loss: 0.2757 - accuracy: 0.889 - ETA: 35s - loss: 0.2758 - accuracy: 0.888 - ETA: 35s - loss: 0.2759 - accuracy: 0.888 - ETA: 35s - loss: 0.2755 - accuracy: 0.888 - ETA: 35s - loss: 0.2758 - accuracy: 0.888 - ETA: 35s - loss: 0.2751 - accuracy: 0.889 - ETA: 35s - loss: 0.2756 - accuracy: 0.888 - ETA: 35s - loss: 0.2763 - accuracy: 0.888 - ETA: 35s - loss: 0.2764 - accuracy: 0.888 - ETA: 35s - loss: 0.2762 - accuracy: 0.888 - ETA: 35s - loss: 0.2761 - accuracy: 0.888 - ETA: 35s - loss: 0.2761 - accuracy: 0.888 - ETA: 34s - loss: 0.2765 - accuracy: 0.889 - ETA: 34s - loss: 0.2772 - accuracy: 0.888 - ETA: 34s - loss: 0.2771 - accuracy: 0.888 - ETA: 34s - loss: 0.2772 - accuracy: 0.888 - ETA: 34s - loss: 0.2775 - accuracy: 0.888 - ETA: 34s - loss: 0.2776 - accuracy: 0.888 - ETA: 34s - loss: 0.2780 - accuracy: 0.888 - ETA: 34s - loss: 0.2784 - accuracy: 0.888 - ETA: 34s - loss: 0.2792 - accuracy: 0.887 - ETA: 34s - loss: 0.2786 - accuracy: 0.888 - ETA: 34s - loss: 0.2791 - accuracy: 0.887 - ETA: 34s - loss: 0.2789 - accuracy: 0.887 - ETA: 34s - loss: 0.2791 - accuracy: 0.887 - ETA: 34s - loss: 0.2791 - accuracy: 0.887 - ETA: 33s - loss: 0.2788 - accuracy: 0.887 - ETA: 33s - loss: 0.2787 - accuracy: 0.887 - ETA: 33s - loss: 0.2788 - accuracy: 0.887 - ETA: 33s - loss: 0.2790 - accuracy: 0.887 - ETA: 33s - loss: 0.2792 - accuracy: 0.887 - ETA: 33s - loss: 0.2802 - accuracy: 0.887 - ETA: 33s - loss: 0.2799 - accuracy: 0.887 - ETA: 33s - loss: 0.2803 - accuracy: 0.886 - ETA: 33s - loss: 0.2803 - accuracy: 0.886 - ETA: 33s - loss: 0.2799 - accuracy: 0.887 - ETA: 33s - loss: 0.2797 - accuracy: 0.887 - ETA: 33s - loss: 0.2799 - accuracy: 0.887 - ETA: 33s - loss: 0.2799 - accuracy: 0.886 - ETA: 32s - loss: 0.2797 - accuracy: 0.887 - ETA: 32s - loss: 0.2798 - accuracy: 0.886 - ETA: 32s - loss: 0.2796 - accuracy: 0.887 - ETA: 32s - loss: 0.2800 - accuracy: 0.886 - ETA: 32s - loss: 0.2800 - accuracy: 0.886 - ETA: 32s - loss: 0.2801 - accuracy: 0.886 - ETA: 32s - loss: 0.2799 - accuracy: 0.886 - ETA: 32s - loss: 0.2796 - accuracy: 0.887 - ETA: 32s - loss: 0.2796 - accuracy: 0.887 - ETA: 32s - loss: 0.2794 - accuracy: 0.886 - ETA: 32s - loss: 0.2791 - accuracy: 0.887 - ETA: 32s - loss: 0.2792 - accuracy: 0.887 - ETA: 32s - loss: 0.2791 - accuracy: 0.887 - ETA: 31s - loss: 0.2795 - accuracy: 0.886 - ETA: 31s - loss: 0.2797 - accuracy: 0.886 - ETA: 31s - loss: 0.2791 - accuracy: 0.887 - ETA: 31s - loss: 0.2787 - accuracy: 0.887 - ETA: 31s - loss: 0.2790 - accuracy: 0.887 - ETA: 31s - loss: 0.2791 - accuracy: 0.887 - ETA: 31s - loss: 0.2794 - accuracy: 0.887 - ETA: 31s - loss: 0.2796 - accuracy: 0.887 - ETA: 31s - loss: 0.2802 - accuracy: 0.887 - ETA: 31s - loss: 0.2802 - accuracy: 0.887 - ETA: 31s - loss: 0.2800 - accuracy: 0.887 - ETA: 31s - loss: 0.2805 - accuracy: 0.887 - ETA: 31s - loss: 0.2799 - accuracy: 0.887 - ETA: 30s - loss: 0.2800 - accuracy: 0.887 - ETA: 30s - loss: 0.2796 - accuracy: 0.8877"
     ]
    },
    {
     "name": "stdout",
     "output_type": "stream",
     "text": [
      "17856/25000 [====================>.........] - ETA: 30s - loss: 0.2795 - accuracy: 0.887 - ETA: 30s - loss: 0.2794 - accuracy: 0.887 - ETA: 30s - loss: 0.2794 - accuracy: 0.887 - ETA: 30s - loss: 0.2796 - accuracy: 0.887 - ETA: 30s - loss: 0.2799 - accuracy: 0.887 - ETA: 30s - loss: 0.2798 - accuracy: 0.887 - ETA: 30s - loss: 0.2797 - accuracy: 0.887 - ETA: 30s - loss: 0.2795 - accuracy: 0.887 - ETA: 30s - loss: 0.2791 - accuracy: 0.888 - ETA: 30s - loss: 0.2791 - accuracy: 0.887 - ETA: 30s - loss: 0.2791 - accuracy: 0.887 - ETA: 30s - loss: 0.2795 - accuracy: 0.887 - ETA: 29s - loss: 0.2797 - accuracy: 0.887 - ETA: 29s - loss: 0.2800 - accuracy: 0.887 - ETA: 29s - loss: 0.2800 - accuracy: 0.887 - ETA: 29s - loss: 0.2799 - accuracy: 0.887 - ETA: 29s - loss: 0.2794 - accuracy: 0.887 - ETA: 29s - loss: 0.2797 - accuracy: 0.887 - ETA: 29s - loss: 0.2797 - accuracy: 0.887 - ETA: 29s - loss: 0.2800 - accuracy: 0.887 - ETA: 29s - loss: 0.2804 - accuracy: 0.887 - ETA: 29s - loss: 0.2800 - accuracy: 0.887 - ETA: 29s - loss: 0.2798 - accuracy: 0.887 - ETA: 29s - loss: 0.2795 - accuracy: 0.887 - ETA: 29s - loss: 0.2796 - accuracy: 0.887 - ETA: 28s - loss: 0.2795 - accuracy: 0.887 - ETA: 28s - loss: 0.2794 - accuracy: 0.887 - ETA: 28s - loss: 0.2795 - accuracy: 0.887 - ETA: 28s - loss: 0.2798 - accuracy: 0.887 - ETA: 28s - loss: 0.2799 - accuracy: 0.887 - ETA: 28s - loss: 0.2800 - accuracy: 0.887 - ETA: 28s - loss: 0.2797 - accuracy: 0.887 - ETA: 28s - loss: 0.2798 - accuracy: 0.887 - ETA: 28s - loss: 0.2801 - accuracy: 0.887 - ETA: 28s - loss: 0.2802 - accuracy: 0.887 - ETA: 28s - loss: 0.2803 - accuracy: 0.887 - ETA: 28s - loss: 0.2802 - accuracy: 0.887 - ETA: 28s - loss: 0.2801 - accuracy: 0.887 - ETA: 27s - loss: 0.2804 - accuracy: 0.887 - ETA: 27s - loss: 0.2805 - accuracy: 0.887 - ETA: 27s - loss: 0.2804 - accuracy: 0.887 - ETA: 27s - loss: 0.2806 - accuracy: 0.887 - ETA: 27s - loss: 0.2811 - accuracy: 0.887 - ETA: 27s - loss: 0.2813 - accuracy: 0.886 - ETA: 27s - loss: 0.2812 - accuracy: 0.886 - ETA: 27s - loss: 0.2811 - accuracy: 0.886 - ETA: 27s - loss: 0.2814 - accuracy: 0.886 - ETA: 27s - loss: 0.2814 - accuracy: 0.886 - ETA: 27s - loss: 0.2814 - accuracy: 0.886 - ETA: 27s - loss: 0.2815 - accuracy: 0.886 - ETA: 27s - loss: 0.2817 - accuracy: 0.886 - ETA: 27s - loss: 0.2817 - accuracy: 0.886 - ETA: 26s - loss: 0.2815 - accuracy: 0.886 - ETA: 26s - loss: 0.2819 - accuracy: 0.886 - ETA: 26s - loss: 0.2820 - accuracy: 0.886 - ETA: 26s - loss: 0.2817 - accuracy: 0.886 - ETA: 26s - loss: 0.2816 - accuracy: 0.886 - ETA: 26s - loss: 0.2819 - accuracy: 0.885 - ETA: 26s - loss: 0.2816 - accuracy: 0.885 - ETA: 26s - loss: 0.2816 - accuracy: 0.885 - ETA: 26s - loss: 0.2815 - accuracy: 0.885 - ETA: 26s - loss: 0.2812 - accuracy: 0.885 - ETA: 26s - loss: 0.2812 - accuracy: 0.885 - ETA: 26s - loss: 0.2809 - accuracy: 0.886 - ETA: 26s - loss: 0.2808 - accuracy: 0.886 - ETA: 25s - loss: 0.2810 - accuracy: 0.886 - ETA: 25s - loss: 0.2808 - accuracy: 0.886 - ETA: 25s - loss: 0.2812 - accuracy: 0.886 - ETA: 25s - loss: 0.2814 - accuracy: 0.885 - ETA: 25s - loss: 0.2817 - accuracy: 0.885 - ETA: 25s - loss: 0.2817 - accuracy: 0.885 - ETA: 25s - loss: 0.2817 - accuracy: 0.885 - ETA: 25s - loss: 0.2815 - accuracy: 0.885 - ETA: 25s - loss: 0.2818 - accuracy: 0.885 - ETA: 25s - loss: 0.2817 - accuracy: 0.885 - ETA: 25s - loss: 0.2817 - accuracy: 0.885 - ETA: 25s - loss: 0.2818 - accuracy: 0.885 - ETA: 25s - loss: 0.2816 - accuracy: 0.885 - ETA: 24s - loss: 0.2817 - accuracy: 0.885 - ETA: 24s - loss: 0.2819 - accuracy: 0.885 - ETA: 24s - loss: 0.2815 - accuracy: 0.885 - ETA: 24s - loss: 0.2813 - accuracy: 0.885 - ETA: 24s - loss: 0.2813 - accuracy: 0.885 - ETA: 24s - loss: 0.2813 - accuracy: 0.885 - ETA: 24s - loss: 0.2811 - accuracy: 0.885 - ETA: 24s - loss: 0.2811 - accuracy: 0.885 - ETA: 24s - loss: 0.2820 - accuracy: 0.885 - ETA: 24s - loss: 0.2823 - accuracy: 0.885 - ETA: 24s - loss: 0.2823 - accuracy: 0.885 - ETA: 24s - loss: 0.2822 - accuracy: 0.885 - ETA: 24s - loss: 0.2819 - accuracy: 0.885 - ETA: 23s - loss: 0.2816 - accuracy: 0.885 - ETA: 23s - loss: 0.2817 - accuracy: 0.885 - ETA: 23s - loss: 0.2819 - accuracy: 0.885 - ETA: 23s - loss: 0.2827 - accuracy: 0.884 - ETA: 23s - loss: 0.2829 - accuracy: 0.884 - ETA: 23s - loss: 0.2828 - accuracy: 0.884 - ETA: 23s - loss: 0.2827 - accuracy: 0.884 - ETA: 23s - loss: 0.2826 - accuracy: 0.884 - ETA: 23s - loss: 0.2828 - accuracy: 0.884 - ETA: 23s - loss: 0.2830 - accuracy: 0.884 - ETA: 23s - loss: 0.2829 - accuracy: 0.884 - ETA: 23s - loss: 0.2831 - accuracy: 0.884 - ETA: 23s - loss: 0.2831 - accuracy: 0.884 - ETA: 22s - loss: 0.2832 - accuracy: 0.884 - ETA: 22s - loss: 0.2834 - accuracy: 0.884 - ETA: 22s - loss: 0.2832 - accuracy: 0.884 - ETA: 22s - loss: 0.2835 - accuracy: 0.884 - ETA: 22s - loss: 0.2837 - accuracy: 0.884 - ETA: 22s - loss: 0.2836 - accuracy: 0.884 - ETA: 22s - loss: 0.2835 - accuracy: 0.884 - ETA: 22s - loss: 0.2835 - accuracy: 0.884 - ETA: 22s - loss: 0.2833 - accuracy: 0.884 - ETA: 22s - loss: 0.2833 - accuracy: 0.884 - ETA: 22s - loss: 0.2832 - accuracy: 0.884 - ETA: 22s - loss: 0.2831 - accuracy: 0.884 - ETA: 22s - loss: 0.2831 - accuracy: 0.884 - ETA: 21s - loss: 0.2829 - accuracy: 0.884 - ETA: 21s - loss: 0.2827 - accuracy: 0.884 - ETA: 21s - loss: 0.2827 - accuracy: 0.884 - ETA: 21s - loss: 0.2827 - accuracy: 0.884 - ETA: 21s - loss: 0.2824 - accuracy: 0.884 - ETA: 21s - loss: 0.2825 - accuracy: 0.884 - ETA: 21s - loss: 0.2829 - accuracy: 0.884 - ETA: 21s - loss: 0.2830 - accuracy: 0.884 - ETA: 21s - loss: 0.2830 - accuracy: 0.884 - ETA: 21s - loss: 0.2827 - accuracy: 0.884 - ETA: 21s - loss: 0.2830 - accuracy: 0.884 - ETA: 21s - loss: 0.2831 - accuracy: 0.884 - ETA: 21s - loss: 0.2833 - accuracy: 0.884 - ETA: 20s - loss: 0.2834 - accuracy: 0.884 - ETA: 20s - loss: 0.2832 - accuracy: 0.884 - ETA: 20s - loss: 0.2830 - accuracy: 0.884 - ETA: 20s - loss: 0.2830 - accuracy: 0.884 - ETA: 20s - loss: 0.2830 - accuracy: 0.884 - ETA: 20s - loss: 0.2829 - accuracy: 0.884 - ETA: 20s - loss: 0.2831 - accuracy: 0.884 - ETA: 20s - loss: 0.2830 - accuracy: 0.884 - ETA: 20s - loss: 0.2833 - accuracy: 0.884 - ETA: 20s - loss: 0.2832 - accuracy: 0.884 - ETA: 20s - loss: 0.2832 - accuracy: 0.884 - ETA: 20s - loss: 0.2832 - accuracy: 0.884 - ETA: 20s - loss: 0.2829 - accuracy: 0.884 - ETA: 19s - loss: 0.2827 - accuracy: 0.884 - ETA: 19s - loss: 0.2830 - accuracy: 0.884 - ETA: 19s - loss: 0.2828 - accuracy: 0.884 - ETA: 19s - loss: 0.2828 - accuracy: 0.884 - ETA: 19s - loss: 0.2829 - accuracy: 0.884 - ETA: 19s - loss: 0.2827 - accuracy: 0.884 - ETA: 19s - loss: 0.2824 - accuracy: 0.884 - ETA: 19s - loss: 0.2831 - accuracy: 0.884 - ETA: 19s - loss: 0.2836 - accuracy: 0.884 - ETA: 19s - loss: 0.2838 - accuracy: 0.884 - ETA: 19s - loss: 0.2836 - accuracy: 0.884 - ETA: 19s - loss: 0.2837 - accuracy: 0.884 - ETA: 19s - loss: 0.2837 - accuracy: 0.884 - ETA: 18s - loss: 0.2838 - accuracy: 0.884 - ETA: 18s - loss: 0.2838 - accuracy: 0.884 - ETA: 18s - loss: 0.2840 - accuracy: 0.884 - ETA: 18s - loss: 0.2839 - accuracy: 0.884 - ETA: 18s - loss: 0.2841 - accuracy: 0.884 - ETA: 18s - loss: 0.2844 - accuracy: 0.884 - ETA: 18s - loss: 0.2845 - accuracy: 0.883 - ETA: 18s - loss: 0.2844 - accuracy: 0.884 - ETA: 18s - loss: 0.2844 - accuracy: 0.884 - ETA: 18s - loss: 0.2843 - accuracy: 0.884 - ETA: 18s - loss: 0.2844 - accuracy: 0.884 - ETA: 18s - loss: 0.2845 - accuracy: 0.884 - ETA: 18s - loss: 0.2842 - accuracy: 0.884 - ETA: 17s - loss: 0.2840 - accuracy: 0.884 - ETA: 17s - loss: 0.2844 - accuracy: 0.884 - ETA: 17s - loss: 0.2844 - accuracy: 0.884 - ETA: 17s - loss: 0.2843 - accuracy: 0.884 - ETA: 17s - loss: 0.2844 - accuracy: 0.884 - ETA: 17s - loss: 0.2841 - accuracy: 0.884 - ETA: 17s - loss: 0.2841 - accuracy: 0.884 - ETA: 17s - loss: 0.2842 - accuracy: 0.884 - ETA: 17s - loss: 0.2840 - accuracy: 0.884 - ETA: 17s - loss: 0.2840 - accuracy: 0.884 - ETA: 17s - loss: 0.2839 - accuracy: 0.884 - ETA: 17s - loss: 0.2837 - accuracy: 0.884 - ETA: 17s - loss: 0.2835 - accuracy: 0.884 - ETA: 17s - loss: 0.2838 - accuracy: 0.884 - ETA: 16s - loss: 0.2841 - accuracy: 0.884 - ETA: 16s - loss: 0.2841 - accuracy: 0.884 - ETA: 16s - loss: 0.2846 - accuracy: 0.8840"
     ]
    },
    {
     "name": "stdout",
     "output_type": "stream",
     "text": [
      "23936/25000 [===========================>..] - ETA: 16s - loss: 0.2848 - accuracy: 0.883 - ETA: 16s - loss: 0.2849 - accuracy: 0.883 - ETA: 16s - loss: 0.2847 - accuracy: 0.884 - ETA: 16s - loss: 0.2847 - accuracy: 0.883 - ETA: 16s - loss: 0.2852 - accuracy: 0.883 - ETA: 16s - loss: 0.2852 - accuracy: 0.883 - ETA: 16s - loss: 0.2851 - accuracy: 0.883 - ETA: 16s - loss: 0.2849 - accuracy: 0.883 - ETA: 16s - loss: 0.2847 - accuracy: 0.883 - ETA: 16s - loss: 0.2846 - accuracy: 0.883 - ETA: 15s - loss: 0.2849 - accuracy: 0.883 - ETA: 15s - loss: 0.2849 - accuracy: 0.883 - ETA: 15s - loss: 0.2846 - accuracy: 0.883 - ETA: 15s - loss: 0.2853 - accuracy: 0.883 - ETA: 15s - loss: 0.2850 - accuracy: 0.883 - ETA: 15s - loss: 0.2849 - accuracy: 0.883 - ETA: 15s - loss: 0.2852 - accuracy: 0.883 - ETA: 15s - loss: 0.2853 - accuracy: 0.883 - ETA: 15s - loss: 0.2852 - accuracy: 0.883 - ETA: 15s - loss: 0.2853 - accuracy: 0.883 - ETA: 15s - loss: 0.2852 - accuracy: 0.883 - ETA: 15s - loss: 0.2854 - accuracy: 0.883 - ETA: 15s - loss: 0.2853 - accuracy: 0.883 - ETA: 15s - loss: 0.2852 - accuracy: 0.883 - ETA: 14s - loss: 0.2852 - accuracy: 0.882 - ETA: 14s - loss: 0.2854 - accuracy: 0.882 - ETA: 14s - loss: 0.2862 - accuracy: 0.882 - ETA: 14s - loss: 0.2864 - accuracy: 0.882 - ETA: 14s - loss: 0.2865 - accuracy: 0.882 - ETA: 14s - loss: 0.2862 - accuracy: 0.882 - ETA: 14s - loss: 0.2862 - accuracy: 0.882 - ETA: 14s - loss: 0.2863 - accuracy: 0.882 - ETA: 14s - loss: 0.2862 - accuracy: 0.882 - ETA: 14s - loss: 0.2862 - accuracy: 0.882 - ETA: 14s - loss: 0.2862 - accuracy: 0.882 - ETA: 14s - loss: 0.2864 - accuracy: 0.882 - ETA: 14s - loss: 0.2866 - accuracy: 0.882 - ETA: 13s - loss: 0.2868 - accuracy: 0.882 - ETA: 13s - loss: 0.2868 - accuracy: 0.882 - ETA: 13s - loss: 0.2868 - accuracy: 0.882 - ETA: 13s - loss: 0.2869 - accuracy: 0.882 - ETA: 13s - loss: 0.2866 - accuracy: 0.882 - ETA: 13s - loss: 0.2869 - accuracy: 0.882 - ETA: 13s - loss: 0.2869 - accuracy: 0.882 - ETA: 13s - loss: 0.2870 - accuracy: 0.882 - ETA: 13s - loss: 0.2874 - accuracy: 0.881 - ETA: 13s - loss: 0.2875 - accuracy: 0.881 - ETA: 13s - loss: 0.2874 - accuracy: 0.881 - ETA: 13s - loss: 0.2873 - accuracy: 0.881 - ETA: 13s - loss: 0.2872 - accuracy: 0.881 - ETA: 12s - loss: 0.2872 - accuracy: 0.881 - ETA: 12s - loss: 0.2872 - accuracy: 0.881 - ETA: 12s - loss: 0.2872 - accuracy: 0.882 - ETA: 12s - loss: 0.2872 - accuracy: 0.882 - ETA: 12s - loss: 0.2871 - accuracy: 0.882 - ETA: 12s - loss: 0.2873 - accuracy: 0.882 - ETA: 12s - loss: 0.2873 - accuracy: 0.882 - ETA: 12s - loss: 0.2873 - accuracy: 0.882 - ETA: 12s - loss: 0.2875 - accuracy: 0.882 - ETA: 12s - loss: 0.2875 - accuracy: 0.882 - ETA: 12s - loss: 0.2873 - accuracy: 0.882 - ETA: 12s - loss: 0.2872 - accuracy: 0.882 - ETA: 12s - loss: 0.2870 - accuracy: 0.882 - ETA: 12s - loss: 0.2869 - accuracy: 0.882 - ETA: 11s - loss: 0.2870 - accuracy: 0.882 - ETA: 11s - loss: 0.2870 - accuracy: 0.882 - ETA: 11s - loss: 0.2870 - accuracy: 0.882 - ETA: 11s - loss: 0.2871 - accuracy: 0.881 - ETA: 11s - loss: 0.2871 - accuracy: 0.881 - ETA: 11s - loss: 0.2871 - accuracy: 0.881 - ETA: 11s - loss: 0.2872 - accuracy: 0.881 - ETA: 11s - loss: 0.2871 - accuracy: 0.881 - ETA: 11s - loss: 0.2872 - accuracy: 0.881 - ETA: 11s - loss: 0.2870 - accuracy: 0.882 - ETA: 11s - loss: 0.2871 - accuracy: 0.881 - ETA: 11s - loss: 0.2872 - accuracy: 0.881 - ETA: 11s - loss: 0.2871 - accuracy: 0.882 - ETA: 10s - loss: 0.2872 - accuracy: 0.881 - ETA: 10s - loss: 0.2872 - accuracy: 0.881 - ETA: 10s - loss: 0.2872 - accuracy: 0.881 - ETA: 10s - loss: 0.2870 - accuracy: 0.881 - ETA: 10s - loss: 0.2870 - accuracy: 0.881 - ETA: 10s - loss: 0.2868 - accuracy: 0.882 - ETA: 10s - loss: 0.2866 - accuracy: 0.882 - ETA: 10s - loss: 0.2865 - accuracy: 0.882 - ETA: 10s - loss: 0.2866 - accuracy: 0.882 - ETA: 10s - loss: 0.2865 - accuracy: 0.882 - ETA: 10s - loss: 0.2864 - accuracy: 0.882 - ETA: 10s - loss: 0.2865 - accuracy: 0.882 - ETA: 10s - loss: 0.2866 - accuracy: 0.882 - ETA: 10s - loss: 0.2867 - accuracy: 0.882 - ETA: 9s - loss: 0.2866 - accuracy: 0.882 - ETA: 9s - loss: 0.2867 - accuracy: 0.88 - ETA: 9s - loss: 0.2867 - accuracy: 0.88 - ETA: 9s - loss: 0.2867 - accuracy: 0.88 - ETA: 9s - loss: 0.2866 - accuracy: 0.88 - ETA: 9s - loss: 0.2866 - accuracy: 0.88 - ETA: 9s - loss: 0.2865 - accuracy: 0.88 - ETA: 9s - loss: 0.2864 - accuracy: 0.88 - ETA: 9s - loss: 0.2865 - accuracy: 0.88 - ETA: 9s - loss: 0.2864 - accuracy: 0.88 - ETA: 9s - loss: 0.2864 - accuracy: 0.88 - ETA: 9s - loss: 0.2867 - accuracy: 0.88 - ETA: 9s - loss: 0.2866 - accuracy: 0.88 - ETA: 8s - loss: 0.2865 - accuracy: 0.88 - ETA: 8s - loss: 0.2865 - accuracy: 0.88 - ETA: 8s - loss: 0.2865 - accuracy: 0.88 - ETA: 8s - loss: 0.2865 - accuracy: 0.88 - ETA: 8s - loss: 0.2864 - accuracy: 0.88 - ETA: 8s - loss: 0.2861 - accuracy: 0.88 - ETA: 8s - loss: 0.2863 - accuracy: 0.88 - ETA: 8s - loss: 0.2862 - accuracy: 0.88 - ETA: 8s - loss: 0.2861 - accuracy: 0.88 - ETA: 8s - loss: 0.2859 - accuracy: 0.88 - ETA: 8s - loss: 0.2857 - accuracy: 0.88 - ETA: 8s - loss: 0.2857 - accuracy: 0.88 - ETA: 8s - loss: 0.2858 - accuracy: 0.88 - ETA: 7s - loss: 0.2858 - accuracy: 0.88 - ETA: 7s - loss: 0.2858 - accuracy: 0.88 - ETA: 7s - loss: 0.2856 - accuracy: 0.88 - ETA: 7s - loss: 0.2857 - accuracy: 0.88 - ETA: 7s - loss: 0.2861 - accuracy: 0.88 - ETA: 7s - loss: 0.2861 - accuracy: 0.88 - ETA: 7s - loss: 0.2861 - accuracy: 0.88 - ETA: 7s - loss: 0.2862 - accuracy: 0.88 - ETA: 7s - loss: 0.2861 - accuracy: 0.88 - ETA: 7s - loss: 0.2860 - accuracy: 0.88 - ETA: 7s - loss: 0.2859 - accuracy: 0.88 - ETA: 7s - loss: 0.2859 - accuracy: 0.88 - ETA: 7s - loss: 0.2860 - accuracy: 0.88 - ETA: 7s - loss: 0.2860 - accuracy: 0.88 - ETA: 7s - loss: 0.2859 - accuracy: 0.88 - ETA: 6s - loss: 0.2860 - accuracy: 0.88 - ETA: 6s - loss: 0.2863 - accuracy: 0.88 - ETA: 6s - loss: 0.2863 - accuracy: 0.88 - ETA: 6s - loss: 0.2863 - accuracy: 0.88 - ETA: 6s - loss: 0.2863 - accuracy: 0.88 - ETA: 6s - loss: 0.2862 - accuracy: 0.88 - ETA: 6s - loss: 0.2861 - accuracy: 0.88 - ETA: 6s - loss: 0.2862 - accuracy: 0.88 - ETA: 6s - loss: 0.2859 - accuracy: 0.88 - ETA: 6s - loss: 0.2861 - accuracy: 0.88 - ETA: 6s - loss: 0.2859 - accuracy: 0.88 - ETA: 6s - loss: 0.2857 - accuracy: 0.88 - ETA: 6s - loss: 0.2856 - accuracy: 0.88 - ETA: 6s - loss: 0.2855 - accuracy: 0.88 - ETA: 5s - loss: 0.2855 - accuracy: 0.88 - ETA: 5s - loss: 0.2857 - accuracy: 0.88 - ETA: 5s - loss: 0.2858 - accuracy: 0.88 - ETA: 5s - loss: 0.2858 - accuracy: 0.88 - ETA: 5s - loss: 0.2859 - accuracy: 0.88 - ETA: 5s - loss: 0.2858 - accuracy: 0.88 - ETA: 5s - loss: 0.2859 - accuracy: 0.88 - ETA: 5s - loss: 0.2857 - accuracy: 0.88 - ETA: 5s - loss: 0.2858 - accuracy: 0.88 - ETA: 5s - loss: 0.2858 - accuracy: 0.88 - ETA: 5s - loss: 0.2855 - accuracy: 0.88 - ETA: 5s - loss: 0.2858 - accuracy: 0.88 - ETA: 5s - loss: 0.2857 - accuracy: 0.88 - ETA: 4s - loss: 0.2858 - accuracy: 0.88 - ETA: 4s - loss: 0.2857 - accuracy: 0.88 - ETA: 4s - loss: 0.2857 - accuracy: 0.88 - ETA: 4s - loss: 0.2859 - accuracy: 0.88 - ETA: 4s - loss: 0.2861 - accuracy: 0.88 - ETA: 4s - loss: 0.2859 - accuracy: 0.88 - ETA: 4s - loss: 0.2857 - accuracy: 0.88 - ETA: 4s - loss: 0.2857 - accuracy: 0.88 - ETA: 4s - loss: 0.2856 - accuracy: 0.88 - ETA: 4s - loss: 0.2855 - accuracy: 0.88 - ETA: 4s - loss: 0.2856 - accuracy: 0.88 - ETA: 4s - loss: 0.2856 - accuracy: 0.88 - ETA: 4s - loss: 0.2855 - accuracy: 0.88 - ETA: 3s - loss: 0.2854 - accuracy: 0.88 - ETA: 3s - loss: 0.2854 - accuracy: 0.88 - ETA: 3s - loss: 0.2854 - accuracy: 0.88 - ETA: 3s - loss: 0.2855 - accuracy: 0.88 - ETA: 3s - loss: 0.2856 - accuracy: 0.88 - ETA: 3s - loss: 0.2859 - accuracy: 0.88 - ETA: 3s - loss: 0.2860 - accuracy: 0.88 - ETA: 3s - loss: 0.2861 - accuracy: 0.88 - ETA: 3s - loss: 0.2860 - accuracy: 0.88 - ETA: 3s - loss: 0.2861 - accuracy: 0.88 - ETA: 3s - loss: 0.2860 - accuracy: 0.88 - ETA: 3s - loss: 0.2862 - accuracy: 0.88 - ETA: 3s - loss: 0.2862 - accuracy: 0.88 - ETA: 2s - loss: 0.2861 - accuracy: 0.88 - ETA: 2s - loss: 0.2862 - accuracy: 0.88 - ETA: 2s - loss: 0.2863 - accuracy: 0.88 - ETA: 2s - loss: 0.2861 - accuracy: 0.88 - ETA: 2s - loss: 0.2860 - accuracy: 0.8820"
     ]
    },
    {
     "name": "stdout",
     "output_type": "stream",
     "text": [
      "25000/25000 [==============================] - ETA: 2s - loss: 0.2862 - accuracy: 0.88 - ETA: 2s - loss: 0.2863 - accuracy: 0.88 - ETA: 2s - loss: 0.2863 - accuracy: 0.88 - ETA: 2s - loss: 0.2863 - accuracy: 0.88 - ETA: 2s - loss: 0.2861 - accuracy: 0.88 - ETA: 2s - loss: 0.2860 - accuracy: 0.88 - ETA: 2s - loss: 0.2859 - accuracy: 0.88 - ETA: 2s - loss: 0.2858 - accuracy: 0.88 - ETA: 1s - loss: 0.2858 - accuracy: 0.88 - ETA: 1s - loss: 0.2858 - accuracy: 0.88 - ETA: 1s - loss: 0.2857 - accuracy: 0.88 - ETA: 1s - loss: 0.2856 - accuracy: 0.88 - ETA: 1s - loss: 0.2857 - accuracy: 0.88 - ETA: 1s - loss: 0.2858 - accuracy: 0.88 - ETA: 1s - loss: 0.2857 - accuracy: 0.88 - ETA: 1s - loss: 0.2858 - accuracy: 0.88 - ETA: 1s - loss: 0.2857 - accuracy: 0.88 - ETA: 1s - loss: 0.2856 - accuracy: 0.88 - ETA: 1s - loss: 0.2857 - accuracy: 0.88 - ETA: 1s - loss: 0.2856 - accuracy: 0.88 - ETA: 0s - loss: 0.2858 - accuracy: 0.88 - ETA: 0s - loss: 0.2856 - accuracy: 0.88 - ETA: 0s - loss: 0.2856 - accuracy: 0.88 - ETA: 0s - loss: 0.2856 - accuracy: 0.88 - ETA: 0s - loss: 0.2857 - accuracy: 0.88 - ETA: 0s - loss: 0.2858 - accuracy: 0.88 - ETA: 0s - loss: 0.2858 - accuracy: 0.88 - ETA: 0s - loss: 0.2858 - accuracy: 0.88 - ETA: 0s - loss: 0.2858 - accuracy: 0.88 - ETA: 0s - loss: 0.2860 - accuracy: 0.88 - ETA: 0s - loss: 0.2861 - accuracy: 0.88 - ETA: 0s - loss: 0.2861 - accuracy: 0.88 - ETA: 0s - loss: 0.2861 - accuracy: 0.88 - 63s 3ms/sample - loss: 0.2860 - accuracy: 0.8814\n",
      "Epoch 4/5\n"
     ]
    },
    {
     "name": "stdout",
     "output_type": "stream",
     "text": [
      " 5952/25000 [======>.......................] - ETA: 1:12 - loss: 0.1929 - accuracy: 0.96 - ETA: 1:16 - loss: 0.2162 - accuracy: 0.95 - ETA: 1:22 - loss: 0.2258 - accuracy: 0.92 - ETA: 1:21 - loss: 0.2070 - accuracy: 0.92 - ETA: 1:20 - loss: 0.2337 - accuracy: 0.91 - ETA: 1:20 - loss: 0.2100 - accuracy: 0.92 - ETA: 1:19 - loss: 0.2091 - accuracy: 0.92 - ETA: 1:19 - loss: 0.2049 - accuracy: 0.92 - ETA: 1:18 - loss: 0.2110 - accuracy: 0.92 - ETA: 1:18 - loss: 0.2147 - accuracy: 0.92 - ETA: 1:18 - loss: 0.2072 - accuracy: 0.93 - ETA: 1:18 - loss: 0.2219 - accuracy: 0.91 - ETA: 1:18 - loss: 0.2267 - accuracy: 0.91 - ETA: 1:18 - loss: 0.2311 - accuracy: 0.91 - ETA: 1:18 - loss: 0.2206 - accuracy: 0.91 - ETA: 1:17 - loss: 0.2200 - accuracy: 0.91 - ETA: 1:17 - loss: 0.2144 - accuracy: 0.92 - ETA: 1:17 - loss: 0.2103 - accuracy: 0.92 - ETA: 1:17 - loss: 0.2194 - accuracy: 0.92 - ETA: 1:16 - loss: 0.2274 - accuracy: 0.91 - ETA: 1:16 - loss: 0.2344 - accuracy: 0.91 - ETA: 1:16 - loss: 0.2290 - accuracy: 0.92 - ETA: 1:16 - loss: 0.2349 - accuracy: 0.91 - ETA: 1:16 - loss: 0.2304 - accuracy: 0.92 - ETA: 1:15 - loss: 0.2255 - accuracy: 0.92 - ETA: 1:15 - loss: 0.2337 - accuracy: 0.91 - ETA: 1:15 - loss: 0.2341 - accuracy: 0.91 - ETA: 1:15 - loss: 0.2318 - accuracy: 0.91 - ETA: 1:16 - loss: 0.2293 - accuracy: 0.91 - ETA: 1:16 - loss: 0.2302 - accuracy: 0.91 - ETA: 1:16 - loss: 0.2382 - accuracy: 0.90 - ETA: 1:16 - loss: 0.2388 - accuracy: 0.90 - ETA: 1:16 - loss: 0.2393 - accuracy: 0.91 - ETA: 1:15 - loss: 0.2374 - accuracy: 0.91 - ETA: 1:15 - loss: 0.2356 - accuracy: 0.91 - ETA: 1:14 - loss: 0.2370 - accuracy: 0.91 - ETA: 1:13 - loss: 0.2405 - accuracy: 0.91 - ETA: 1:13 - loss: 0.2419 - accuracy: 0.91 - ETA: 1:12 - loss: 0.2498 - accuracy: 0.90 - ETA: 1:12 - loss: 0.2470 - accuracy: 0.91 - ETA: 1:11 - loss: 0.2445 - accuracy: 0.91 - ETA: 1:11 - loss: 0.2424 - accuracy: 0.91 - ETA: 1:10 - loss: 0.2385 - accuracy: 0.91 - ETA: 1:10 - loss: 0.2352 - accuracy: 0.91 - ETA: 1:09 - loss: 0.2329 - accuracy: 0.91 - ETA: 1:09 - loss: 0.2306 - accuracy: 0.91 - ETA: 1:09 - loss: 0.2333 - accuracy: 0.91 - ETA: 1:08 - loss: 0.2339 - accuracy: 0.91 - ETA: 1:08 - loss: 0.2377 - accuracy: 0.91 - ETA: 1:08 - loss: 0.2357 - accuracy: 0.91 - ETA: 1:07 - loss: 0.2361 - accuracy: 0.90 - ETA: 1:07 - loss: 0.2358 - accuracy: 0.91 - ETA: 1:07 - loss: 0.2369 - accuracy: 0.90 - ETA: 1:06 - loss: 0.2411 - accuracy: 0.90 - ETA: 1:06 - loss: 0.2395 - accuracy: 0.90 - ETA: 1:06 - loss: 0.2423 - accuracy: 0.90 - ETA: 1:05 - loss: 0.2410 - accuracy: 0.90 - ETA: 1:05 - loss: 0.2398 - accuracy: 0.90 - ETA: 1:05 - loss: 0.2395 - accuracy: 0.90 - ETA: 1:05 - loss: 0.2390 - accuracy: 0.90 - ETA: 1:04 - loss: 0.2399 - accuracy: 0.90 - ETA: 1:04 - loss: 0.2390 - accuracy: 0.90 - ETA: 1:04 - loss: 0.2407 - accuracy: 0.90 - ETA: 1:04 - loss: 0.2418 - accuracy: 0.90 - ETA: 1:03 - loss: 0.2425 - accuracy: 0.90 - ETA: 1:03 - loss: 0.2437 - accuracy: 0.90 - ETA: 1:03 - loss: 0.2445 - accuracy: 0.90 - ETA: 1:03 - loss: 0.2440 - accuracy: 0.90 - ETA: 1:03 - loss: 0.2436 - accuracy: 0.90 - ETA: 1:02 - loss: 0.2418 - accuracy: 0.90 - ETA: 1:02 - loss: 0.2415 - accuracy: 0.90 - ETA: 1:02 - loss: 0.2403 - accuracy: 0.90 - ETA: 1:02 - loss: 0.2399 - accuracy: 0.90 - ETA: 1:02 - loss: 0.2390 - accuracy: 0.90 - ETA: 1:01 - loss: 0.2367 - accuracy: 0.90 - ETA: 1:01 - loss: 0.2350 - accuracy: 0.91 - ETA: 1:01 - loss: 0.2376 - accuracy: 0.91 - ETA: 1:01 - loss: 0.2382 - accuracy: 0.90 - ETA: 1:01 - loss: 0.2374 - accuracy: 0.90 - ETA: 1:01 - loss: 0.2372 - accuracy: 0.90 - ETA: 1:00 - loss: 0.2360 - accuracy: 0.91 - ETA: 1:00 - loss: 0.2358 - accuracy: 0.91 - ETA: 1:00 - loss: 0.2358 - accuracy: 0.91 - ETA: 1:00 - loss: 0.2353 - accuracy: 0.91 - ETA: 1:00 - loss: 0.2349 - accuracy: 0.91 - ETA: 1:00 - loss: 0.2340 - accuracy: 0.91 - ETA: 1:00 - loss: 0.2332 - accuracy: 0.91 - ETA: 59s - loss: 0.2340 - accuracy: 0.9123 - ETA: 1:00 - loss: 0.2331 - accuracy: 0.91 - ETA: 59s - loss: 0.2322 - accuracy: 0.9135 - ETA: 59s - loss: 0.2320 - accuracy: 0.913 - ETA: 59s - loss: 0.2327 - accuracy: 0.912 - ETA: 59s - loss: 0.2315 - accuracy: 0.913 - ETA: 59s - loss: 0.2315 - accuracy: 0.912 - ETA: 59s - loss: 0.2312 - accuracy: 0.912 - ETA: 59s - loss: 0.2317 - accuracy: 0.912 - ETA: 59s - loss: 0.2317 - accuracy: 0.912 - ETA: 59s - loss: 0.2317 - accuracy: 0.912 - ETA: 58s - loss: 0.2302 - accuracy: 0.912 - ETA: 58s - loss: 0.2299 - accuracy: 0.912 - ETA: 58s - loss: 0.2292 - accuracy: 0.912 - ETA: 58s - loss: 0.2295 - accuracy: 0.912 - ETA: 58s - loss: 0.2280 - accuracy: 0.913 - ETA: 58s - loss: 0.2291 - accuracy: 0.912 - ETA: 58s - loss: 0.2303 - accuracy: 0.912 - ETA: 58s - loss: 0.2287 - accuracy: 0.912 - ETA: 57s - loss: 0.2279 - accuracy: 0.913 - ETA: 57s - loss: 0.2298 - accuracy: 0.912 - ETA: 57s - loss: 0.2292 - accuracy: 0.913 - ETA: 57s - loss: 0.2289 - accuracy: 0.913 - ETA: 57s - loss: 0.2284 - accuracy: 0.913 - ETA: 57s - loss: 0.2289 - accuracy: 0.913 - ETA: 57s - loss: 0.2295 - accuracy: 0.912 - ETA: 57s - loss: 0.2289 - accuracy: 0.912 - ETA: 57s - loss: 0.2290 - accuracy: 0.912 - ETA: 56s - loss: 0.2290 - accuracy: 0.912 - ETA: 56s - loss: 0.2286 - accuracy: 0.912 - ETA: 56s - loss: 0.2277 - accuracy: 0.913 - ETA: 56s - loss: 0.2278 - accuracy: 0.912 - ETA: 56s - loss: 0.2271 - accuracy: 0.913 - ETA: 56s - loss: 0.2265 - accuracy: 0.913 - ETA: 56s - loss: 0.2253 - accuracy: 0.914 - ETA: 56s - loss: 0.2242 - accuracy: 0.914 - ETA: 55s - loss: 0.2226 - accuracy: 0.915 - ETA: 55s - loss: 0.2218 - accuracy: 0.915 - ETA: 55s - loss: 0.2238 - accuracy: 0.914 - ETA: 55s - loss: 0.2238 - accuracy: 0.914 - ETA: 55s - loss: 0.2236 - accuracy: 0.914 - ETA: 55s - loss: 0.2233 - accuracy: 0.915 - ETA: 55s - loss: 0.2235 - accuracy: 0.914 - ETA: 55s - loss: 0.2228 - accuracy: 0.914 - ETA: 54s - loss: 0.2227 - accuracy: 0.914 - ETA: 54s - loss: 0.2226 - accuracy: 0.914 - ETA: 54s - loss: 0.2227 - accuracy: 0.914 - ETA: 54s - loss: 0.2222 - accuracy: 0.914 - ETA: 54s - loss: 0.2216 - accuracy: 0.914 - ETA: 54s - loss: 0.2217 - accuracy: 0.914 - ETA: 54s - loss: 0.2209 - accuracy: 0.915 - ETA: 54s - loss: 0.2246 - accuracy: 0.914 - ETA: 53s - loss: 0.2239 - accuracy: 0.915 - ETA: 53s - loss: 0.2252 - accuracy: 0.914 - ETA: 53s - loss: 0.2256 - accuracy: 0.914 - ETA: 53s - loss: 0.2259 - accuracy: 0.914 - ETA: 53s - loss: 0.2251 - accuracy: 0.914 - ETA: 53s - loss: 0.2249 - accuracy: 0.914 - ETA: 53s - loss: 0.2249 - accuracy: 0.914 - ETA: 53s - loss: 0.2245 - accuracy: 0.914 - ETA: 53s - loss: 0.2248 - accuracy: 0.914 - ETA: 52s - loss: 0.2245 - accuracy: 0.914 - ETA: 52s - loss: 0.2245 - accuracy: 0.914 - ETA: 52s - loss: 0.2246 - accuracy: 0.913 - ETA: 52s - loss: 0.2272 - accuracy: 0.913 - ETA: 52s - loss: 0.2271 - accuracy: 0.913 - ETA: 52s - loss: 0.2264 - accuracy: 0.913 - ETA: 52s - loss: 0.2262 - accuracy: 0.913 - ETA: 52s - loss: 0.2274 - accuracy: 0.913 - ETA: 52s - loss: 0.2278 - accuracy: 0.913 - ETA: 51s - loss: 0.2288 - accuracy: 0.913 - ETA: 51s - loss: 0.2290 - accuracy: 0.912 - ETA: 51s - loss: 0.2290 - accuracy: 0.912 - ETA: 51s - loss: 0.2295 - accuracy: 0.912 - ETA: 51s - loss: 0.2298 - accuracy: 0.912 - ETA: 51s - loss: 0.2300 - accuracy: 0.912 - ETA: 51s - loss: 0.2295 - accuracy: 0.912 - ETA: 51s - loss: 0.2294 - accuracy: 0.912 - ETA: 51s - loss: 0.2293 - accuracy: 0.912 - ETA: 50s - loss: 0.2289 - accuracy: 0.912 - ETA: 50s - loss: 0.2289 - accuracy: 0.912 - ETA: 50s - loss: 0.2284 - accuracy: 0.912 - ETA: 50s - loss: 0.2280 - accuracy: 0.913 - ETA: 50s - loss: 0.2281 - accuracy: 0.913 - ETA: 50s - loss: 0.2284 - accuracy: 0.912 - ETA: 50s - loss: 0.2279 - accuracy: 0.912 - ETA: 50s - loss: 0.2274 - accuracy: 0.913 - ETA: 50s - loss: 0.2269 - accuracy: 0.913 - ETA: 50s - loss: 0.2267 - accuracy: 0.913 - ETA: 49s - loss: 0.2267 - accuracy: 0.913 - ETA: 49s - loss: 0.2265 - accuracy: 0.913 - ETA: 49s - loss: 0.2282 - accuracy: 0.912 - ETA: 49s - loss: 0.2280 - accuracy: 0.912 - ETA: 49s - loss: 0.2277 - accuracy: 0.912 - ETA: 49s - loss: 0.2274 - accuracy: 0.913 - ETA: 49s - loss: 0.2276 - accuracy: 0.912 - ETA: 49s - loss: 0.2276 - accuracy: 0.913 - ETA: 49s - loss: 0.2280 - accuracy: 0.913 - ETA: 48s - loss: 0.2278 - accuracy: 0.9128"
     ]
    },
    {
     "name": "stdout",
     "output_type": "stream",
     "text": [
      "11904/25000 [=============>................] - ETA: 48s - loss: 0.2272 - accuracy: 0.912 - ETA: 48s - loss: 0.2264 - accuracy: 0.913 - ETA: 48s - loss: 0.2256 - accuracy: 0.913 - ETA: 48s - loss: 0.2266 - accuracy: 0.913 - ETA: 48s - loss: 0.2269 - accuracy: 0.912 - ETA: 48s - loss: 0.2273 - accuracy: 0.912 - ETA: 48s - loss: 0.2271 - accuracy: 0.912 - ETA: 48s - loss: 0.2264 - accuracy: 0.912 - ETA: 47s - loss: 0.2258 - accuracy: 0.912 - ETA: 47s - loss: 0.2254 - accuracy: 0.913 - ETA: 47s - loss: 0.2255 - accuracy: 0.913 - ETA: 47s - loss: 0.2265 - accuracy: 0.912 - ETA: 47s - loss: 0.2272 - accuracy: 0.912 - ETA: 47s - loss: 0.2270 - accuracy: 0.912 - ETA: 47s - loss: 0.2271 - accuracy: 0.912 - ETA: 47s - loss: 0.2272 - accuracy: 0.912 - ETA: 47s - loss: 0.2269 - accuracy: 0.913 - ETA: 47s - loss: 0.2274 - accuracy: 0.913 - ETA: 47s - loss: 0.2272 - accuracy: 0.913 - ETA: 46s - loss: 0.2264 - accuracy: 0.913 - ETA: 46s - loss: 0.2264 - accuracy: 0.913 - ETA: 46s - loss: 0.2259 - accuracy: 0.913 - ETA: 46s - loss: 0.2255 - accuracy: 0.913 - ETA: 46s - loss: 0.2253 - accuracy: 0.913 - ETA: 46s - loss: 0.2253 - accuracy: 0.913 - ETA: 46s - loss: 0.2253 - accuracy: 0.913 - ETA: 46s - loss: 0.2255 - accuracy: 0.913 - ETA: 46s - loss: 0.2271 - accuracy: 0.912 - ETA: 46s - loss: 0.2277 - accuracy: 0.912 - ETA: 46s - loss: 0.2271 - accuracy: 0.912 - ETA: 46s - loss: 0.2266 - accuracy: 0.912 - ETA: 46s - loss: 0.2273 - accuracy: 0.912 - ETA: 46s - loss: 0.2278 - accuracy: 0.912 - ETA: 46s - loss: 0.2281 - accuracy: 0.912 - ETA: 46s - loss: 0.2278 - accuracy: 0.912 - ETA: 46s - loss: 0.2281 - accuracy: 0.912 - ETA: 46s - loss: 0.2281 - accuracy: 0.912 - ETA: 46s - loss: 0.2280 - accuracy: 0.913 - ETA: 46s - loss: 0.2284 - accuracy: 0.912 - ETA: 46s - loss: 0.2284 - accuracy: 0.913 - ETA: 46s - loss: 0.2283 - accuracy: 0.913 - ETA: 46s - loss: 0.2284 - accuracy: 0.912 - ETA: 45s - loss: 0.2286 - accuracy: 0.912 - ETA: 45s - loss: 0.2291 - accuracy: 0.912 - ETA: 45s - loss: 0.2296 - accuracy: 0.911 - ETA: 45s - loss: 0.2291 - accuracy: 0.912 - ETA: 45s - loss: 0.2288 - accuracy: 0.912 - ETA: 45s - loss: 0.2285 - accuracy: 0.912 - ETA: 45s - loss: 0.2282 - accuracy: 0.912 - ETA: 45s - loss: 0.2288 - accuracy: 0.912 - ETA: 45s - loss: 0.2283 - accuracy: 0.912 - ETA: 45s - loss: 0.2292 - accuracy: 0.912 - ETA: 45s - loss: 0.2286 - accuracy: 0.912 - ETA: 45s - loss: 0.2283 - accuracy: 0.912 - ETA: 45s - loss: 0.2281 - accuracy: 0.912 - ETA: 45s - loss: 0.2278 - accuracy: 0.913 - ETA: 44s - loss: 0.2278 - accuracy: 0.912 - ETA: 44s - loss: 0.2274 - accuracy: 0.913 - ETA: 44s - loss: 0.2270 - accuracy: 0.913 - ETA: 44s - loss: 0.2278 - accuracy: 0.913 - ETA: 44s - loss: 0.2279 - accuracy: 0.913 - ETA: 44s - loss: 0.2283 - accuracy: 0.912 - ETA: 44s - loss: 0.2281 - accuracy: 0.913 - ETA: 44s - loss: 0.2280 - accuracy: 0.913 - ETA: 44s - loss: 0.2277 - accuracy: 0.913 - ETA: 44s - loss: 0.2278 - accuracy: 0.913 - ETA: 44s - loss: 0.2276 - accuracy: 0.913 - ETA: 44s - loss: 0.2272 - accuracy: 0.913 - ETA: 44s - loss: 0.2269 - accuracy: 0.913 - ETA: 43s - loss: 0.2267 - accuracy: 0.914 - ETA: 43s - loss: 0.2265 - accuracy: 0.914 - ETA: 43s - loss: 0.2264 - accuracy: 0.914 - ETA: 43s - loss: 0.2266 - accuracy: 0.914 - ETA: 43s - loss: 0.2261 - accuracy: 0.914 - ETA: 43s - loss: 0.2259 - accuracy: 0.914 - ETA: 43s - loss: 0.2256 - accuracy: 0.914 - ETA: 43s - loss: 0.2251 - accuracy: 0.914 - ETA: 43s - loss: 0.2257 - accuracy: 0.914 - ETA: 43s - loss: 0.2258 - accuracy: 0.914 - ETA: 43s - loss: 0.2258 - accuracy: 0.914 - ETA: 43s - loss: 0.2263 - accuracy: 0.914 - ETA: 43s - loss: 0.2272 - accuracy: 0.913 - ETA: 42s - loss: 0.2271 - accuracy: 0.914 - ETA: 42s - loss: 0.2272 - accuracy: 0.914 - ETA: 42s - loss: 0.2270 - accuracy: 0.914 - ETA: 42s - loss: 0.2270 - accuracy: 0.914 - ETA: 42s - loss: 0.2274 - accuracy: 0.914 - ETA: 42s - loss: 0.2272 - accuracy: 0.914 - ETA: 42s - loss: 0.2268 - accuracy: 0.914 - ETA: 42s - loss: 0.2268 - accuracy: 0.914 - ETA: 42s - loss: 0.2270 - accuracy: 0.914 - ETA: 42s - loss: 0.2267 - accuracy: 0.914 - ETA: 42s - loss: 0.2268 - accuracy: 0.914 - ETA: 41s - loss: 0.2274 - accuracy: 0.914 - ETA: 41s - loss: 0.2270 - accuracy: 0.914 - ETA: 41s - loss: 0.2272 - accuracy: 0.914 - ETA: 41s - loss: 0.2276 - accuracy: 0.914 - ETA: 41s - loss: 0.2271 - accuracy: 0.914 - ETA: 41s - loss: 0.2272 - accuracy: 0.914 - ETA: 41s - loss: 0.2277 - accuracy: 0.913 - ETA: 41s - loss: 0.2276 - accuracy: 0.913 - ETA: 41s - loss: 0.2276 - accuracy: 0.913 - ETA: 41s - loss: 0.2273 - accuracy: 0.913 - ETA: 41s - loss: 0.2271 - accuracy: 0.913 - ETA: 40s - loss: 0.2270 - accuracy: 0.913 - ETA: 40s - loss: 0.2271 - accuracy: 0.913 - ETA: 40s - loss: 0.2272 - accuracy: 0.913 - ETA: 40s - loss: 0.2270 - accuracy: 0.913 - ETA: 40s - loss: 0.2268 - accuracy: 0.913 - ETA: 40s - loss: 0.2270 - accuracy: 0.913 - ETA: 40s - loss: 0.2271 - accuracy: 0.913 - ETA: 40s - loss: 0.2272 - accuracy: 0.913 - ETA: 40s - loss: 0.2269 - accuracy: 0.913 - ETA: 40s - loss: 0.2268 - accuracy: 0.913 - ETA: 40s - loss: 0.2280 - accuracy: 0.913 - ETA: 39s - loss: 0.2280 - accuracy: 0.913 - ETA: 39s - loss: 0.2279 - accuracy: 0.913 - ETA: 39s - loss: 0.2276 - accuracy: 0.913 - ETA: 39s - loss: 0.2276 - accuracy: 0.913 - ETA: 39s - loss: 0.2278 - accuracy: 0.913 - ETA: 39s - loss: 0.2281 - accuracy: 0.912 - ETA: 39s - loss: 0.2278 - accuracy: 0.913 - ETA: 39s - loss: 0.2276 - accuracy: 0.913 - ETA: 39s - loss: 0.2273 - accuracy: 0.913 - ETA: 39s - loss: 0.2270 - accuracy: 0.913 - ETA: 39s - loss: 0.2272 - accuracy: 0.913 - ETA: 38s - loss: 0.2274 - accuracy: 0.912 - ETA: 38s - loss: 0.2277 - accuracy: 0.912 - ETA: 38s - loss: 0.2277 - accuracy: 0.912 - ETA: 38s - loss: 0.2274 - accuracy: 0.912 - ETA: 38s - loss: 0.2272 - accuracy: 0.913 - ETA: 38s - loss: 0.2275 - accuracy: 0.912 - ETA: 38s - loss: 0.2277 - accuracy: 0.912 - ETA: 38s - loss: 0.2273 - accuracy: 0.912 - ETA: 38s - loss: 0.2274 - accuracy: 0.913 - ETA: 38s - loss: 0.2271 - accuracy: 0.913 - ETA: 38s - loss: 0.2272 - accuracy: 0.913 - ETA: 37s - loss: 0.2273 - accuracy: 0.912 - ETA: 37s - loss: 0.2278 - accuracy: 0.912 - ETA: 37s - loss: 0.2279 - accuracy: 0.912 - ETA: 37s - loss: 0.2275 - accuracy: 0.912 - ETA: 37s - loss: 0.2273 - accuracy: 0.912 - ETA: 37s - loss: 0.2273 - accuracy: 0.912 - ETA: 37s - loss: 0.2282 - accuracy: 0.912 - ETA: 37s - loss: 0.2281 - accuracy: 0.912 - ETA: 37s - loss: 0.2277 - accuracy: 0.912 - ETA: 37s - loss: 0.2277 - accuracy: 0.912 - ETA: 37s - loss: 0.2280 - accuracy: 0.912 - ETA: 37s - loss: 0.2282 - accuracy: 0.912 - ETA: 36s - loss: 0.2282 - accuracy: 0.912 - ETA: 36s - loss: 0.2278 - accuracy: 0.913 - ETA: 36s - loss: 0.2277 - accuracy: 0.913 - ETA: 36s - loss: 0.2278 - accuracy: 0.913 - ETA: 36s - loss: 0.2282 - accuracy: 0.912 - ETA: 36s - loss: 0.2281 - accuracy: 0.912 - ETA: 36s - loss: 0.2281 - accuracy: 0.912 - ETA: 36s - loss: 0.2280 - accuracy: 0.912 - ETA: 36s - loss: 0.2281 - accuracy: 0.912 - ETA: 36s - loss: 0.2277 - accuracy: 0.912 - ETA: 36s - loss: 0.2278 - accuracy: 0.912 - ETA: 35s - loss: 0.2279 - accuracy: 0.912 - ETA: 35s - loss: 0.2284 - accuracy: 0.912 - ETA: 35s - loss: 0.2280 - accuracy: 0.912 - ETA: 35s - loss: 0.2276 - accuracy: 0.912 - ETA: 35s - loss: 0.2272 - accuracy: 0.912 - ETA: 35s - loss: 0.2269 - accuracy: 0.912 - ETA: 35s - loss: 0.2273 - accuracy: 0.912 - ETA: 35s - loss: 0.2283 - accuracy: 0.912 - ETA: 35s - loss: 0.2283 - accuracy: 0.912 - ETA: 35s - loss: 0.2285 - accuracy: 0.912 - ETA: 35s - loss: 0.2287 - accuracy: 0.912 - ETA: 35s - loss: 0.2286 - accuracy: 0.912 - ETA: 34s - loss: 0.2283 - accuracy: 0.912 - ETA: 34s - loss: 0.2282 - accuracy: 0.912 - ETA: 34s - loss: 0.2282 - accuracy: 0.912 - ETA: 34s - loss: 0.2282 - accuracy: 0.912 - ETA: 34s - loss: 0.2283 - accuracy: 0.912 - ETA: 34s - loss: 0.2283 - accuracy: 0.912 - ETA: 34s - loss: 0.2287 - accuracy: 0.912 - ETA: 34s - loss: 0.2287 - accuracy: 0.912 - ETA: 34s - loss: 0.2286 - accuracy: 0.912 - ETA: 34s - loss: 0.2285 - accuracy: 0.912 - ETA: 34s - loss: 0.2290 - accuracy: 0.912 - ETA: 34s - loss: 0.2287 - accuracy: 0.912 - ETA: 33s - loss: 0.2289 - accuracy: 0.912 - ETA: 33s - loss: 0.2287 - accuracy: 0.9121"
     ]
    },
    {
     "name": "stdout",
     "output_type": "stream",
     "text": [
      "17856/25000 [====================>.........] - ETA: 33s - loss: 0.2283 - accuracy: 0.912 - ETA: 33s - loss: 0.2280 - accuracy: 0.912 - ETA: 33s - loss: 0.2282 - accuracy: 0.912 - ETA: 33s - loss: 0.2280 - accuracy: 0.912 - ETA: 33s - loss: 0.2282 - accuracy: 0.912 - ETA: 33s - loss: 0.2279 - accuracy: 0.912 - ETA: 33s - loss: 0.2280 - accuracy: 0.912 - ETA: 33s - loss: 0.2282 - accuracy: 0.912 - ETA: 33s - loss: 0.2281 - accuracy: 0.912 - ETA: 32s - loss: 0.2286 - accuracy: 0.912 - ETA: 32s - loss: 0.2290 - accuracy: 0.911 - ETA: 32s - loss: 0.2294 - accuracy: 0.911 - ETA: 32s - loss: 0.2295 - accuracy: 0.911 - ETA: 32s - loss: 0.2294 - accuracy: 0.911 - ETA: 32s - loss: 0.2295 - accuracy: 0.911 - ETA: 32s - loss: 0.2298 - accuracy: 0.910 - ETA: 32s - loss: 0.2296 - accuracy: 0.911 - ETA: 32s - loss: 0.2298 - accuracy: 0.911 - ETA: 32s - loss: 0.2298 - accuracy: 0.911 - ETA: 32s - loss: 0.2300 - accuracy: 0.911 - ETA: 32s - loss: 0.2303 - accuracy: 0.910 - ETA: 31s - loss: 0.2303 - accuracy: 0.910 - ETA: 31s - loss: 0.2306 - accuracy: 0.910 - ETA: 31s - loss: 0.2310 - accuracy: 0.910 - ETA: 31s - loss: 0.2307 - accuracy: 0.910 - ETA: 31s - loss: 0.2308 - accuracy: 0.910 - ETA: 31s - loss: 0.2308 - accuracy: 0.910 - ETA: 31s - loss: 0.2306 - accuracy: 0.910 - ETA: 31s - loss: 0.2302 - accuracy: 0.911 - ETA: 31s - loss: 0.2304 - accuracy: 0.911 - ETA: 31s - loss: 0.2304 - accuracy: 0.911 - ETA: 31s - loss: 0.2308 - accuracy: 0.911 - ETA: 31s - loss: 0.2307 - accuracy: 0.910 - ETA: 30s - loss: 0.2308 - accuracy: 0.910 - ETA: 30s - loss: 0.2310 - accuracy: 0.910 - ETA: 30s - loss: 0.2307 - accuracy: 0.910 - ETA: 30s - loss: 0.2305 - accuracy: 0.911 - ETA: 30s - loss: 0.2304 - accuracy: 0.911 - ETA: 30s - loss: 0.2305 - accuracy: 0.911 - ETA: 30s - loss: 0.2304 - accuracy: 0.911 - ETA: 30s - loss: 0.2304 - accuracy: 0.911 - ETA: 30s - loss: 0.2304 - accuracy: 0.911 - ETA: 30s - loss: 0.2301 - accuracy: 0.911 - ETA: 30s - loss: 0.2299 - accuracy: 0.911 - ETA: 30s - loss: 0.2298 - accuracy: 0.911 - ETA: 29s - loss: 0.2296 - accuracy: 0.911 - ETA: 29s - loss: 0.2297 - accuracy: 0.911 - ETA: 29s - loss: 0.2297 - accuracy: 0.911 - ETA: 29s - loss: 0.2298 - accuracy: 0.911 - ETA: 29s - loss: 0.2300 - accuracy: 0.911 - ETA: 29s - loss: 0.2301 - accuracy: 0.911 - ETA: 29s - loss: 0.2300 - accuracy: 0.911 - ETA: 29s - loss: 0.2301 - accuracy: 0.911 - ETA: 29s - loss: 0.2303 - accuracy: 0.911 - ETA: 29s - loss: 0.2299 - accuracy: 0.911 - ETA: 29s - loss: 0.2300 - accuracy: 0.911 - ETA: 29s - loss: 0.2298 - accuracy: 0.911 - ETA: 28s - loss: 0.2299 - accuracy: 0.911 - ETA: 28s - loss: 0.2298 - accuracy: 0.911 - ETA: 28s - loss: 0.2298 - accuracy: 0.911 - ETA: 28s - loss: 0.2298 - accuracy: 0.911 - ETA: 28s - loss: 0.2298 - accuracy: 0.911 - ETA: 28s - loss: 0.2296 - accuracy: 0.911 - ETA: 28s - loss: 0.2298 - accuracy: 0.911 - ETA: 28s - loss: 0.2299 - accuracy: 0.911 - ETA: 28s - loss: 0.2298 - accuracy: 0.911 - ETA: 28s - loss: 0.2299 - accuracy: 0.911 - ETA: 28s - loss: 0.2301 - accuracy: 0.911 - ETA: 28s - loss: 0.2304 - accuracy: 0.911 - ETA: 27s - loss: 0.2302 - accuracy: 0.911 - ETA: 27s - loss: 0.2304 - accuracy: 0.911 - ETA: 27s - loss: 0.2305 - accuracy: 0.911 - ETA: 27s - loss: 0.2302 - accuracy: 0.911 - ETA: 27s - loss: 0.2301 - accuracy: 0.911 - ETA: 27s - loss: 0.2301 - accuracy: 0.911 - ETA: 27s - loss: 0.2299 - accuracy: 0.911 - ETA: 27s - loss: 0.2300 - accuracy: 0.911 - ETA: 27s - loss: 0.2300 - accuracy: 0.911 - ETA: 27s - loss: 0.2300 - accuracy: 0.911 - ETA: 27s - loss: 0.2300 - accuracy: 0.911 - ETA: 27s - loss: 0.2297 - accuracy: 0.911 - ETA: 26s - loss: 0.2304 - accuracy: 0.911 - ETA: 26s - loss: 0.2304 - accuracy: 0.911 - ETA: 26s - loss: 0.2302 - accuracy: 0.911 - ETA: 26s - loss: 0.2305 - accuracy: 0.911 - ETA: 26s - loss: 0.2306 - accuracy: 0.911 - ETA: 26s - loss: 0.2309 - accuracy: 0.911 - ETA: 26s - loss: 0.2309 - accuracy: 0.911 - ETA: 26s - loss: 0.2307 - accuracy: 0.911 - ETA: 26s - loss: 0.2311 - accuracy: 0.911 - ETA: 26s - loss: 0.2311 - accuracy: 0.911 - ETA: 26s - loss: 0.2310 - accuracy: 0.911 - ETA: 26s - loss: 0.2315 - accuracy: 0.910 - ETA: 25s - loss: 0.2314 - accuracy: 0.910 - ETA: 25s - loss: 0.2317 - accuracy: 0.910 - ETA: 25s - loss: 0.2316 - accuracy: 0.910 - ETA: 25s - loss: 0.2315 - accuracy: 0.910 - ETA: 25s - loss: 0.2315 - accuracy: 0.910 - ETA: 25s - loss: 0.2315 - accuracy: 0.910 - ETA: 25s - loss: 0.2316 - accuracy: 0.910 - ETA: 25s - loss: 0.2315 - accuracy: 0.910 - ETA: 25s - loss: 0.2316 - accuracy: 0.910 - ETA: 25s - loss: 0.2324 - accuracy: 0.910 - ETA: 25s - loss: 0.2326 - accuracy: 0.910 - ETA: 25s - loss: 0.2323 - accuracy: 0.910 - ETA: 24s - loss: 0.2325 - accuracy: 0.910 - ETA: 24s - loss: 0.2329 - accuracy: 0.910 - ETA: 24s - loss: 0.2325 - accuracy: 0.910 - ETA: 24s - loss: 0.2326 - accuracy: 0.910 - ETA: 24s - loss: 0.2325 - accuracy: 0.910 - ETA: 24s - loss: 0.2326 - accuracy: 0.909 - ETA: 24s - loss: 0.2323 - accuracy: 0.909 - ETA: 24s - loss: 0.2324 - accuracy: 0.910 - ETA: 24s - loss: 0.2321 - accuracy: 0.910 - ETA: 24s - loss: 0.2320 - accuracy: 0.910 - ETA: 24s - loss: 0.2321 - accuracy: 0.910 - ETA: 24s - loss: 0.2319 - accuracy: 0.910 - ETA: 23s - loss: 0.2321 - accuracy: 0.910 - ETA: 23s - loss: 0.2320 - accuracy: 0.910 - ETA: 23s - loss: 0.2319 - accuracy: 0.910 - ETA: 23s - loss: 0.2322 - accuracy: 0.910 - ETA: 23s - loss: 0.2325 - accuracy: 0.909 - ETA: 23s - loss: 0.2323 - accuracy: 0.910 - ETA: 23s - loss: 0.2322 - accuracy: 0.910 - ETA: 23s - loss: 0.2323 - accuracy: 0.910 - ETA: 23s - loss: 0.2323 - accuracy: 0.909 - ETA: 23s - loss: 0.2324 - accuracy: 0.909 - ETA: 23s - loss: 0.2324 - accuracy: 0.909 - ETA: 23s - loss: 0.2331 - accuracy: 0.909 - ETA: 22s - loss: 0.2329 - accuracy: 0.909 - ETA: 22s - loss: 0.2329 - accuracy: 0.909 - ETA: 22s - loss: 0.2329 - accuracy: 0.909 - ETA: 22s - loss: 0.2327 - accuracy: 0.909 - ETA: 22s - loss: 0.2329 - accuracy: 0.909 - ETA: 22s - loss: 0.2331 - accuracy: 0.909 - ETA: 22s - loss: 0.2331 - accuracy: 0.909 - ETA: 22s - loss: 0.2332 - accuracy: 0.909 - ETA: 22s - loss: 0.2330 - accuracy: 0.909 - ETA: 22s - loss: 0.2333 - accuracy: 0.909 - ETA: 22s - loss: 0.2331 - accuracy: 0.909 - ETA: 22s - loss: 0.2332 - accuracy: 0.909 - ETA: 21s - loss: 0.2330 - accuracy: 0.909 - ETA: 21s - loss: 0.2328 - accuracy: 0.909 - ETA: 21s - loss: 0.2328 - accuracy: 0.909 - ETA: 21s - loss: 0.2325 - accuracy: 0.909 - ETA: 21s - loss: 0.2326 - accuracy: 0.909 - ETA: 21s - loss: 0.2324 - accuracy: 0.909 - ETA: 21s - loss: 0.2322 - accuracy: 0.909 - ETA: 21s - loss: 0.2320 - accuracy: 0.909 - ETA: 21s - loss: 0.2319 - accuracy: 0.909 - ETA: 21s - loss: 0.2318 - accuracy: 0.909 - ETA: 21s - loss: 0.2319 - accuracy: 0.909 - ETA: 21s - loss: 0.2319 - accuracy: 0.909 - ETA: 20s - loss: 0.2324 - accuracy: 0.909 - ETA: 20s - loss: 0.2328 - accuracy: 0.909 - ETA: 20s - loss: 0.2331 - accuracy: 0.909 - ETA: 20s - loss: 0.2332 - accuracy: 0.909 - ETA: 20s - loss: 0.2334 - accuracy: 0.909 - ETA: 20s - loss: 0.2334 - accuracy: 0.909 - ETA: 20s - loss: 0.2334 - accuracy: 0.909 - ETA: 20s - loss: 0.2332 - accuracy: 0.909 - ETA: 20s - loss: 0.2335 - accuracy: 0.909 - ETA: 20s - loss: 0.2333 - accuracy: 0.909 - ETA: 20s - loss: 0.2338 - accuracy: 0.908 - ETA: 20s - loss: 0.2339 - accuracy: 0.908 - ETA: 19s - loss: 0.2342 - accuracy: 0.908 - ETA: 19s - loss: 0.2343 - accuracy: 0.908 - ETA: 19s - loss: 0.2342 - accuracy: 0.908 - ETA: 19s - loss: 0.2342 - accuracy: 0.908 - ETA: 19s - loss: 0.2344 - accuracy: 0.908 - ETA: 19s - loss: 0.2347 - accuracy: 0.908 - ETA: 19s - loss: 0.2348 - accuracy: 0.908 - ETA: 19s - loss: 0.2345 - accuracy: 0.908 - ETA: 19s - loss: 0.2344 - accuracy: 0.908 - ETA: 19s - loss: 0.2343 - accuracy: 0.908 - ETA: 19s - loss: 0.2343 - accuracy: 0.908 - ETA: 19s - loss: 0.2343 - accuracy: 0.908 - ETA: 18s - loss: 0.2345 - accuracy: 0.908 - ETA: 18s - loss: 0.2343 - accuracy: 0.908 - ETA: 18s - loss: 0.2346 - accuracy: 0.908 - ETA: 18s - loss: 0.2345 - accuracy: 0.908 - ETA: 18s - loss: 0.2346 - accuracy: 0.908 - ETA: 18s - loss: 0.2345 - accuracy: 0.908 - ETA: 18s - loss: 0.2347 - accuracy: 0.908 - ETA: 18s - loss: 0.2347 - accuracy: 0.908 - ETA: 18s - loss: 0.2347 - accuracy: 0.9083"
     ]
    },
    {
     "name": "stdout",
     "output_type": "stream",
     "text": [
      "23936/25000 [===========================>..] - ETA: 18s - loss: 0.2346 - accuracy: 0.908 - ETA: 18s - loss: 0.2344 - accuracy: 0.908 - ETA: 17s - loss: 0.2344 - accuracy: 0.908 - ETA: 17s - loss: 0.2346 - accuracy: 0.908 - ETA: 17s - loss: 0.2345 - accuracy: 0.908 - ETA: 17s - loss: 0.2346 - accuracy: 0.908 - ETA: 17s - loss: 0.2347 - accuracy: 0.908 - ETA: 17s - loss: 0.2346 - accuracy: 0.908 - ETA: 17s - loss: 0.2345 - accuracy: 0.908 - ETA: 17s - loss: 0.2347 - accuracy: 0.908 - ETA: 17s - loss: 0.2347 - accuracy: 0.908 - ETA: 17s - loss: 0.2345 - accuracy: 0.908 - ETA: 17s - loss: 0.2345 - accuracy: 0.908 - ETA: 17s - loss: 0.2347 - accuracy: 0.908 - ETA: 16s - loss: 0.2346 - accuracy: 0.908 - ETA: 16s - loss: 0.2344 - accuracy: 0.908 - ETA: 16s - loss: 0.2346 - accuracy: 0.908 - ETA: 16s - loss: 0.2345 - accuracy: 0.908 - ETA: 16s - loss: 0.2347 - accuracy: 0.908 - ETA: 16s - loss: 0.2349 - accuracy: 0.908 - ETA: 16s - loss: 0.2351 - accuracy: 0.907 - ETA: 16s - loss: 0.2353 - accuracy: 0.907 - ETA: 16s - loss: 0.2354 - accuracy: 0.907 - ETA: 16s - loss: 0.2353 - accuracy: 0.907 - ETA: 16s - loss: 0.2355 - accuracy: 0.907 - ETA: 16s - loss: 0.2355 - accuracy: 0.907 - ETA: 15s - loss: 0.2355 - accuracy: 0.907 - ETA: 15s - loss: 0.2355 - accuracy: 0.907 - ETA: 15s - loss: 0.2357 - accuracy: 0.907 - ETA: 15s - loss: 0.2357 - accuracy: 0.907 - ETA: 15s - loss: 0.2357 - accuracy: 0.907 - ETA: 15s - loss: 0.2360 - accuracy: 0.907 - ETA: 15s - loss: 0.2359 - accuracy: 0.907 - ETA: 15s - loss: 0.2360 - accuracy: 0.907 - ETA: 15s - loss: 0.2362 - accuracy: 0.907 - ETA: 15s - loss: 0.2360 - accuracy: 0.907 - ETA: 15s - loss: 0.2361 - accuracy: 0.907 - ETA: 15s - loss: 0.2361 - accuracy: 0.907 - ETA: 14s - loss: 0.2361 - accuracy: 0.907 - ETA: 14s - loss: 0.2360 - accuracy: 0.907 - ETA: 14s - loss: 0.2358 - accuracy: 0.907 - ETA: 14s - loss: 0.2358 - accuracy: 0.907 - ETA: 14s - loss: 0.2359 - accuracy: 0.907 - ETA: 14s - loss: 0.2360 - accuracy: 0.907 - ETA: 14s - loss: 0.2358 - accuracy: 0.907 - ETA: 14s - loss: 0.2359 - accuracy: 0.907 - ETA: 14s - loss: 0.2358 - accuracy: 0.907 - ETA: 14s - loss: 0.2360 - accuracy: 0.907 - ETA: 14s - loss: 0.2358 - accuracy: 0.907 - ETA: 14s - loss: 0.2358 - accuracy: 0.907 - ETA: 14s - loss: 0.2359 - accuracy: 0.907 - ETA: 13s - loss: 0.2358 - accuracy: 0.907 - ETA: 13s - loss: 0.2356 - accuracy: 0.907 - ETA: 13s - loss: 0.2355 - accuracy: 0.907 - ETA: 13s - loss: 0.2353 - accuracy: 0.907 - ETA: 13s - loss: 0.2353 - accuracy: 0.907 - ETA: 13s - loss: 0.2355 - accuracy: 0.907 - ETA: 13s - loss: 0.2359 - accuracy: 0.907 - ETA: 13s - loss: 0.2362 - accuracy: 0.907 - ETA: 13s - loss: 0.2360 - accuracy: 0.907 - ETA: 13s - loss: 0.2359 - accuracy: 0.907 - ETA: 13s - loss: 0.2358 - accuracy: 0.907 - ETA: 13s - loss: 0.2359 - accuracy: 0.907 - ETA: 12s - loss: 0.2360 - accuracy: 0.907 - ETA: 12s - loss: 0.2358 - accuracy: 0.907 - ETA: 12s - loss: 0.2357 - accuracy: 0.907 - ETA: 12s - loss: 0.2357 - accuracy: 0.907 - ETA: 12s - loss: 0.2359 - accuracy: 0.907 - ETA: 12s - loss: 0.2358 - accuracy: 0.907 - ETA: 12s - loss: 0.2359 - accuracy: 0.907 - ETA: 12s - loss: 0.2357 - accuracy: 0.907 - ETA: 12s - loss: 0.2355 - accuracy: 0.907 - ETA: 12s - loss: 0.2357 - accuracy: 0.907 - ETA: 12s - loss: 0.2356 - accuracy: 0.907 - ETA: 12s - loss: 0.2355 - accuracy: 0.907 - ETA: 11s - loss: 0.2353 - accuracy: 0.907 - ETA: 11s - loss: 0.2352 - accuracy: 0.907 - ETA: 11s - loss: 0.2355 - accuracy: 0.907 - ETA: 11s - loss: 0.2353 - accuracy: 0.907 - ETA: 11s - loss: 0.2353 - accuracy: 0.907 - ETA: 11s - loss: 0.2352 - accuracy: 0.907 - ETA: 11s - loss: 0.2354 - accuracy: 0.907 - ETA: 11s - loss: 0.2356 - accuracy: 0.907 - ETA: 11s - loss: 0.2356 - accuracy: 0.907 - ETA: 11s - loss: 0.2358 - accuracy: 0.907 - ETA: 11s - loss: 0.2359 - accuracy: 0.907 - ETA: 11s - loss: 0.2358 - accuracy: 0.907 - ETA: 10s - loss: 0.2357 - accuracy: 0.907 - ETA: 10s - loss: 0.2358 - accuracy: 0.907 - ETA: 10s - loss: 0.2357 - accuracy: 0.907 - ETA: 10s - loss: 0.2362 - accuracy: 0.906 - ETA: 10s - loss: 0.2361 - accuracy: 0.906 - ETA: 10s - loss: 0.2362 - accuracy: 0.906 - ETA: 10s - loss: 0.2364 - accuracy: 0.906 - ETA: 10s - loss: 0.2363 - accuracy: 0.906 - ETA: 10s - loss: 0.2363 - accuracy: 0.906 - ETA: 10s - loss: 0.2363 - accuracy: 0.906 - ETA: 10s - loss: 0.2361 - accuracy: 0.906 - ETA: 10s - loss: 0.2361 - accuracy: 0.906 - ETA: 9s - loss: 0.2362 - accuracy: 0.906 - ETA: 9s - loss: 0.2362 - accuracy: 0.90 - ETA: 9s - loss: 0.2361 - accuracy: 0.90 - ETA: 9s - loss: 0.2361 - accuracy: 0.90 - ETA: 9s - loss: 0.2361 - accuracy: 0.90 - ETA: 9s - loss: 0.2360 - accuracy: 0.90 - ETA: 9s - loss: 0.2362 - accuracy: 0.90 - ETA: 9s - loss: 0.2362 - accuracy: 0.90 - ETA: 9s - loss: 0.2361 - accuracy: 0.90 - ETA: 9s - loss: 0.2363 - accuracy: 0.90 - ETA: 9s - loss: 0.2365 - accuracy: 0.90 - ETA: 9s - loss: 0.2364 - accuracy: 0.90 - ETA: 9s - loss: 0.2366 - accuracy: 0.90 - ETA: 8s - loss: 0.2369 - accuracy: 0.90 - ETA: 8s - loss: 0.2369 - accuracy: 0.90 - ETA: 8s - loss: 0.2370 - accuracy: 0.90 - ETA: 8s - loss: 0.2369 - accuracy: 0.90 - ETA: 8s - loss: 0.2370 - accuracy: 0.90 - ETA: 8s - loss: 0.2370 - accuracy: 0.90 - ETA: 8s - loss: 0.2370 - accuracy: 0.90 - ETA: 8s - loss: 0.2370 - accuracy: 0.90 - ETA: 8s - loss: 0.2374 - accuracy: 0.90 - ETA: 8s - loss: 0.2375 - accuracy: 0.90 - ETA: 8s - loss: 0.2375 - accuracy: 0.90 - ETA: 8s - loss: 0.2374 - accuracy: 0.90 - ETA: 7s - loss: 0.2375 - accuracy: 0.90 - ETA: 7s - loss: 0.2377 - accuracy: 0.90 - ETA: 7s - loss: 0.2383 - accuracy: 0.90 - ETA: 7s - loss: 0.2383 - accuracy: 0.90 - ETA: 7s - loss: 0.2382 - accuracy: 0.90 - ETA: 7s - loss: 0.2381 - accuracy: 0.90 - ETA: 7s - loss: 0.2379 - accuracy: 0.90 - ETA: 7s - loss: 0.2379 - accuracy: 0.90 - ETA: 7s - loss: 0.2381 - accuracy: 0.90 - ETA: 7s - loss: 0.2382 - accuracy: 0.90 - ETA: 7s - loss: 0.2380 - accuracy: 0.90 - ETA: 7s - loss: 0.2379 - accuracy: 0.90 - ETA: 6s - loss: 0.2379 - accuracy: 0.90 - ETA: 6s - loss: 0.2380 - accuracy: 0.90 - ETA: 6s - loss: 0.2382 - accuracy: 0.90 - ETA: 6s - loss: 0.2382 - accuracy: 0.90 - ETA: 6s - loss: 0.2383 - accuracy: 0.90 - ETA: 6s - loss: 0.2384 - accuracy: 0.90 - ETA: 6s - loss: 0.2384 - accuracy: 0.90 - ETA: 6s - loss: 0.2383 - accuracy: 0.90 - ETA: 6s - loss: 0.2383 - accuracy: 0.90 - ETA: 6s - loss: 0.2383 - accuracy: 0.90 - ETA: 6s - loss: 0.2384 - accuracy: 0.90 - ETA: 6s - loss: 0.2386 - accuracy: 0.90 - ETA: 5s - loss: 0.2387 - accuracy: 0.90 - ETA: 5s - loss: 0.2387 - accuracy: 0.90 - ETA: 5s - loss: 0.2387 - accuracy: 0.90 - ETA: 5s - loss: 0.2386 - accuracy: 0.90 - ETA: 5s - loss: 0.2386 - accuracy: 0.90 - ETA: 5s - loss: 0.2386 - accuracy: 0.90 - ETA: 5s - loss: 0.2386 - accuracy: 0.90 - ETA: 5s - loss: 0.2385 - accuracy: 0.90 - ETA: 5s - loss: 0.2386 - accuracy: 0.90 - ETA: 5s - loss: 0.2389 - accuracy: 0.90 - ETA: 5s - loss: 0.2387 - accuracy: 0.90 - ETA: 5s - loss: 0.2386 - accuracy: 0.90 - ETA: 5s - loss: 0.2387 - accuracy: 0.90 - ETA: 4s - loss: 0.2387 - accuracy: 0.90 - ETA: 4s - loss: 0.2389 - accuracy: 0.90 - ETA: 4s - loss: 0.2390 - accuracy: 0.90 - ETA: 4s - loss: 0.2390 - accuracy: 0.90 - ETA: 4s - loss: 0.2391 - accuracy: 0.90 - ETA: 4s - loss: 0.2392 - accuracy: 0.90 - ETA: 4s - loss: 0.2392 - accuracy: 0.90 - ETA: 4s - loss: 0.2392 - accuracy: 0.90 - ETA: 4s - loss: 0.2393 - accuracy: 0.90 - ETA: 4s - loss: 0.2393 - accuracy: 0.90 - ETA: 4s - loss: 0.2394 - accuracy: 0.90 - ETA: 4s - loss: 0.2393 - accuracy: 0.90 - ETA: 3s - loss: 0.2393 - accuracy: 0.90 - ETA: 3s - loss: 0.2392 - accuracy: 0.90 - ETA: 3s - loss: 0.2391 - accuracy: 0.90 - ETA: 3s - loss: 0.2392 - accuracy: 0.90 - ETA: 3s - loss: 0.2393 - accuracy: 0.90 - ETA: 3s - loss: 0.2392 - accuracy: 0.90 - ETA: 3s - loss: 0.2396 - accuracy: 0.90 - ETA: 3s - loss: 0.2395 - accuracy: 0.90 - ETA: 3s - loss: 0.2395 - accuracy: 0.90 - ETA: 3s - loss: 0.2395 - accuracy: 0.90 - ETA: 3s - loss: 0.2393 - accuracy: 0.90 - ETA: 3s - loss: 0.2395 - accuracy: 0.90 - ETA: 3s - loss: 0.2395 - accuracy: 0.90 - ETA: 2s - loss: 0.2398 - accuracy: 0.90 - ETA: 2s - loss: 0.2400 - accuracy: 0.90 - ETA: 2s - loss: 0.2401 - accuracy: 0.90 - ETA: 2s - loss: 0.2403 - accuracy: 0.9040"
     ]
    },
    {
     "name": "stdout",
     "output_type": "stream",
     "text": [
      "25000/25000 [==============================] - ETA: 2s - loss: 0.2403 - accuracy: 0.90 - ETA: 2s - loss: 0.2404 - accuracy: 0.90 - ETA: 2s - loss: 0.2403 - accuracy: 0.90 - ETA: 2s - loss: 0.2407 - accuracy: 0.90 - ETA: 2s - loss: 0.2406 - accuracy: 0.90 - ETA: 2s - loss: 0.2406 - accuracy: 0.90 - ETA: 2s - loss: 0.2410 - accuracy: 0.90 - ETA: 2s - loss: 0.2411 - accuracy: 0.90 - ETA: 1s - loss: 0.2410 - accuracy: 0.90 - ETA: 1s - loss: 0.2411 - accuracy: 0.90 - ETA: 1s - loss: 0.2415 - accuracy: 0.90 - ETA: 1s - loss: 0.2415 - accuracy: 0.90 - ETA: 1s - loss: 0.2414 - accuracy: 0.90 - ETA: 1s - loss: 0.2413 - accuracy: 0.90 - ETA: 1s - loss: 0.2414 - accuracy: 0.90 - ETA: 1s - loss: 0.2414 - accuracy: 0.90 - ETA: 1s - loss: 0.2415 - accuracy: 0.90 - ETA: 1s - loss: 0.2416 - accuracy: 0.90 - ETA: 1s - loss: 0.2417 - accuracy: 0.90 - ETA: 1s - loss: 0.2418 - accuracy: 0.90 - ETA: 0s - loss: 0.2418 - accuracy: 0.90 - ETA: 0s - loss: 0.2419 - accuracy: 0.90 - ETA: 0s - loss: 0.2418 - accuracy: 0.90 - ETA: 0s - loss: 0.2421 - accuracy: 0.90 - ETA: 0s - loss: 0.2421 - accuracy: 0.90 - ETA: 0s - loss: 0.2420 - accuracy: 0.90 - ETA: 0s - loss: 0.2420 - accuracy: 0.90 - ETA: 0s - loss: 0.2419 - accuracy: 0.90 - ETA: 0s - loss: 0.2420 - accuracy: 0.90 - ETA: 0s - loss: 0.2419 - accuracy: 0.90 - ETA: 0s - loss: 0.2418 - accuracy: 0.90 - ETA: 0s - loss: 0.2418 - accuracy: 0.90 - ETA: 0s - loss: 0.2419 - accuracy: 0.90 - 63s 3ms/sample - loss: 0.2418 - accuracy: 0.9029\n",
      "Epoch 5/5\n"
     ]
    },
    {
     "name": "stdout",
     "output_type": "stream",
     "text": [
      " 5952/25000 [======>.......................] - ETA: 52s - loss: 0.2896 - accuracy: 0.906 - ETA: 55s - loss: 0.2009 - accuracy: 0.921 - ETA: 56s - loss: 0.1688 - accuracy: 0.937 - ETA: 56s - loss: 0.1480 - accuracy: 0.953 - ETA: 57s - loss: 0.1396 - accuracy: 0.956 - ETA: 57s - loss: 0.1604 - accuracy: 0.947 - ETA: 57s - loss: 0.1580 - accuracy: 0.955 - ETA: 57s - loss: 0.1509 - accuracy: 0.957 - ETA: 57s - loss: 0.1475 - accuracy: 0.958 - ETA: 57s - loss: 0.1489 - accuracy: 0.956 - ETA: 57s - loss: 0.1471 - accuracy: 0.957 - ETA: 57s - loss: 0.1665 - accuracy: 0.945 - ETA: 57s - loss: 0.1785 - accuracy: 0.939 - ETA: 57s - loss: 0.1879 - accuracy: 0.937 - ETA: 57s - loss: 0.1891 - accuracy: 0.939 - ETA: 57s - loss: 0.1840 - accuracy: 0.943 - ETA: 57s - loss: 0.1849 - accuracy: 0.943 - ETA: 57s - loss: 0.1798 - accuracy: 0.944 - ETA: 57s - loss: 0.1830 - accuracy: 0.944 - ETA: 57s - loss: 0.1900 - accuracy: 0.942 - ETA: 57s - loss: 0.1938 - accuracy: 0.942 - ETA: 57s - loss: 0.1941 - accuracy: 0.940 - ETA: 57s - loss: 0.2012 - accuracy: 0.937 - ETA: 58s - loss: 0.1980 - accuracy: 0.938 - ETA: 58s - loss: 0.1982 - accuracy: 0.937 - ETA: 58s - loss: 0.1969 - accuracy: 0.936 - ETA: 58s - loss: 0.1947 - accuracy: 0.937 - ETA: 58s - loss: 0.1919 - accuracy: 0.938 - ETA: 59s - loss: 0.1884 - accuracy: 0.939 - ETA: 59s - loss: 0.1868 - accuracy: 0.938 - ETA: 59s - loss: 0.1865 - accuracy: 0.938 - ETA: 59s - loss: 0.1875 - accuracy: 0.937 - ETA: 59s - loss: 0.1845 - accuracy: 0.938 - ETA: 59s - loss: 0.1880 - accuracy: 0.938 - ETA: 59s - loss: 0.1898 - accuracy: 0.938 - ETA: 1:00 - loss: 0.1908 - accuracy: 0.93 - ETA: 1:00 - loss: 0.1888 - accuracy: 0.93 - ETA: 59s - loss: 0.1858 - accuracy: 0.9375 - ETA: 59s - loss: 0.1839 - accuracy: 0.937 - ETA: 59s - loss: 0.1813 - accuracy: 0.938 - ETA: 59s - loss: 0.1799 - accuracy: 0.939 - ETA: 59s - loss: 0.1811 - accuracy: 0.939 - ETA: 59s - loss: 0.1790 - accuracy: 0.939 - ETA: 59s - loss: 0.1786 - accuracy: 0.939 - ETA: 59s - loss: 0.1763 - accuracy: 0.941 - ETA: 58s - loss: 0.1749 - accuracy: 0.940 - ETA: 58s - loss: 0.1762 - accuracy: 0.940 - ETA: 58s - loss: 0.1764 - accuracy: 0.941 - ETA: 58s - loss: 0.1781 - accuracy: 0.942 - ETA: 58s - loss: 0.1800 - accuracy: 0.941 - ETA: 58s - loss: 0.1773 - accuracy: 0.942 - ETA: 58s - loss: 0.1772 - accuracy: 0.941 - ETA: 57s - loss: 0.1784 - accuracy: 0.941 - ETA: 57s - loss: 0.1766 - accuracy: 0.941 - ETA: 57s - loss: 0.1789 - accuracy: 0.941 - ETA: 57s - loss: 0.1767 - accuracy: 0.942 - ETA: 57s - loss: 0.1783 - accuracy: 0.942 - ETA: 57s - loss: 0.1766 - accuracy: 0.942 - ETA: 57s - loss: 0.1754 - accuracy: 0.943 - ETA: 57s - loss: 0.1737 - accuracy: 0.944 - ETA: 57s - loss: 0.1724 - accuracy: 0.944 - ETA: 57s - loss: 0.1710 - accuracy: 0.945 - ETA: 57s - loss: 0.1700 - accuracy: 0.945 - ETA: 57s - loss: 0.1699 - accuracy: 0.945 - ETA: 57s - loss: 0.1687 - accuracy: 0.945 - ETA: 57s - loss: 0.1694 - accuracy: 0.945 - ETA: 57s - loss: 0.1698 - accuracy: 0.945 - ETA: 57s - loss: 0.1727 - accuracy: 0.944 - ETA: 56s - loss: 0.1714 - accuracy: 0.945 - ETA: 56s - loss: 0.1713 - accuracy: 0.945 - ETA: 56s - loss: 0.1705 - accuracy: 0.945 - ETA: 56s - loss: 0.1698 - accuracy: 0.945 - ETA: 56s - loss: 0.1698 - accuracy: 0.945 - ETA: 56s - loss: 0.1695 - accuracy: 0.945 - ETA: 56s - loss: 0.1697 - accuracy: 0.945 - ETA: 56s - loss: 0.1721 - accuracy: 0.944 - ETA: 56s - loss: 0.1710 - accuracy: 0.944 - ETA: 56s - loss: 0.1702 - accuracy: 0.945 - ETA: 55s - loss: 0.1691 - accuracy: 0.945 - ETA: 55s - loss: 0.1677 - accuracy: 0.946 - ETA: 55s - loss: 0.1691 - accuracy: 0.946 - ETA: 55s - loss: 0.1688 - accuracy: 0.945 - ETA: 55s - loss: 0.1697 - accuracy: 0.945 - ETA: 55s - loss: 0.1729 - accuracy: 0.944 - ETA: 55s - loss: 0.1728 - accuracy: 0.944 - ETA: 55s - loss: 0.1712 - accuracy: 0.945 - ETA: 55s - loss: 0.1711 - accuracy: 0.945 - ETA: 54s - loss: 0.1705 - accuracy: 0.945 - ETA: 54s - loss: 0.1696 - accuracy: 0.945 - ETA: 54s - loss: 0.1704 - accuracy: 0.945 - ETA: 54s - loss: 0.1707 - accuracy: 0.944 - ETA: 54s - loss: 0.1737 - accuracy: 0.943 - ETA: 54s - loss: 0.1730 - accuracy: 0.943 - ETA: 54s - loss: 0.1723 - accuracy: 0.943 - ETA: 54s - loss: 0.1722 - accuracy: 0.943 - ETA: 54s - loss: 0.1719 - accuracy: 0.943 - ETA: 54s - loss: 0.1731 - accuracy: 0.942 - ETA: 53s - loss: 0.1744 - accuracy: 0.942 - ETA: 53s - loss: 0.1740 - accuracy: 0.941 - ETA: 53s - loss: 0.1731 - accuracy: 0.942 - ETA: 53s - loss: 0.1725 - accuracy: 0.942 - ETA: 53s - loss: 0.1726 - accuracy: 0.942 - ETA: 53s - loss: 0.1726 - accuracy: 0.942 - ETA: 53s - loss: 0.1723 - accuracy: 0.942 - ETA: 53s - loss: 0.1726 - accuracy: 0.942 - ETA: 53s - loss: 0.1718 - accuracy: 0.942 - ETA: 53s - loss: 0.1723 - accuracy: 0.942 - ETA: 52s - loss: 0.1724 - accuracy: 0.941 - ETA: 52s - loss: 0.1719 - accuracy: 0.941 - ETA: 52s - loss: 0.1711 - accuracy: 0.941 - ETA: 52s - loss: 0.1718 - accuracy: 0.941 - ETA: 52s - loss: 0.1709 - accuracy: 0.941 - ETA: 52s - loss: 0.1716 - accuracy: 0.941 - ETA: 52s - loss: 0.1715 - accuracy: 0.941 - ETA: 52s - loss: 0.1711 - accuracy: 0.941 - ETA: 52s - loss: 0.1710 - accuracy: 0.941 - ETA: 51s - loss: 0.1712 - accuracy: 0.941 - ETA: 51s - loss: 0.1708 - accuracy: 0.940 - ETA: 51s - loss: 0.1709 - accuracy: 0.940 - ETA: 51s - loss: 0.1703 - accuracy: 0.940 - ETA: 51s - loss: 0.1711 - accuracy: 0.940 - ETA: 51s - loss: 0.1706 - accuracy: 0.940 - ETA: 51s - loss: 0.1698 - accuracy: 0.941 - ETA: 51s - loss: 0.1710 - accuracy: 0.941 - ETA: 51s - loss: 0.1701 - accuracy: 0.941 - ETA: 51s - loss: 0.1696 - accuracy: 0.941 - ETA: 51s - loss: 0.1691 - accuracy: 0.941 - ETA: 51s - loss: 0.1687 - accuracy: 0.942 - ETA: 51s - loss: 0.1681 - accuracy: 0.942 - ETA: 51s - loss: 0.1684 - accuracy: 0.942 - ETA: 50s - loss: 0.1675 - accuracy: 0.942 - ETA: 50s - loss: 0.1675 - accuracy: 0.942 - ETA: 50s - loss: 0.1671 - accuracy: 0.942 - ETA: 50s - loss: 0.1664 - accuracy: 0.943 - ETA: 50s - loss: 0.1663 - accuracy: 0.943 - ETA: 50s - loss: 0.1653 - accuracy: 0.943 - ETA: 50s - loss: 0.1650 - accuracy: 0.943 - ETA: 50s - loss: 0.1642 - accuracy: 0.943 - ETA: 50s - loss: 0.1634 - accuracy: 0.944 - ETA: 50s - loss: 0.1623 - accuracy: 0.944 - ETA: 50s - loss: 0.1623 - accuracy: 0.944 - ETA: 50s - loss: 0.1614 - accuracy: 0.945 - ETA: 49s - loss: 0.1609 - accuracy: 0.944 - ETA: 49s - loss: 0.1604 - accuracy: 0.944 - ETA: 49s - loss: 0.1600 - accuracy: 0.945 - ETA: 49s - loss: 0.1608 - accuracy: 0.945 - ETA: 49s - loss: 0.1603 - accuracy: 0.945 - ETA: 49s - loss: 0.1604 - accuracy: 0.944 - ETA: 49s - loss: 0.1612 - accuracy: 0.944 - ETA: 49s - loss: 0.1619 - accuracy: 0.944 - ETA: 49s - loss: 0.1620 - accuracy: 0.944 - ETA: 49s - loss: 0.1624 - accuracy: 0.944 - ETA: 49s - loss: 0.1620 - accuracy: 0.944 - ETA: 49s - loss: 0.1624 - accuracy: 0.944 - ETA: 49s - loss: 0.1631 - accuracy: 0.943 - ETA: 48s - loss: 0.1626 - accuracy: 0.944 - ETA: 48s - loss: 0.1625 - accuracy: 0.944 - ETA: 48s - loss: 0.1640 - accuracy: 0.943 - ETA: 48s - loss: 0.1653 - accuracy: 0.943 - ETA: 48s - loss: 0.1651 - accuracy: 0.943 - ETA: 48s - loss: 0.1654 - accuracy: 0.943 - ETA: 48s - loss: 0.1655 - accuracy: 0.943 - ETA: 48s - loss: 0.1649 - accuracy: 0.943 - ETA: 48s - loss: 0.1648 - accuracy: 0.943 - ETA: 48s - loss: 0.1662 - accuracy: 0.943 - ETA: 48s - loss: 0.1660 - accuracy: 0.943 - ETA: 48s - loss: 0.1661 - accuracy: 0.943 - ETA: 47s - loss: 0.1657 - accuracy: 0.943 - ETA: 47s - loss: 0.1656 - accuracy: 0.943 - ETA: 47s - loss: 0.1657 - accuracy: 0.943 - ETA: 47s - loss: 0.1656 - accuracy: 0.943 - ETA: 47s - loss: 0.1654 - accuracy: 0.943 - ETA: 47s - loss: 0.1654 - accuracy: 0.942 - ETA: 47s - loss: 0.1649 - accuracy: 0.942 - ETA: 47s - loss: 0.1654 - accuracy: 0.942 - ETA: 47s - loss: 0.1648 - accuracy: 0.942 - ETA: 47s - loss: 0.1651 - accuracy: 0.942 - ETA: 47s - loss: 0.1653 - accuracy: 0.942 - ETA: 47s - loss: 0.1659 - accuracy: 0.942 - ETA: 47s - loss: 0.1656 - accuracy: 0.942 - ETA: 47s - loss: 0.1656 - accuracy: 0.942 - ETA: 47s - loss: 0.1660 - accuracy: 0.942 - ETA: 47s - loss: 0.1667 - accuracy: 0.941 - ETA: 46s - loss: 0.1660 - accuracy: 0.941 - ETA: 46s - loss: 0.1660 - accuracy: 0.941 - ETA: 46s - loss: 0.1661 - accuracy: 0.9419"
     ]
    },
    {
     "name": "stdout",
     "output_type": "stream",
     "text": [
      "11904/25000 [=============>................] - ETA: 46s - loss: 0.1658 - accuracy: 0.941 - ETA: 46s - loss: 0.1656 - accuracy: 0.942 - ETA: 46s - loss: 0.1658 - accuracy: 0.942 - ETA: 46s - loss: 0.1656 - accuracy: 0.942 - ETA: 46s - loss: 0.1653 - accuracy: 0.942 - ETA: 46s - loss: 0.1654 - accuracy: 0.942 - ETA: 46s - loss: 0.1648 - accuracy: 0.942 - ETA: 46s - loss: 0.1647 - accuracy: 0.942 - ETA: 46s - loss: 0.1654 - accuracy: 0.942 - ETA: 46s - loss: 0.1653 - accuracy: 0.942 - ETA: 45s - loss: 0.1650 - accuracy: 0.942 - ETA: 45s - loss: 0.1647 - accuracy: 0.942 - ETA: 45s - loss: 0.1644 - accuracy: 0.942 - ETA: 45s - loss: 0.1639 - accuracy: 0.942 - ETA: 45s - loss: 0.1644 - accuracy: 0.942 - ETA: 45s - loss: 0.1637 - accuracy: 0.942 - ETA: 45s - loss: 0.1637 - accuracy: 0.942 - ETA: 45s - loss: 0.1643 - accuracy: 0.942 - ETA: 45s - loss: 0.1638 - accuracy: 0.942 - ETA: 45s - loss: 0.1643 - accuracy: 0.942 - ETA: 45s - loss: 0.1639 - accuracy: 0.942 - ETA: 45s - loss: 0.1634 - accuracy: 0.943 - ETA: 45s - loss: 0.1645 - accuracy: 0.942 - ETA: 44s - loss: 0.1643 - accuracy: 0.943 - ETA: 44s - loss: 0.1649 - accuracy: 0.943 - ETA: 44s - loss: 0.1652 - accuracy: 0.942 - ETA: 44s - loss: 0.1655 - accuracy: 0.942 - ETA: 44s - loss: 0.1659 - accuracy: 0.942 - ETA: 44s - loss: 0.1654 - accuracy: 0.942 - ETA: 44s - loss: 0.1663 - accuracy: 0.942 - ETA: 44s - loss: 0.1661 - accuracy: 0.942 - ETA: 44s - loss: 0.1657 - accuracy: 0.942 - ETA: 44s - loss: 0.1654 - accuracy: 0.942 - ETA: 44s - loss: 0.1664 - accuracy: 0.942 - ETA: 43s - loss: 0.1664 - accuracy: 0.942 - ETA: 43s - loss: 0.1669 - accuracy: 0.942 - ETA: 43s - loss: 0.1673 - accuracy: 0.942 - ETA: 43s - loss: 0.1678 - accuracy: 0.942 - ETA: 43s - loss: 0.1677 - accuracy: 0.942 - ETA: 43s - loss: 0.1673 - accuracy: 0.942 - ETA: 43s - loss: 0.1676 - accuracy: 0.941 - ETA: 43s - loss: 0.1675 - accuracy: 0.941 - ETA: 43s - loss: 0.1672 - accuracy: 0.941 - ETA: 43s - loss: 0.1667 - accuracy: 0.942 - ETA: 43s - loss: 0.1667 - accuracy: 0.942 - ETA: 43s - loss: 0.1671 - accuracy: 0.941 - ETA: 43s - loss: 0.1669 - accuracy: 0.941 - ETA: 43s - loss: 0.1671 - accuracy: 0.941 - ETA: 43s - loss: 0.1674 - accuracy: 0.941 - ETA: 42s - loss: 0.1671 - accuracy: 0.941 - ETA: 42s - loss: 0.1672 - accuracy: 0.941 - ETA: 42s - loss: 0.1667 - accuracy: 0.941 - ETA: 42s - loss: 0.1664 - accuracy: 0.941 - ETA: 42s - loss: 0.1672 - accuracy: 0.941 - ETA: 42s - loss: 0.1669 - accuracy: 0.941 - ETA: 42s - loss: 0.1666 - accuracy: 0.941 - ETA: 42s - loss: 0.1665 - accuracy: 0.941 - ETA: 42s - loss: 0.1666 - accuracy: 0.941 - ETA: 42s - loss: 0.1661 - accuracy: 0.941 - ETA: 42s - loss: 0.1663 - accuracy: 0.941 - ETA: 42s - loss: 0.1662 - accuracy: 0.941 - ETA: 42s - loss: 0.1665 - accuracy: 0.941 - ETA: 42s - loss: 0.1667 - accuracy: 0.941 - ETA: 42s - loss: 0.1669 - accuracy: 0.941 - ETA: 41s - loss: 0.1667 - accuracy: 0.941 - ETA: 41s - loss: 0.1670 - accuracy: 0.941 - ETA: 41s - loss: 0.1677 - accuracy: 0.940 - ETA: 41s - loss: 0.1681 - accuracy: 0.940 - ETA: 41s - loss: 0.1678 - accuracy: 0.940 - ETA: 41s - loss: 0.1675 - accuracy: 0.940 - ETA: 41s - loss: 0.1678 - accuracy: 0.940 - ETA: 41s - loss: 0.1676 - accuracy: 0.940 - ETA: 41s - loss: 0.1676 - accuracy: 0.940 - ETA: 41s - loss: 0.1676 - accuracy: 0.940 - ETA: 41s - loss: 0.1673 - accuracy: 0.940 - ETA: 41s - loss: 0.1669 - accuracy: 0.940 - ETA: 41s - loss: 0.1665 - accuracy: 0.940 - ETA: 41s - loss: 0.1669 - accuracy: 0.940 - ETA: 41s - loss: 0.1668 - accuracy: 0.940 - ETA: 41s - loss: 0.1664 - accuracy: 0.940 - ETA: 41s - loss: 0.1665 - accuracy: 0.940 - ETA: 40s - loss: 0.1668 - accuracy: 0.940 - ETA: 40s - loss: 0.1664 - accuracy: 0.940 - ETA: 40s - loss: 0.1662 - accuracy: 0.940 - ETA: 40s - loss: 0.1663 - accuracy: 0.940 - ETA: 40s - loss: 0.1662 - accuracy: 0.940 - ETA: 40s - loss: 0.1657 - accuracy: 0.940 - ETA: 40s - loss: 0.1657 - accuracy: 0.940 - ETA: 40s - loss: 0.1664 - accuracy: 0.940 - ETA: 40s - loss: 0.1675 - accuracy: 0.939 - ETA: 40s - loss: 0.1674 - accuracy: 0.939 - ETA: 40s - loss: 0.1673 - accuracy: 0.940 - ETA: 40s - loss: 0.1676 - accuracy: 0.939 - ETA: 40s - loss: 0.1676 - accuracy: 0.939 - ETA: 39s - loss: 0.1680 - accuracy: 0.939 - ETA: 39s - loss: 0.1680 - accuracy: 0.939 - ETA: 39s - loss: 0.1681 - accuracy: 0.939 - ETA: 39s - loss: 0.1684 - accuracy: 0.939 - ETA: 39s - loss: 0.1684 - accuracy: 0.939 - ETA: 39s - loss: 0.1687 - accuracy: 0.939 - ETA: 39s - loss: 0.1686 - accuracy: 0.939 - ETA: 39s - loss: 0.1690 - accuracy: 0.939 - ETA: 39s - loss: 0.1688 - accuracy: 0.939 - ETA: 39s - loss: 0.1691 - accuracy: 0.939 - ETA: 39s - loss: 0.1690 - accuracy: 0.939 - ETA: 38s - loss: 0.1690 - accuracy: 0.939 - ETA: 38s - loss: 0.1691 - accuracy: 0.939 - ETA: 38s - loss: 0.1691 - accuracy: 0.939 - ETA: 38s - loss: 0.1695 - accuracy: 0.939 - ETA: 38s - loss: 0.1693 - accuracy: 0.939 - ETA: 38s - loss: 0.1690 - accuracy: 0.939 - ETA: 38s - loss: 0.1692 - accuracy: 0.939 - ETA: 38s - loss: 0.1694 - accuracy: 0.939 - ETA: 38s - loss: 0.1692 - accuracy: 0.939 - ETA: 38s - loss: 0.1699 - accuracy: 0.938 - ETA: 38s - loss: 0.1704 - accuracy: 0.938 - ETA: 37s - loss: 0.1709 - accuracy: 0.938 - ETA: 37s - loss: 0.1707 - accuracy: 0.938 - ETA: 37s - loss: 0.1710 - accuracy: 0.938 - ETA: 37s - loss: 0.1715 - accuracy: 0.938 - ETA: 37s - loss: 0.1714 - accuracy: 0.937 - ETA: 37s - loss: 0.1714 - accuracy: 0.937 - ETA: 37s - loss: 0.1711 - accuracy: 0.938 - ETA: 37s - loss: 0.1707 - accuracy: 0.938 - ETA: 37s - loss: 0.1706 - accuracy: 0.938 - ETA: 37s - loss: 0.1707 - accuracy: 0.938 - ETA: 37s - loss: 0.1711 - accuracy: 0.937 - ETA: 36s - loss: 0.1713 - accuracy: 0.937 - ETA: 36s - loss: 0.1715 - accuracy: 0.937 - ETA: 36s - loss: 0.1717 - accuracy: 0.937 - ETA: 36s - loss: 0.1718 - accuracy: 0.937 - ETA: 36s - loss: 0.1718 - accuracy: 0.937 - ETA: 36s - loss: 0.1718 - accuracy: 0.937 - ETA: 36s - loss: 0.1722 - accuracy: 0.937 - ETA: 36s - loss: 0.1728 - accuracy: 0.936 - ETA: 36s - loss: 0.1726 - accuracy: 0.936 - ETA: 36s - loss: 0.1726 - accuracy: 0.936 - ETA: 36s - loss: 0.1735 - accuracy: 0.936 - ETA: 36s - loss: 0.1737 - accuracy: 0.936 - ETA: 35s - loss: 0.1739 - accuracy: 0.936 - ETA: 35s - loss: 0.1741 - accuracy: 0.936 - ETA: 35s - loss: 0.1740 - accuracy: 0.936 - ETA: 35s - loss: 0.1745 - accuracy: 0.936 - ETA: 35s - loss: 0.1751 - accuracy: 0.936 - ETA: 35s - loss: 0.1750 - accuracy: 0.936 - ETA: 35s - loss: 0.1753 - accuracy: 0.936 - ETA: 35s - loss: 0.1749 - accuracy: 0.936 - ETA: 35s - loss: 0.1751 - accuracy: 0.936 - ETA: 35s - loss: 0.1747 - accuracy: 0.936 - ETA: 35s - loss: 0.1748 - accuracy: 0.936 - ETA: 35s - loss: 0.1749 - accuracy: 0.936 - ETA: 35s - loss: 0.1749 - accuracy: 0.936 - ETA: 35s - loss: 0.1748 - accuracy: 0.936 - ETA: 35s - loss: 0.1751 - accuracy: 0.935 - ETA: 35s - loss: 0.1751 - accuracy: 0.935 - ETA: 34s - loss: 0.1749 - accuracy: 0.935 - ETA: 34s - loss: 0.1756 - accuracy: 0.935 - ETA: 34s - loss: 0.1754 - accuracy: 0.935 - ETA: 34s - loss: 0.1754 - accuracy: 0.935 - ETA: 34s - loss: 0.1754 - accuracy: 0.935 - ETA: 34s - loss: 0.1755 - accuracy: 0.935 - ETA: 34s - loss: 0.1759 - accuracy: 0.935 - ETA: 34s - loss: 0.1760 - accuracy: 0.935 - ETA: 34s - loss: 0.1758 - accuracy: 0.935 - ETA: 34s - loss: 0.1757 - accuracy: 0.935 - ETA: 34s - loss: 0.1760 - accuracy: 0.935 - ETA: 34s - loss: 0.1759 - accuracy: 0.935 - ETA: 33s - loss: 0.1761 - accuracy: 0.935 - ETA: 33s - loss: 0.1762 - accuracy: 0.935 - ETA: 33s - loss: 0.1761 - accuracy: 0.935 - ETA: 33s - loss: 0.1763 - accuracy: 0.935 - ETA: 33s - loss: 0.1770 - accuracy: 0.935 - ETA: 33s - loss: 0.1767 - accuracy: 0.935 - ETA: 33s - loss: 0.1768 - accuracy: 0.935 - ETA: 33s - loss: 0.1766 - accuracy: 0.935 - ETA: 33s - loss: 0.1767 - accuracy: 0.935 - ETA: 33s - loss: 0.1766 - accuracy: 0.935 - ETA: 33s - loss: 0.1763 - accuracy: 0.935 - ETA: 33s - loss: 0.1762 - accuracy: 0.935 - ETA: 33s - loss: 0.1760 - accuracy: 0.935 - ETA: 32s - loss: 0.1757 - accuracy: 0.935 - ETA: 32s - loss: 0.1754 - accuracy: 0.935 - ETA: 32s - loss: 0.1755 - accuracy: 0.935 - ETA: 32s - loss: 0.1751 - accuracy: 0.935 - ETA: 32s - loss: 0.1751 - accuracy: 0.935 - ETA: 32s - loss: 0.1752 - accuracy: 0.9355"
     ]
    },
    {
     "name": "stdout",
     "output_type": "stream",
     "text": [
      "17856/25000 [====================>.........] - ETA: 32s - loss: 0.1751 - accuracy: 0.935 - ETA: 32s - loss: 0.1754 - accuracy: 0.935 - ETA: 32s - loss: 0.1754 - accuracy: 0.935 - ETA: 32s - loss: 0.1756 - accuracy: 0.935 - ETA: 32s - loss: 0.1758 - accuracy: 0.935 - ETA: 32s - loss: 0.1760 - accuracy: 0.935 - ETA: 32s - loss: 0.1763 - accuracy: 0.934 - ETA: 32s - loss: 0.1762 - accuracy: 0.935 - ETA: 31s - loss: 0.1761 - accuracy: 0.935 - ETA: 31s - loss: 0.1760 - accuracy: 0.935 - ETA: 31s - loss: 0.1765 - accuracy: 0.934 - ETA: 31s - loss: 0.1767 - accuracy: 0.934 - ETA: 31s - loss: 0.1765 - accuracy: 0.934 - ETA: 31s - loss: 0.1764 - accuracy: 0.934 - ETA: 31s - loss: 0.1763 - accuracy: 0.934 - ETA: 31s - loss: 0.1762 - accuracy: 0.934 - ETA: 31s - loss: 0.1763 - accuracy: 0.934 - ETA: 31s - loss: 0.1764 - accuracy: 0.934 - ETA: 31s - loss: 0.1762 - accuracy: 0.934 - ETA: 31s - loss: 0.1758 - accuracy: 0.935 - ETA: 30s - loss: 0.1764 - accuracy: 0.934 - ETA: 30s - loss: 0.1766 - accuracy: 0.934 - ETA: 30s - loss: 0.1766 - accuracy: 0.934 - ETA: 30s - loss: 0.1767 - accuracy: 0.934 - ETA: 30s - loss: 0.1767 - accuracy: 0.934 - ETA: 30s - loss: 0.1768 - accuracy: 0.934 - ETA: 30s - loss: 0.1769 - accuracy: 0.934 - ETA: 30s - loss: 0.1769 - accuracy: 0.934 - ETA: 30s - loss: 0.1766 - accuracy: 0.934 - ETA: 30s - loss: 0.1765 - accuracy: 0.934 - ETA: 30s - loss: 0.1764 - accuracy: 0.934 - ETA: 30s - loss: 0.1763 - accuracy: 0.934 - ETA: 30s - loss: 0.1759 - accuracy: 0.934 - ETA: 29s - loss: 0.1757 - accuracy: 0.934 - ETA: 29s - loss: 0.1755 - accuracy: 0.934 - ETA: 29s - loss: 0.1758 - accuracy: 0.934 - ETA: 29s - loss: 0.1757 - accuracy: 0.934 - ETA: 29s - loss: 0.1760 - accuracy: 0.934 - ETA: 29s - loss: 0.1759 - accuracy: 0.934 - ETA: 29s - loss: 0.1760 - accuracy: 0.934 - ETA: 29s - loss: 0.1758 - accuracy: 0.934 - ETA: 29s - loss: 0.1758 - accuracy: 0.934 - ETA: 29s - loss: 0.1763 - accuracy: 0.934 - ETA: 29s - loss: 0.1761 - accuracy: 0.934 - ETA: 29s - loss: 0.1760 - accuracy: 0.934 - ETA: 29s - loss: 0.1762 - accuracy: 0.934 - ETA: 28s - loss: 0.1762 - accuracy: 0.934 - ETA: 28s - loss: 0.1761 - accuracy: 0.934 - ETA: 28s - loss: 0.1759 - accuracy: 0.934 - ETA: 28s - loss: 0.1758 - accuracy: 0.934 - ETA: 28s - loss: 0.1758 - accuracy: 0.934 - ETA: 28s - loss: 0.1759 - accuracy: 0.934 - ETA: 28s - loss: 0.1761 - accuracy: 0.934 - ETA: 28s - loss: 0.1760 - accuracy: 0.934 - ETA: 28s - loss: 0.1758 - accuracy: 0.934 - ETA: 28s - loss: 0.1761 - accuracy: 0.934 - ETA: 28s - loss: 0.1765 - accuracy: 0.934 - ETA: 28s - loss: 0.1767 - accuracy: 0.934 - ETA: 28s - loss: 0.1765 - accuracy: 0.934 - ETA: 28s - loss: 0.1763 - accuracy: 0.934 - ETA: 27s - loss: 0.1761 - accuracy: 0.934 - ETA: 27s - loss: 0.1759 - accuracy: 0.934 - ETA: 27s - loss: 0.1759 - accuracy: 0.934 - ETA: 27s - loss: 0.1756 - accuracy: 0.934 - ETA: 27s - loss: 0.1763 - accuracy: 0.934 - ETA: 27s - loss: 0.1763 - accuracy: 0.934 - ETA: 27s - loss: 0.1761 - accuracy: 0.934 - ETA: 27s - loss: 0.1759 - accuracy: 0.934 - ETA: 27s - loss: 0.1758 - accuracy: 0.934 - ETA: 27s - loss: 0.1761 - accuracy: 0.934 - ETA: 27s - loss: 0.1759 - accuracy: 0.934 - ETA: 27s - loss: 0.1759 - accuracy: 0.934 - ETA: 27s - loss: 0.1761 - accuracy: 0.934 - ETA: 26s - loss: 0.1761 - accuracy: 0.934 - ETA: 26s - loss: 0.1761 - accuracy: 0.934 - ETA: 26s - loss: 0.1761 - accuracy: 0.934 - ETA: 26s - loss: 0.1758 - accuracy: 0.934 - ETA: 26s - loss: 0.1756 - accuracy: 0.934 - ETA: 26s - loss: 0.1757 - accuracy: 0.934 - ETA: 26s - loss: 0.1755 - accuracy: 0.934 - ETA: 26s - loss: 0.1757 - accuracy: 0.934 - ETA: 26s - loss: 0.1764 - accuracy: 0.934 - ETA: 26s - loss: 0.1763 - accuracy: 0.934 - ETA: 26s - loss: 0.1761 - accuracy: 0.934 - ETA: 26s - loss: 0.1763 - accuracy: 0.934 - ETA: 25s - loss: 0.1767 - accuracy: 0.934 - ETA: 25s - loss: 0.1768 - accuracy: 0.934 - ETA: 25s - loss: 0.1770 - accuracy: 0.934 - ETA: 25s - loss: 0.1767 - accuracy: 0.934 - ETA: 25s - loss: 0.1767 - accuracy: 0.934 - ETA: 25s - loss: 0.1767 - accuracy: 0.934 - ETA: 25s - loss: 0.1768 - accuracy: 0.934 - ETA: 25s - loss: 0.1771 - accuracy: 0.934 - ETA: 25s - loss: 0.1773 - accuracy: 0.934 - ETA: 25s - loss: 0.1775 - accuracy: 0.934 - ETA: 25s - loss: 0.1774 - accuracy: 0.934 - ETA: 25s - loss: 0.1773 - accuracy: 0.934 - ETA: 24s - loss: 0.1773 - accuracy: 0.934 - ETA: 24s - loss: 0.1770 - accuracy: 0.934 - ETA: 24s - loss: 0.1773 - accuracy: 0.934 - ETA: 24s - loss: 0.1777 - accuracy: 0.934 - ETA: 24s - loss: 0.1776 - accuracy: 0.934 - ETA: 24s - loss: 0.1777 - accuracy: 0.934 - ETA: 24s - loss: 0.1779 - accuracy: 0.934 - ETA: 24s - loss: 0.1778 - accuracy: 0.934 - ETA: 24s - loss: 0.1777 - accuracy: 0.934 - ETA: 24s - loss: 0.1775 - accuracy: 0.934 - ETA: 24s - loss: 0.1777 - accuracy: 0.934 - ETA: 24s - loss: 0.1778 - accuracy: 0.934 - ETA: 24s - loss: 0.1776 - accuracy: 0.934 - ETA: 23s - loss: 0.1778 - accuracy: 0.934 - ETA: 23s - loss: 0.1776 - accuracy: 0.934 - ETA: 23s - loss: 0.1777 - accuracy: 0.934 - ETA: 23s - loss: 0.1775 - accuracy: 0.934 - ETA: 23s - loss: 0.1779 - accuracy: 0.934 - ETA: 23s - loss: 0.1777 - accuracy: 0.934 - ETA: 23s - loss: 0.1781 - accuracy: 0.934 - ETA: 23s - loss: 0.1781 - accuracy: 0.934 - ETA: 23s - loss: 0.1779 - accuracy: 0.934 - ETA: 23s - loss: 0.1777 - accuracy: 0.934 - ETA: 23s - loss: 0.1776 - accuracy: 0.934 - ETA: 23s - loss: 0.1773 - accuracy: 0.934 - ETA: 22s - loss: 0.1772 - accuracy: 0.934 - ETA: 22s - loss: 0.1775 - accuracy: 0.934 - ETA: 22s - loss: 0.1779 - accuracy: 0.934 - ETA: 22s - loss: 0.1778 - accuracy: 0.934 - ETA: 22s - loss: 0.1779 - accuracy: 0.934 - ETA: 22s - loss: 0.1778 - accuracy: 0.934 - ETA: 22s - loss: 0.1776 - accuracy: 0.934 - ETA: 22s - loss: 0.1777 - accuracy: 0.934 - ETA: 22s - loss: 0.1780 - accuracy: 0.934 - ETA: 22s - loss: 0.1783 - accuracy: 0.933 - ETA: 22s - loss: 0.1783 - accuracy: 0.933 - ETA: 22s - loss: 0.1783 - accuracy: 0.933 - ETA: 22s - loss: 0.1787 - accuracy: 0.933 - ETA: 21s - loss: 0.1785 - accuracy: 0.933 - ETA: 21s - loss: 0.1785 - accuracy: 0.933 - ETA: 21s - loss: 0.1785 - accuracy: 0.933 - ETA: 21s - loss: 0.1784 - accuracy: 0.933 - ETA: 21s - loss: 0.1785 - accuracy: 0.933 - ETA: 21s - loss: 0.1785 - accuracy: 0.933 - ETA: 21s - loss: 0.1783 - accuracy: 0.933 - ETA: 21s - loss: 0.1786 - accuracy: 0.933 - ETA: 21s - loss: 0.1786 - accuracy: 0.933 - ETA: 21s - loss: 0.1785 - accuracy: 0.933 - ETA: 21s - loss: 0.1783 - accuracy: 0.933 - ETA: 21s - loss: 0.1782 - accuracy: 0.933 - ETA: 20s - loss: 0.1779 - accuracy: 0.934 - ETA: 20s - loss: 0.1778 - accuracy: 0.934 - ETA: 20s - loss: 0.1778 - accuracy: 0.933 - ETA: 20s - loss: 0.1778 - accuracy: 0.933 - ETA: 20s - loss: 0.1780 - accuracy: 0.933 - ETA: 20s - loss: 0.1780 - accuracy: 0.933 - ETA: 20s - loss: 0.1779 - accuracy: 0.933 - ETA: 20s - loss: 0.1777 - accuracy: 0.934 - ETA: 20s - loss: 0.1780 - accuracy: 0.933 - ETA: 20s - loss: 0.1779 - accuracy: 0.934 - ETA: 20s - loss: 0.1779 - accuracy: 0.934 - ETA: 20s - loss: 0.1779 - accuracy: 0.934 - ETA: 20s - loss: 0.1779 - accuracy: 0.934 - ETA: 19s - loss: 0.1778 - accuracy: 0.934 - ETA: 19s - loss: 0.1779 - accuracy: 0.934 - ETA: 19s - loss: 0.1779 - accuracy: 0.934 - ETA: 19s - loss: 0.1782 - accuracy: 0.933 - ETA: 19s - loss: 0.1784 - accuracy: 0.933 - ETA: 19s - loss: 0.1782 - accuracy: 0.933 - ETA: 19s - loss: 0.1782 - accuracy: 0.933 - ETA: 19s - loss: 0.1783 - accuracy: 0.933 - ETA: 19s - loss: 0.1782 - accuracy: 0.933 - ETA: 19s - loss: 0.1780 - accuracy: 0.933 - ETA: 19s - loss: 0.1779 - accuracy: 0.933 - ETA: 19s - loss: 0.1781 - accuracy: 0.933 - ETA: 18s - loss: 0.1782 - accuracy: 0.933 - ETA: 18s - loss: 0.1781 - accuracy: 0.933 - ETA: 18s - loss: 0.1782 - accuracy: 0.933 - ETA: 18s - loss: 0.1788 - accuracy: 0.933 - ETA: 18s - loss: 0.1788 - accuracy: 0.933 - ETA: 18s - loss: 0.1790 - accuracy: 0.933 - ETA: 18s - loss: 0.1790 - accuracy: 0.933 - ETA: 18s - loss: 0.1792 - accuracy: 0.933 - ETA: 18s - loss: 0.1791 - accuracy: 0.933 - ETA: 18s - loss: 0.1790 - accuracy: 0.933 - ETA: 18s - loss: 0.1794 - accuracy: 0.932 - ETA: 18s - loss: 0.1797 - accuracy: 0.932 - ETA: 17s - loss: 0.1799 - accuracy: 0.932 - ETA: 17s - loss: 0.1799 - accuracy: 0.9327"
     ]
    },
    {
     "name": "stdout",
     "output_type": "stream",
     "text": [
      "23936/25000 [===========================>..] - ETA: 17s - loss: 0.1799 - accuracy: 0.932 - ETA: 17s - loss: 0.1800 - accuracy: 0.932 - ETA: 17s - loss: 0.1801 - accuracy: 0.932 - ETA: 17s - loss: 0.1800 - accuracy: 0.932 - ETA: 17s - loss: 0.1801 - accuracy: 0.932 - ETA: 17s - loss: 0.1801 - accuracy: 0.932 - ETA: 17s - loss: 0.1801 - accuracy: 0.932 - ETA: 17s - loss: 0.1801 - accuracy: 0.932 - ETA: 17s - loss: 0.1800 - accuracy: 0.932 - ETA: 17s - loss: 0.1799 - accuracy: 0.932 - ETA: 17s - loss: 0.1801 - accuracy: 0.932 - ETA: 16s - loss: 0.1799 - accuracy: 0.932 - ETA: 16s - loss: 0.1799 - accuracy: 0.932 - ETA: 16s - loss: 0.1802 - accuracy: 0.932 - ETA: 16s - loss: 0.1803 - accuracy: 0.932 - ETA: 16s - loss: 0.1801 - accuracy: 0.932 - ETA: 16s - loss: 0.1801 - accuracy: 0.932 - ETA: 16s - loss: 0.1801 - accuracy: 0.932 - ETA: 16s - loss: 0.1803 - accuracy: 0.932 - ETA: 16s - loss: 0.1804 - accuracy: 0.932 - ETA: 16s - loss: 0.1805 - accuracy: 0.932 - ETA: 16s - loss: 0.1805 - accuracy: 0.932 - ETA: 16s - loss: 0.1806 - accuracy: 0.932 - ETA: 15s - loss: 0.1807 - accuracy: 0.932 - ETA: 15s - loss: 0.1807 - accuracy: 0.932 - ETA: 15s - loss: 0.1808 - accuracy: 0.932 - ETA: 15s - loss: 0.1806 - accuracy: 0.932 - ETA: 15s - loss: 0.1804 - accuracy: 0.932 - ETA: 15s - loss: 0.1806 - accuracy: 0.932 - ETA: 15s - loss: 0.1807 - accuracy: 0.932 - ETA: 15s - loss: 0.1808 - accuracy: 0.931 - ETA: 15s - loss: 0.1808 - accuracy: 0.931 - ETA: 15s - loss: 0.1809 - accuracy: 0.931 - ETA: 15s - loss: 0.1807 - accuracy: 0.932 - ETA: 15s - loss: 0.1811 - accuracy: 0.931 - ETA: 14s - loss: 0.1810 - accuracy: 0.931 - ETA: 14s - loss: 0.1809 - accuracy: 0.932 - ETA: 14s - loss: 0.1808 - accuracy: 0.932 - ETA: 14s - loss: 0.1807 - accuracy: 0.932 - ETA: 14s - loss: 0.1808 - accuracy: 0.932 - ETA: 14s - loss: 0.1808 - accuracy: 0.932 - ETA: 14s - loss: 0.1808 - accuracy: 0.931 - ETA: 14s - loss: 0.1810 - accuracy: 0.931 - ETA: 14s - loss: 0.1811 - accuracy: 0.931 - ETA: 14s - loss: 0.1811 - accuracy: 0.931 - ETA: 14s - loss: 0.1811 - accuracy: 0.931 - ETA: 14s - loss: 0.1812 - accuracy: 0.931 - ETA: 14s - loss: 0.1817 - accuracy: 0.931 - ETA: 13s - loss: 0.1817 - accuracy: 0.931 - ETA: 13s - loss: 0.1816 - accuracy: 0.931 - ETA: 13s - loss: 0.1817 - accuracy: 0.931 - ETA: 13s - loss: 0.1816 - accuracy: 0.931 - ETA: 13s - loss: 0.1816 - accuracy: 0.931 - ETA: 13s - loss: 0.1817 - accuracy: 0.931 - ETA: 13s - loss: 0.1816 - accuracy: 0.931 - ETA: 13s - loss: 0.1819 - accuracy: 0.931 - ETA: 13s - loss: 0.1817 - accuracy: 0.931 - ETA: 13s - loss: 0.1817 - accuracy: 0.931 - ETA: 13s - loss: 0.1818 - accuracy: 0.931 - ETA: 13s - loss: 0.1818 - accuracy: 0.931 - ETA: 12s - loss: 0.1817 - accuracy: 0.931 - ETA: 12s - loss: 0.1814 - accuracy: 0.931 - ETA: 12s - loss: 0.1815 - accuracy: 0.931 - ETA: 12s - loss: 0.1816 - accuracy: 0.931 - ETA: 12s - loss: 0.1815 - accuracy: 0.931 - ETA: 12s - loss: 0.1815 - accuracy: 0.931 - ETA: 12s - loss: 0.1817 - accuracy: 0.931 - ETA: 12s - loss: 0.1816 - accuracy: 0.931 - ETA: 12s - loss: 0.1815 - accuracy: 0.931 - ETA: 12s - loss: 0.1814 - accuracy: 0.931 - ETA: 12s - loss: 0.1817 - accuracy: 0.931 - ETA: 12s - loss: 0.1817 - accuracy: 0.931 - ETA: 12s - loss: 0.1818 - accuracy: 0.931 - ETA: 11s - loss: 0.1818 - accuracy: 0.931 - ETA: 11s - loss: 0.1820 - accuracy: 0.931 - ETA: 11s - loss: 0.1818 - accuracy: 0.931 - ETA: 11s - loss: 0.1818 - accuracy: 0.931 - ETA: 11s - loss: 0.1817 - accuracy: 0.931 - ETA: 11s - loss: 0.1816 - accuracy: 0.931 - ETA: 11s - loss: 0.1815 - accuracy: 0.931 - ETA: 11s - loss: 0.1815 - accuracy: 0.931 - ETA: 11s - loss: 0.1813 - accuracy: 0.931 - ETA: 11s - loss: 0.1813 - accuracy: 0.931 - ETA: 11s - loss: 0.1811 - accuracy: 0.931 - ETA: 11s - loss: 0.1813 - accuracy: 0.931 - ETA: 10s - loss: 0.1817 - accuracy: 0.931 - ETA: 10s - loss: 0.1818 - accuracy: 0.931 - ETA: 10s - loss: 0.1817 - accuracy: 0.931 - ETA: 10s - loss: 0.1819 - accuracy: 0.931 - ETA: 10s - loss: 0.1824 - accuracy: 0.931 - ETA: 10s - loss: 0.1822 - accuracy: 0.931 - ETA: 10s - loss: 0.1826 - accuracy: 0.931 - ETA: 10s - loss: 0.1827 - accuracy: 0.931 - ETA: 10s - loss: 0.1825 - accuracy: 0.931 - ETA: 10s - loss: 0.1825 - accuracy: 0.931 - ETA: 10s - loss: 0.1824 - accuracy: 0.931 - ETA: 10s - loss: 0.1825 - accuracy: 0.931 - ETA: 10s - loss: 0.1826 - accuracy: 0.931 - ETA: 9s - loss: 0.1825 - accuracy: 0.931 - ETA: 9s - loss: 0.1824 - accuracy: 0.93 - ETA: 9s - loss: 0.1826 - accuracy: 0.93 - ETA: 9s - loss: 0.1826 - accuracy: 0.93 - ETA: 9s - loss: 0.1825 - accuracy: 0.93 - ETA: 9s - loss: 0.1824 - accuracy: 0.93 - ETA: 9s - loss: 0.1824 - accuracy: 0.93 - ETA: 9s - loss: 0.1824 - accuracy: 0.93 - ETA: 9s - loss: 0.1823 - accuracy: 0.93 - ETA: 9s - loss: 0.1822 - accuracy: 0.93 - ETA: 9s - loss: 0.1822 - accuracy: 0.93 - ETA: 9s - loss: 0.1824 - accuracy: 0.93 - ETA: 8s - loss: 0.1825 - accuracy: 0.93 - ETA: 8s - loss: 0.1825 - accuracy: 0.93 - ETA: 8s - loss: 0.1825 - accuracy: 0.93 - ETA: 8s - loss: 0.1825 - accuracy: 0.93 - ETA: 8s - loss: 0.1824 - accuracy: 0.93 - ETA: 8s - loss: 0.1827 - accuracy: 0.93 - ETA: 8s - loss: 0.1828 - accuracy: 0.93 - ETA: 8s - loss: 0.1828 - accuracy: 0.93 - ETA: 8s - loss: 0.1832 - accuracy: 0.93 - ETA: 8s - loss: 0.1834 - accuracy: 0.93 - ETA: 8s - loss: 0.1835 - accuracy: 0.93 - ETA: 8s - loss: 0.1833 - accuracy: 0.93 - ETA: 8s - loss: 0.1832 - accuracy: 0.93 - ETA: 7s - loss: 0.1832 - accuracy: 0.93 - ETA: 7s - loss: 0.1832 - accuracy: 0.93 - ETA: 7s - loss: 0.1830 - accuracy: 0.93 - ETA: 7s - loss: 0.1830 - accuracy: 0.93 - ETA: 7s - loss: 0.1830 - accuracy: 0.93 - ETA: 7s - loss: 0.1830 - accuracy: 0.93 - ETA: 7s - loss: 0.1829 - accuracy: 0.93 - ETA: 7s - loss: 0.1828 - accuracy: 0.93 - ETA: 7s - loss: 0.1826 - accuracy: 0.93 - ETA: 7s - loss: 0.1826 - accuracy: 0.93 - ETA: 7s - loss: 0.1825 - accuracy: 0.93 - ETA: 7s - loss: 0.1823 - accuracy: 0.93 - ETA: 6s - loss: 0.1827 - accuracy: 0.93 - ETA: 6s - loss: 0.1826 - accuracy: 0.93 - ETA: 6s - loss: 0.1825 - accuracy: 0.93 - ETA: 6s - loss: 0.1826 - accuracy: 0.93 - ETA: 6s - loss: 0.1825 - accuracy: 0.93 - ETA: 6s - loss: 0.1825 - accuracy: 0.93 - ETA: 6s - loss: 0.1825 - accuracy: 0.93 - ETA: 6s - loss: 0.1823 - accuracy: 0.93 - ETA: 6s - loss: 0.1822 - accuracy: 0.93 - ETA: 6s - loss: 0.1822 - accuracy: 0.93 - ETA: 6s - loss: 0.1825 - accuracy: 0.93 - ETA: 6s - loss: 0.1825 - accuracy: 0.93 - ETA: 6s - loss: 0.1823 - accuracy: 0.93 - ETA: 5s - loss: 0.1822 - accuracy: 0.93 - ETA: 5s - loss: 0.1823 - accuracy: 0.93 - ETA: 5s - loss: 0.1824 - accuracy: 0.93 - ETA: 5s - loss: 0.1825 - accuracy: 0.93 - ETA: 5s - loss: 0.1826 - accuracy: 0.93 - ETA: 5s - loss: 0.1826 - accuracy: 0.93 - ETA: 5s - loss: 0.1826 - accuracy: 0.93 - ETA: 5s - loss: 0.1824 - accuracy: 0.93 - ETA: 5s - loss: 0.1825 - accuracy: 0.93 - ETA: 5s - loss: 0.1823 - accuracy: 0.93 - ETA: 5s - loss: 0.1824 - accuracy: 0.93 - ETA: 5s - loss: 0.1823 - accuracy: 0.93 - ETA: 4s - loss: 0.1825 - accuracy: 0.93 - ETA: 4s - loss: 0.1826 - accuracy: 0.93 - ETA: 4s - loss: 0.1825 - accuracy: 0.93 - ETA: 4s - loss: 0.1826 - accuracy: 0.93 - ETA: 4s - loss: 0.1826 - accuracy: 0.93 - ETA: 4s - loss: 0.1826 - accuracy: 0.93 - ETA: 4s - loss: 0.1826 - accuracy: 0.93 - ETA: 4s - loss: 0.1825 - accuracy: 0.93 - ETA: 4s - loss: 0.1826 - accuracy: 0.93 - ETA: 4s - loss: 0.1826 - accuracy: 0.93 - ETA: 4s - loss: 0.1826 - accuracy: 0.93 - ETA: 4s - loss: 0.1828 - accuracy: 0.93 - ETA: 4s - loss: 0.1826 - accuracy: 0.93 - ETA: 3s - loss: 0.1826 - accuracy: 0.93 - ETA: 3s - loss: 0.1825 - accuracy: 0.93 - ETA: 3s - loss: 0.1823 - accuracy: 0.93 - ETA: 3s - loss: 0.1822 - accuracy: 0.93 - ETA: 3s - loss: 0.1822 - accuracy: 0.93 - ETA: 3s - loss: 0.1821 - accuracy: 0.93 - ETA: 3s - loss: 0.1822 - accuracy: 0.93 - ETA: 3s - loss: 0.1824 - accuracy: 0.93 - ETA: 3s - loss: 0.1822 - accuracy: 0.93 - ETA: 3s - loss: 0.1822 - accuracy: 0.93 - ETA: 3s - loss: 0.1822 - accuracy: 0.93 - ETA: 3s - loss: 0.1823 - accuracy: 0.93 - ETA: 2s - loss: 0.1823 - accuracy: 0.93 - ETA: 2s - loss: 0.1822 - accuracy: 0.93 - ETA: 2s - loss: 0.1821 - accuracy: 0.93 - ETA: 2s - loss: 0.1819 - accuracy: 0.93 - ETA: 2s - loss: 0.1819 - accuracy: 0.9311"
     ]
    },
    {
     "name": "stdout",
     "output_type": "stream",
     "text": [
      "25000/25000 [==============================] - ETA: 2s - loss: 0.1818 - accuracy: 0.93 - ETA: 2s - loss: 0.1819 - accuracy: 0.93 - ETA: 2s - loss: 0.1822 - accuracy: 0.93 - ETA: 2s - loss: 0.1823 - accuracy: 0.93 - ETA: 2s - loss: 0.1821 - accuracy: 0.93 - ETA: 2s - loss: 0.1821 - accuracy: 0.93 - ETA: 2s - loss: 0.1820 - accuracy: 0.93 - ETA: 2s - loss: 0.1820 - accuracy: 0.93 - ETA: 1s - loss: 0.1820 - accuracy: 0.93 - ETA: 1s - loss: 0.1819 - accuracy: 0.93 - ETA: 1s - loss: 0.1819 - accuracy: 0.93 - ETA: 1s - loss: 0.1818 - accuracy: 0.93 - ETA: 1s - loss: 0.1817 - accuracy: 0.93 - ETA: 1s - loss: 0.1816 - accuracy: 0.93 - ETA: 1s - loss: 0.1816 - accuracy: 0.93 - ETA: 1s - loss: 0.1815 - accuracy: 0.93 - ETA: 1s - loss: 0.1816 - accuracy: 0.93 - ETA: 1s - loss: 0.1818 - accuracy: 0.93 - ETA: 1s - loss: 0.1817 - accuracy: 0.93 - ETA: 1s - loss: 0.1819 - accuracy: 0.93 - ETA: 0s - loss: 0.1820 - accuracy: 0.93 - ETA: 0s - loss: 0.1819 - accuracy: 0.93 - ETA: 0s - loss: 0.1824 - accuracy: 0.93 - ETA: 0s - loss: 0.1825 - accuracy: 0.93 - ETA: 0s - loss: 0.1826 - accuracy: 0.93 - ETA: 0s - loss: 0.1825 - accuracy: 0.93 - ETA: 0s - loss: 0.1825 - accuracy: 0.93 - ETA: 0s - loss: 0.1824 - accuracy: 0.93 - ETA: 0s - loss: 0.1825 - accuracy: 0.93 - ETA: 0s - loss: 0.1825 - accuracy: 0.93 - ETA: 0s - loss: 0.1826 - accuracy: 0.93 - ETA: 0s - loss: 0.1828 - accuracy: 0.93 - ETA: 0s - loss: 0.1829 - accuracy: 0.93 - 63s 3ms/sample - loss: 0.1829 - accuracy: 0.9304\n"
     ]
    }
   ],
   "source": [
    "history_2 = model_2.fit(X_train, y_train, epochs=5)"
   ]
  },
  {
   "cell_type": "markdown",
   "metadata": {},
   "source": [
    "# evaluate the model_2"
   ]
  },
  {
   "cell_type": "code",
   "execution_count": 46,
   "metadata": {},
   "outputs": [
    {
     "name": "stdout",
     "output_type": "stream",
     "text": [
      "17824/25000 [====================>.........] - ETA: 5:03 - loss: 0.6329 - accuracy: 0.81 - ETA: 1:26 - loss: 0.4471 - accuracy: 0.82 - ETA: 55s - loss: 0.4622 - accuracy: 0.8348 - ETA: 43s - loss: 0.5157 - accuracy: 0.809 - ETA: 37s - loss: 0.5448 - accuracy: 0.793 - ETA: 33s - loss: 0.5658 - accuracy: 0.787 - ETA: 30s - loss: 0.5496 - accuracy: 0.791 - ETA: 28s - loss: 0.5422 - accuracy: 0.795 - ETA: 26s - loss: 0.5413 - accuracy: 0.797 - ETA: 25s - loss: 0.5259 - accuracy: 0.804 - ETA: 24s - loss: 0.5371 - accuracy: 0.797 - ETA: 23s - loss: 0.5312 - accuracy: 0.801 - ETA: 23s - loss: 0.5216 - accuracy: 0.804 - ETA: 22s - loss: 0.5163 - accuracy: 0.806 - ETA: 21s - loss: 0.5193 - accuracy: 0.806 - ETA: 21s - loss: 0.5245 - accuracy: 0.805 - ETA: 21s - loss: 0.5186 - accuracy: 0.804 - ETA: 20s - loss: 0.5066 - accuracy: 0.808 - ETA: 20s - loss: 0.5091 - accuracy: 0.808 - ETA: 20s - loss: 0.5192 - accuracy: 0.805 - ETA: 19s - loss: 0.5189 - accuracy: 0.804 - ETA: 19s - loss: 0.5181 - accuracy: 0.804 - ETA: 19s - loss: 0.5180 - accuracy: 0.803 - ETA: 19s - loss: 0.5201 - accuracy: 0.802 - ETA: 18s - loss: 0.5236 - accuracy: 0.800 - ETA: 18s - loss: 0.5354 - accuracy: 0.797 - ETA: 18s - loss: 0.5364 - accuracy: 0.796 - ETA: 18s - loss: 0.5331 - accuracy: 0.796 - ETA: 18s - loss: 0.5318 - accuracy: 0.796 - ETA: 17s - loss: 0.5408 - accuracy: 0.793 - ETA: 17s - loss: 0.5429 - accuracy: 0.792 - ETA: 17s - loss: 0.5389 - accuracy: 0.793 - ETA: 17s - loss: 0.5301 - accuracy: 0.795 - ETA: 17s - loss: 0.5333 - accuracy: 0.795 - ETA: 17s - loss: 0.5345 - accuracy: 0.795 - ETA: 17s - loss: 0.5308 - accuracy: 0.796 - ETA: 16s - loss: 0.5272 - accuracy: 0.797 - ETA: 16s - loss: 0.5244 - accuracy: 0.797 - ETA: 16s - loss: 0.5252 - accuracy: 0.797 - ETA: 16s - loss: 0.5279 - accuracy: 0.796 - ETA: 16s - loss: 0.5268 - accuracy: 0.796 - ETA: 16s - loss: 0.5259 - accuracy: 0.797 - ETA: 16s - loss: 0.5259 - accuracy: 0.798 - ETA: 16s - loss: 0.5231 - accuracy: 0.798 - ETA: 15s - loss: 0.5245 - accuracy: 0.797 - ETA: 15s - loss: 0.5280 - accuracy: 0.795 - ETA: 15s - loss: 0.5299 - accuracy: 0.795 - ETA: 15s - loss: 0.5327 - accuracy: 0.794 - ETA: 15s - loss: 0.5338 - accuracy: 0.794 - ETA: 15s - loss: 0.5317 - accuracy: 0.794 - ETA: 15s - loss: 0.5324 - accuracy: 0.794 - ETA: 15s - loss: 0.5326 - accuracy: 0.794 - ETA: 15s - loss: 0.5307 - accuracy: 0.795 - ETA: 15s - loss: 0.5290 - accuracy: 0.795 - ETA: 15s - loss: 0.5299 - accuracy: 0.794 - ETA: 15s - loss: 0.5289 - accuracy: 0.794 - ETA: 15s - loss: 0.5335 - accuracy: 0.792 - ETA: 15s - loss: 0.5342 - accuracy: 0.792 - ETA: 15s - loss: 0.5314 - accuracy: 0.793 - ETA: 14s - loss: 0.5305 - accuracy: 0.793 - ETA: 14s - loss: 0.5293 - accuracy: 0.792 - ETA: 14s - loss: 0.5265 - accuracy: 0.793 - ETA: 14s - loss: 0.5258 - accuracy: 0.792 - ETA: 14s - loss: 0.5261 - accuracy: 0.793 - ETA: 14s - loss: 0.5269 - accuracy: 0.793 - ETA: 14s - loss: 0.5285 - accuracy: 0.792 - ETA: 14s - loss: 0.5279 - accuracy: 0.793 - ETA: 14s - loss: 0.5298 - accuracy: 0.792 - ETA: 14s - loss: 0.5302 - accuracy: 0.792 - ETA: 14s - loss: 0.5292 - accuracy: 0.792 - ETA: 13s - loss: 0.5284 - accuracy: 0.792 - ETA: 13s - loss: 0.5284 - accuracy: 0.792 - ETA: 13s - loss: 0.5275 - accuracy: 0.792 - ETA: 13s - loss: 0.5273 - accuracy: 0.792 - ETA: 13s - loss: 0.5276 - accuracy: 0.792 - ETA: 13s - loss: 0.5297 - accuracy: 0.792 - ETA: 13s - loss: 0.5312 - accuracy: 0.791 - ETA: 13s - loss: 0.5306 - accuracy: 0.792 - ETA: 13s - loss: 0.5282 - accuracy: 0.793 - ETA: 13s - loss: 0.5293 - accuracy: 0.792 - ETA: 13s - loss: 0.5309 - accuracy: 0.792 - ETA: 12s - loss: 0.5307 - accuracy: 0.793 - ETA: 12s - loss: 0.5289 - accuracy: 0.793 - ETA: 12s - loss: 0.5284 - accuracy: 0.794 - ETA: 12s - loss: 0.5261 - accuracy: 0.794 - ETA: 12s - loss: 0.5246 - accuracy: 0.794 - ETA: 12s - loss: 0.5237 - accuracy: 0.795 - ETA: 12s - loss: 0.5233 - accuracy: 0.795 - ETA: 12s - loss: 0.5243 - accuracy: 0.795 - ETA: 12s - loss: 0.5253 - accuracy: 0.795 - ETA: 12s - loss: 0.5234 - accuracy: 0.796 - ETA: 12s - loss: 0.5210 - accuracy: 0.797 - ETA: 12s - loss: 0.5225 - accuracy: 0.797 - ETA: 12s - loss: 0.5207 - accuracy: 0.797 - ETA: 11s - loss: 0.5211 - accuracy: 0.798 - ETA: 11s - loss: 0.5217 - accuracy: 0.798 - ETA: 11s - loss: 0.5207 - accuracy: 0.798 - ETA: 11s - loss: 0.5207 - accuracy: 0.798 - ETA: 11s - loss: 0.5198 - accuracy: 0.798 - ETA: 11s - loss: 0.5195 - accuracy: 0.798 - ETA: 11s - loss: 0.5199 - accuracy: 0.798 - ETA: 11s - loss: 0.5228 - accuracy: 0.798 - ETA: 11s - loss: 0.5231 - accuracy: 0.798 - ETA: 11s - loss: 0.5224 - accuracy: 0.798 - ETA: 11s - loss: 0.5218 - accuracy: 0.798 - ETA: 11s - loss: 0.5222 - accuracy: 0.798 - ETA: 11s - loss: 0.5229 - accuracy: 0.797 - ETA: 10s - loss: 0.5231 - accuracy: 0.797 - ETA: 10s - loss: 0.5224 - accuracy: 0.797 - ETA: 10s - loss: 0.5212 - accuracy: 0.798 - ETA: 10s - loss: 0.5206 - accuracy: 0.798 - ETA: 10s - loss: 0.5203 - accuracy: 0.798 - ETA: 10s - loss: 0.5207 - accuracy: 0.797 - ETA: 10s - loss: 0.5205 - accuracy: 0.798 - ETA: 10s - loss: 0.5194 - accuracy: 0.798 - ETA: 10s - loss: 0.5185 - accuracy: 0.798 - ETA: 10s - loss: 0.5177 - accuracy: 0.799 - ETA: 10s - loss: 0.5162 - accuracy: 0.800 - ETA: 10s - loss: 0.5163 - accuracy: 0.799 - ETA: 10s - loss: 0.5157 - accuracy: 0.800 - ETA: 10s - loss: 0.5169 - accuracy: 0.799 - ETA: 9s - loss: 0.5167 - accuracy: 0.799 - ETA: 9s - loss: 0.5168 - accuracy: 0.79 - ETA: 9s - loss: 0.5160 - accuracy: 0.79 - ETA: 9s - loss: 0.5147 - accuracy: 0.80 - ETA: 9s - loss: 0.5150 - accuracy: 0.80 - ETA: 9s - loss: 0.5157 - accuracy: 0.80 - ETA: 9s - loss: 0.5163 - accuracy: 0.79 - ETA: 9s - loss: 0.5159 - accuracy: 0.80 - ETA: 9s - loss: 0.5156 - accuracy: 0.80 - ETA: 9s - loss: 0.5137 - accuracy: 0.80 - ETA: 9s - loss: 0.5133 - accuracy: 0.80 - ETA: 9s - loss: 0.5150 - accuracy: 0.80 - ETA: 9s - loss: 0.5151 - accuracy: 0.79 - ETA: 9s - loss: 0.5152 - accuracy: 0.80 - ETA: 8s - loss: 0.5149 - accuracy: 0.79 - ETA: 8s - loss: 0.5152 - accuracy: 0.79 - ETA: 8s - loss: 0.5155 - accuracy: 0.79 - ETA: 8s - loss: 0.5156 - accuracy: 0.80 - ETA: 8s - loss: 0.5151 - accuracy: 0.79 - ETA: 8s - loss: 0.5137 - accuracy: 0.80 - ETA: 8s - loss: 0.5123 - accuracy: 0.80 - ETA: 8s - loss: 0.5128 - accuracy: 0.80 - ETA: 8s - loss: 0.5126 - accuracy: 0.80 - ETA: 8s - loss: 0.5123 - accuracy: 0.80 - ETA: 8s - loss: 0.5127 - accuracy: 0.80 - ETA: 8s - loss: 0.5130 - accuracy: 0.80 - ETA: 8s - loss: 0.5126 - accuracy: 0.80 - ETA: 8s - loss: 0.5126 - accuracy: 0.80 - ETA: 7s - loss: 0.5121 - accuracy: 0.80 - ETA: 7s - loss: 0.5126 - accuracy: 0.80 - ETA: 7s - loss: 0.5126 - accuracy: 0.80 - ETA: 7s - loss: 0.5128 - accuracy: 0.80 - ETA: 7s - loss: 0.5124 - accuracy: 0.80 - ETA: 7s - loss: 0.5121 - accuracy: 0.80 - ETA: 7s - loss: 0.5120 - accuracy: 0.80 - ETA: 7s - loss: 0.5112 - accuracy: 0.80 - ETA: 7s - loss: 0.5106 - accuracy: 0.80 - ETA: 7s - loss: 0.5105 - accuracy: 0.80 - ETA: 7s - loss: 0.5108 - accuracy: 0.80 - ETA: 7s - loss: 0.5112 - accuracy: 0.80 - ETA: 7s - loss: 0.5109 - accuracy: 0.80 - ETA: 7s - loss: 0.5115 - accuracy: 0.80 - ETA: 6s - loss: 0.5121 - accuracy: 0.80 - ETA: 6s - loss: 0.5113 - accuracy: 0.80 - ETA: 6s - loss: 0.5102 - accuracy: 0.80 - ETA: 6s - loss: 0.5095 - accuracy: 0.80 - ETA: 6s - loss: 0.5082 - accuracy: 0.80 - ETA: 6s - loss: 0.5079 - accuracy: 0.80 - ETA: 6s - loss: 0.5075 - accuracy: 0.80 - ETA: 6s - loss: 0.5068 - accuracy: 0.80 - ETA: 6s - loss: 0.5066 - accuracy: 0.80 - ETA: 6s - loss: 0.5070 - accuracy: 0.80 - ETA: 6s - loss: 0.5082 - accuracy: 0.80 - ETA: 6s - loss: 0.5084 - accuracy: 0.80 - ETA: 6s - loss: 0.5079 - accuracy: 0.80 - ETA: 6s - loss: 0.5079 - accuracy: 0.80 - ETA: 5s - loss: 0.5074 - accuracy: 0.80 - ETA: 5s - loss: 0.5078 - accuracy: 0.80 - ETA: 5s - loss: 0.5077 - accuracy: 0.80 - ETA: 5s - loss: 0.5079 - accuracy: 0.80 - ETA: 5s - loss: 0.5084 - accuracy: 0.80 - ETA: 5s - loss: 0.5083 - accuracy: 0.80 - ETA: 5s - loss: 0.5085 - accuracy: 0.80 - ETA: 5s - loss: 0.5089 - accuracy: 0.80 - ETA: 5s - loss: 0.5084 - accuracy: 0.80 - ETA: 5s - loss: 0.5073 - accuracy: 0.80 - ETA: 5s - loss: 0.5068 - accuracy: 0.80 - ETA: 5s - loss: 0.5062 - accuracy: 0.8035"
     ]
    },
    {
     "name": "stdout",
     "output_type": "stream",
     "text": [
      "25000/25000 [==============================] - ETA: 5s - loss: 0.5060 - accuracy: 0.80 - ETA: 5s - loss: 0.5064 - accuracy: 0.80 - ETA: 4s - loss: 0.5065 - accuracy: 0.80 - ETA: 4s - loss: 0.5064 - accuracy: 0.80 - ETA: 4s - loss: 0.5068 - accuracy: 0.80 - ETA: 4s - loss: 0.5071 - accuracy: 0.80 - ETA: 4s - loss: 0.5065 - accuracy: 0.80 - ETA: 4s - loss: 0.5059 - accuracy: 0.80 - ETA: 4s - loss: 0.5062 - accuracy: 0.80 - ETA: 4s - loss: 0.5056 - accuracy: 0.80 - ETA: 4s - loss: 0.5049 - accuracy: 0.80 - ETA: 4s - loss: 0.5052 - accuracy: 0.80 - ETA: 4s - loss: 0.5050 - accuracy: 0.80 - ETA: 4s - loss: 0.5044 - accuracy: 0.80 - ETA: 4s - loss: 0.5042 - accuracy: 0.80 - ETA: 4s - loss: 0.5046 - accuracy: 0.80 - ETA: 3s - loss: 0.5042 - accuracy: 0.80 - ETA: 3s - loss: 0.5043 - accuracy: 0.80 - ETA: 3s - loss: 0.5051 - accuracy: 0.80 - ETA: 3s - loss: 0.5052 - accuracy: 0.80 - ETA: 3s - loss: 0.5046 - accuracy: 0.80 - ETA: 3s - loss: 0.5047 - accuracy: 0.80 - ETA: 3s - loss: 0.5047 - accuracy: 0.80 - ETA: 3s - loss: 0.5052 - accuracy: 0.80 - ETA: 3s - loss: 0.5051 - accuracy: 0.80 - ETA: 3s - loss: 0.5049 - accuracy: 0.80 - ETA: 3s - loss: 0.5056 - accuracy: 0.80 - ETA: 3s - loss: 0.5067 - accuracy: 0.80 - ETA: 3s - loss: 0.5066 - accuracy: 0.80 - ETA: 3s - loss: 0.5067 - accuracy: 0.80 - ETA: 3s - loss: 0.5067 - accuracy: 0.80 - ETA: 2s - loss: 0.5064 - accuracy: 0.80 - ETA: 2s - loss: 0.5061 - accuracy: 0.80 - ETA: 2s - loss: 0.5063 - accuracy: 0.80 - ETA: 2s - loss: 0.5069 - accuracy: 0.80 - ETA: 2s - loss: 0.5070 - accuracy: 0.80 - ETA: 2s - loss: 0.5065 - accuracy: 0.80 - ETA: 2s - loss: 0.5064 - accuracy: 0.80 - ETA: 2s - loss: 0.5065 - accuracy: 0.80 - ETA: 2s - loss: 0.5065 - accuracy: 0.80 - ETA: 2s - loss: 0.5065 - accuracy: 0.80 - ETA: 2s - loss: 0.5068 - accuracy: 0.80 - ETA: 2s - loss: 0.5069 - accuracy: 0.80 - ETA: 2s - loss: 0.5066 - accuracy: 0.80 - ETA: 2s - loss: 0.5071 - accuracy: 0.80 - ETA: 1s - loss: 0.5068 - accuracy: 0.80 - ETA: 1s - loss: 0.5073 - accuracy: 0.80 - ETA: 1s - loss: 0.5070 - accuracy: 0.80 - ETA: 1s - loss: 0.5072 - accuracy: 0.80 - ETA: 1s - loss: 0.5075 - accuracy: 0.80 - ETA: 1s - loss: 0.5078 - accuracy: 0.80 - ETA: 1s - loss: 0.5087 - accuracy: 0.80 - ETA: 1s - loss: 0.5081 - accuracy: 0.80 - ETA: 1s - loss: 0.5085 - accuracy: 0.80 - ETA: 1s - loss: 0.5080 - accuracy: 0.80 - ETA: 1s - loss: 0.5086 - accuracy: 0.80 - ETA: 1s - loss: 0.5086 - accuracy: 0.80 - ETA: 1s - loss: 0.5082 - accuracy: 0.80 - ETA: 1s - loss: 0.5084 - accuracy: 0.80 - ETA: 1s - loss: 0.5083 - accuracy: 0.80 - ETA: 0s - loss: 0.5078 - accuracy: 0.80 - ETA: 0s - loss: 0.5080 - accuracy: 0.80 - ETA: 0s - loss: 0.5077 - accuracy: 0.80 - ETA: 0s - loss: 0.5065 - accuracy: 0.80 - ETA: 0s - loss: 0.5066 - accuracy: 0.80 - ETA: 0s - loss: 0.5068 - accuracy: 0.80 - ETA: 0s - loss: 0.5067 - accuracy: 0.80 - ETA: 0s - loss: 0.5074 - accuracy: 0.80 - ETA: 0s - loss: 0.5069 - accuracy: 0.80 - ETA: 0s - loss: 0.5073 - accuracy: 0.80 - ETA: 0s - loss: 0.5069 - accuracy: 0.80 - ETA: 0s - loss: 0.5069 - accuracy: 0.80 - ETA: 0s - loss: 0.5066 - accuracy: 0.80 - ETA: 0s - loss: 0.5072 - accuracy: 0.80 - 18s 707us/sample - loss: 0.5072 - accuracy: 0.8028\n"
     ]
    },
    {
     "data": {
      "text/plain": [
       "[0.5072451634597779, 0.80276]"
      ]
     },
     "execution_count": 46,
     "metadata": {},
     "output_type": "execute_result"
    }
   ],
   "source": [
    "model_2.evaluate(X_test, y_test)"
   ]
  },
  {
   "cell_type": "markdown",
   "metadata": {},
   "source": [
    "# build the neural network model_3 - bidirectional lstm"
   ]
  },
  {
   "cell_type": "code",
   "execution_count": 48,
   "metadata": {
    "scrolled": true
   },
   "outputs": [
    {
     "name": "stdout",
     "output_type": "stream",
     "text": [
      "Model: \"sequential_2\"\n",
      "_________________________________________________________________\n",
      "Layer (type)                 Output Shape              Param #   \n",
      "=================================================================\n",
      "embedding_3 (Embedding)      (None, None, 16)          130960    \n",
      "_________________________________________________________________\n",
      "bidirectional (Bidirectional (None, 256)               148480    \n",
      "_________________________________________________________________\n",
      "dense_4 (Dense)              (None, 16)                4112      \n",
      "_________________________________________________________________\n",
      "dense_5 (Dense)              (None, 1)                 17        \n",
      "=================================================================\n",
      "Total params: 283,569\n",
      "Trainable params: 283,569\n",
      "Non-trainable params: 0\n",
      "_________________________________________________________________\n"
     ]
    }
   ],
   "source": [
    "embedding_dim=16\n",
    "\n",
    "model_3 = keras.Sequential([\n",
    "  layers.Embedding(encoder.vocab_size, embedding_dim),\n",
    "  layers.Bidirectional(layers.LSTM(128)),\n",
    "  layers.Dense(16, activation='relu'),\n",
    "  layers.Dense(1)\n",
    "])\n",
    "\n",
    "model_3.summary()"
   ]
  },
  {
   "cell_type": "markdown",
   "metadata": {},
   "source": [
    "# compile the model_3"
   ]
  },
  {
   "cell_type": "code",
   "execution_count": 49,
   "metadata": {},
   "outputs": [],
   "source": [
    "model_3.compile(optimizer='adam',\n",
    "              loss=tf.keras.losses.BinaryCrossentropy(from_logits=True),\n",
    "              metrics=['accuracy'])"
   ]
  },
  {
   "cell_type": "markdown",
   "metadata": {},
   "source": [
    "# train the model_3"
   ]
  },
  {
   "cell_type": "code",
   "execution_count": 50,
   "metadata": {},
   "outputs": [
    {
     "name": "stdout",
     "output_type": "stream",
     "text": [
      "Train on 25000 samples\n",
      "Epoch 1/5\n"
     ]
    },
    {
     "name": "stdout",
     "output_type": "stream",
     "text": [
      " 5920/25000 [======>.......................] - ETA: 31:08 - loss: 0.6934 - accuracy: 0.500 - ETA: 16:06 - loss: 0.6933 - accuracy: 0.515 - ETA: 11:06 - loss: 0.6931 - accuracy: 0.552 - ETA: 8:35 - loss: 0.6932 - accuracy: 0.531 - ETA: 7:05 - loss: 0.6934 - accuracy: 0.51 - ETA: 6:05 - loss: 0.6931 - accuracy: 0.52 - ETA: 5:22 - loss: 0.6930 - accuracy: 0.53 - ETA: 4:49 - loss: 0.6927 - accuracy: 0.54 - ETA: 4:24 - loss: 0.6929 - accuracy: 0.53 - ETA: 4:04 - loss: 0.6929 - accuracy: 0.53 - ETA: 3:48 - loss: 0.6936 - accuracy: 0.51 - ETA: 3:34 - loss: 0.6937 - accuracy: 0.50 - ETA: 3:22 - loss: 0.6934 - accuracy: 0.51 - ETA: 3:12 - loss: 0.6938 - accuracy: 0.50 - ETA: 3:03 - loss: 0.6939 - accuracy: 0.49 - ETA: 2:55 - loss: 0.6940 - accuracy: 0.49 - ETA: 2:48 - loss: 0.6940 - accuracy: 0.49 - ETA: 2:42 - loss: 0.6939 - accuracy: 0.49 - ETA: 2:36 - loss: 0.6939 - accuracy: 0.49 - ETA: 2:31 - loss: 0.6940 - accuracy: 0.47 - ETA: 2:27 - loss: 0.6939 - accuracy: 0.47 - ETA: 2:22 - loss: 0.6939 - accuracy: 0.48 - ETA: 2:19 - loss: 0.6939 - accuracy: 0.48 - ETA: 2:15 - loss: 0.6939 - accuracy: 0.49 - ETA: 2:12 - loss: 0.6939 - accuracy: 0.49 - ETA: 2:09 - loss: 0.6939 - accuracy: 0.49 - ETA: 2:06 - loss: 0.6938 - accuracy: 0.48 - ETA: 2:04 - loss: 0.6938 - accuracy: 0.49 - ETA: 2:01 - loss: 0.6938 - accuracy: 0.49 - ETA: 1:59 - loss: 0.6938 - accuracy: 0.49 - ETA: 1:57 - loss: 0.6937 - accuracy: 0.49 - ETA: 1:55 - loss: 0.6937 - accuracy: 0.49 - ETA: 1:53 - loss: 0.6937 - accuracy: 0.49 - ETA: 1:51 - loss: 0.6937 - accuracy: 0.49 - ETA: 1:50 - loss: 0.6937 - accuracy: 0.49 - ETA: 1:48 - loss: 0.6937 - accuracy: 0.49 - ETA: 1:47 - loss: 0.6936 - accuracy: 0.49 - ETA: 1:45 - loss: 0.6936 - accuracy: 0.48 - ETA: 1:44 - loss: 0.6936 - accuracy: 0.49 - ETA: 1:43 - loss: 0.6936 - accuracy: 0.49 - ETA: 1:42 - loss: 0.6936 - accuracy: 0.49 - ETA: 1:40 - loss: 0.6936 - accuracy: 0.49 - ETA: 1:39 - loss: 0.6936 - accuracy: 0.49 - ETA: 1:38 - loss: 0.6936 - accuracy: 0.49 - ETA: 1:37 - loss: 0.6936 - accuracy: 0.49 - ETA: 1:36 - loss: 0.6936 - accuracy: 0.49 - ETA: 1:35 - loss: 0.6936 - accuracy: 0.49 - ETA: 1:34 - loss: 0.6936 - accuracy: 0.49 - ETA: 1:33 - loss: 0.6935 - accuracy: 0.49 - ETA: 1:32 - loss: 0.6935 - accuracy: 0.50 - ETA: 1:32 - loss: 0.6935 - accuracy: 0.50 - ETA: 1:31 - loss: 0.6935 - accuracy: 0.49 - ETA: 1:30 - loss: 0.6935 - accuracy: 0.49 - ETA: 1:29 - loss: 0.6935 - accuracy: 0.49 - ETA: 1:29 - loss: 0.6935 - accuracy: 0.49 - ETA: 1:28 - loss: 0.6935 - accuracy: 0.50 - ETA: 1:27 - loss: 0.6935 - accuracy: 0.50 - ETA: 1:27 - loss: 0.6935 - accuracy: 0.50 - ETA: 1:26 - loss: 0.6935 - accuracy: 0.49 - ETA: 1:26 - loss: 0.6935 - accuracy: 0.49 - ETA: 1:25 - loss: 0.6935 - accuracy: 0.49 - ETA: 1:24 - loss: 0.6935 - accuracy: 0.49 - ETA: 1:24 - loss: 0.6935 - accuracy: 0.49 - ETA: 1:23 - loss: 0.6935 - accuracy: 0.49 - ETA: 1:23 - loss: 0.6935 - accuracy: 0.49 - ETA: 1:22 - loss: 0.6935 - accuracy: 0.49 - ETA: 1:22 - loss: 0.6934 - accuracy: 0.49 - ETA: 1:21 - loss: 0.6934 - accuracy: 0.50 - ETA: 1:21 - loss: 0.6934 - accuracy: 0.50 - ETA: 1:20 - loss: 0.6934 - accuracy: 0.49 - ETA: 1:20 - loss: 0.6934 - accuracy: 0.49 - ETA: 1:19 - loss: 0.6934 - accuracy: 0.49 - ETA: 1:19 - loss: 0.6934 - accuracy: 0.49 - ETA: 1:19 - loss: 0.6934 - accuracy: 0.49 - ETA: 1:18 - loss: 0.6934 - accuracy: 0.49 - ETA: 1:18 - loss: 0.6934 - accuracy: 0.49 - ETA: 1:17 - loss: 0.6934 - accuracy: 0.49 - ETA: 1:17 - loss: 0.6934 - accuracy: 0.49 - ETA: 1:17 - loss: 0.6934 - accuracy: 0.49 - ETA: 1:16 - loss: 0.6934 - accuracy: 0.49 - ETA: 1:16 - loss: 0.6934 - accuracy: 0.49 - ETA: 1:16 - loss: 0.6934 - accuracy: 0.49 - ETA: 1:15 - loss: 0.6934 - accuracy: 0.49 - ETA: 1:15 - loss: 0.6934 - accuracy: 0.49 - ETA: 1:15 - loss: 0.6934 - accuracy: 0.49 - ETA: 1:14 - loss: 0.6934 - accuracy: 0.49 - ETA: 1:14 - loss: 0.6934 - accuracy: 0.49 - ETA: 1:14 - loss: 0.6934 - accuracy: 0.49 - ETA: 1:13 - loss: 0.6934 - accuracy: 0.49 - ETA: 1:13 - loss: 0.6934 - accuracy: 0.49 - ETA: 1:13 - loss: 0.6934 - accuracy: 0.49 - ETA: 1:13 - loss: 0.6934 - accuracy: 0.49 - ETA: 1:12 - loss: 0.6933 - accuracy: 0.49 - ETA: 1:12 - loss: 0.6933 - accuracy: 0.49 - ETA: 1:12 - loss: 0.6933 - accuracy: 0.49 - ETA: 1:12 - loss: 0.6932 - accuracy: 0.49 - ETA: 1:11 - loss: 0.6934 - accuracy: 0.49 - ETA: 1:11 - loss: 0.6933 - accuracy: 0.49 - ETA: 1:11 - loss: 0.6933 - accuracy: 0.49 - ETA: 1:11 - loss: 0.6933 - accuracy: 0.49 - ETA: 1:10 - loss: 0.6933 - accuracy: 0.49 - ETA: 1:10 - loss: 0.6933 - accuracy: 0.49 - ETA: 1:10 - loss: 0.6933 - accuracy: 0.49 - ETA: 1:10 - loss: 0.6933 - accuracy: 0.49 - ETA: 1:09 - loss: 0.6933 - accuracy: 0.49 - ETA: 1:09 - loss: 0.6933 - accuracy: 0.49 - ETA: 1:09 - loss: 0.6933 - accuracy: 0.49 - ETA: 1:09 - loss: 0.6932 - accuracy: 0.49 - ETA: 1:08 - loss: 0.6932 - accuracy: 0.49 - ETA: 1:08 - loss: 0.6932 - accuracy: 0.49 - ETA: 1:08 - loss: 0.6932 - accuracy: 0.49 - ETA: 1:08 - loss: 0.6932 - accuracy: 0.49 - ETA: 1:07 - loss: 0.6932 - accuracy: 0.49 - ETA: 1:07 - loss: 0.6932 - accuracy: 0.49 - ETA: 1:07 - loss: 0.6931 - accuracy: 0.49 - ETA: 1:07 - loss: 0.6931 - accuracy: 0.49 - ETA: 1:07 - loss: 0.6930 - accuracy: 0.49 - ETA: 1:06 - loss: 0.6930 - accuracy: 0.49 - ETA: 1:06 - loss: 0.6930 - accuracy: 0.49 - ETA: 1:06 - loss: 0.6930 - accuracy: 0.49 - ETA: 1:06 - loss: 0.6929 - accuracy: 0.49 - ETA: 1:06 - loss: 0.6930 - accuracy: 0.49 - ETA: 1:06 - loss: 0.6929 - accuracy: 0.49 - ETA: 1:05 - loss: 0.6928 - accuracy: 0.49 - ETA: 1:05 - loss: 0.6927 - accuracy: 0.49 - ETA: 1:05 - loss: 0.6927 - accuracy: 0.49 - ETA: 1:05 - loss: 0.6927 - accuracy: 0.49 - ETA: 1:05 - loss: 0.6928 - accuracy: 0.49 - ETA: 1:04 - loss: 0.6928 - accuracy: 0.49 - ETA: 1:04 - loss: 0.6927 - accuracy: 0.49 - ETA: 1:04 - loss: 0.6927 - accuracy: 0.49 - ETA: 1:04 - loss: 0.6926 - accuracy: 0.49 - ETA: 1:04 - loss: 0.6927 - accuracy: 0.49 - ETA: 1:03 - loss: 0.6925 - accuracy: 0.49 - ETA: 1:03 - loss: 0.6925 - accuracy: 0.49 - ETA: 1:03 - loss: 0.6924 - accuracy: 0.49 - ETA: 1:03 - loss: 0.6924 - accuracy: 0.49 - ETA: 1:03 - loss: 0.6923 - accuracy: 0.49 - ETA: 1:03 - loss: 0.6923 - accuracy: 0.49 - ETA: 1:02 - loss: 0.6922 - accuracy: 0.49 - ETA: 1:02 - loss: 0.6921 - accuracy: 0.49 - ETA: 1:02 - loss: 0.6920 - accuracy: 0.49 - ETA: 1:02 - loss: 0.6918 - accuracy: 0.49 - ETA: 1:02 - loss: 0.6916 - accuracy: 0.49 - ETA: 1:02 - loss: 0.6927 - accuracy: 0.49 - ETA: 1:01 - loss: 0.6934 - accuracy: 0.49 - ETA: 1:01 - loss: 0.6934 - accuracy: 0.49 - ETA: 1:01 - loss: 0.6933 - accuracy: 0.49 - ETA: 1:01 - loss: 0.6932 - accuracy: 0.49 - ETA: 1:01 - loss: 0.6933 - accuracy: 0.49 - ETA: 1:01 - loss: 0.6932 - accuracy: 0.49 - ETA: 1:01 - loss: 0.6933 - accuracy: 0.49 - ETA: 1:00 - loss: 0.6931 - accuracy: 0.49 - ETA: 1:00 - loss: 0.6929 - accuracy: 0.49 - ETA: 1:00 - loss: 0.6929 - accuracy: 0.49 - ETA: 1:00 - loss: 0.6928 - accuracy: 0.49 - ETA: 1:00 - loss: 0.6927 - accuracy: 0.49 - ETA: 1:00 - loss: 0.6928 - accuracy: 0.49 - ETA: 59s - loss: 0.6925 - accuracy: 0.4949 - ETA: 59s - loss: 0.6920 - accuracy: 0.495 - ETA: 59s - loss: 0.6927 - accuracy: 0.495 - ETA: 59s - loss: 0.6918 - accuracy: 0.496 - ETA: 59s - loss: 0.6916 - accuracy: 0.497 - ETA: 59s - loss: 0.6912 - accuracy: 0.497 - ETA: 59s - loss: 0.6908 - accuracy: 0.498 - ETA: 58s - loss: 0.6907 - accuracy: 0.497 - ETA: 58s - loss: 0.6906 - accuracy: 0.497 - ETA: 58s - loss: 0.6903 - accuracy: 0.497 - ETA: 58s - loss: 0.6900 - accuracy: 0.497 - ETA: 58s - loss: 0.6897 - accuracy: 0.498 - ETA: 58s - loss: 0.6892 - accuracy: 0.498 - ETA: 58s - loss: 0.6898 - accuracy: 0.498 - ETA: 58s - loss: 0.6893 - accuracy: 0.498 - ETA: 57s - loss: 0.6889 - accuracy: 0.499 - ETA: 57s - loss: 0.6885 - accuracy: 0.499 - ETA: 57s - loss: 0.6883 - accuracy: 0.498 - ETA: 57s - loss: 0.6880 - accuracy: 0.499 - ETA: 57s - loss: 0.6875 - accuracy: 0.500 - ETA: 57s - loss: 0.6872 - accuracy: 0.501 - ETA: 57s - loss: 0.6864 - accuracy: 0.502 - ETA: 57s - loss: 0.6864 - accuracy: 0.503 - ETA: 56s - loss: 0.6860 - accuracy: 0.504 - ETA: 56s - loss: 0.6852 - accuracy: 0.505 - ETA: 56s - loss: 0.6854 - accuracy: 0.506 - ETA: 56s - loss: 0.6841 - accuracy: 0.5078\b\b\b\b\b\b\b\b\b\b\b\b\b\b\b\b\b\b\b\b\b\b\b\b\b\b\b\b\b\b\b\b\b\b\b\b\b\b\b\b\b\b\b\b\b\b\b\b\b\b\b\b\b\b\b\b\b\b\b\b\b\b\b\b\b\b\b\b\b\b\b\b\b\b\b\b\b\b\b\b\b\b\b\b\b\b\b\b\b"
     ]
    },
    {
     "name": "stdout",
     "output_type": "stream",
     "text": [
      "11872/25000 [=============>................] - ETA: 56s - loss: 0.6845 - accuracy: 0.508 - ETA: 56s - loss: 0.6841 - accuracy: 0.509 - ETA: 56s - loss: 0.6839 - accuracy: 0.509 - ETA: 56s - loss: 0.6827 - accuracy: 0.511 - ETA: 55s - loss: 0.6824 - accuracy: 0.512 - ETA: 55s - loss: 0.6821 - accuracy: 0.514 - ETA: 55s - loss: 0.6820 - accuracy: 0.515 - ETA: 55s - loss: 0.6814 - accuracy: 0.516 - ETA: 55s - loss: 0.6813 - accuracy: 0.516 - ETA: 55s - loss: 0.6812 - accuracy: 0.517 - ETA: 55s - loss: 0.6808 - accuracy: 0.519 - ETA: 54s - loss: 0.6805 - accuracy: 0.519 - ETA: 54s - loss: 0.6803 - accuracy: 0.520 - ETA: 54s - loss: 0.6806 - accuracy: 0.521 - ETA: 54s - loss: 0.6802 - accuracy: 0.521 - ETA: 54s - loss: 0.6799 - accuracy: 0.522 - ETA: 54s - loss: 0.6797 - accuracy: 0.523 - ETA: 54s - loss: 0.6793 - accuracy: 0.524 - ETA: 54s - loss: 0.6788 - accuracy: 0.525 - ETA: 53s - loss: 0.6786 - accuracy: 0.525 - ETA: 53s - loss: 0.6786 - accuracy: 0.525 - ETA: 53s - loss: 0.6784 - accuracy: 0.525 - ETA: 53s - loss: 0.6781 - accuracy: 0.525 - ETA: 53s - loss: 0.6781 - accuracy: 0.526 - ETA: 53s - loss: 0.6777 - accuracy: 0.526 - ETA: 53s - loss: 0.6774 - accuracy: 0.528 - ETA: 52s - loss: 0.6773 - accuracy: 0.528 - ETA: 52s - loss: 0.6772 - accuracy: 0.529 - ETA: 52s - loss: 0.6770 - accuracy: 0.529 - ETA: 52s - loss: 0.6765 - accuracy: 0.530 - ETA: 52s - loss: 0.6760 - accuracy: 0.531 - ETA: 52s - loss: 0.6756 - accuracy: 0.532 - ETA: 52s - loss: 0.6755 - accuracy: 0.531 - ETA: 52s - loss: 0.6748 - accuracy: 0.532 - ETA: 51s - loss: 0.6741 - accuracy: 0.533 - ETA: 51s - loss: 0.6734 - accuracy: 0.534 - ETA: 51s - loss: 0.6743 - accuracy: 0.535 - ETA: 51s - loss: 0.6737 - accuracy: 0.536 - ETA: 51s - loss: 0.6734 - accuracy: 0.536 - ETA: 51s - loss: 0.6728 - accuracy: 0.537 - ETA: 51s - loss: 0.6721 - accuracy: 0.538 - ETA: 51s - loss: 0.6719 - accuracy: 0.538 - ETA: 51s - loss: 0.6708 - accuracy: 0.539 - ETA: 50s - loss: 0.6706 - accuracy: 0.540 - ETA: 50s - loss: 0.6709 - accuracy: 0.540 - ETA: 50s - loss: 0.6706 - accuracy: 0.540 - ETA: 50s - loss: 0.6702 - accuracy: 0.541 - ETA: 50s - loss: 0.6698 - accuracy: 0.542 - ETA: 50s - loss: 0.6696 - accuracy: 0.542 - ETA: 50s - loss: 0.6696 - accuracy: 0.543 - ETA: 50s - loss: 0.6698 - accuracy: 0.543 - ETA: 50s - loss: 0.6697 - accuracy: 0.544 - ETA: 49s - loss: 0.6696 - accuracy: 0.544 - ETA: 49s - loss: 0.6694 - accuracy: 0.545 - ETA: 49s - loss: 0.6694 - accuracy: 0.545 - ETA: 49s - loss: 0.6693 - accuracy: 0.546 - ETA: 49s - loss: 0.6693 - accuracy: 0.546 - ETA: 49s - loss: 0.6690 - accuracy: 0.546 - ETA: 49s - loss: 0.6691 - accuracy: 0.546 - ETA: 49s - loss: 0.6688 - accuracy: 0.546 - ETA: 48s - loss: 0.6686 - accuracy: 0.546 - ETA: 48s - loss: 0.6687 - accuracy: 0.546 - ETA: 48s - loss: 0.6685 - accuracy: 0.546 - ETA: 48s - loss: 0.6684 - accuracy: 0.545 - ETA: 48s - loss: 0.6685 - accuracy: 0.545 - ETA: 48s - loss: 0.6686 - accuracy: 0.544 - ETA: 48s - loss: 0.6685 - accuracy: 0.544 - ETA: 48s - loss: 0.6681 - accuracy: 0.545 - ETA: 48s - loss: 0.6677 - accuracy: 0.546 - ETA: 47s - loss: 0.6675 - accuracy: 0.546 - ETA: 47s - loss: 0.6673 - accuracy: 0.547 - ETA: 47s - loss: 0.6672 - accuracy: 0.547 - ETA: 47s - loss: 0.6671 - accuracy: 0.548 - ETA: 47s - loss: 0.6669 - accuracy: 0.548 - ETA: 47s - loss: 0.6665 - accuracy: 0.549 - ETA: 47s - loss: 0.6659 - accuracy: 0.549 - ETA: 47s - loss: 0.6650 - accuracy: 0.550 - ETA: 47s - loss: 0.6645 - accuracy: 0.551 - ETA: 46s - loss: 0.6636 - accuracy: 0.552 - ETA: 46s - loss: 0.6630 - accuracy: 0.553 - ETA: 46s - loss: 0.6634 - accuracy: 0.554 - ETA: 46s - loss: 0.6629 - accuracy: 0.554 - ETA: 46s - loss: 0.6622 - accuracy: 0.555 - ETA: 46s - loss: 0.6616 - accuracy: 0.556 - ETA: 46s - loss: 0.6610 - accuracy: 0.556 - ETA: 46s - loss: 0.6608 - accuracy: 0.557 - ETA: 46s - loss: 0.6604 - accuracy: 0.557 - ETA: 45s - loss: 0.6604 - accuracy: 0.557 - ETA: 45s - loss: 0.6600 - accuracy: 0.558 - ETA: 45s - loss: 0.6598 - accuracy: 0.558 - ETA: 45s - loss: 0.6594 - accuracy: 0.559 - ETA: 45s - loss: 0.6591 - accuracy: 0.560 - ETA: 45s - loss: 0.6584 - accuracy: 0.561 - ETA: 45s - loss: 0.6581 - accuracy: 0.561 - ETA: 45s - loss: 0.6576 - accuracy: 0.562 - ETA: 45s - loss: 0.6570 - accuracy: 0.563 - ETA: 45s - loss: 0.6560 - accuracy: 0.564 - ETA: 44s - loss: 0.6558 - accuracy: 0.565 - ETA: 44s - loss: 0.6548 - accuracy: 0.566 - ETA: 44s - loss: 0.6550 - accuracy: 0.566 - ETA: 44s - loss: 0.6551 - accuracy: 0.566 - ETA: 44s - loss: 0.6544 - accuracy: 0.567 - ETA: 44s - loss: 0.6538 - accuracy: 0.568 - ETA: 44s - loss: 0.6533 - accuracy: 0.568 - ETA: 44s - loss: 0.6524 - accuracy: 0.569 - ETA: 44s - loss: 0.6520 - accuracy: 0.569 - ETA: 44s - loss: 0.6517 - accuracy: 0.569 - ETA: 44s - loss: 0.6515 - accuracy: 0.570 - ETA: 44s - loss: 0.6515 - accuracy: 0.570 - ETA: 43s - loss: 0.6513 - accuracy: 0.571 - ETA: 43s - loss: 0.6510 - accuracy: 0.571 - ETA: 43s - loss: 0.6508 - accuracy: 0.571 - ETA: 43s - loss: 0.6502 - accuracy: 0.572 - ETA: 43s - loss: 0.6498 - accuracy: 0.573 - ETA: 43s - loss: 0.6495 - accuracy: 0.573 - ETA: 43s - loss: 0.6490 - accuracy: 0.574 - ETA: 43s - loss: 0.6492 - accuracy: 0.574 - ETA: 43s - loss: 0.6489 - accuracy: 0.574 - ETA: 43s - loss: 0.6486 - accuracy: 0.575 - ETA: 43s - loss: 0.6482 - accuracy: 0.575 - ETA: 43s - loss: 0.6476 - accuracy: 0.576 - ETA: 43s - loss: 0.6471 - accuracy: 0.577 - ETA: 43s - loss: 0.6465 - accuracy: 0.577 - ETA: 43s - loss: 0.6456 - accuracy: 0.578 - ETA: 42s - loss: 0.6459 - accuracy: 0.578 - ETA: 42s - loss: 0.6455 - accuracy: 0.579 - ETA: 42s - loss: 0.6449 - accuracy: 0.579 - ETA: 42s - loss: 0.6446 - accuracy: 0.580 - ETA: 42s - loss: 0.6440 - accuracy: 0.580 - ETA: 42s - loss: 0.6434 - accuracy: 0.581 - ETA: 42s - loss: 0.6431 - accuracy: 0.582 - ETA: 42s - loss: 0.6430 - accuracy: 0.582 - ETA: 42s - loss: 0.6423 - accuracy: 0.583 - ETA: 42s - loss: 0.6424 - accuracy: 0.583 - ETA: 42s - loss: 0.6424 - accuracy: 0.583 - ETA: 42s - loss: 0.6416 - accuracy: 0.584 - ETA: 42s - loss: 0.6404 - accuracy: 0.585 - ETA: 42s - loss: 0.6403 - accuracy: 0.585 - ETA: 42s - loss: 0.6401 - accuracy: 0.586 - ETA: 42s - loss: 0.6395 - accuracy: 0.587 - ETA: 41s - loss: 0.6391 - accuracy: 0.587 - ETA: 41s - loss: 0.6390 - accuracy: 0.588 - ETA: 41s - loss: 0.6385 - accuracy: 0.588 - ETA: 41s - loss: 0.6381 - accuracy: 0.589 - ETA: 41s - loss: 0.6371 - accuracy: 0.590 - ETA: 41s - loss: 0.6365 - accuracy: 0.590 - ETA: 41s - loss: 0.6363 - accuracy: 0.591 - ETA: 41s - loss: 0.6361 - accuracy: 0.591 - ETA: 41s - loss: 0.6366 - accuracy: 0.590 - ETA: 41s - loss: 0.6357 - accuracy: 0.591 - ETA: 41s - loss: 0.6356 - accuracy: 0.592 - ETA: 40s - loss: 0.6350 - accuracy: 0.592 - ETA: 40s - loss: 0.6348 - accuracy: 0.593 - ETA: 40s - loss: 0.6349 - accuracy: 0.593 - ETA: 40s - loss: 0.6340 - accuracy: 0.594 - ETA: 40s - loss: 0.6337 - accuracy: 0.594 - ETA: 40s - loss: 0.6328 - accuracy: 0.595 - ETA: 40s - loss: 0.6329 - accuracy: 0.595 - ETA: 40s - loss: 0.6326 - accuracy: 0.595 - ETA: 40s - loss: 0.6317 - accuracy: 0.596 - ETA: 40s - loss: 0.6312 - accuracy: 0.597 - ETA: 40s - loss: 0.6306 - accuracy: 0.597 - ETA: 40s - loss: 0.6302 - accuracy: 0.598 - ETA: 39s - loss: 0.6303 - accuracy: 0.598 - ETA: 39s - loss: 0.6298 - accuracy: 0.599 - ETA: 39s - loss: 0.6296 - accuracy: 0.599 - ETA: 39s - loss: 0.6291 - accuracy: 0.599 - ETA: 39s - loss: 0.6285 - accuracy: 0.600 - ETA: 39s - loss: 0.6282 - accuracy: 0.600 - ETA: 39s - loss: 0.6278 - accuracy: 0.600 - ETA: 39s - loss: 0.6276 - accuracy: 0.601 - ETA: 39s - loss: 0.6273 - accuracy: 0.601 - ETA: 39s - loss: 0.6267 - accuracy: 0.602 - ETA: 39s - loss: 0.6262 - accuracy: 0.602 - ETA: 39s - loss: 0.6258 - accuracy: 0.603 - ETA: 38s - loss: 0.6253 - accuracy: 0.603 - ETA: 38s - loss: 0.6252 - accuracy: 0.603 - ETA: 38s - loss: 0.6250 - accuracy: 0.603 - ETA: 38s - loss: 0.6250 - accuracy: 0.604 - ETA: 38s - loss: 0.6247 - accuracy: 0.604 - ETA: 38s - loss: 0.6244 - accuracy: 0.605 - ETA: 38s - loss: 0.6240 - accuracy: 0.605 - ETA: 38s - loss: 0.6239 - accuracy: 0.606 - ETA: 38s - loss: 0.6234 - accuracy: 0.606 - ETA: 38s - loss: 0.6234 - accuracy: 0.606 - ETA: 38s - loss: 0.6227 - accuracy: 0.6074"
     ]
    },
    {
     "name": "stdout",
     "output_type": "stream",
     "text": [
      "17824/25000 [====================>.........] - ETA: 37s - loss: 0.6224 - accuracy: 0.607 - ETA: 37s - loss: 0.6220 - accuracy: 0.608 - ETA: 37s - loss: 0.6213 - accuracy: 0.608 - ETA: 37s - loss: 0.6208 - accuracy: 0.608 - ETA: 37s - loss: 0.6203 - accuracy: 0.609 - ETA: 37s - loss: 0.6197 - accuracy: 0.609 - ETA: 37s - loss: 0.6194 - accuracy: 0.610 - ETA: 37s - loss: 0.6191 - accuracy: 0.610 - ETA: 37s - loss: 0.6185 - accuracy: 0.611 - ETA: 37s - loss: 0.6182 - accuracy: 0.611 - ETA: 36s - loss: 0.6183 - accuracy: 0.611 - ETA: 36s - loss: 0.6182 - accuracy: 0.612 - ETA: 36s - loss: 0.6179 - accuracy: 0.612 - ETA: 36s - loss: 0.6176 - accuracy: 0.612 - ETA: 36s - loss: 0.6173 - accuracy: 0.613 - ETA: 36s - loss: 0.6168 - accuracy: 0.613 - ETA: 36s - loss: 0.6167 - accuracy: 0.614 - ETA: 36s - loss: 0.6163 - accuracy: 0.614 - ETA: 36s - loss: 0.6157 - accuracy: 0.615 - ETA: 36s - loss: 0.6156 - accuracy: 0.615 - ETA: 36s - loss: 0.6153 - accuracy: 0.615 - ETA: 35s - loss: 0.6146 - accuracy: 0.616 - ETA: 35s - loss: 0.6142 - accuracy: 0.617 - ETA: 35s - loss: 0.6140 - accuracy: 0.617 - ETA: 35s - loss: 0.6134 - accuracy: 0.617 - ETA: 35s - loss: 0.6132 - accuracy: 0.618 - ETA: 35s - loss: 0.6128 - accuracy: 0.618 - ETA: 35s - loss: 0.6126 - accuracy: 0.618 - ETA: 35s - loss: 0.6117 - accuracy: 0.619 - ETA: 35s - loss: 0.6117 - accuracy: 0.619 - ETA: 35s - loss: 0.6114 - accuracy: 0.620 - ETA: 34s - loss: 0.6112 - accuracy: 0.620 - ETA: 34s - loss: 0.6110 - accuracy: 0.621 - ETA: 34s - loss: 0.6109 - accuracy: 0.621 - ETA: 34s - loss: 0.6105 - accuracy: 0.621 - ETA: 34s - loss: 0.6100 - accuracy: 0.621 - ETA: 34s - loss: 0.6096 - accuracy: 0.622 - ETA: 34s - loss: 0.6093 - accuracy: 0.622 - ETA: 34s - loss: 0.6087 - accuracy: 0.623 - ETA: 34s - loss: 0.6084 - accuracy: 0.623 - ETA: 34s - loss: 0.6083 - accuracy: 0.623 - ETA: 34s - loss: 0.6077 - accuracy: 0.624 - ETA: 33s - loss: 0.6074 - accuracy: 0.624 - ETA: 33s - loss: 0.6068 - accuracy: 0.624 - ETA: 33s - loss: 0.6064 - accuracy: 0.625 - ETA: 33s - loss: 0.6061 - accuracy: 0.625 - ETA: 33s - loss: 0.6057 - accuracy: 0.626 - ETA: 33s - loss: 0.6056 - accuracy: 0.626 - ETA: 33s - loss: 0.6052 - accuracy: 0.626 - ETA: 33s - loss: 0.6046 - accuracy: 0.627 - ETA: 33s - loss: 0.6042 - accuracy: 0.627 - ETA: 33s - loss: 0.6038 - accuracy: 0.628 - ETA: 32s - loss: 0.6034 - accuracy: 0.628 - ETA: 32s - loss: 0.6028 - accuracy: 0.629 - ETA: 32s - loss: 0.6022 - accuracy: 0.629 - ETA: 32s - loss: 0.6018 - accuracy: 0.630 - ETA: 32s - loss: 0.6018 - accuracy: 0.630 - ETA: 32s - loss: 0.6014 - accuracy: 0.630 - ETA: 32s - loss: 0.6014 - accuracy: 0.631 - ETA: 32s - loss: 0.6009 - accuracy: 0.631 - ETA: 32s - loss: 0.6005 - accuracy: 0.631 - ETA: 32s - loss: 0.5999 - accuracy: 0.632 - ETA: 32s - loss: 0.5992 - accuracy: 0.633 - ETA: 31s - loss: 0.5987 - accuracy: 0.633 - ETA: 31s - loss: 0.5987 - accuracy: 0.633 - ETA: 31s - loss: 0.5980 - accuracy: 0.633 - ETA: 31s - loss: 0.5976 - accuracy: 0.634 - ETA: 31s - loss: 0.5974 - accuracy: 0.634 - ETA: 31s - loss: 0.5967 - accuracy: 0.635 - ETA: 31s - loss: 0.5968 - accuracy: 0.635 - ETA: 31s - loss: 0.5960 - accuracy: 0.636 - ETA: 31s - loss: 0.5959 - accuracy: 0.636 - ETA: 31s - loss: 0.5960 - accuracy: 0.636 - ETA: 31s - loss: 0.5958 - accuracy: 0.636 - ETA: 30s - loss: 0.5955 - accuracy: 0.636 - ETA: 30s - loss: 0.5951 - accuracy: 0.636 - ETA: 30s - loss: 0.5948 - accuracy: 0.637 - ETA: 30s - loss: 0.5948 - accuracy: 0.637 - ETA: 30s - loss: 0.5947 - accuracy: 0.637 - ETA: 30s - loss: 0.5945 - accuracy: 0.637 - ETA: 30s - loss: 0.5941 - accuracy: 0.638 - ETA: 30s - loss: 0.5938 - accuracy: 0.638 - ETA: 30s - loss: 0.5935 - accuracy: 0.638 - ETA: 30s - loss: 0.5933 - accuracy: 0.639 - ETA: 30s - loss: 0.5927 - accuracy: 0.639 - ETA: 30s - loss: 0.5926 - accuracy: 0.639 - ETA: 29s - loss: 0.5919 - accuracy: 0.640 - ETA: 29s - loss: 0.5914 - accuracy: 0.640 - ETA: 29s - loss: 0.5912 - accuracy: 0.640 - ETA: 29s - loss: 0.5910 - accuracy: 0.641 - ETA: 29s - loss: 0.5907 - accuracy: 0.641 - ETA: 29s - loss: 0.5909 - accuracy: 0.641 - ETA: 29s - loss: 0.5904 - accuracy: 0.642 - ETA: 29s - loss: 0.5899 - accuracy: 0.642 - ETA: 29s - loss: 0.5895 - accuracy: 0.643 - ETA: 29s - loss: 0.5891 - accuracy: 0.643 - ETA: 29s - loss: 0.5886 - accuracy: 0.643 - ETA: 28s - loss: 0.5881 - accuracy: 0.644 - ETA: 28s - loss: 0.5882 - accuracy: 0.644 - ETA: 28s - loss: 0.5877 - accuracy: 0.644 - ETA: 28s - loss: 0.5873 - accuracy: 0.645 - ETA: 28s - loss: 0.5871 - accuracy: 0.645 - ETA: 28s - loss: 0.5868 - accuracy: 0.645 - ETA: 28s - loss: 0.5864 - accuracy: 0.646 - ETA: 28s - loss: 0.5861 - accuracy: 0.646 - ETA: 28s - loss: 0.5860 - accuracy: 0.646 - ETA: 28s - loss: 0.5857 - accuracy: 0.646 - ETA: 28s - loss: 0.5853 - accuracy: 0.646 - ETA: 28s - loss: 0.5851 - accuracy: 0.647 - ETA: 27s - loss: 0.5848 - accuracy: 0.647 - ETA: 27s - loss: 0.5846 - accuracy: 0.647 - ETA: 27s - loss: 0.5843 - accuracy: 0.648 - ETA: 27s - loss: 0.5839 - accuracy: 0.648 - ETA: 27s - loss: 0.5840 - accuracy: 0.648 - ETA: 27s - loss: 0.5835 - accuracy: 0.649 - ETA: 27s - loss: 0.5833 - accuracy: 0.649 - ETA: 27s - loss: 0.5831 - accuracy: 0.649 - ETA: 27s - loss: 0.5828 - accuracy: 0.649 - ETA: 27s - loss: 0.5829 - accuracy: 0.649 - ETA: 27s - loss: 0.5827 - accuracy: 0.649 - ETA: 26s - loss: 0.5821 - accuracy: 0.650 - ETA: 26s - loss: 0.5816 - accuracy: 0.650 - ETA: 26s - loss: 0.5816 - accuracy: 0.650 - ETA: 26s - loss: 0.5815 - accuracy: 0.651 - ETA: 26s - loss: 0.5812 - accuracy: 0.651 - ETA: 26s - loss: 0.5810 - accuracy: 0.651 - ETA: 26s - loss: 0.5805 - accuracy: 0.652 - ETA: 26s - loss: 0.5802 - accuracy: 0.652 - ETA: 26s - loss: 0.5800 - accuracy: 0.652 - ETA: 26s - loss: 0.5797 - accuracy: 0.652 - ETA: 26s - loss: 0.5792 - accuracy: 0.653 - ETA: 25s - loss: 0.5788 - accuracy: 0.653 - ETA: 25s - loss: 0.5785 - accuracy: 0.654 - ETA: 25s - loss: 0.5782 - accuracy: 0.654 - ETA: 25s - loss: 0.5784 - accuracy: 0.654 - ETA: 25s - loss: 0.5782 - accuracy: 0.654 - ETA: 25s - loss: 0.5780 - accuracy: 0.654 - ETA: 25s - loss: 0.5777 - accuracy: 0.655 - ETA: 25s - loss: 0.5775 - accuracy: 0.655 - ETA: 25s - loss: 0.5769 - accuracy: 0.655 - ETA: 25s - loss: 0.5765 - accuracy: 0.656 - ETA: 25s - loss: 0.5763 - accuracy: 0.656 - ETA: 24s - loss: 0.5762 - accuracy: 0.656 - ETA: 24s - loss: 0.5760 - accuracy: 0.656 - ETA: 24s - loss: 0.5757 - accuracy: 0.657 - ETA: 24s - loss: 0.5757 - accuracy: 0.657 - ETA: 24s - loss: 0.5753 - accuracy: 0.657 - ETA: 24s - loss: 0.5750 - accuracy: 0.658 - ETA: 24s - loss: 0.5746 - accuracy: 0.658 - ETA: 24s - loss: 0.5746 - accuracy: 0.658 - ETA: 24s - loss: 0.5746 - accuracy: 0.658 - ETA: 24s - loss: 0.5743 - accuracy: 0.658 - ETA: 24s - loss: 0.5742 - accuracy: 0.659 - ETA: 23s - loss: 0.5740 - accuracy: 0.659 - ETA: 23s - loss: 0.5744 - accuracy: 0.659 - ETA: 23s - loss: 0.5739 - accuracy: 0.659 - ETA: 23s - loss: 0.5737 - accuracy: 0.659 - ETA: 23s - loss: 0.5737 - accuracy: 0.659 - ETA: 23s - loss: 0.5736 - accuracy: 0.659 - ETA: 23s - loss: 0.5733 - accuracy: 0.660 - ETA: 23s - loss: 0.5732 - accuracy: 0.660 - ETA: 23s - loss: 0.5734 - accuracy: 0.660 - ETA: 23s - loss: 0.5733 - accuracy: 0.660 - ETA: 22s - loss: 0.5730 - accuracy: 0.660 - ETA: 22s - loss: 0.5728 - accuracy: 0.660 - ETA: 22s - loss: 0.5724 - accuracy: 0.661 - ETA: 22s - loss: 0.5721 - accuracy: 0.661 - ETA: 22s - loss: 0.5719 - accuracy: 0.661 - ETA: 22s - loss: 0.5715 - accuracy: 0.661 - ETA: 22s - loss: 0.5713 - accuracy: 0.662 - ETA: 22s - loss: 0.5711 - accuracy: 0.662 - ETA: 22s - loss: 0.5708 - accuracy: 0.662 - ETA: 22s - loss: 0.5705 - accuracy: 0.662 - ETA: 22s - loss: 0.5704 - accuracy: 0.663 - ETA: 21s - loss: 0.5701 - accuracy: 0.663 - ETA: 21s - loss: 0.5697 - accuracy: 0.663 - ETA: 21s - loss: 0.5694 - accuracy: 0.663 - ETA: 21s - loss: 0.5691 - accuracy: 0.664 - ETA: 21s - loss: 0.5690 - accuracy: 0.664 - ETA: 21s - loss: 0.5691 - accuracy: 0.664 - ETA: 21s - loss: 0.5686 - accuracy: 0.664 - ETA: 21s - loss: 0.5681 - accuracy: 0.665 - ETA: 21s - loss: 0.5676 - accuracy: 0.665 - ETA: 21s - loss: 0.5672 - accuracy: 0.665 - ETA: 21s - loss: 0.5678 - accuracy: 0.665 - ETA: 20s - loss: 0.5676 - accuracy: 0.6661"
     ]
    },
    {
     "name": "stdout",
     "output_type": "stream",
     "text": [
      "23872/25000 [===========================>..] - ETA: 20s - loss: 0.5675 - accuracy: 0.666 - ETA: 20s - loss: 0.5673 - accuracy: 0.666 - ETA: 20s - loss: 0.5671 - accuracy: 0.666 - ETA: 20s - loss: 0.5670 - accuracy: 0.666 - ETA: 20s - loss: 0.5670 - accuracy: 0.666 - ETA: 20s - loss: 0.5669 - accuracy: 0.666 - ETA: 20s - loss: 0.5670 - accuracy: 0.666 - ETA: 20s - loss: 0.5670 - accuracy: 0.666 - ETA: 20s - loss: 0.5668 - accuracy: 0.666 - ETA: 20s - loss: 0.5666 - accuracy: 0.666 - ETA: 19s - loss: 0.5664 - accuracy: 0.666 - ETA: 19s - loss: 0.5663 - accuracy: 0.666 - ETA: 19s - loss: 0.5660 - accuracy: 0.666 - ETA: 19s - loss: 0.5657 - accuracy: 0.667 - ETA: 19s - loss: 0.5654 - accuracy: 0.667 - ETA: 19s - loss: 0.5650 - accuracy: 0.667 - ETA: 19s - loss: 0.5647 - accuracy: 0.668 - ETA: 19s - loss: 0.5642 - accuracy: 0.668 - ETA: 19s - loss: 0.5635 - accuracy: 0.669 - ETA: 19s - loss: 0.5635 - accuracy: 0.669 - ETA: 18s - loss: 0.5633 - accuracy: 0.669 - ETA: 18s - loss: 0.5631 - accuracy: 0.669 - ETA: 18s - loss: 0.5627 - accuracy: 0.670 - ETA: 18s - loss: 0.5625 - accuracy: 0.670 - ETA: 18s - loss: 0.5623 - accuracy: 0.670 - ETA: 18s - loss: 0.5621 - accuracy: 0.670 - ETA: 18s - loss: 0.5619 - accuracy: 0.671 - ETA: 18s - loss: 0.5618 - accuracy: 0.671 - ETA: 18s - loss: 0.5616 - accuracy: 0.671 - ETA: 18s - loss: 0.5614 - accuracy: 0.671 - ETA: 18s - loss: 0.5615 - accuracy: 0.671 - ETA: 18s - loss: 0.5611 - accuracy: 0.671 - ETA: 17s - loss: 0.5610 - accuracy: 0.671 - ETA: 17s - loss: 0.5609 - accuracy: 0.672 - ETA: 17s - loss: 0.5608 - accuracy: 0.672 - ETA: 17s - loss: 0.5608 - accuracy: 0.672 - ETA: 17s - loss: 0.5607 - accuracy: 0.672 - ETA: 17s - loss: 0.5604 - accuracy: 0.672 - ETA: 17s - loss: 0.5602 - accuracy: 0.672 - ETA: 17s - loss: 0.5602 - accuracy: 0.672 - ETA: 17s - loss: 0.5600 - accuracy: 0.673 - ETA: 17s - loss: 0.5597 - accuracy: 0.673 - ETA: 17s - loss: 0.5593 - accuracy: 0.673 - ETA: 16s - loss: 0.5590 - accuracy: 0.673 - ETA: 16s - loss: 0.5585 - accuracy: 0.674 - ETA: 16s - loss: 0.5582 - accuracy: 0.674 - ETA: 16s - loss: 0.5577 - accuracy: 0.674 - ETA: 16s - loss: 0.5574 - accuracy: 0.674 - ETA: 16s - loss: 0.5574 - accuracy: 0.675 - ETA: 16s - loss: 0.5572 - accuracy: 0.675 - ETA: 16s - loss: 0.5568 - accuracy: 0.675 - ETA: 16s - loss: 0.5565 - accuracy: 0.676 - ETA: 16s - loss: 0.5562 - accuracy: 0.676 - ETA: 15s - loss: 0.5562 - accuracy: 0.676 - ETA: 15s - loss: 0.5562 - accuracy: 0.676 - ETA: 15s - loss: 0.5560 - accuracy: 0.676 - ETA: 15s - loss: 0.5556 - accuracy: 0.676 - ETA: 15s - loss: 0.5553 - accuracy: 0.677 - ETA: 15s - loss: 0.5550 - accuracy: 0.677 - ETA: 15s - loss: 0.5549 - accuracy: 0.677 - ETA: 15s - loss: 0.5548 - accuracy: 0.677 - ETA: 15s - loss: 0.5546 - accuracy: 0.677 - ETA: 15s - loss: 0.5545 - accuracy: 0.677 - ETA: 15s - loss: 0.5544 - accuracy: 0.677 - ETA: 14s - loss: 0.5543 - accuracy: 0.678 - ETA: 14s - loss: 0.5541 - accuracy: 0.678 - ETA: 14s - loss: 0.5537 - accuracy: 0.678 - ETA: 14s - loss: 0.5536 - accuracy: 0.678 - ETA: 14s - loss: 0.5533 - accuracy: 0.678 - ETA: 14s - loss: 0.5530 - accuracy: 0.679 - ETA: 14s - loss: 0.5526 - accuracy: 0.679 - ETA: 14s - loss: 0.5525 - accuracy: 0.679 - ETA: 14s - loss: 0.5524 - accuracy: 0.679 - ETA: 14s - loss: 0.5521 - accuracy: 0.680 - ETA: 14s - loss: 0.5518 - accuracy: 0.680 - ETA: 13s - loss: 0.5517 - accuracy: 0.680 - ETA: 13s - loss: 0.5515 - accuracy: 0.680 - ETA: 13s - loss: 0.5520 - accuracy: 0.680 - ETA: 13s - loss: 0.5519 - accuracy: 0.680 - ETA: 13s - loss: 0.5520 - accuracy: 0.680 - ETA: 13s - loss: 0.5518 - accuracy: 0.680 - ETA: 13s - loss: 0.5517 - accuracy: 0.680 - ETA: 13s - loss: 0.5516 - accuracy: 0.681 - ETA: 13s - loss: 0.5514 - accuracy: 0.681 - ETA: 13s - loss: 0.5514 - accuracy: 0.681 - ETA: 12s - loss: 0.5511 - accuracy: 0.681 - ETA: 12s - loss: 0.5511 - accuracy: 0.681 - ETA: 12s - loss: 0.5510 - accuracy: 0.681 - ETA: 12s - loss: 0.5510 - accuracy: 0.681 - ETA: 12s - loss: 0.5509 - accuracy: 0.681 - ETA: 12s - loss: 0.5509 - accuracy: 0.681 - ETA: 12s - loss: 0.5509 - accuracy: 0.681 - ETA: 12s - loss: 0.5509 - accuracy: 0.682 - ETA: 12s - loss: 0.5508 - accuracy: 0.682 - ETA: 12s - loss: 0.5507 - accuracy: 0.682 - ETA: 12s - loss: 0.5505 - accuracy: 0.682 - ETA: 11s - loss: 0.5504 - accuracy: 0.682 - ETA: 11s - loss: 0.5503 - accuracy: 0.682 - ETA: 11s - loss: 0.5501 - accuracy: 0.682 - ETA: 11s - loss: 0.5498 - accuracy: 0.682 - ETA: 11s - loss: 0.5497 - accuracy: 0.682 - ETA: 11s - loss: 0.5494 - accuracy: 0.682 - ETA: 11s - loss: 0.5495 - accuracy: 0.682 - ETA: 11s - loss: 0.5491 - accuracy: 0.683 - ETA: 11s - loss: 0.5491 - accuracy: 0.683 - ETA: 11s - loss: 0.5490 - accuracy: 0.683 - ETA: 11s - loss: 0.5487 - accuracy: 0.683 - ETA: 10s - loss: 0.5482 - accuracy: 0.684 - ETA: 10s - loss: 0.5481 - accuracy: 0.684 - ETA: 10s - loss: 0.5480 - accuracy: 0.684 - ETA: 10s - loss: 0.5480 - accuracy: 0.684 - ETA: 10s - loss: 0.5478 - accuracy: 0.684 - ETA: 10s - loss: 0.5477 - accuracy: 0.685 - ETA: 10s - loss: 0.5475 - accuracy: 0.685 - ETA: 10s - loss: 0.5477 - accuracy: 0.685 - ETA: 10s - loss: 0.5480 - accuracy: 0.685 - ETA: 10s - loss: 0.5477 - accuracy: 0.685 - ETA: 9s - loss: 0.5476 - accuracy: 0.685 - ETA: 9s - loss: 0.5474 - accuracy: 0.68 - ETA: 9s - loss: 0.5475 - accuracy: 0.68 - ETA: 9s - loss: 0.5472 - accuracy: 0.68 - ETA: 9s - loss: 0.5469 - accuracy: 0.68 - ETA: 9s - loss: 0.5468 - accuracy: 0.68 - ETA: 9s - loss: 0.5466 - accuracy: 0.68 - ETA: 9s - loss: 0.5468 - accuracy: 0.68 - ETA: 9s - loss: 0.5469 - accuracy: 0.68 - ETA: 9s - loss: 0.5468 - accuracy: 0.68 - ETA: 9s - loss: 0.5468 - accuracy: 0.68 - ETA: 8s - loss: 0.5465 - accuracy: 0.68 - ETA: 8s - loss: 0.5464 - accuracy: 0.68 - ETA: 8s - loss: 0.5462 - accuracy: 0.68 - ETA: 8s - loss: 0.5462 - accuracy: 0.68 - ETA: 8s - loss: 0.5461 - accuracy: 0.68 - ETA: 8s - loss: 0.5458 - accuracy: 0.68 - ETA: 8s - loss: 0.5453 - accuracy: 0.68 - ETA: 8s - loss: 0.5451 - accuracy: 0.68 - ETA: 8s - loss: 0.5451 - accuracy: 0.68 - ETA: 8s - loss: 0.5453 - accuracy: 0.68 - ETA: 8s - loss: 0.5451 - accuracy: 0.68 - ETA: 7s - loss: 0.5453 - accuracy: 0.68 - ETA: 7s - loss: 0.5454 - accuracy: 0.68 - ETA: 7s - loss: 0.5454 - accuracy: 0.68 - ETA: 7s - loss: 0.5454 - accuracy: 0.68 - ETA: 7s - loss: 0.5451 - accuracy: 0.68 - ETA: 7s - loss: 0.5451 - accuracy: 0.68 - ETA: 7s - loss: 0.5449 - accuracy: 0.68 - ETA: 7s - loss: 0.5448 - accuracy: 0.68 - ETA: 7s - loss: 0.5447 - accuracy: 0.68 - ETA: 7s - loss: 0.5446 - accuracy: 0.68 - ETA: 6s - loss: 0.5444 - accuracy: 0.69 - ETA: 6s - loss: 0.5442 - accuracy: 0.69 - ETA: 6s - loss: 0.5445 - accuracy: 0.69 - ETA: 6s - loss: 0.5444 - accuracy: 0.69 - ETA: 6s - loss: 0.5442 - accuracy: 0.69 - ETA: 6s - loss: 0.5440 - accuracy: 0.69 - ETA: 6s - loss: 0.5437 - accuracy: 0.69 - ETA: 6s - loss: 0.5435 - accuracy: 0.69 - ETA: 6s - loss: 0.5431 - accuracy: 0.69 - ETA: 6s - loss: 0.5430 - accuracy: 0.69 - ETA: 6s - loss: 0.5428 - accuracy: 0.69 - ETA: 5s - loss: 0.5426 - accuracy: 0.69 - ETA: 5s - loss: 0.5425 - accuracy: 0.69 - ETA: 5s - loss: 0.5424 - accuracy: 0.69 - ETA: 5s - loss: 0.5424 - accuracy: 0.69 - ETA: 5s - loss: 0.5423 - accuracy: 0.69 - ETA: 5s - loss: 0.5424 - accuracy: 0.69 - ETA: 5s - loss: 0.5424 - accuracy: 0.69 - ETA: 5s - loss: 0.5423 - accuracy: 0.69 - ETA: 5s - loss: 0.5422 - accuracy: 0.69 - ETA: 5s - loss: 0.5420 - accuracy: 0.69 - ETA: 5s - loss: 0.5420 - accuracy: 0.69 - ETA: 4s - loss: 0.5418 - accuracy: 0.69 - ETA: 4s - loss: 0.5416 - accuracy: 0.69 - ETA: 4s - loss: 0.5415 - accuracy: 0.69 - ETA: 4s - loss: 0.5413 - accuracy: 0.69 - ETA: 4s - loss: 0.5411 - accuracy: 0.69 - ETA: 4s - loss: 0.5410 - accuracy: 0.69 - ETA: 4s - loss: 0.5408 - accuracy: 0.69 - ETA: 4s - loss: 0.5407 - accuracy: 0.69 - ETA: 4s - loss: 0.5406 - accuracy: 0.69 - ETA: 4s - loss: 0.5403 - accuracy: 0.69 - ETA: 3s - loss: 0.5402 - accuracy: 0.69 - ETA: 3s - loss: 0.5401 - accuracy: 0.69 - ETA: 3s - loss: 0.5399 - accuracy: 0.69 - ETA: 3s - loss: 0.5398 - accuracy: 0.69 - ETA: 3s - loss: 0.5398 - accuracy: 0.69 - ETA: 3s - loss: 0.5396 - accuracy: 0.69 - ETA: 3s - loss: 0.5393 - accuracy: 0.69 - ETA: 3s - loss: 0.5391 - accuracy: 0.6952"
     ]
    },
    {
     "name": "stdout",
     "output_type": "stream",
     "text": [
      "25000/25000 [==============================] - ETA: 3s - loss: 0.5389 - accuracy: 0.69 - ETA: 3s - loss: 0.5387 - accuracy: 0.69 - ETA: 3s - loss: 0.5387 - accuracy: 0.69 - ETA: 2s - loss: 0.5386 - accuracy: 0.69 - ETA: 2s - loss: 0.5386 - accuracy: 0.69 - ETA: 2s - loss: 0.5384 - accuracy: 0.69 - ETA: 2s - loss: 0.5384 - accuracy: 0.69 - ETA: 2s - loss: 0.5383 - accuracy: 0.69 - ETA: 2s - loss: 0.5380 - accuracy: 0.69 - ETA: 2s - loss: 0.5376 - accuracy: 0.69 - ETA: 2s - loss: 0.5372 - accuracy: 0.69 - ETA: 2s - loss: 0.5371 - accuracy: 0.69 - ETA: 2s - loss: 0.5367 - accuracy: 0.69 - ETA: 2s - loss: 0.5368 - accuracy: 0.69 - ETA: 1s - loss: 0.5369 - accuracy: 0.69 - ETA: 1s - loss: 0.5365 - accuracy: 0.69 - ETA: 1s - loss: 0.5367 - accuracy: 0.69 - ETA: 1s - loss: 0.5367 - accuracy: 0.69 - ETA: 1s - loss: 0.5365 - accuracy: 0.69 - ETA: 1s - loss: 0.5362 - accuracy: 0.69 - ETA: 1s - loss: 0.5359 - accuracy: 0.69 - ETA: 1s - loss: 0.5359 - accuracy: 0.69 - ETA: 1s - loss: 0.5355 - accuracy: 0.69 - ETA: 1s - loss: 0.5355 - accuracy: 0.69 - ETA: 0s - loss: 0.5354 - accuracy: 0.69 - ETA: 0s - loss: 0.5355 - accuracy: 0.69 - ETA: 0s - loss: 0.5355 - accuracy: 0.69 - ETA: 0s - loss: 0.5354 - accuracy: 0.69 - ETA: 0s - loss: 0.5354 - accuracy: 0.69 - ETA: 0s - loss: 0.5350 - accuracy: 0.69 - ETA: 0s - loss: 0.5347 - accuracy: 0.69 - ETA: 0s - loss: 0.5346 - accuracy: 0.69 - ETA: 0s - loss: 0.5343 - accuracy: 0.69 - ETA: 0s - loss: 0.5343 - accuracy: 0.69 - ETA: 0s - loss: 0.5343 - accuracy: 0.69 - 74s 3ms/sample - loss: 0.5342 - accuracy: 0.6999\n",
      "Epoch 2/5\n"
     ]
    },
    {
     "name": "stdout",
     "output_type": "stream",
     "text": [
      " 5952/25000 [======>.......................] - ETA: 1:13 - loss: 0.5237 - accuracy: 0.75 - ETA: 1:21 - loss: 0.4158 - accuracy: 0.78 - ETA: 1:27 - loss: 0.3414 - accuracy: 0.83 - ETA: 1:27 - loss: 0.3751 - accuracy: 0.82 - ETA: 1:26 - loss: 0.3413 - accuracy: 0.84 - ETA: 1:24 - loss: 0.3304 - accuracy: 0.85 - ETA: 1:24 - loss: 0.3242 - accuracy: 0.87 - ETA: 1:24 - loss: 0.3210 - accuracy: 0.87 - ETA: 1:23 - loss: 0.3187 - accuracy: 0.87 - ETA: 1:23 - loss: 0.3163 - accuracy: 0.86 - ETA: 1:23 - loss: 0.3400 - accuracy: 0.85 - ETA: 1:24 - loss: 0.3324 - accuracy: 0.86 - ETA: 1:25 - loss: 0.3326 - accuracy: 0.86 - ETA: 1:24 - loss: 0.3460 - accuracy: 0.85 - ETA: 1:23 - loss: 0.3621 - accuracy: 0.84 - ETA: 1:23 - loss: 0.3515 - accuracy: 0.85 - ETA: 1:23 - loss: 0.3525 - accuracy: 0.85 - ETA: 1:22 - loss: 0.3515 - accuracy: 0.85 - ETA: 1:22 - loss: 0.3451 - accuracy: 0.86 - ETA: 1:21 - loss: 0.3400 - accuracy: 0.86 - ETA: 1:21 - loss: 0.3369 - accuracy: 0.86 - ETA: 1:20 - loss: 0.3355 - accuracy: 0.86 - ETA: 1:20 - loss: 0.3290 - accuracy: 0.86 - ETA: 1:21 - loss: 0.3299 - accuracy: 0.86 - ETA: 1:20 - loss: 0.3325 - accuracy: 0.86 - ETA: 1:20 - loss: 0.3304 - accuracy: 0.86 - ETA: 1:20 - loss: 0.3326 - accuracy: 0.86 - ETA: 1:19 - loss: 0.3342 - accuracy: 0.86 - ETA: 1:19 - loss: 0.3371 - accuracy: 0.86 - ETA: 1:19 - loss: 0.3346 - accuracy: 0.86 - ETA: 1:19 - loss: 0.3380 - accuracy: 0.85 - ETA: 1:18 - loss: 0.3356 - accuracy: 0.86 - ETA: 1:18 - loss: 0.3344 - accuracy: 0.86 - ETA: 1:18 - loss: 0.3346 - accuracy: 0.86 - ETA: 1:18 - loss: 0.3333 - accuracy: 0.86 - ETA: 1:17 - loss: 0.3347 - accuracy: 0.86 - ETA: 1:17 - loss: 0.3355 - accuracy: 0.86 - ETA: 1:17 - loss: 0.3319 - accuracy: 0.86 - ETA: 1:17 - loss: 0.3289 - accuracy: 0.86 - ETA: 1:17 - loss: 0.3281 - accuracy: 0.86 - ETA: 1:17 - loss: 0.3351 - accuracy: 0.86 - ETA: 1:17 - loss: 0.3352 - accuracy: 0.86 - ETA: 1:16 - loss: 0.3351 - accuracy: 0.86 - ETA: 1:16 - loss: 0.3328 - accuracy: 0.86 - ETA: 1:16 - loss: 0.3300 - accuracy: 0.86 - ETA: 1:16 - loss: 0.3328 - accuracy: 0.86 - ETA: 1:16 - loss: 0.3325 - accuracy: 0.86 - ETA: 1:15 - loss: 0.3301 - accuracy: 0.86 - ETA: 1:15 - loss: 0.3327 - accuracy: 0.86 - ETA: 1:15 - loss: 0.3351 - accuracy: 0.86 - ETA: 1:15 - loss: 0.3360 - accuracy: 0.86 - ETA: 1:15 - loss: 0.3339 - accuracy: 0.86 - ETA: 1:15 - loss: 0.3317 - accuracy: 0.86 - ETA: 1:15 - loss: 0.3291 - accuracy: 0.86 - ETA: 1:15 - loss: 0.3302 - accuracy: 0.86 - ETA: 1:15 - loss: 0.3310 - accuracy: 0.86 - ETA: 1:14 - loss: 0.3294 - accuracy: 0.86 - ETA: 1:14 - loss: 0.3287 - accuracy: 0.86 - ETA: 1:14 - loss: 0.3295 - accuracy: 0.86 - ETA: 1:14 - loss: 0.3295 - accuracy: 0.86 - ETA: 1:14 - loss: 0.3303 - accuracy: 0.86 - ETA: 1:14 - loss: 0.3313 - accuracy: 0.86 - ETA: 1:14 - loss: 0.3332 - accuracy: 0.86 - ETA: 1:14 - loss: 0.3354 - accuracy: 0.86 - ETA: 1:14 - loss: 0.3360 - accuracy: 0.86 - ETA: 1:14 - loss: 0.3362 - accuracy: 0.86 - ETA: 1:14 - loss: 0.3353 - accuracy: 0.86 - ETA: 1:14 - loss: 0.3357 - accuracy: 0.86 - ETA: 1:14 - loss: 0.3357 - accuracy: 0.86 - ETA: 1:14 - loss: 0.3337 - accuracy: 0.86 - ETA: 1:14 - loss: 0.3345 - accuracy: 0.86 - ETA: 1:14 - loss: 0.3330 - accuracy: 0.86 - ETA: 1:14 - loss: 0.3324 - accuracy: 0.86 - ETA: 1:14 - loss: 0.3321 - accuracy: 0.86 - ETA: 1:14 - loss: 0.3320 - accuracy: 0.86 - ETA: 1:13 - loss: 0.3328 - accuracy: 0.86 - ETA: 1:13 - loss: 0.3337 - accuracy: 0.86 - ETA: 1:13 - loss: 0.3326 - accuracy: 0.86 - ETA: 1:13 - loss: 0.3304 - accuracy: 0.86 - ETA: 1:13 - loss: 0.3299 - accuracy: 0.86 - ETA: 1:13 - loss: 0.3296 - accuracy: 0.86 - ETA: 1:13 - loss: 0.3301 - accuracy: 0.86 - ETA: 1:12 - loss: 0.3292 - accuracy: 0.86 - ETA: 1:12 - loss: 0.3297 - accuracy: 0.86 - ETA: 1:12 - loss: 0.3287 - accuracy: 0.86 - ETA: 1:12 - loss: 0.3276 - accuracy: 0.86 - ETA: 1:12 - loss: 0.3279 - accuracy: 0.86 - ETA: 1:12 - loss: 0.3281 - accuracy: 0.86 - ETA: 1:12 - loss: 0.3294 - accuracy: 0.86 - ETA: 1:11 - loss: 0.3287 - accuracy: 0.86 - ETA: 1:11 - loss: 0.3277 - accuracy: 0.86 - ETA: 1:11 - loss: 0.3294 - accuracy: 0.86 - ETA: 1:11 - loss: 0.3299 - accuracy: 0.86 - ETA: 1:11 - loss: 0.3295 - accuracy: 0.86 - ETA: 1:10 - loss: 0.3299 - accuracy: 0.86 - ETA: 1:10 - loss: 0.3302 - accuracy: 0.86 - ETA: 1:10 - loss: 0.3296 - accuracy: 0.86 - ETA: 1:10 - loss: 0.3299 - accuracy: 0.86 - ETA: 1:10 - loss: 0.3304 - accuracy: 0.86 - ETA: 1:10 - loss: 0.3317 - accuracy: 0.86 - ETA: 1:09 - loss: 0.3312 - accuracy: 0.86 - ETA: 1:09 - loss: 0.3306 - accuracy: 0.86 - ETA: 1:09 - loss: 0.3306 - accuracy: 0.86 - ETA: 1:09 - loss: 0.3296 - accuracy: 0.86 - ETA: 1:09 - loss: 0.3300 - accuracy: 0.86 - ETA: 1:09 - loss: 0.3282 - accuracy: 0.86 - ETA: 1:08 - loss: 0.3289 - accuracy: 0.86 - ETA: 1:08 - loss: 0.3288 - accuracy: 0.86 - ETA: 1:08 - loss: 0.3302 - accuracy: 0.86 - ETA: 1:08 - loss: 0.3315 - accuracy: 0.86 - ETA: 1:08 - loss: 0.3313 - accuracy: 0.86 - ETA: 1:08 - loss: 0.3300 - accuracy: 0.86 - ETA: 1:08 - loss: 0.3286 - accuracy: 0.86 - ETA: 1:07 - loss: 0.3276 - accuracy: 0.86 - ETA: 1:07 - loss: 0.3274 - accuracy: 0.86 - ETA: 1:07 - loss: 0.3265 - accuracy: 0.86 - ETA: 1:07 - loss: 0.3273 - accuracy: 0.86 - ETA: 1:07 - loss: 0.3275 - accuracy: 0.86 - ETA: 1:07 - loss: 0.3268 - accuracy: 0.86 - ETA: 1:06 - loss: 0.3265 - accuracy: 0.86 - ETA: 1:06 - loss: 0.3271 - accuracy: 0.86 - ETA: 1:06 - loss: 0.3268 - accuracy: 0.86 - ETA: 1:06 - loss: 0.3275 - accuracy: 0.86 - ETA: 1:06 - loss: 0.3275 - accuracy: 0.86 - ETA: 1:06 - loss: 0.3278 - accuracy: 0.86 - ETA: 1:06 - loss: 0.3271 - accuracy: 0.86 - ETA: 1:05 - loss: 0.3256 - accuracy: 0.86 - ETA: 1:05 - loss: 0.3251 - accuracy: 0.86 - ETA: 1:05 - loss: 0.3249 - accuracy: 0.86 - ETA: 1:05 - loss: 0.3244 - accuracy: 0.86 - ETA: 1:05 - loss: 0.3259 - accuracy: 0.86 - ETA: 1:05 - loss: 0.3290 - accuracy: 0.86 - ETA: 1:05 - loss: 0.3276 - accuracy: 0.86 - ETA: 1:04 - loss: 0.3268 - accuracy: 0.86 - ETA: 1:04 - loss: 0.3272 - accuracy: 0.86 - ETA: 1:04 - loss: 0.3276 - accuracy: 0.86 - ETA: 1:04 - loss: 0.3274 - accuracy: 0.86 - ETA: 1:04 - loss: 0.3273 - accuracy: 0.86 - ETA: 1:04 - loss: 0.3267 - accuracy: 0.86 - ETA: 1:04 - loss: 0.3268 - accuracy: 0.86 - ETA: 1:04 - loss: 0.3276 - accuracy: 0.86 - ETA: 1:03 - loss: 0.3274 - accuracy: 0.86 - ETA: 1:03 - loss: 0.3268 - accuracy: 0.86 - ETA: 1:03 - loss: 0.3274 - accuracy: 0.86 - ETA: 1:03 - loss: 0.3267 - accuracy: 0.86 - ETA: 1:03 - loss: 0.3273 - accuracy: 0.86 - ETA: 1:03 - loss: 0.3263 - accuracy: 0.86 - ETA: 1:03 - loss: 0.3265 - accuracy: 0.86 - ETA: 1:03 - loss: 0.3266 - accuracy: 0.86 - ETA: 1:03 - loss: 0.3258 - accuracy: 0.86 - ETA: 1:02 - loss: 0.3256 - accuracy: 0.86 - ETA: 1:02 - loss: 0.3259 - accuracy: 0.86 - ETA: 1:02 - loss: 0.3252 - accuracy: 0.86 - ETA: 1:02 - loss: 0.3252 - accuracy: 0.86 - ETA: 1:02 - loss: 0.3258 - accuracy: 0.86 - ETA: 1:02 - loss: 0.3252 - accuracy: 0.86 - ETA: 1:02 - loss: 0.3247 - accuracy: 0.86 - ETA: 1:02 - loss: 0.3244 - accuracy: 0.86 - ETA: 1:02 - loss: 0.3246 - accuracy: 0.86 - ETA: 1:01 - loss: 0.3247 - accuracy: 0.86 - ETA: 1:01 - loss: 0.3248 - accuracy: 0.86 - ETA: 1:01 - loss: 0.3252 - accuracy: 0.86 - ETA: 1:01 - loss: 0.3241 - accuracy: 0.86 - ETA: 1:01 - loss: 0.3239 - accuracy: 0.86 - ETA: 1:01 - loss: 0.3254 - accuracy: 0.86 - ETA: 1:01 - loss: 0.3246 - accuracy: 0.86 - ETA: 1:01 - loss: 0.3245 - accuracy: 0.86 - ETA: 1:01 - loss: 0.3244 - accuracy: 0.86 - ETA: 1:01 - loss: 0.3243 - accuracy: 0.86 - ETA: 1:01 - loss: 0.3236 - accuracy: 0.86 - ETA: 1:01 - loss: 0.3242 - accuracy: 0.86 - ETA: 1:00 - loss: 0.3250 - accuracy: 0.86 - ETA: 1:00 - loss: 0.3255 - accuracy: 0.86 - ETA: 1:00 - loss: 0.3264 - accuracy: 0.86 - ETA: 1:00 - loss: 0.3263 - accuracy: 0.86 - ETA: 1:00 - loss: 0.3263 - accuracy: 0.86 - ETA: 1:00 - loss: 0.3259 - accuracy: 0.86 - ETA: 1:00 - loss: 0.3256 - accuracy: 0.86 - ETA: 1:00 - loss: 0.3261 - accuracy: 0.86 - ETA: 1:00 - loss: 0.3251 - accuracy: 0.86 - ETA: 1:00 - loss: 0.3253 - accuracy: 0.86 - ETA: 1:00 - loss: 0.3263 - accuracy: 0.86 - ETA: 59s - loss: 0.3260 - accuracy: 0.8656 - ETA: 59s - loss: 0.3266 - accuracy: 0.865 - ETA: 59s - loss: 0.3271 - accuracy: 0.865 - ETA: 59s - loss: 0.3274 - accuracy: 0.8653"
     ]
    },
    {
     "name": "stdout",
     "output_type": "stream",
     "text": [
      "11904/25000 [=============>................] - ETA: 59s - loss: 0.3270 - accuracy: 0.865 - ETA: 59s - loss: 0.3271 - accuracy: 0.865 - ETA: 59s - loss: 0.3271 - accuracy: 0.865 - ETA: 59s - loss: 0.3276 - accuracy: 0.865 - ETA: 59s - loss: 0.3271 - accuracy: 0.865 - ETA: 59s - loss: 0.3276 - accuracy: 0.865 - ETA: 59s - loss: 0.3279 - accuracy: 0.865 - ETA: 58s - loss: 0.3274 - accuracy: 0.865 - ETA: 58s - loss: 0.3277 - accuracy: 0.865 - ETA: 58s - loss: 0.3281 - accuracy: 0.865 - ETA: 58s - loss: 0.3282 - accuracy: 0.865 - ETA: 58s - loss: 0.3282 - accuracy: 0.865 - ETA: 58s - loss: 0.3289 - accuracy: 0.865 - ETA: 58s - loss: 0.3293 - accuracy: 0.864 - ETA: 58s - loss: 0.3293 - accuracy: 0.864 - ETA: 58s - loss: 0.3293 - accuracy: 0.864 - ETA: 58s - loss: 0.3296 - accuracy: 0.864 - ETA: 57s - loss: 0.3294 - accuracy: 0.864 - ETA: 57s - loss: 0.3287 - accuracy: 0.864 - ETA: 57s - loss: 0.3283 - accuracy: 0.864 - ETA: 57s - loss: 0.3284 - accuracy: 0.864 - ETA: 57s - loss: 0.3279 - accuracy: 0.864 - ETA: 57s - loss: 0.3276 - accuracy: 0.865 - ETA: 57s - loss: 0.3278 - accuracy: 0.865 - ETA: 57s - loss: 0.3285 - accuracy: 0.864 - ETA: 57s - loss: 0.3280 - accuracy: 0.865 - ETA: 57s - loss: 0.3283 - accuracy: 0.864 - ETA: 56s - loss: 0.3285 - accuracy: 0.864 - ETA: 56s - loss: 0.3287 - accuracy: 0.864 - ETA: 56s - loss: 0.3299 - accuracy: 0.864 - ETA: 56s - loss: 0.3299 - accuracy: 0.864 - ETA: 56s - loss: 0.3297 - accuracy: 0.864 - ETA: 56s - loss: 0.3300 - accuracy: 0.864 - ETA: 56s - loss: 0.3301 - accuracy: 0.863 - ETA: 56s - loss: 0.3300 - accuracy: 0.864 - ETA: 56s - loss: 0.3301 - accuracy: 0.864 - ETA: 56s - loss: 0.3304 - accuracy: 0.864 - ETA: 55s - loss: 0.3308 - accuracy: 0.864 - ETA: 55s - loss: 0.3313 - accuracy: 0.863 - ETA: 55s - loss: 0.3310 - accuracy: 0.864 - ETA: 55s - loss: 0.3309 - accuracy: 0.864 - ETA: 55s - loss: 0.3313 - accuracy: 0.863 - ETA: 55s - loss: 0.3321 - accuracy: 0.863 - ETA: 55s - loss: 0.3321 - accuracy: 0.863 - ETA: 55s - loss: 0.3323 - accuracy: 0.863 - ETA: 55s - loss: 0.3324 - accuracy: 0.863 - ETA: 55s - loss: 0.3322 - accuracy: 0.863 - ETA: 55s - loss: 0.3320 - accuracy: 0.864 - ETA: 54s - loss: 0.3326 - accuracy: 0.863 - ETA: 54s - loss: 0.3327 - accuracy: 0.863 - ETA: 54s - loss: 0.3327 - accuracy: 0.863 - ETA: 54s - loss: 0.3333 - accuracy: 0.863 - ETA: 54s - loss: 0.3330 - accuracy: 0.863 - ETA: 54s - loss: 0.3329 - accuracy: 0.863 - ETA: 54s - loss: 0.3328 - accuracy: 0.863 - ETA: 54s - loss: 0.3330 - accuracy: 0.863 - ETA: 54s - loss: 0.3331 - accuracy: 0.863 - ETA: 54s - loss: 0.3338 - accuracy: 0.863 - ETA: 53s - loss: 0.3336 - accuracy: 0.863 - ETA: 53s - loss: 0.3337 - accuracy: 0.863 - ETA: 53s - loss: 0.3340 - accuracy: 0.862 - ETA: 53s - loss: 0.3336 - accuracy: 0.863 - ETA: 53s - loss: 0.3335 - accuracy: 0.863 - ETA: 53s - loss: 0.3343 - accuracy: 0.862 - ETA: 53s - loss: 0.3345 - accuracy: 0.862 - ETA: 53s - loss: 0.3343 - accuracy: 0.863 - ETA: 53s - loss: 0.3343 - accuracy: 0.863 - ETA: 53s - loss: 0.3342 - accuracy: 0.863 - ETA: 52s - loss: 0.3347 - accuracy: 0.863 - ETA: 52s - loss: 0.3354 - accuracy: 0.862 - ETA: 52s - loss: 0.3354 - accuracy: 0.862 - ETA: 52s - loss: 0.3359 - accuracy: 0.862 - ETA: 52s - loss: 0.3353 - accuracy: 0.862 - ETA: 52s - loss: 0.3356 - accuracy: 0.862 - ETA: 52s - loss: 0.3352 - accuracy: 0.862 - ETA: 52s - loss: 0.3359 - accuracy: 0.862 - ETA: 52s - loss: 0.3358 - accuracy: 0.862 - ETA: 52s - loss: 0.3360 - accuracy: 0.862 - ETA: 52s - loss: 0.3362 - accuracy: 0.862 - ETA: 51s - loss: 0.3358 - accuracy: 0.862 - ETA: 51s - loss: 0.3351 - accuracy: 0.862 - ETA: 51s - loss: 0.3348 - accuracy: 0.862 - ETA: 51s - loss: 0.3350 - accuracy: 0.862 - ETA: 51s - loss: 0.3348 - accuracy: 0.862 - ETA: 51s - loss: 0.3345 - accuracy: 0.863 - ETA: 51s - loss: 0.3339 - accuracy: 0.863 - ETA: 51s - loss: 0.3349 - accuracy: 0.863 - ETA: 51s - loss: 0.3357 - accuracy: 0.862 - ETA: 51s - loss: 0.3352 - accuracy: 0.863 - ETA: 50s - loss: 0.3346 - accuracy: 0.863 - ETA: 50s - loss: 0.3344 - accuracy: 0.863 - ETA: 50s - loss: 0.3346 - accuracy: 0.863 - ETA: 50s - loss: 0.3351 - accuracy: 0.863 - ETA: 50s - loss: 0.3349 - accuracy: 0.863 - ETA: 50s - loss: 0.3346 - accuracy: 0.863 - ETA: 50s - loss: 0.3349 - accuracy: 0.862 - ETA: 50s - loss: 0.3352 - accuracy: 0.862 - ETA: 50s - loss: 0.3354 - accuracy: 0.862 - ETA: 50s - loss: 0.3353 - accuracy: 0.862 - ETA: 49s - loss: 0.3352 - accuracy: 0.863 - ETA: 49s - loss: 0.3358 - accuracy: 0.862 - ETA: 49s - loss: 0.3360 - accuracy: 0.862 - ETA: 49s - loss: 0.3361 - accuracy: 0.862 - ETA: 49s - loss: 0.3361 - accuracy: 0.862 - ETA: 49s - loss: 0.3358 - accuracy: 0.862 - ETA: 49s - loss: 0.3361 - accuracy: 0.861 - ETA: 49s - loss: 0.3357 - accuracy: 0.862 - ETA: 49s - loss: 0.3356 - accuracy: 0.862 - ETA: 48s - loss: 0.3354 - accuracy: 0.862 - ETA: 48s - loss: 0.3357 - accuracy: 0.862 - ETA: 48s - loss: 0.3367 - accuracy: 0.861 - ETA: 48s - loss: 0.3365 - accuracy: 0.861 - ETA: 48s - loss: 0.3363 - accuracy: 0.861 - ETA: 48s - loss: 0.3364 - accuracy: 0.861 - ETA: 48s - loss: 0.3358 - accuracy: 0.862 - ETA: 48s - loss: 0.3356 - accuracy: 0.861 - ETA: 48s - loss: 0.3356 - accuracy: 0.861 - ETA: 48s - loss: 0.3357 - accuracy: 0.861 - ETA: 47s - loss: 0.3359 - accuracy: 0.861 - ETA: 47s - loss: 0.3358 - accuracy: 0.861 - ETA: 47s - loss: 0.3362 - accuracy: 0.861 - ETA: 47s - loss: 0.3360 - accuracy: 0.861 - ETA: 47s - loss: 0.3360 - accuracy: 0.861 - ETA: 47s - loss: 0.3360 - accuracy: 0.861 - ETA: 47s - loss: 0.3362 - accuracy: 0.861 - ETA: 47s - loss: 0.3359 - accuracy: 0.861 - ETA: 47s - loss: 0.3356 - accuracy: 0.861 - ETA: 47s - loss: 0.3355 - accuracy: 0.861 - ETA: 46s - loss: 0.3353 - accuracy: 0.861 - ETA: 46s - loss: 0.3361 - accuracy: 0.861 - ETA: 46s - loss: 0.3358 - accuracy: 0.861 - ETA: 46s - loss: 0.3355 - accuracy: 0.861 - ETA: 46s - loss: 0.3355 - accuracy: 0.861 - ETA: 46s - loss: 0.3353 - accuracy: 0.861 - ETA: 46s - loss: 0.3355 - accuracy: 0.861 - ETA: 46s - loss: 0.3365 - accuracy: 0.860 - ETA: 46s - loss: 0.3367 - accuracy: 0.861 - ETA: 45s - loss: 0.3363 - accuracy: 0.861 - ETA: 45s - loss: 0.3366 - accuracy: 0.861 - ETA: 45s - loss: 0.3363 - accuracy: 0.861 - ETA: 45s - loss: 0.3361 - accuracy: 0.861 - ETA: 45s - loss: 0.3358 - accuracy: 0.861 - ETA: 45s - loss: 0.3356 - accuracy: 0.861 - ETA: 45s - loss: 0.3358 - accuracy: 0.861 - ETA: 45s - loss: 0.3364 - accuracy: 0.860 - ETA: 45s - loss: 0.3362 - accuracy: 0.861 - ETA: 45s - loss: 0.3364 - accuracy: 0.860 - ETA: 44s - loss: 0.3367 - accuracy: 0.860 - ETA: 44s - loss: 0.3366 - accuracy: 0.860 - ETA: 44s - loss: 0.3362 - accuracy: 0.860 - ETA: 44s - loss: 0.3359 - accuracy: 0.860 - ETA: 44s - loss: 0.3359 - accuracy: 0.860 - ETA: 44s - loss: 0.3362 - accuracy: 0.860 - ETA: 44s - loss: 0.3365 - accuracy: 0.860 - ETA: 44s - loss: 0.3372 - accuracy: 0.859 - ETA: 44s - loss: 0.3375 - accuracy: 0.859 - ETA: 44s - loss: 0.3377 - accuracy: 0.859 - ETA: 43s - loss: 0.3383 - accuracy: 0.859 - ETA: 43s - loss: 0.3384 - accuracy: 0.859 - ETA: 43s - loss: 0.3385 - accuracy: 0.859 - ETA: 43s - loss: 0.3392 - accuracy: 0.858 - ETA: 43s - loss: 0.3389 - accuracy: 0.858 - ETA: 43s - loss: 0.3388 - accuracy: 0.859 - ETA: 43s - loss: 0.3384 - accuracy: 0.859 - ETA: 43s - loss: 0.3379 - accuracy: 0.859 - ETA: 43s - loss: 0.3377 - accuracy: 0.859 - ETA: 43s - loss: 0.3382 - accuracy: 0.859 - ETA: 43s - loss: 0.3384 - accuracy: 0.859 - ETA: 42s - loss: 0.3385 - accuracy: 0.859 - ETA: 42s - loss: 0.3388 - accuracy: 0.859 - ETA: 42s - loss: 0.3392 - accuracy: 0.859 - ETA: 42s - loss: 0.3390 - accuracy: 0.858 - ETA: 42s - loss: 0.3390 - accuracy: 0.858 - ETA: 42s - loss: 0.3389 - accuracy: 0.858 - ETA: 42s - loss: 0.3388 - accuracy: 0.858 - ETA: 42s - loss: 0.3388 - accuracy: 0.858 - ETA: 42s - loss: 0.3385 - accuracy: 0.858 - ETA: 42s - loss: 0.3384 - accuracy: 0.858 - ETA: 41s - loss: 0.3388 - accuracy: 0.858 - ETA: 41s - loss: 0.3385 - accuracy: 0.858 - ETA: 41s - loss: 0.3393 - accuracy: 0.858 - ETA: 41s - loss: 0.3391 - accuracy: 0.858 - ETA: 41s - loss: 0.3387 - accuracy: 0.858 - ETA: 41s - loss: 0.3383 - accuracy: 0.858 - ETA: 41s - loss: 0.3383 - accuracy: 0.858 - ETA: 41s - loss: 0.3386 - accuracy: 0.8581"
     ]
    },
    {
     "name": "stdout",
     "output_type": "stream",
     "text": [
      "17856/25000 [====================>.........] - ETA: 41s - loss: 0.3389 - accuracy: 0.858 - ETA: 41s - loss: 0.3387 - accuracy: 0.858 - ETA: 40s - loss: 0.3385 - accuracy: 0.858 - ETA: 40s - loss: 0.3388 - accuracy: 0.858 - ETA: 40s - loss: 0.3390 - accuracy: 0.858 - ETA: 40s - loss: 0.3394 - accuracy: 0.857 - ETA: 40s - loss: 0.3397 - accuracy: 0.857 - ETA: 40s - loss: 0.3397 - accuracy: 0.857 - ETA: 40s - loss: 0.3401 - accuracy: 0.857 - ETA: 40s - loss: 0.3401 - accuracy: 0.856 - ETA: 40s - loss: 0.3401 - accuracy: 0.857 - ETA: 39s - loss: 0.3403 - accuracy: 0.856 - ETA: 39s - loss: 0.3402 - accuracy: 0.856 - ETA: 39s - loss: 0.3406 - accuracy: 0.856 - ETA: 39s - loss: 0.3408 - accuracy: 0.856 - ETA: 39s - loss: 0.3409 - accuracy: 0.856 - ETA: 39s - loss: 0.3413 - accuracy: 0.856 - ETA: 39s - loss: 0.3415 - accuracy: 0.856 - ETA: 39s - loss: 0.3416 - accuracy: 0.856 - ETA: 39s - loss: 0.3417 - accuracy: 0.856 - ETA: 39s - loss: 0.3416 - accuracy: 0.856 - ETA: 39s - loss: 0.3415 - accuracy: 0.856 - ETA: 38s - loss: 0.3416 - accuracy: 0.855 - ETA: 38s - loss: 0.3414 - accuracy: 0.855 - ETA: 38s - loss: 0.3413 - accuracy: 0.856 - ETA: 38s - loss: 0.3411 - accuracy: 0.856 - ETA: 38s - loss: 0.3408 - accuracy: 0.856 - ETA: 38s - loss: 0.3410 - accuracy: 0.856 - ETA: 38s - loss: 0.3408 - accuracy: 0.856 - ETA: 38s - loss: 0.3409 - accuracy: 0.856 - ETA: 38s - loss: 0.3410 - accuracy: 0.856 - ETA: 37s - loss: 0.3406 - accuracy: 0.856 - ETA: 37s - loss: 0.3405 - accuracy: 0.856 - ETA: 37s - loss: 0.3403 - accuracy: 0.856 - ETA: 37s - loss: 0.3399 - accuracy: 0.856 - ETA: 37s - loss: 0.3397 - accuracy: 0.856 - ETA: 37s - loss: 0.3398 - accuracy: 0.856 - ETA: 37s - loss: 0.3399 - accuracy: 0.856 - ETA: 37s - loss: 0.3403 - accuracy: 0.856 - ETA: 37s - loss: 0.3404 - accuracy: 0.856 - ETA: 37s - loss: 0.3404 - accuracy: 0.856 - ETA: 36s - loss: 0.3402 - accuracy: 0.856 - ETA: 36s - loss: 0.3401 - accuracy: 0.856 - ETA: 36s - loss: 0.3400 - accuracy: 0.856 - ETA: 36s - loss: 0.3404 - accuracy: 0.855 - ETA: 36s - loss: 0.3407 - accuracy: 0.855 - ETA: 36s - loss: 0.3407 - accuracy: 0.855 - ETA: 36s - loss: 0.3405 - accuracy: 0.855 - ETA: 36s - loss: 0.3405 - accuracy: 0.855 - ETA: 36s - loss: 0.3404 - accuracy: 0.855 - ETA: 36s - loss: 0.3401 - accuracy: 0.855 - ETA: 35s - loss: 0.3400 - accuracy: 0.855 - ETA: 35s - loss: 0.3400 - accuracy: 0.855 - ETA: 35s - loss: 0.3395 - accuracy: 0.856 - ETA: 35s - loss: 0.3397 - accuracy: 0.856 - ETA: 35s - loss: 0.3397 - accuracy: 0.855 - ETA: 35s - loss: 0.3393 - accuracy: 0.856 - ETA: 35s - loss: 0.3396 - accuracy: 0.856 - ETA: 35s - loss: 0.3393 - accuracy: 0.856 - ETA: 35s - loss: 0.3394 - accuracy: 0.856 - ETA: 35s - loss: 0.3394 - accuracy: 0.856 - ETA: 34s - loss: 0.3395 - accuracy: 0.856 - ETA: 34s - loss: 0.3396 - accuracy: 0.856 - ETA: 34s - loss: 0.3395 - accuracy: 0.856 - ETA: 34s - loss: 0.3394 - accuracy: 0.856 - ETA: 34s - loss: 0.3393 - accuracy: 0.856 - ETA: 34s - loss: 0.3392 - accuracy: 0.856 - ETA: 34s - loss: 0.3391 - accuracy: 0.856 - ETA: 34s - loss: 0.3392 - accuracy: 0.856 - ETA: 34s - loss: 0.3393 - accuracy: 0.856 - ETA: 33s - loss: 0.3391 - accuracy: 0.856 - ETA: 33s - loss: 0.3393 - accuracy: 0.856 - ETA: 33s - loss: 0.3389 - accuracy: 0.856 - ETA: 33s - loss: 0.3391 - accuracy: 0.856 - ETA: 33s - loss: 0.3393 - accuracy: 0.855 - ETA: 33s - loss: 0.3389 - accuracy: 0.856 - ETA: 33s - loss: 0.3390 - accuracy: 0.856 - ETA: 33s - loss: 0.3385 - accuracy: 0.856 - ETA: 33s - loss: 0.3386 - accuracy: 0.856 - ETA: 33s - loss: 0.3394 - accuracy: 0.856 - ETA: 32s - loss: 0.3400 - accuracy: 0.856 - ETA: 32s - loss: 0.3397 - accuracy: 0.856 - ETA: 32s - loss: 0.3396 - accuracy: 0.856 - ETA: 32s - loss: 0.3397 - accuracy: 0.856 - ETA: 32s - loss: 0.3401 - accuracy: 0.856 - ETA: 32s - loss: 0.3403 - accuracy: 0.856 - ETA: 32s - loss: 0.3406 - accuracy: 0.856 - ETA: 32s - loss: 0.3408 - accuracy: 0.855 - ETA: 32s - loss: 0.3410 - accuracy: 0.855 - ETA: 32s - loss: 0.3409 - accuracy: 0.855 - ETA: 31s - loss: 0.3407 - accuracy: 0.856 - ETA: 31s - loss: 0.3408 - accuracy: 0.855 - ETA: 31s - loss: 0.3413 - accuracy: 0.855 - ETA: 31s - loss: 0.3416 - accuracy: 0.855 - ETA: 31s - loss: 0.3415 - accuracy: 0.855 - ETA: 31s - loss: 0.3417 - accuracy: 0.855 - ETA: 31s - loss: 0.3416 - accuracy: 0.855 - ETA: 31s - loss: 0.3416 - accuracy: 0.855 - ETA: 31s - loss: 0.3415 - accuracy: 0.855 - ETA: 31s - loss: 0.3412 - accuracy: 0.855 - ETA: 30s - loss: 0.3410 - accuracy: 0.855 - ETA: 30s - loss: 0.3410 - accuracy: 0.855 - ETA: 30s - loss: 0.3410 - accuracy: 0.855 - ETA: 30s - loss: 0.3411 - accuracy: 0.855 - ETA: 30s - loss: 0.3415 - accuracy: 0.855 - ETA: 30s - loss: 0.3416 - accuracy: 0.855 - ETA: 30s - loss: 0.3416 - accuracy: 0.855 - ETA: 30s - loss: 0.3416 - accuracy: 0.855 - ETA: 30s - loss: 0.3415 - accuracy: 0.855 - ETA: 30s - loss: 0.3416 - accuracy: 0.855 - ETA: 29s - loss: 0.3416 - accuracy: 0.855 - ETA: 29s - loss: 0.3416 - accuracy: 0.855 - ETA: 29s - loss: 0.3413 - accuracy: 0.855 - ETA: 29s - loss: 0.3417 - accuracy: 0.855 - ETA: 29s - loss: 0.3416 - accuracy: 0.855 - ETA: 29s - loss: 0.3416 - accuracy: 0.855 - ETA: 29s - loss: 0.3414 - accuracy: 0.855 - ETA: 29s - loss: 0.3413 - accuracy: 0.855 - ETA: 29s - loss: 0.3414 - accuracy: 0.855 - ETA: 29s - loss: 0.3413 - accuracy: 0.855 - ETA: 28s - loss: 0.3413 - accuracy: 0.855 - ETA: 28s - loss: 0.3408 - accuracy: 0.855 - ETA: 28s - loss: 0.3406 - accuracy: 0.855 - ETA: 28s - loss: 0.3404 - accuracy: 0.855 - ETA: 28s - loss: 0.3406 - accuracy: 0.855 - ETA: 28s - loss: 0.3409 - accuracy: 0.855 - ETA: 28s - loss: 0.3408 - accuracy: 0.855 - ETA: 28s - loss: 0.3410 - accuracy: 0.855 - ETA: 28s - loss: 0.3409 - accuracy: 0.855 - ETA: 28s - loss: 0.3408 - accuracy: 0.855 - ETA: 27s - loss: 0.3410 - accuracy: 0.854 - ETA: 27s - loss: 0.3408 - accuracy: 0.855 - ETA: 27s - loss: 0.3410 - accuracy: 0.855 - ETA: 27s - loss: 0.3409 - accuracy: 0.854 - ETA: 27s - loss: 0.3410 - accuracy: 0.854 - ETA: 27s - loss: 0.3411 - accuracy: 0.854 - ETA: 27s - loss: 0.3411 - accuracy: 0.854 - ETA: 27s - loss: 0.3414 - accuracy: 0.854 - ETA: 27s - loss: 0.3416 - accuracy: 0.854 - ETA: 27s - loss: 0.3415 - accuracy: 0.854 - ETA: 26s - loss: 0.3414 - accuracy: 0.854 - ETA: 26s - loss: 0.3414 - accuracy: 0.854 - ETA: 26s - loss: 0.3416 - accuracy: 0.854 - ETA: 26s - loss: 0.3413 - accuracy: 0.854 - ETA: 26s - loss: 0.3411 - accuracy: 0.854 - ETA: 26s - loss: 0.3410 - accuracy: 0.855 - ETA: 26s - loss: 0.3410 - accuracy: 0.854 - ETA: 26s - loss: 0.3411 - accuracy: 0.854 - ETA: 26s - loss: 0.3411 - accuracy: 0.854 - ETA: 26s - loss: 0.3410 - accuracy: 0.854 - ETA: 25s - loss: 0.3405 - accuracy: 0.855 - ETA: 25s - loss: 0.3404 - accuracy: 0.855 - ETA: 25s - loss: 0.3407 - accuracy: 0.855 - ETA: 25s - loss: 0.3405 - accuracy: 0.855 - ETA: 25s - loss: 0.3407 - accuracy: 0.855 - ETA: 25s - loss: 0.3404 - accuracy: 0.855 - ETA: 25s - loss: 0.3401 - accuracy: 0.855 - ETA: 25s - loss: 0.3403 - accuracy: 0.855 - ETA: 25s - loss: 0.3407 - accuracy: 0.855 - ETA: 25s - loss: 0.3406 - accuracy: 0.855 - ETA: 24s - loss: 0.3404 - accuracy: 0.855 - ETA: 24s - loss: 0.3406 - accuracy: 0.855 - ETA: 24s - loss: 0.3406 - accuracy: 0.855 - ETA: 24s - loss: 0.3406 - accuracy: 0.855 - ETA: 24s - loss: 0.3409 - accuracy: 0.855 - ETA: 24s - loss: 0.3408 - accuracy: 0.855 - ETA: 24s - loss: 0.3409 - accuracy: 0.855 - ETA: 24s - loss: 0.3408 - accuracy: 0.855 - ETA: 24s - loss: 0.3407 - accuracy: 0.855 - ETA: 24s - loss: 0.3409 - accuracy: 0.855 - ETA: 23s - loss: 0.3409 - accuracy: 0.855 - ETA: 23s - loss: 0.3406 - accuracy: 0.855 - ETA: 23s - loss: 0.3405 - accuracy: 0.855 - ETA: 23s - loss: 0.3404 - accuracy: 0.855 - ETA: 23s - loss: 0.3405 - accuracy: 0.855 - ETA: 23s - loss: 0.3404 - accuracy: 0.855 - ETA: 23s - loss: 0.3403 - accuracy: 0.855 - ETA: 23s - loss: 0.3407 - accuracy: 0.855 - ETA: 23s - loss: 0.3408 - accuracy: 0.855 - ETA: 23s - loss: 0.3406 - accuracy: 0.855 - ETA: 22s - loss: 0.3407 - accuracy: 0.855 - ETA: 22s - loss: 0.3408 - accuracy: 0.855 - ETA: 22s - loss: 0.3412 - accuracy: 0.855 - ETA: 22s - loss: 0.3409 - accuracy: 0.855 - ETA: 22s - loss: 0.3410 - accuracy: 0.855 - ETA: 22s - loss: 0.3409 - accuracy: 0.8551"
     ]
    },
    {
     "name": "stdout",
     "output_type": "stream",
     "text": [
      "23904/25000 [===========================>..] - ETA: 22s - loss: 0.3409 - accuracy: 0.855 - ETA: 22s - loss: 0.3406 - accuracy: 0.855 - ETA: 22s - loss: 0.3407 - accuracy: 0.855 - ETA: 22s - loss: 0.3404 - accuracy: 0.855 - ETA: 21s - loss: 0.3403 - accuracy: 0.855 - ETA: 21s - loss: 0.3400 - accuracy: 0.855 - ETA: 21s - loss: 0.3398 - accuracy: 0.855 - ETA: 21s - loss: 0.3395 - accuracy: 0.855 - ETA: 21s - loss: 0.3392 - accuracy: 0.856 - ETA: 21s - loss: 0.3395 - accuracy: 0.855 - ETA: 21s - loss: 0.3396 - accuracy: 0.855 - ETA: 21s - loss: 0.3395 - accuracy: 0.855 - ETA: 21s - loss: 0.3395 - accuracy: 0.855 - ETA: 21s - loss: 0.3399 - accuracy: 0.855 - ETA: 20s - loss: 0.3397 - accuracy: 0.855 - ETA: 20s - loss: 0.3399 - accuracy: 0.855 - ETA: 20s - loss: 0.3399 - accuracy: 0.855 - ETA: 20s - loss: 0.3401 - accuracy: 0.855 - ETA: 20s - loss: 0.3398 - accuracy: 0.855 - ETA: 20s - loss: 0.3397 - accuracy: 0.855 - ETA: 20s - loss: 0.3396 - accuracy: 0.855 - ETA: 20s - loss: 0.3395 - accuracy: 0.855 - ETA: 20s - loss: 0.3394 - accuracy: 0.855 - ETA: 20s - loss: 0.3396 - accuracy: 0.855 - ETA: 19s - loss: 0.3398 - accuracy: 0.855 - ETA: 19s - loss: 0.3398 - accuracy: 0.855 - ETA: 19s - loss: 0.3398 - accuracy: 0.855 - ETA: 19s - loss: 0.3397 - accuracy: 0.855 - ETA: 19s - loss: 0.3402 - accuracy: 0.855 - ETA: 19s - loss: 0.3400 - accuracy: 0.855 - ETA: 19s - loss: 0.3399 - accuracy: 0.855 - ETA: 19s - loss: 0.3398 - accuracy: 0.855 - ETA: 19s - loss: 0.3397 - accuracy: 0.855 - ETA: 18s - loss: 0.3395 - accuracy: 0.855 - ETA: 18s - loss: 0.3398 - accuracy: 0.855 - ETA: 18s - loss: 0.3395 - accuracy: 0.855 - ETA: 18s - loss: 0.3392 - accuracy: 0.855 - ETA: 18s - loss: 0.3392 - accuracy: 0.855 - ETA: 18s - loss: 0.3391 - accuracy: 0.855 - ETA: 18s - loss: 0.3389 - accuracy: 0.855 - ETA: 18s - loss: 0.3389 - accuracy: 0.855 - ETA: 18s - loss: 0.3386 - accuracy: 0.855 - ETA: 18s - loss: 0.3385 - accuracy: 0.855 - ETA: 17s - loss: 0.3386 - accuracy: 0.855 - ETA: 17s - loss: 0.3387 - accuracy: 0.855 - ETA: 17s - loss: 0.3385 - accuracy: 0.855 - ETA: 17s - loss: 0.3387 - accuracy: 0.855 - ETA: 17s - loss: 0.3389 - accuracy: 0.855 - ETA: 17s - loss: 0.3387 - accuracy: 0.855 - ETA: 17s - loss: 0.3385 - accuracy: 0.855 - ETA: 17s - loss: 0.3384 - accuracy: 0.855 - ETA: 17s - loss: 0.3385 - accuracy: 0.855 - ETA: 17s - loss: 0.3387 - accuracy: 0.855 - ETA: 16s - loss: 0.3391 - accuracy: 0.855 - ETA: 16s - loss: 0.3389 - accuracy: 0.855 - ETA: 16s - loss: 0.3389 - accuracy: 0.855 - ETA: 16s - loss: 0.3388 - accuracy: 0.855 - ETA: 16s - loss: 0.3388 - accuracy: 0.855 - ETA: 16s - loss: 0.3392 - accuracy: 0.855 - ETA: 16s - loss: 0.3391 - accuracy: 0.855 - ETA: 16s - loss: 0.3394 - accuracy: 0.855 - ETA: 16s - loss: 0.3394 - accuracy: 0.855 - ETA: 16s - loss: 0.3393 - accuracy: 0.855 - ETA: 15s - loss: 0.3395 - accuracy: 0.855 - ETA: 15s - loss: 0.3392 - accuracy: 0.855 - ETA: 15s - loss: 0.3391 - accuracy: 0.855 - ETA: 15s - loss: 0.3391 - accuracy: 0.855 - ETA: 15s - loss: 0.3393 - accuracy: 0.855 - ETA: 15s - loss: 0.3392 - accuracy: 0.855 - ETA: 15s - loss: 0.3392 - accuracy: 0.855 - ETA: 15s - loss: 0.3393 - accuracy: 0.855 - ETA: 15s - loss: 0.3390 - accuracy: 0.855 - ETA: 15s - loss: 0.3388 - accuracy: 0.855 - ETA: 14s - loss: 0.3387 - accuracy: 0.856 - ETA: 14s - loss: 0.3386 - accuracy: 0.855 - ETA: 14s - loss: 0.3387 - accuracy: 0.855 - ETA: 14s - loss: 0.3387 - accuracy: 0.855 - ETA: 14s - loss: 0.3386 - accuracy: 0.855 - ETA: 14s - loss: 0.3386 - accuracy: 0.855 - ETA: 14s - loss: 0.3388 - accuracy: 0.855 - ETA: 14s - loss: 0.3388 - accuracy: 0.855 - ETA: 14s - loss: 0.3389 - accuracy: 0.855 - ETA: 14s - loss: 0.3389 - accuracy: 0.855 - ETA: 13s - loss: 0.3390 - accuracy: 0.855 - ETA: 13s - loss: 0.3389 - accuracy: 0.855 - ETA: 13s - loss: 0.3390 - accuracy: 0.855 - ETA: 13s - loss: 0.3389 - accuracy: 0.855 - ETA: 13s - loss: 0.3390 - accuracy: 0.855 - ETA: 13s - loss: 0.3389 - accuracy: 0.855 - ETA: 13s - loss: 0.3389 - accuracy: 0.855 - ETA: 13s - loss: 0.3388 - accuracy: 0.855 - ETA: 13s - loss: 0.3387 - accuracy: 0.855 - ETA: 13s - loss: 0.3386 - accuracy: 0.855 - ETA: 12s - loss: 0.3383 - accuracy: 0.855 - ETA: 12s - loss: 0.3381 - accuracy: 0.855 - ETA: 12s - loss: 0.3383 - accuracy: 0.855 - ETA: 12s - loss: 0.3381 - accuracy: 0.855 - ETA: 12s - loss: 0.3381 - accuracy: 0.855 - ETA: 12s - loss: 0.3380 - accuracy: 0.855 - ETA: 12s - loss: 0.3385 - accuracy: 0.855 - ETA: 12s - loss: 0.3384 - accuracy: 0.855 - ETA: 12s - loss: 0.3385 - accuracy: 0.855 - ETA: 12s - loss: 0.3384 - accuracy: 0.855 - ETA: 11s - loss: 0.3384 - accuracy: 0.855 - ETA: 11s - loss: 0.3382 - accuracy: 0.855 - ETA: 11s - loss: 0.3384 - accuracy: 0.855 - ETA: 11s - loss: 0.3384 - accuracy: 0.855 - ETA: 11s - loss: 0.3383 - accuracy: 0.855 - ETA: 11s - loss: 0.3386 - accuracy: 0.855 - ETA: 11s - loss: 0.3388 - accuracy: 0.855 - ETA: 11s - loss: 0.3387 - accuracy: 0.855 - ETA: 11s - loss: 0.3386 - accuracy: 0.855 - ETA: 11s - loss: 0.3386 - accuracy: 0.855 - ETA: 10s - loss: 0.3385 - accuracy: 0.855 - ETA: 10s - loss: 0.3383 - accuracy: 0.855 - ETA: 10s - loss: 0.3382 - accuracy: 0.855 - ETA: 10s - loss: 0.3383 - accuracy: 0.855 - ETA: 10s - loss: 0.3384 - accuracy: 0.855 - ETA: 10s - loss: 0.3383 - accuracy: 0.855 - ETA: 10s - loss: 0.3383 - accuracy: 0.855 - ETA: 10s - loss: 0.3383 - accuracy: 0.855 - ETA: 10s - loss: 0.3381 - accuracy: 0.855 - ETA: 10s - loss: 0.3382 - accuracy: 0.855 - ETA: 9s - loss: 0.3380 - accuracy: 0.855 - ETA: 9s - loss: 0.3380 - accuracy: 0.85 - ETA: 9s - loss: 0.3377 - accuracy: 0.85 - ETA: 9s - loss: 0.3377 - accuracy: 0.85 - ETA: 9s - loss: 0.3379 - accuracy: 0.85 - ETA: 9s - loss: 0.3378 - accuracy: 0.85 - ETA: 9s - loss: 0.3378 - accuracy: 0.85 - ETA: 9s - loss: 0.3375 - accuracy: 0.85 - ETA: 9s - loss: 0.3375 - accuracy: 0.85 - ETA: 9s - loss: 0.3374 - accuracy: 0.85 - ETA: 8s - loss: 0.3373 - accuracy: 0.85 - ETA: 8s - loss: 0.3373 - accuracy: 0.85 - ETA: 8s - loss: 0.3373 - accuracy: 0.85 - ETA: 8s - loss: 0.3370 - accuracy: 0.85 - ETA: 8s - loss: 0.3374 - accuracy: 0.85 - ETA: 8s - loss: 0.3376 - accuracy: 0.85 - ETA: 8s - loss: 0.3376 - accuracy: 0.85 - ETA: 8s - loss: 0.3377 - accuracy: 0.85 - ETA: 8s - loss: 0.3377 - accuracy: 0.85 - ETA: 8s - loss: 0.3378 - accuracy: 0.85 - ETA: 7s - loss: 0.3377 - accuracy: 0.85 - ETA: 7s - loss: 0.3377 - accuracy: 0.85 - ETA: 7s - loss: 0.3376 - accuracy: 0.85 - ETA: 7s - loss: 0.3377 - accuracy: 0.85 - ETA: 7s - loss: 0.3378 - accuracy: 0.85 - ETA: 7s - loss: 0.3382 - accuracy: 0.85 - ETA: 7s - loss: 0.3383 - accuracy: 0.85 - ETA: 7s - loss: 0.3383 - accuracy: 0.85 - ETA: 7s - loss: 0.3383 - accuracy: 0.85 - ETA: 7s - loss: 0.3381 - accuracy: 0.85 - ETA: 6s - loss: 0.3380 - accuracy: 0.85 - ETA: 6s - loss: 0.3380 - accuracy: 0.85 - ETA: 6s - loss: 0.3381 - accuracy: 0.85 - ETA: 6s - loss: 0.3386 - accuracy: 0.85 - ETA: 6s - loss: 0.3387 - accuracy: 0.85 - ETA: 6s - loss: 0.3386 - accuracy: 0.85 - ETA: 6s - loss: 0.3385 - accuracy: 0.85 - ETA: 6s - loss: 0.3385 - accuracy: 0.85 - ETA: 6s - loss: 0.3384 - accuracy: 0.85 - ETA: 6s - loss: 0.3385 - accuracy: 0.85 - ETA: 5s - loss: 0.3386 - accuracy: 0.85 - ETA: 5s - loss: 0.3388 - accuracy: 0.85 - ETA: 5s - loss: 0.3387 - accuracy: 0.85 - ETA: 5s - loss: 0.3385 - accuracy: 0.85 - ETA: 5s - loss: 0.3387 - accuracy: 0.85 - ETA: 5s - loss: 0.3388 - accuracy: 0.85 - ETA: 5s - loss: 0.3388 - accuracy: 0.85 - ETA: 5s - loss: 0.3388 - accuracy: 0.85 - ETA: 5s - loss: 0.3390 - accuracy: 0.85 - ETA: 5s - loss: 0.3389 - accuracy: 0.85 - ETA: 4s - loss: 0.3391 - accuracy: 0.85 - ETA: 4s - loss: 0.3394 - accuracy: 0.85 - ETA: 4s - loss: 0.3395 - accuracy: 0.85 - ETA: 4s - loss: 0.3395 - accuracy: 0.85 - ETA: 4s - loss: 0.3397 - accuracy: 0.85 - ETA: 4s - loss: 0.3397 - accuracy: 0.85 - ETA: 4s - loss: 0.3397 - accuracy: 0.85 - ETA: 4s - loss: 0.3398 - accuracy: 0.85 - ETA: 4s - loss: 0.3401 - accuracy: 0.85 - ETA: 4s - loss: 0.3399 - accuracy: 0.85 - ETA: 3s - loss: 0.3398 - accuracy: 0.85 - ETA: 3s - loss: 0.3396 - accuracy: 0.85 - ETA: 3s - loss: 0.3396 - accuracy: 0.85 - ETA: 3s - loss: 0.3396 - accuracy: 0.85 - ETA: 3s - loss: 0.3397 - accuracy: 0.85 - ETA: 3s - loss: 0.3397 - accuracy: 0.8533"
     ]
    },
    {
     "name": "stdout",
     "output_type": "stream",
     "text": [
      "25000/25000 [==============================] - ETA: 3s - loss: 0.3396 - accuracy: 0.85 - ETA: 3s - loss: 0.3399 - accuracy: 0.85 - ETA: 3s - loss: 0.3399 - accuracy: 0.85 - ETA: 3s - loss: 0.3400 - accuracy: 0.85 - ETA: 2s - loss: 0.3400 - accuracy: 0.85 - ETA: 2s - loss: 0.3399 - accuracy: 0.85 - ETA: 2s - loss: 0.3401 - accuracy: 0.85 - ETA: 2s - loss: 0.3402 - accuracy: 0.85 - ETA: 2s - loss: 0.3405 - accuracy: 0.85 - ETA: 2s - loss: 0.3404 - accuracy: 0.85 - ETA: 2s - loss: 0.3404 - accuracy: 0.85 - ETA: 2s - loss: 0.3402 - accuracy: 0.85 - ETA: 2s - loss: 0.3402 - accuracy: 0.85 - ETA: 2s - loss: 0.3400 - accuracy: 0.85 - ETA: 1s - loss: 0.3402 - accuracy: 0.85 - ETA: 1s - loss: 0.3400 - accuracy: 0.85 - ETA: 1s - loss: 0.3399 - accuracy: 0.85 - ETA: 1s - loss: 0.3401 - accuracy: 0.85 - ETA: 1s - loss: 0.3402 - accuracy: 0.85 - ETA: 1s - loss: 0.3402 - accuracy: 0.85 - ETA: 1s - loss: 0.3404 - accuracy: 0.85 - ETA: 1s - loss: 0.3404 - accuracy: 0.85 - ETA: 1s - loss: 0.3404 - accuracy: 0.85 - ETA: 1s - loss: 0.3405 - accuracy: 0.85 - ETA: 0s - loss: 0.3404 - accuracy: 0.85 - ETA: 0s - loss: 0.3405 - accuracy: 0.85 - ETA: 0s - loss: 0.3405 - accuracy: 0.85 - ETA: 0s - loss: 0.3405 - accuracy: 0.85 - ETA: 0s - loss: 0.3405 - accuracy: 0.85 - ETA: 0s - loss: 0.3406 - accuracy: 0.85 - ETA: 0s - loss: 0.3405 - accuracy: 0.85 - ETA: 0s - loss: 0.3405 - accuracy: 0.85 - ETA: 0s - loss: 0.3405 - accuracy: 0.85 - ETA: 0s - loss: 0.3404 - accuracy: 0.85 - 79s 3ms/sample - loss: 0.3404 - accuracy: 0.8530\n",
      "Epoch 3/5\n"
     ]
    },
    {
     "name": "stdout",
     "output_type": "stream",
     "text": [
      " 5952/25000 [======>.......................] - ETA: 1:22 - loss: 0.1552 - accuracy: 0.90 - ETA: 1:23 - loss: 0.2872 - accuracy: 0.87 - ETA: 1:22 - loss: 0.3634 - accuracy: 0.84 - ETA: 1:21 - loss: 0.3176 - accuracy: 0.85 - ETA: 1:20 - loss: 0.2976 - accuracy: 0.85 - ETA: 1:21 - loss: 0.2953 - accuracy: 0.85 - ETA: 1:21 - loss: 0.2729 - accuracy: 0.87 - ETA: 1:20 - loss: 0.2591 - accuracy: 0.88 - ETA: 1:19 - loss: 0.2482 - accuracy: 0.88 - ETA: 1:20 - loss: 0.2325 - accuracy: 0.89 - ETA: 1:20 - loss: 0.2367 - accuracy: 0.89 - ETA: 1:20 - loss: 0.2375 - accuracy: 0.89 - ETA: 1:20 - loss: 0.2329 - accuracy: 0.89 - ETA: 1:20 - loss: 0.2333 - accuracy: 0.89 - ETA: 1:20 - loss: 0.2343 - accuracy: 0.89 - ETA: 1:19 - loss: 0.2337 - accuracy: 0.89 - ETA: 1:20 - loss: 0.2330 - accuracy: 0.89 - ETA: 1:20 - loss: 0.2282 - accuracy: 0.89 - ETA: 1:20 - loss: 0.2261 - accuracy: 0.90 - ETA: 1:20 - loss: 0.2280 - accuracy: 0.89 - ETA: 1:20 - loss: 0.2237 - accuracy: 0.90 - ETA: 1:19 - loss: 0.2382 - accuracy: 0.89 - ETA: 1:19 - loss: 0.2417 - accuracy: 0.89 - ETA: 1:19 - loss: 0.2478 - accuracy: 0.89 - ETA: 1:19 - loss: 0.2433 - accuracy: 0.89 - ETA: 1:19 - loss: 0.2411 - accuracy: 0.89 - ETA: 1:19 - loss: 0.2401 - accuracy: 0.89 - ETA: 1:19 - loss: 0.2380 - accuracy: 0.90 - ETA: 1:18 - loss: 0.2357 - accuracy: 0.90 - ETA: 1:18 - loss: 0.2342 - accuracy: 0.90 - ETA: 1:18 - loss: 0.2380 - accuracy: 0.90 - ETA: 1:18 - loss: 0.2393 - accuracy: 0.89 - ETA: 1:18 - loss: 0.2405 - accuracy: 0.89 - ETA: 1:18 - loss: 0.2381 - accuracy: 0.90 - ETA: 1:18 - loss: 0.2365 - accuracy: 0.90 - ETA: 1:18 - loss: 0.2326 - accuracy: 0.90 - ETA: 1:17 - loss: 0.2336 - accuracy: 0.90 - ETA: 1:17 - loss: 0.2335 - accuracy: 0.90 - ETA: 1:17 - loss: 0.2347 - accuracy: 0.90 - ETA: 1:17 - loss: 0.2347 - accuracy: 0.90 - ETA: 1:17 - loss: 0.2365 - accuracy: 0.90 - ETA: 1:17 - loss: 0.2345 - accuracy: 0.90 - ETA: 1:17 - loss: 0.2309 - accuracy: 0.90 - ETA: 1:17 - loss: 0.2318 - accuracy: 0.90 - ETA: 1:16 - loss: 0.2335 - accuracy: 0.90 - ETA: 1:16 - loss: 0.2328 - accuracy: 0.90 - ETA: 1:16 - loss: 0.2317 - accuracy: 0.90 - ETA: 1:16 - loss: 0.2310 - accuracy: 0.90 - ETA: 1:16 - loss: 0.2301 - accuracy: 0.90 - ETA: 1:16 - loss: 0.2279 - accuracy: 0.90 - ETA: 1:16 - loss: 0.2275 - accuracy: 0.90 - ETA: 1:16 - loss: 0.2323 - accuracy: 0.90 - ETA: 1:16 - loss: 0.2313 - accuracy: 0.90 - ETA: 1:15 - loss: 0.2299 - accuracy: 0.90 - ETA: 1:15 - loss: 0.2332 - accuracy: 0.90 - ETA: 1:15 - loss: 0.2330 - accuracy: 0.90 - ETA: 1:15 - loss: 0.2359 - accuracy: 0.90 - ETA: 1:15 - loss: 0.2342 - accuracy: 0.90 - ETA: 1:15 - loss: 0.2320 - accuracy: 0.90 - ETA: 1:15 - loss: 0.2316 - accuracy: 0.90 - ETA: 1:15 - loss: 0.2297 - accuracy: 0.90 - ETA: 1:15 - loss: 0.2309 - accuracy: 0.90 - ETA: 1:14 - loss: 0.2312 - accuracy: 0.90 - ETA: 1:14 - loss: 0.2295 - accuracy: 0.90 - ETA: 1:14 - loss: 0.2298 - accuracy: 0.90 - ETA: 1:14 - loss: 0.2294 - accuracy: 0.90 - ETA: 1:14 - loss: 0.2280 - accuracy: 0.90 - ETA: 1:14 - loss: 0.2275 - accuracy: 0.90 - ETA: 1:14 - loss: 0.2271 - accuracy: 0.90 - ETA: 1:14 - loss: 0.2257 - accuracy: 0.91 - ETA: 1:13 - loss: 0.2285 - accuracy: 0.90 - ETA: 1:13 - loss: 0.2281 - accuracy: 0.91 - ETA: 1:13 - loss: 0.2272 - accuracy: 0.91 - ETA: 1:13 - loss: 0.2287 - accuracy: 0.90 - ETA: 1:13 - loss: 0.2294 - accuracy: 0.90 - ETA: 1:13 - loss: 0.2290 - accuracy: 0.90 - ETA: 1:13 - loss: 0.2288 - accuracy: 0.90 - ETA: 1:13 - loss: 0.2274 - accuracy: 0.91 - ETA: 1:13 - loss: 0.2274 - accuracy: 0.90 - ETA: 1:13 - loss: 0.2265 - accuracy: 0.90 - ETA: 1:13 - loss: 0.2283 - accuracy: 0.90 - ETA: 1:13 - loss: 0.2275 - accuracy: 0.90 - ETA: 1:13 - loss: 0.2260 - accuracy: 0.90 - ETA: 1:13 - loss: 0.2294 - accuracy: 0.90 - ETA: 1:13 - loss: 0.2290 - accuracy: 0.90 - ETA: 1:12 - loss: 0.2291 - accuracy: 0.90 - ETA: 1:12 - loss: 0.2286 - accuracy: 0.90 - ETA: 1:12 - loss: 0.2276 - accuracy: 0.90 - ETA: 1:12 - loss: 0.2276 - accuracy: 0.90 - ETA: 1:12 - loss: 0.2270 - accuracy: 0.90 - ETA: 1:12 - loss: 0.2270 - accuracy: 0.90 - ETA: 1:12 - loss: 0.2275 - accuracy: 0.90 - ETA: 1:12 - loss: 0.2282 - accuracy: 0.90 - ETA: 1:12 - loss: 0.2279 - accuracy: 0.90 - ETA: 1:12 - loss: 0.2291 - accuracy: 0.90 - ETA: 1:12 - loss: 0.2283 - accuracy: 0.90 - ETA: 1:11 - loss: 0.2290 - accuracy: 0.90 - ETA: 1:11 - loss: 0.2273 - accuracy: 0.90 - ETA: 1:11 - loss: 0.2276 - accuracy: 0.90 - ETA: 1:11 - loss: 0.2284 - accuracy: 0.90 - ETA: 1:11 - loss: 0.2285 - accuracy: 0.90 - ETA: 1:11 - loss: 0.2290 - accuracy: 0.90 - ETA: 1:11 - loss: 0.2295 - accuracy: 0.90 - ETA: 1:11 - loss: 0.2298 - accuracy: 0.90 - ETA: 1:10 - loss: 0.2285 - accuracy: 0.90 - ETA: 1:10 - loss: 0.2276 - accuracy: 0.91 - ETA: 1:10 - loss: 0.2278 - accuracy: 0.91 - ETA: 1:10 - loss: 0.2293 - accuracy: 0.90 - ETA: 1:10 - loss: 0.2294 - accuracy: 0.90 - ETA: 1:10 - loss: 0.2300 - accuracy: 0.90 - ETA: 1:10 - loss: 0.2306 - accuracy: 0.90 - ETA: 1:10 - loss: 0.2340 - accuracy: 0.90 - ETA: 1:09 - loss: 0.2341 - accuracy: 0.90 - ETA: 1:09 - loss: 0.2347 - accuracy: 0.90 - ETA: 1:09 - loss: 0.2352 - accuracy: 0.90 - ETA: 1:09 - loss: 0.2359 - accuracy: 0.90 - ETA: 1:09 - loss: 0.2369 - accuracy: 0.90 - ETA: 1:09 - loss: 0.2372 - accuracy: 0.90 - ETA: 1:09 - loss: 0.2371 - accuracy: 0.90 - ETA: 1:09 - loss: 0.2370 - accuracy: 0.90 - ETA: 1:09 - loss: 0.2380 - accuracy: 0.90 - ETA: 1:09 - loss: 0.2371 - accuracy: 0.90 - ETA: 1:09 - loss: 0.2361 - accuracy: 0.90 - ETA: 1:08 - loss: 0.2388 - accuracy: 0.90 - ETA: 1:08 - loss: 0.2393 - accuracy: 0.90 - ETA: 1:08 - loss: 0.2386 - accuracy: 0.90 - ETA: 1:08 - loss: 0.2398 - accuracy: 0.90 - ETA: 1:08 - loss: 0.2387 - accuracy: 0.90 - ETA: 1:08 - loss: 0.2383 - accuracy: 0.90 - ETA: 1:08 - loss: 0.2387 - accuracy: 0.90 - ETA: 1:08 - loss: 0.2383 - accuracy: 0.90 - ETA: 1:08 - loss: 0.2374 - accuracy: 0.90 - ETA: 1:07 - loss: 0.2370 - accuracy: 0.90 - ETA: 1:07 - loss: 0.2362 - accuracy: 0.90 - ETA: 1:07 - loss: 0.2358 - accuracy: 0.90 - ETA: 1:07 - loss: 0.2354 - accuracy: 0.90 - ETA: 1:07 - loss: 0.2353 - accuracy: 0.90 - ETA: 1:07 - loss: 0.2350 - accuracy: 0.90 - ETA: 1:07 - loss: 0.2351 - accuracy: 0.90 - ETA: 1:07 - loss: 0.2342 - accuracy: 0.90 - ETA: 1:07 - loss: 0.2337 - accuracy: 0.90 - ETA: 1:06 - loss: 0.2326 - accuracy: 0.90 - ETA: 1:06 - loss: 0.2335 - accuracy: 0.90 - ETA: 1:06 - loss: 0.2329 - accuracy: 0.90 - ETA: 1:06 - loss: 0.2342 - accuracy: 0.90 - ETA: 1:06 - loss: 0.2333 - accuracy: 0.90 - ETA: 1:06 - loss: 0.2328 - accuracy: 0.90 - ETA: 1:06 - loss: 0.2326 - accuracy: 0.90 - ETA: 1:06 - loss: 0.2328 - accuracy: 0.90 - ETA: 1:06 - loss: 0.2333 - accuracy: 0.90 - ETA: 1:06 - loss: 0.2337 - accuracy: 0.90 - ETA: 1:05 - loss: 0.2329 - accuracy: 0.90 - ETA: 1:05 - loss: 0.2338 - accuracy: 0.90 - ETA: 1:05 - loss: 0.2335 - accuracy: 0.90 - ETA: 1:05 - loss: 0.2332 - accuracy: 0.90 - ETA: 1:05 - loss: 0.2330 - accuracy: 0.90 - ETA: 1:05 - loss: 0.2327 - accuracy: 0.90 - ETA: 1:05 - loss: 0.2329 - accuracy: 0.90 - ETA: 1:05 - loss: 0.2327 - accuracy: 0.90 - ETA: 1:05 - loss: 0.2324 - accuracy: 0.90 - ETA: 1:04 - loss: 0.2318 - accuracy: 0.90 - ETA: 1:04 - loss: 0.2315 - accuracy: 0.90 - ETA: 1:04 - loss: 0.2321 - accuracy: 0.90 - ETA: 1:04 - loss: 0.2319 - accuracy: 0.90 - ETA: 1:04 - loss: 0.2315 - accuracy: 0.90 - ETA: 1:04 - loss: 0.2303 - accuracy: 0.90 - ETA: 1:04 - loss: 0.2300 - accuracy: 0.90 - ETA: 1:04 - loss: 0.2293 - accuracy: 0.90 - ETA: 1:04 - loss: 0.2300 - accuracy: 0.90 - ETA: 1:04 - loss: 0.2311 - accuracy: 0.90 - ETA: 1:03 - loss: 0.2315 - accuracy: 0.90 - ETA: 1:03 - loss: 0.2316 - accuracy: 0.90 - ETA: 1:03 - loss: 0.2318 - accuracy: 0.90 - ETA: 1:03 - loss: 0.2317 - accuracy: 0.90 - ETA: 1:03 - loss: 0.2322 - accuracy: 0.90 - ETA: 1:03 - loss: 0.2325 - accuracy: 0.90 - ETA: 1:03 - loss: 0.2322 - accuracy: 0.90 - ETA: 1:03 - loss: 0.2322 - accuracy: 0.90 - ETA: 1:03 - loss: 0.2318 - accuracy: 0.90 - ETA: 1:03 - loss: 0.2313 - accuracy: 0.90 - ETA: 1:02 - loss: 0.2316 - accuracy: 0.90 - ETA: 1:02 - loss: 0.2312 - accuracy: 0.90 - ETA: 1:02 - loss: 0.2318 - accuracy: 0.90 - ETA: 1:02 - loss: 0.2310 - accuracy: 0.90 - ETA: 1:02 - loss: 0.2311 - accuracy: 0.90 - ETA: 1:02 - loss: 0.2315 - accuracy: 0.9079"
     ]
    },
    {
     "name": "stdout",
     "output_type": "stream",
     "text": [
      "11904/25000 [=============>................] - ETA: 1:02 - loss: 0.2320 - accuracy: 0.90 - ETA: 1:02 - loss: 0.2329 - accuracy: 0.90 - ETA: 1:02 - loss: 0.2323 - accuracy: 0.90 - ETA: 1:02 - loss: 0.2315 - accuracy: 0.90 - ETA: 1:01 - loss: 0.2322 - accuracy: 0.90 - ETA: 1:01 - loss: 0.2319 - accuracy: 0.90 - ETA: 1:01 - loss: 0.2322 - accuracy: 0.90 - ETA: 1:01 - loss: 0.2335 - accuracy: 0.90 - ETA: 1:01 - loss: 0.2334 - accuracy: 0.90 - ETA: 1:01 - loss: 0.2341 - accuracy: 0.90 - ETA: 1:01 - loss: 0.2338 - accuracy: 0.90 - ETA: 1:01 - loss: 0.2335 - accuracy: 0.90 - ETA: 1:00 - loss: 0.2333 - accuracy: 0.90 - ETA: 1:00 - loss: 0.2327 - accuracy: 0.90 - ETA: 1:00 - loss: 0.2329 - accuracy: 0.90 - ETA: 1:00 - loss: 0.2324 - accuracy: 0.90 - ETA: 1:00 - loss: 0.2318 - accuracy: 0.90 - ETA: 1:00 - loss: 0.2329 - accuracy: 0.90 - ETA: 1:00 - loss: 0.2326 - accuracy: 0.90 - ETA: 1:00 - loss: 0.2327 - accuracy: 0.90 - ETA: 1:00 - loss: 0.2329 - accuracy: 0.90 - ETA: 1:00 - loss: 0.2331 - accuracy: 0.90 - ETA: 59s - loss: 0.2333 - accuracy: 0.9071 - ETA: 59s - loss: 0.2329 - accuracy: 0.907 - ETA: 59s - loss: 0.2322 - accuracy: 0.907 - ETA: 59s - loss: 0.2328 - accuracy: 0.907 - ETA: 59s - loss: 0.2334 - accuracy: 0.907 - ETA: 59s - loss: 0.2347 - accuracy: 0.906 - ETA: 59s - loss: 0.2351 - accuracy: 0.906 - ETA: 59s - loss: 0.2350 - accuracy: 0.906 - ETA: 58s - loss: 0.2357 - accuracy: 0.906 - ETA: 58s - loss: 0.2359 - accuracy: 0.906 - ETA: 58s - loss: 0.2364 - accuracy: 0.906 - ETA: 58s - loss: 0.2361 - accuracy: 0.906 - ETA: 58s - loss: 0.2364 - accuracy: 0.906 - ETA: 58s - loss: 0.2364 - accuracy: 0.906 - ETA: 58s - loss: 0.2359 - accuracy: 0.906 - ETA: 58s - loss: 0.2364 - accuracy: 0.906 - ETA: 58s - loss: 0.2362 - accuracy: 0.906 - ETA: 58s - loss: 0.2363 - accuracy: 0.906 - ETA: 57s - loss: 0.2365 - accuracy: 0.906 - ETA: 57s - loss: 0.2360 - accuracy: 0.906 - ETA: 57s - loss: 0.2356 - accuracy: 0.906 - ETA: 57s - loss: 0.2355 - accuracy: 0.906 - ETA: 57s - loss: 0.2354 - accuracy: 0.906 - ETA: 57s - loss: 0.2348 - accuracy: 0.906 - ETA: 57s - loss: 0.2361 - accuracy: 0.906 - ETA: 57s - loss: 0.2356 - accuracy: 0.906 - ETA: 57s - loss: 0.2354 - accuracy: 0.906 - ETA: 57s - loss: 0.2352 - accuracy: 0.906 - ETA: 57s - loss: 0.2360 - accuracy: 0.906 - ETA: 56s - loss: 0.2366 - accuracy: 0.906 - ETA: 56s - loss: 0.2362 - accuracy: 0.906 - ETA: 56s - loss: 0.2371 - accuracy: 0.906 - ETA: 56s - loss: 0.2373 - accuracy: 0.906 - ETA: 56s - loss: 0.2371 - accuracy: 0.906 - ETA: 56s - loss: 0.2370 - accuracy: 0.906 - ETA: 56s - loss: 0.2373 - accuracy: 0.906 - ETA: 56s - loss: 0.2373 - accuracy: 0.905 - ETA: 56s - loss: 0.2371 - accuracy: 0.905 - ETA: 56s - loss: 0.2368 - accuracy: 0.906 - ETA: 55s - loss: 0.2362 - accuracy: 0.906 - ETA: 55s - loss: 0.2368 - accuracy: 0.906 - ETA: 55s - loss: 0.2370 - accuracy: 0.905 - ETA: 55s - loss: 0.2371 - accuracy: 0.905 - ETA: 55s - loss: 0.2376 - accuracy: 0.905 - ETA: 55s - loss: 0.2378 - accuracy: 0.905 - ETA: 55s - loss: 0.2375 - accuracy: 0.905 - ETA: 55s - loss: 0.2377 - accuracy: 0.905 - ETA: 54s - loss: 0.2382 - accuracy: 0.905 - ETA: 54s - loss: 0.2380 - accuracy: 0.905 - ETA: 54s - loss: 0.2380 - accuracy: 0.905 - ETA: 54s - loss: 0.2380 - accuracy: 0.905 - ETA: 54s - loss: 0.2382 - accuracy: 0.905 - ETA: 54s - loss: 0.2381 - accuracy: 0.905 - ETA: 54s - loss: 0.2381 - accuracy: 0.905 - ETA: 54s - loss: 0.2376 - accuracy: 0.905 - ETA: 54s - loss: 0.2375 - accuracy: 0.905 - ETA: 53s - loss: 0.2386 - accuracy: 0.905 - ETA: 53s - loss: 0.2381 - accuracy: 0.905 - ETA: 53s - loss: 0.2376 - accuracy: 0.905 - ETA: 53s - loss: 0.2373 - accuracy: 0.905 - ETA: 53s - loss: 0.2375 - accuracy: 0.905 - ETA: 53s - loss: 0.2373 - accuracy: 0.905 - ETA: 53s - loss: 0.2368 - accuracy: 0.905 - ETA: 53s - loss: 0.2372 - accuracy: 0.905 - ETA: 53s - loss: 0.2370 - accuracy: 0.905 - ETA: 52s - loss: 0.2366 - accuracy: 0.905 - ETA: 52s - loss: 0.2363 - accuracy: 0.906 - ETA: 52s - loss: 0.2367 - accuracy: 0.905 - ETA: 52s - loss: 0.2368 - accuracy: 0.905 - ETA: 52s - loss: 0.2366 - accuracy: 0.905 - ETA: 52s - loss: 0.2366 - accuracy: 0.905 - ETA: 52s - loss: 0.2361 - accuracy: 0.906 - ETA: 52s - loss: 0.2359 - accuracy: 0.906 - ETA: 52s - loss: 0.2358 - accuracy: 0.906 - ETA: 51s - loss: 0.2361 - accuracy: 0.905 - ETA: 51s - loss: 0.2368 - accuracy: 0.905 - ETA: 51s - loss: 0.2366 - accuracy: 0.905 - ETA: 51s - loss: 0.2375 - accuracy: 0.905 - ETA: 51s - loss: 0.2374 - accuracy: 0.905 - ETA: 51s - loss: 0.2375 - accuracy: 0.905 - ETA: 51s - loss: 0.2373 - accuracy: 0.905 - ETA: 51s - loss: 0.2377 - accuracy: 0.905 - ETA: 51s - loss: 0.2373 - accuracy: 0.905 - ETA: 50s - loss: 0.2377 - accuracy: 0.905 - ETA: 50s - loss: 0.2381 - accuracy: 0.905 - ETA: 50s - loss: 0.2389 - accuracy: 0.904 - ETA: 50s - loss: 0.2388 - accuracy: 0.904 - ETA: 50s - loss: 0.2388 - accuracy: 0.904 - ETA: 50s - loss: 0.2389 - accuracy: 0.904 - ETA: 50s - loss: 0.2388 - accuracy: 0.904 - ETA: 50s - loss: 0.2398 - accuracy: 0.904 - ETA: 50s - loss: 0.2404 - accuracy: 0.904 - ETA: 49s - loss: 0.2405 - accuracy: 0.904 - ETA: 49s - loss: 0.2402 - accuracy: 0.903 - ETA: 49s - loss: 0.2399 - accuracy: 0.904 - ETA: 49s - loss: 0.2402 - accuracy: 0.904 - ETA: 49s - loss: 0.2404 - accuracy: 0.903 - ETA: 49s - loss: 0.2407 - accuracy: 0.903 - ETA: 49s - loss: 0.2406 - accuracy: 0.904 - ETA: 49s - loss: 0.2406 - accuracy: 0.904 - ETA: 49s - loss: 0.2406 - accuracy: 0.904 - ETA: 48s - loss: 0.2409 - accuracy: 0.903 - ETA: 48s - loss: 0.2411 - accuracy: 0.903 - ETA: 48s - loss: 0.2408 - accuracy: 0.904 - ETA: 48s - loss: 0.2407 - accuracy: 0.904 - ETA: 48s - loss: 0.2404 - accuracy: 0.904 - ETA: 48s - loss: 0.2408 - accuracy: 0.903 - ETA: 48s - loss: 0.2404 - accuracy: 0.904 - ETA: 48s - loss: 0.2401 - accuracy: 0.904 - ETA: 48s - loss: 0.2405 - accuracy: 0.903 - ETA: 47s - loss: 0.2408 - accuracy: 0.903 - ETA: 47s - loss: 0.2416 - accuracy: 0.903 - ETA: 47s - loss: 0.2416 - accuracy: 0.903 - ETA: 47s - loss: 0.2411 - accuracy: 0.903 - ETA: 47s - loss: 0.2410 - accuracy: 0.903 - ETA: 47s - loss: 0.2410 - accuracy: 0.903 - ETA: 47s - loss: 0.2409 - accuracy: 0.903 - ETA: 47s - loss: 0.2410 - accuracy: 0.903 - ETA: 47s - loss: 0.2414 - accuracy: 0.903 - ETA: 46s - loss: 0.2412 - accuracy: 0.903 - ETA: 46s - loss: 0.2410 - accuracy: 0.903 - ETA: 46s - loss: 0.2409 - accuracy: 0.903 - ETA: 46s - loss: 0.2413 - accuracy: 0.903 - ETA: 46s - loss: 0.2414 - accuracy: 0.903 - ETA: 46s - loss: 0.2416 - accuracy: 0.903 - ETA: 46s - loss: 0.2416 - accuracy: 0.903 - ETA: 46s - loss: 0.2416 - accuracy: 0.903 - ETA: 46s - loss: 0.2415 - accuracy: 0.903 - ETA: 45s - loss: 0.2415 - accuracy: 0.903 - ETA: 45s - loss: 0.2423 - accuracy: 0.902 - ETA: 45s - loss: 0.2421 - accuracy: 0.902 - ETA: 45s - loss: 0.2419 - accuracy: 0.903 - ETA: 45s - loss: 0.2418 - accuracy: 0.903 - ETA: 45s - loss: 0.2414 - accuracy: 0.903 - ETA: 45s - loss: 0.2413 - accuracy: 0.903 - ETA: 45s - loss: 0.2410 - accuracy: 0.903 - ETA: 45s - loss: 0.2412 - accuracy: 0.903 - ETA: 45s - loss: 0.2412 - accuracy: 0.903 - ETA: 44s - loss: 0.2412 - accuracy: 0.903 - ETA: 44s - loss: 0.2412 - accuracy: 0.903 - ETA: 44s - loss: 0.2408 - accuracy: 0.903 - ETA: 44s - loss: 0.2412 - accuracy: 0.903 - ETA: 44s - loss: 0.2410 - accuracy: 0.903 - ETA: 44s - loss: 0.2407 - accuracy: 0.903 - ETA: 44s - loss: 0.2406 - accuracy: 0.903 - ETA: 44s - loss: 0.2417 - accuracy: 0.903 - ETA: 44s - loss: 0.2417 - accuracy: 0.903 - ETA: 43s - loss: 0.2420 - accuracy: 0.903 - ETA: 43s - loss: 0.2418 - accuracy: 0.903 - ETA: 43s - loss: 0.2416 - accuracy: 0.903 - ETA: 43s - loss: 0.2414 - accuracy: 0.903 - ETA: 43s - loss: 0.2416 - accuracy: 0.903 - ETA: 43s - loss: 0.2415 - accuracy: 0.903 - ETA: 43s - loss: 0.2414 - accuracy: 0.903 - ETA: 43s - loss: 0.2414 - accuracy: 0.903 - ETA: 43s - loss: 0.2416 - accuracy: 0.903 - ETA: 42s - loss: 0.2413 - accuracy: 0.903 - ETA: 42s - loss: 0.2414 - accuracy: 0.903 - ETA: 42s - loss: 0.2410 - accuracy: 0.903 - ETA: 42s - loss: 0.2409 - accuracy: 0.903 - ETA: 42s - loss: 0.2408 - accuracy: 0.903 - ETA: 42s - loss: 0.2412 - accuracy: 0.903 - ETA: 42s - loss: 0.2408 - accuracy: 0.903 - ETA: 42s - loss: 0.2418 - accuracy: 0.9031"
     ]
    },
    {
     "name": "stdout",
     "output_type": "stream",
     "text": [
      "17856/25000 [====================>.........] - ETA: 42s - loss: 0.2417 - accuracy: 0.903 - ETA: 41s - loss: 0.2415 - accuracy: 0.903 - ETA: 41s - loss: 0.2416 - accuracy: 0.903 - ETA: 41s - loss: 0.2416 - accuracy: 0.903 - ETA: 41s - loss: 0.2415 - accuracy: 0.903 - ETA: 41s - loss: 0.2416 - accuracy: 0.903 - ETA: 41s - loss: 0.2417 - accuracy: 0.902 - ETA: 41s - loss: 0.2420 - accuracy: 0.902 - ETA: 41s - loss: 0.2421 - accuracy: 0.902 - ETA: 41s - loss: 0.2421 - accuracy: 0.902 - ETA: 41s - loss: 0.2422 - accuracy: 0.902 - ETA: 40s - loss: 0.2422 - accuracy: 0.902 - ETA: 40s - loss: 0.2423 - accuracy: 0.902 - ETA: 40s - loss: 0.2422 - accuracy: 0.902 - ETA: 40s - loss: 0.2423 - accuracy: 0.902 - ETA: 40s - loss: 0.2427 - accuracy: 0.902 - ETA: 40s - loss: 0.2426 - accuracy: 0.902 - ETA: 40s - loss: 0.2427 - accuracy: 0.902 - ETA: 40s - loss: 0.2425 - accuracy: 0.902 - ETA: 40s - loss: 0.2427 - accuracy: 0.902 - ETA: 39s - loss: 0.2427 - accuracy: 0.902 - ETA: 39s - loss: 0.2426 - accuracy: 0.902 - ETA: 39s - loss: 0.2432 - accuracy: 0.902 - ETA: 39s - loss: 0.2437 - accuracy: 0.902 - ETA: 39s - loss: 0.2439 - accuracy: 0.901 - ETA: 39s - loss: 0.2437 - accuracy: 0.901 - ETA: 39s - loss: 0.2435 - accuracy: 0.902 - ETA: 39s - loss: 0.2434 - accuracy: 0.902 - ETA: 39s - loss: 0.2433 - accuracy: 0.902 - ETA: 39s - loss: 0.2434 - accuracy: 0.901 - ETA: 38s - loss: 0.2439 - accuracy: 0.901 - ETA: 38s - loss: 0.2439 - accuracy: 0.901 - ETA: 38s - loss: 0.2438 - accuracy: 0.901 - ETA: 38s - loss: 0.2443 - accuracy: 0.901 - ETA: 38s - loss: 0.2451 - accuracy: 0.901 - ETA: 38s - loss: 0.2449 - accuracy: 0.901 - ETA: 38s - loss: 0.2447 - accuracy: 0.901 - ETA: 38s - loss: 0.2447 - accuracy: 0.901 - ETA: 38s - loss: 0.2446 - accuracy: 0.901 - ETA: 38s - loss: 0.2448 - accuracy: 0.901 - ETA: 37s - loss: 0.2448 - accuracy: 0.901 - ETA: 37s - loss: 0.2451 - accuracy: 0.901 - ETA: 37s - loss: 0.2449 - accuracy: 0.901 - ETA: 37s - loss: 0.2449 - accuracy: 0.901 - ETA: 37s - loss: 0.2450 - accuracy: 0.900 - ETA: 37s - loss: 0.2452 - accuracy: 0.900 - ETA: 37s - loss: 0.2452 - accuracy: 0.900 - ETA: 37s - loss: 0.2451 - accuracy: 0.900 - ETA: 37s - loss: 0.2455 - accuracy: 0.900 - ETA: 36s - loss: 0.2454 - accuracy: 0.900 - ETA: 36s - loss: 0.2455 - accuracy: 0.900 - ETA: 36s - loss: 0.2453 - accuracy: 0.900 - ETA: 36s - loss: 0.2453 - accuracy: 0.900 - ETA: 36s - loss: 0.2456 - accuracy: 0.900 - ETA: 36s - loss: 0.2456 - accuracy: 0.900 - ETA: 36s - loss: 0.2459 - accuracy: 0.900 - ETA: 36s - loss: 0.2458 - accuracy: 0.900 - ETA: 36s - loss: 0.2461 - accuracy: 0.900 - ETA: 35s - loss: 0.2462 - accuracy: 0.900 - ETA: 35s - loss: 0.2459 - accuracy: 0.900 - ETA: 35s - loss: 0.2457 - accuracy: 0.900 - ETA: 35s - loss: 0.2457 - accuracy: 0.900 - ETA: 35s - loss: 0.2455 - accuracy: 0.900 - ETA: 35s - loss: 0.2456 - accuracy: 0.900 - ETA: 35s - loss: 0.2457 - accuracy: 0.900 - ETA: 35s - loss: 0.2457 - accuracy: 0.900 - ETA: 35s - loss: 0.2460 - accuracy: 0.900 - ETA: 35s - loss: 0.2458 - accuracy: 0.900 - ETA: 34s - loss: 0.2461 - accuracy: 0.900 - ETA: 34s - loss: 0.2460 - accuracy: 0.900 - ETA: 34s - loss: 0.2461 - accuracy: 0.900 - ETA: 34s - loss: 0.2459 - accuracy: 0.900 - ETA: 34s - loss: 0.2460 - accuracy: 0.900 - ETA: 34s - loss: 0.2461 - accuracy: 0.900 - ETA: 34s - loss: 0.2461 - accuracy: 0.900 - ETA: 34s - loss: 0.2461 - accuracy: 0.900 - ETA: 34s - loss: 0.2461 - accuracy: 0.900 - ETA: 33s - loss: 0.2462 - accuracy: 0.900 - ETA: 33s - loss: 0.2465 - accuracy: 0.900 - ETA: 33s - loss: 0.2469 - accuracy: 0.900 - ETA: 33s - loss: 0.2469 - accuracy: 0.899 - ETA: 33s - loss: 0.2468 - accuracy: 0.900 - ETA: 33s - loss: 0.2475 - accuracy: 0.899 - ETA: 33s - loss: 0.2474 - accuracy: 0.899 - ETA: 33s - loss: 0.2477 - accuracy: 0.899 - ETA: 33s - loss: 0.2480 - accuracy: 0.899 - ETA: 33s - loss: 0.2481 - accuracy: 0.899 - ETA: 32s - loss: 0.2481 - accuracy: 0.899 - ETA: 32s - loss: 0.2479 - accuracy: 0.899 - ETA: 32s - loss: 0.2478 - accuracy: 0.899 - ETA: 32s - loss: 0.2480 - accuracy: 0.899 - ETA: 32s - loss: 0.2482 - accuracy: 0.899 - ETA: 32s - loss: 0.2483 - accuracy: 0.899 - ETA: 32s - loss: 0.2483 - accuracy: 0.899 - ETA: 32s - loss: 0.2482 - accuracy: 0.899 - ETA: 32s - loss: 0.2484 - accuracy: 0.899 - ETA: 31s - loss: 0.2486 - accuracy: 0.899 - ETA: 31s - loss: 0.2486 - accuracy: 0.899 - ETA: 31s - loss: 0.2484 - accuracy: 0.899 - ETA: 31s - loss: 0.2489 - accuracy: 0.899 - ETA: 31s - loss: 0.2492 - accuracy: 0.898 - ETA: 31s - loss: 0.2493 - accuracy: 0.898 - ETA: 31s - loss: 0.2492 - accuracy: 0.898 - ETA: 31s - loss: 0.2494 - accuracy: 0.898 - ETA: 31s - loss: 0.2492 - accuracy: 0.898 - ETA: 31s - loss: 0.2495 - accuracy: 0.898 - ETA: 30s - loss: 0.2492 - accuracy: 0.898 - ETA: 30s - loss: 0.2496 - accuracy: 0.898 - ETA: 30s - loss: 0.2495 - accuracy: 0.898 - ETA: 30s - loss: 0.2495 - accuracy: 0.898 - ETA: 30s - loss: 0.2497 - accuracy: 0.898 - ETA: 30s - loss: 0.2494 - accuracy: 0.898 - ETA: 30s - loss: 0.2492 - accuracy: 0.898 - ETA: 30s - loss: 0.2497 - accuracy: 0.898 - ETA: 30s - loss: 0.2498 - accuracy: 0.898 - ETA: 29s - loss: 0.2502 - accuracy: 0.898 - ETA: 29s - loss: 0.2500 - accuracy: 0.898 - ETA: 29s - loss: 0.2505 - accuracy: 0.898 - ETA: 29s - loss: 0.2504 - accuracy: 0.898 - ETA: 29s - loss: 0.2506 - accuracy: 0.898 - ETA: 29s - loss: 0.2508 - accuracy: 0.898 - ETA: 29s - loss: 0.2507 - accuracy: 0.898 - ETA: 29s - loss: 0.2509 - accuracy: 0.898 - ETA: 29s - loss: 0.2512 - accuracy: 0.898 - ETA: 29s - loss: 0.2510 - accuracy: 0.898 - ETA: 28s - loss: 0.2508 - accuracy: 0.898 - ETA: 28s - loss: 0.2511 - accuracy: 0.898 - ETA: 28s - loss: 0.2515 - accuracy: 0.898 - ETA: 28s - loss: 0.2519 - accuracy: 0.897 - ETA: 28s - loss: 0.2517 - accuracy: 0.898 - ETA: 28s - loss: 0.2518 - accuracy: 0.898 - ETA: 28s - loss: 0.2518 - accuracy: 0.898 - ETA: 28s - loss: 0.2516 - accuracy: 0.898 - ETA: 28s - loss: 0.2518 - accuracy: 0.898 - ETA: 28s - loss: 0.2519 - accuracy: 0.898 - ETA: 27s - loss: 0.2520 - accuracy: 0.898 - ETA: 27s - loss: 0.2520 - accuracy: 0.898 - ETA: 27s - loss: 0.2518 - accuracy: 0.898 - ETA: 27s - loss: 0.2517 - accuracy: 0.898 - ETA: 27s - loss: 0.2513 - accuracy: 0.898 - ETA: 27s - loss: 0.2516 - accuracy: 0.898 - ETA: 27s - loss: 0.2515 - accuracy: 0.898 - ETA: 27s - loss: 0.2512 - accuracy: 0.898 - ETA: 27s - loss: 0.2512 - accuracy: 0.898 - ETA: 26s - loss: 0.2513 - accuracy: 0.898 - ETA: 26s - loss: 0.2520 - accuracy: 0.898 - ETA: 26s - loss: 0.2523 - accuracy: 0.898 - ETA: 26s - loss: 0.2524 - accuracy: 0.898 - ETA: 26s - loss: 0.2525 - accuracy: 0.897 - ETA: 26s - loss: 0.2525 - accuracy: 0.897 - ETA: 26s - loss: 0.2526 - accuracy: 0.897 - ETA: 26s - loss: 0.2528 - accuracy: 0.897 - ETA: 26s - loss: 0.2527 - accuracy: 0.897 - ETA: 26s - loss: 0.2529 - accuracy: 0.897 - ETA: 25s - loss: 0.2531 - accuracy: 0.897 - ETA: 25s - loss: 0.2532 - accuracy: 0.897 - ETA: 25s - loss: 0.2534 - accuracy: 0.897 - ETA: 25s - loss: 0.2536 - accuracy: 0.897 - ETA: 25s - loss: 0.2538 - accuracy: 0.897 - ETA: 25s - loss: 0.2539 - accuracy: 0.897 - ETA: 25s - loss: 0.2539 - accuracy: 0.897 - ETA: 25s - loss: 0.2539 - accuracy: 0.897 - ETA: 25s - loss: 0.2538 - accuracy: 0.897 - ETA: 25s - loss: 0.2539 - accuracy: 0.897 - ETA: 24s - loss: 0.2539 - accuracy: 0.897 - ETA: 24s - loss: 0.2540 - accuracy: 0.897 - ETA: 24s - loss: 0.2540 - accuracy: 0.897 - ETA: 24s - loss: 0.2539 - accuracy: 0.897 - ETA: 24s - loss: 0.2538 - accuracy: 0.897 - ETA: 24s - loss: 0.2538 - accuracy: 0.897 - ETA: 24s - loss: 0.2538 - accuracy: 0.897 - ETA: 24s - loss: 0.2540 - accuracy: 0.896 - ETA: 24s - loss: 0.2543 - accuracy: 0.896 - ETA: 23s - loss: 0.2545 - accuracy: 0.896 - ETA: 23s - loss: 0.2545 - accuracy: 0.896 - ETA: 23s - loss: 0.2545 - accuracy: 0.896 - ETA: 23s - loss: 0.2543 - accuracy: 0.896 - ETA: 23s - loss: 0.2542 - accuracy: 0.896 - ETA: 23s - loss: 0.2541 - accuracy: 0.896 - ETA: 23s - loss: 0.2545 - accuracy: 0.896 - ETA: 23s - loss: 0.2542 - accuracy: 0.896 - ETA: 23s - loss: 0.2542 - accuracy: 0.896 - ETA: 23s - loss: 0.2545 - accuracy: 0.896 - ETA: 22s - loss: 0.2546 - accuracy: 0.896 - ETA: 22s - loss: 0.2545 - accuracy: 0.896 - ETA: 22s - loss: 0.2544 - accuracy: 0.8966"
     ]
    },
    {
     "name": "stdout",
     "output_type": "stream",
     "text": [
      "23904/25000 [===========================>..] - ETA: 22s - loss: 0.2544 - accuracy: 0.896 - ETA: 22s - loss: 0.2545 - accuracy: 0.896 - ETA: 22s - loss: 0.2544 - accuracy: 0.896 - ETA: 22s - loss: 0.2545 - accuracy: 0.896 - ETA: 22s - loss: 0.2545 - accuracy: 0.896 - ETA: 22s - loss: 0.2551 - accuracy: 0.895 - ETA: 22s - loss: 0.2549 - accuracy: 0.895 - ETA: 21s - loss: 0.2551 - accuracy: 0.895 - ETA: 21s - loss: 0.2549 - accuracy: 0.895 - ETA: 21s - loss: 0.2547 - accuracy: 0.895 - ETA: 21s - loss: 0.2545 - accuracy: 0.896 - ETA: 21s - loss: 0.2544 - accuracy: 0.896 - ETA: 21s - loss: 0.2546 - accuracy: 0.896 - ETA: 21s - loss: 0.2546 - accuracy: 0.896 - ETA: 21s - loss: 0.2546 - accuracy: 0.896 - ETA: 21s - loss: 0.2548 - accuracy: 0.895 - ETA: 21s - loss: 0.2553 - accuracy: 0.895 - ETA: 20s - loss: 0.2552 - accuracy: 0.895 - ETA: 20s - loss: 0.2552 - accuracy: 0.895 - ETA: 20s - loss: 0.2552 - accuracy: 0.895 - ETA: 20s - loss: 0.2551 - accuracy: 0.895 - ETA: 20s - loss: 0.2548 - accuracy: 0.896 - ETA: 20s - loss: 0.2550 - accuracy: 0.895 - ETA: 20s - loss: 0.2549 - accuracy: 0.895 - ETA: 20s - loss: 0.2551 - accuracy: 0.895 - ETA: 20s - loss: 0.2553 - accuracy: 0.895 - ETA: 20s - loss: 0.2557 - accuracy: 0.895 - ETA: 19s - loss: 0.2555 - accuracy: 0.895 - ETA: 19s - loss: 0.2556 - accuracy: 0.895 - ETA: 19s - loss: 0.2558 - accuracy: 0.895 - ETA: 19s - loss: 0.2557 - accuracy: 0.895 - ETA: 19s - loss: 0.2556 - accuracy: 0.895 - ETA: 19s - loss: 0.2555 - accuracy: 0.895 - ETA: 19s - loss: 0.2554 - accuracy: 0.895 - ETA: 19s - loss: 0.2554 - accuracy: 0.895 - ETA: 19s - loss: 0.2554 - accuracy: 0.895 - ETA: 18s - loss: 0.2555 - accuracy: 0.895 - ETA: 18s - loss: 0.2553 - accuracy: 0.895 - ETA: 18s - loss: 0.2552 - accuracy: 0.895 - ETA: 18s - loss: 0.2551 - accuracy: 0.896 - ETA: 18s - loss: 0.2552 - accuracy: 0.895 - ETA: 18s - loss: 0.2554 - accuracy: 0.895 - ETA: 18s - loss: 0.2553 - accuracy: 0.895 - ETA: 18s - loss: 0.2553 - accuracy: 0.895 - ETA: 18s - loss: 0.2553 - accuracy: 0.895 - ETA: 18s - loss: 0.2555 - accuracy: 0.895 - ETA: 17s - loss: 0.2558 - accuracy: 0.895 - ETA: 17s - loss: 0.2558 - accuracy: 0.895 - ETA: 17s - loss: 0.2557 - accuracy: 0.895 - ETA: 17s - loss: 0.2556 - accuracy: 0.895 - ETA: 17s - loss: 0.2557 - accuracy: 0.895 - ETA: 17s - loss: 0.2555 - accuracy: 0.895 - ETA: 17s - loss: 0.2555 - accuracy: 0.895 - ETA: 17s - loss: 0.2552 - accuracy: 0.896 - ETA: 17s - loss: 0.2554 - accuracy: 0.896 - ETA: 17s - loss: 0.2559 - accuracy: 0.895 - ETA: 16s - loss: 0.2559 - accuracy: 0.895 - ETA: 16s - loss: 0.2559 - accuracy: 0.895 - ETA: 16s - loss: 0.2561 - accuracy: 0.895 - ETA: 16s - loss: 0.2559 - accuracy: 0.895 - ETA: 16s - loss: 0.2559 - accuracy: 0.895 - ETA: 16s - loss: 0.2562 - accuracy: 0.895 - ETA: 16s - loss: 0.2561 - accuracy: 0.895 - ETA: 16s - loss: 0.2563 - accuracy: 0.895 - ETA: 16s - loss: 0.2566 - accuracy: 0.895 - ETA: 15s - loss: 0.2565 - accuracy: 0.895 - ETA: 15s - loss: 0.2563 - accuracy: 0.895 - ETA: 15s - loss: 0.2561 - accuracy: 0.895 - ETA: 15s - loss: 0.2564 - accuracy: 0.895 - ETA: 15s - loss: 0.2565 - accuracy: 0.895 - ETA: 15s - loss: 0.2566 - accuracy: 0.895 - ETA: 15s - loss: 0.2565 - accuracy: 0.895 - ETA: 15s - loss: 0.2564 - accuracy: 0.895 - ETA: 15s - loss: 0.2565 - accuracy: 0.895 - ETA: 15s - loss: 0.2567 - accuracy: 0.895 - ETA: 14s - loss: 0.2567 - accuracy: 0.895 - ETA: 14s - loss: 0.2568 - accuracy: 0.895 - ETA: 14s - loss: 0.2570 - accuracy: 0.895 - ETA: 14s - loss: 0.2574 - accuracy: 0.894 - ETA: 14s - loss: 0.2573 - accuracy: 0.894 - ETA: 14s - loss: 0.2574 - accuracy: 0.894 - ETA: 14s - loss: 0.2572 - accuracy: 0.895 - ETA: 14s - loss: 0.2575 - accuracy: 0.894 - ETA: 14s - loss: 0.2578 - accuracy: 0.894 - ETA: 14s - loss: 0.2578 - accuracy: 0.894 - ETA: 13s - loss: 0.2579 - accuracy: 0.894 - ETA: 13s - loss: 0.2581 - accuracy: 0.894 - ETA: 13s - loss: 0.2582 - accuracy: 0.894 - ETA: 13s - loss: 0.2582 - accuracy: 0.894 - ETA: 13s - loss: 0.2583 - accuracy: 0.894 - ETA: 13s - loss: 0.2585 - accuracy: 0.894 - ETA: 13s - loss: 0.2585 - accuracy: 0.894 - ETA: 13s - loss: 0.2584 - accuracy: 0.894 - ETA: 13s - loss: 0.2582 - accuracy: 0.894 - ETA: 13s - loss: 0.2582 - accuracy: 0.894 - ETA: 12s - loss: 0.2582 - accuracy: 0.894 - ETA: 12s - loss: 0.2581 - accuracy: 0.894 - ETA: 12s - loss: 0.2582 - accuracy: 0.894 - ETA: 12s - loss: 0.2583 - accuracy: 0.894 - ETA: 12s - loss: 0.2580 - accuracy: 0.894 - ETA: 12s - loss: 0.2581 - accuracy: 0.894 - ETA: 12s - loss: 0.2579 - accuracy: 0.894 - ETA: 12s - loss: 0.2578 - accuracy: 0.894 - ETA: 12s - loss: 0.2578 - accuracy: 0.894 - ETA: 12s - loss: 0.2577 - accuracy: 0.894 - ETA: 11s - loss: 0.2576 - accuracy: 0.894 - ETA: 11s - loss: 0.2575 - accuracy: 0.894 - ETA: 11s - loss: 0.2575 - accuracy: 0.894 - ETA: 11s - loss: 0.2576 - accuracy: 0.894 - ETA: 11s - loss: 0.2575 - accuracy: 0.894 - ETA: 11s - loss: 0.2574 - accuracy: 0.894 - ETA: 11s - loss: 0.2575 - accuracy: 0.894 - ETA: 11s - loss: 0.2576 - accuracy: 0.894 - ETA: 11s - loss: 0.2577 - accuracy: 0.894 - ETA: 10s - loss: 0.2576 - accuracy: 0.894 - ETA: 10s - loss: 0.2575 - accuracy: 0.894 - ETA: 10s - loss: 0.2575 - accuracy: 0.894 - ETA: 10s - loss: 0.2574 - accuracy: 0.894 - ETA: 10s - loss: 0.2577 - accuracy: 0.894 - ETA: 10s - loss: 0.2575 - accuracy: 0.894 - ETA: 10s - loss: 0.2574 - accuracy: 0.894 - ETA: 10s - loss: 0.2578 - accuracy: 0.894 - ETA: 10s - loss: 0.2576 - accuracy: 0.894 - ETA: 10s - loss: 0.2576 - accuracy: 0.894 - ETA: 9s - loss: 0.2578 - accuracy: 0.894 - ETA: 9s - loss: 0.2575 - accuracy: 0.89 - ETA: 9s - loss: 0.2574 - accuracy: 0.89 - ETA: 9s - loss: 0.2572 - accuracy: 0.89 - ETA: 9s - loss: 0.2570 - accuracy: 0.89 - ETA: 9s - loss: 0.2568 - accuracy: 0.89 - ETA: 9s - loss: 0.2571 - accuracy: 0.89 - ETA: 9s - loss: 0.2571 - accuracy: 0.89 - ETA: 9s - loss: 0.2570 - accuracy: 0.89 - ETA: 9s - loss: 0.2570 - accuracy: 0.89 - ETA: 8s - loss: 0.2571 - accuracy: 0.89 - ETA: 8s - loss: 0.2573 - accuracy: 0.89 - ETA: 8s - loss: 0.2573 - accuracy: 0.89 - ETA: 8s - loss: 0.2572 - accuracy: 0.89 - ETA: 8s - loss: 0.2571 - accuracy: 0.89 - ETA: 8s - loss: 0.2571 - accuracy: 0.89 - ETA: 8s - loss: 0.2570 - accuracy: 0.89 - ETA: 8s - loss: 0.2573 - accuracy: 0.89 - ETA: 8s - loss: 0.2573 - accuracy: 0.89 - ETA: 8s - loss: 0.2574 - accuracy: 0.89 - ETA: 7s - loss: 0.2575 - accuracy: 0.89 - ETA: 7s - loss: 0.2575 - accuracy: 0.89 - ETA: 7s - loss: 0.2577 - accuracy: 0.89 - ETA: 7s - loss: 0.2579 - accuracy: 0.89 - ETA: 7s - loss: 0.2577 - accuracy: 0.89 - ETA: 7s - loss: 0.2577 - accuracy: 0.89 - ETA: 7s - loss: 0.2575 - accuracy: 0.89 - ETA: 7s - loss: 0.2574 - accuracy: 0.89 - ETA: 7s - loss: 0.2573 - accuracy: 0.89 - ETA: 7s - loss: 0.2573 - accuracy: 0.89 - ETA: 6s - loss: 0.2573 - accuracy: 0.89 - ETA: 6s - loss: 0.2574 - accuracy: 0.89 - ETA: 6s - loss: 0.2573 - accuracy: 0.89 - ETA: 6s - loss: 0.2577 - accuracy: 0.89 - ETA: 6s - loss: 0.2576 - accuracy: 0.89 - ETA: 6s - loss: 0.2579 - accuracy: 0.89 - ETA: 6s - loss: 0.2578 - accuracy: 0.89 - ETA: 6s - loss: 0.2580 - accuracy: 0.89 - ETA: 6s - loss: 0.2578 - accuracy: 0.89 - ETA: 6s - loss: 0.2579 - accuracy: 0.89 - ETA: 5s - loss: 0.2580 - accuracy: 0.89 - ETA: 5s - loss: 0.2581 - accuracy: 0.89 - ETA: 5s - loss: 0.2580 - accuracy: 0.89 - ETA: 5s - loss: 0.2578 - accuracy: 0.89 - ETA: 5s - loss: 0.2582 - accuracy: 0.89 - ETA: 5s - loss: 0.2582 - accuracy: 0.89 - ETA: 5s - loss: 0.2583 - accuracy: 0.89 - ETA: 5s - loss: 0.2585 - accuracy: 0.89 - ETA: 5s - loss: 0.2585 - accuracy: 0.89 - ETA: 5s - loss: 0.2586 - accuracy: 0.89 - ETA: 4s - loss: 0.2586 - accuracy: 0.89 - ETA: 4s - loss: 0.2584 - accuracy: 0.89 - ETA: 4s - loss: 0.2587 - accuracy: 0.89 - ETA: 4s - loss: 0.2587 - accuracy: 0.89 - ETA: 4s - loss: 0.2586 - accuracy: 0.89 - ETA: 4s - loss: 0.2585 - accuracy: 0.89 - ETA: 4s - loss: 0.2584 - accuracy: 0.89 - ETA: 4s - loss: 0.2587 - accuracy: 0.89 - ETA: 4s - loss: 0.2588 - accuracy: 0.89 - ETA: 3s - loss: 0.2588 - accuracy: 0.89 - ETA: 3s - loss: 0.2587 - accuracy: 0.89 - ETA: 3s - loss: 0.2586 - accuracy: 0.89 - ETA: 3s - loss: 0.2586 - accuracy: 0.89 - ETA: 3s - loss: 0.2589 - accuracy: 0.89 - ETA: 3s - loss: 0.2589 - accuracy: 0.8941"
     ]
    },
    {
     "name": "stdout",
     "output_type": "stream",
     "text": [
      "25000/25000 [==============================] - ETA: 3s - loss: 0.2590 - accuracy: 0.89 - ETA: 3s - loss: 0.2591 - accuracy: 0.89 - ETA: 3s - loss: 0.2591 - accuracy: 0.89 - ETA: 3s - loss: 0.2592 - accuracy: 0.89 - ETA: 2s - loss: 0.2594 - accuracy: 0.89 - ETA: 2s - loss: 0.2596 - accuracy: 0.89 - ETA: 2s - loss: 0.2595 - accuracy: 0.89 - ETA: 2s - loss: 0.2594 - accuracy: 0.89 - ETA: 2s - loss: 0.2596 - accuracy: 0.89 - ETA: 2s - loss: 0.2596 - accuracy: 0.89 - ETA: 2s - loss: 0.2598 - accuracy: 0.89 - ETA: 2s - loss: 0.2597 - accuracy: 0.89 - ETA: 2s - loss: 0.2597 - accuracy: 0.89 - ETA: 2s - loss: 0.2598 - accuracy: 0.89 - ETA: 1s - loss: 0.2597 - accuracy: 0.89 - ETA: 1s - loss: 0.2597 - accuracy: 0.89 - ETA: 1s - loss: 0.2597 - accuracy: 0.89 - ETA: 1s - loss: 0.2599 - accuracy: 0.89 - ETA: 1s - loss: 0.2599 - accuracy: 0.89 - ETA: 1s - loss: 0.2600 - accuracy: 0.89 - ETA: 1s - loss: 0.2601 - accuracy: 0.89 - ETA: 1s - loss: 0.2601 - accuracy: 0.89 - ETA: 1s - loss: 0.2600 - accuracy: 0.89 - ETA: 1s - loss: 0.2599 - accuracy: 0.89 - ETA: 0s - loss: 0.2599 - accuracy: 0.89 - ETA: 0s - loss: 0.2601 - accuracy: 0.89 - ETA: 0s - loss: 0.2602 - accuracy: 0.89 - ETA: 0s - loss: 0.2603 - accuracy: 0.89 - ETA: 0s - loss: 0.2604 - accuracy: 0.89 - ETA: 0s - loss: 0.2602 - accuracy: 0.89 - ETA: 0s - loss: 0.2603 - accuracy: 0.89 - ETA: 0s - loss: 0.2603 - accuracy: 0.89 - ETA: 0s - loss: 0.2601 - accuracy: 0.89 - ETA: 0s - loss: 0.2603 - accuracy: 0.89 - 80s 3ms/sample - loss: 0.2603 - accuracy: 0.8928\n",
      "Epoch 4/5\n"
     ]
    },
    {
     "name": "stdout",
     "output_type": "stream",
     "text": [
      " 5952/25000 [======>.......................] - ETA: 1:17 - loss: 0.0954 - accuracy: 1.00 - ETA: 1:15 - loss: 0.1617 - accuracy: 0.93 - ETA: 1:13 - loss: 0.1499 - accuracy: 0.94 - ETA: 1:13 - loss: 0.1480 - accuracy: 0.95 - ETA: 1:15 - loss: 0.1300 - accuracy: 0.96 - ETA: 1:15 - loss: 0.1231 - accuracy: 0.96 - ETA: 1:14 - loss: 0.1220 - accuracy: 0.96 - ETA: 1:14 - loss: 0.1279 - accuracy: 0.96 - ETA: 1:14 - loss: 0.1399 - accuracy: 0.95 - ETA: 1:14 - loss: 0.1386 - accuracy: 0.94 - ETA: 1:14 - loss: 0.1364 - accuracy: 0.94 - ETA: 1:14 - loss: 0.1327 - accuracy: 0.95 - ETA: 1:13 - loss: 0.1416 - accuracy: 0.94 - ETA: 1:13 - loss: 0.1438 - accuracy: 0.94 - ETA: 1:13 - loss: 0.1480 - accuracy: 0.95 - ETA: 1:14 - loss: 0.1475 - accuracy: 0.95 - ETA: 1:15 - loss: 0.1498 - accuracy: 0.94 - ETA: 1:15 - loss: 0.1530 - accuracy: 0.94 - ETA: 1:14 - loss: 0.1579 - accuracy: 0.94 - ETA: 1:14 - loss: 0.1530 - accuracy: 0.94 - ETA: 1:15 - loss: 0.1562 - accuracy: 0.94 - ETA: 1:15 - loss: 0.1513 - accuracy: 0.94 - ETA: 1:15 - loss: 0.1558 - accuracy: 0.94 - ETA: 1:15 - loss: 0.1560 - accuracy: 0.94 - ETA: 1:15 - loss: 0.1548 - accuracy: 0.94 - ETA: 1:15 - loss: 0.1541 - accuracy: 0.94 - ETA: 1:15 - loss: 0.1503 - accuracy: 0.94 - ETA: 1:16 - loss: 0.1502 - accuracy: 0.94 - ETA: 1:15 - loss: 0.1475 - accuracy: 0.94 - ETA: 1:15 - loss: 0.1450 - accuracy: 0.94 - ETA: 1:15 - loss: 0.1442 - accuracy: 0.94 - ETA: 1:15 - loss: 0.1459 - accuracy: 0.94 - ETA: 1:15 - loss: 0.1433 - accuracy: 0.94 - ETA: 1:15 - loss: 0.1466 - accuracy: 0.94 - ETA: 1:15 - loss: 0.1470 - accuracy: 0.94 - ETA: 1:15 - loss: 0.1547 - accuracy: 0.94 - ETA: 1:15 - loss: 0.1591 - accuracy: 0.94 - ETA: 1:15 - loss: 0.1625 - accuracy: 0.94 - ETA: 1:15 - loss: 0.1597 - accuracy: 0.94 - ETA: 1:15 - loss: 0.1583 - accuracy: 0.94 - ETA: 1:15 - loss: 0.1612 - accuracy: 0.94 - ETA: 1:15 - loss: 0.1623 - accuracy: 0.94 - ETA: 1:15 - loss: 0.1637 - accuracy: 0.94 - ETA: 1:15 - loss: 0.1630 - accuracy: 0.94 - ETA: 1:15 - loss: 0.1616 - accuracy: 0.94 - ETA: 1:15 - loss: 0.1602 - accuracy: 0.94 - ETA: 1:15 - loss: 0.1613 - accuracy: 0.94 - ETA: 1:15 - loss: 0.1608 - accuracy: 0.94 - ETA: 1:15 - loss: 0.1620 - accuracy: 0.94 - ETA: 1:15 - loss: 0.1618 - accuracy: 0.94 - ETA: 1:15 - loss: 0.1598 - accuracy: 0.94 - ETA: 1:15 - loss: 0.1611 - accuracy: 0.94 - ETA: 1:15 - loss: 0.1604 - accuracy: 0.94 - ETA: 1:14 - loss: 0.1629 - accuracy: 0.94 - ETA: 1:14 - loss: 0.1611 - accuracy: 0.94 - ETA: 1:14 - loss: 0.1602 - accuracy: 0.94 - ETA: 1:14 - loss: 0.1598 - accuracy: 0.94 - ETA: 1:14 - loss: 0.1604 - accuracy: 0.94 - ETA: 1:13 - loss: 0.1615 - accuracy: 0.94 - ETA: 1:13 - loss: 0.1596 - accuracy: 0.94 - ETA: 1:13 - loss: 0.1617 - accuracy: 0.94 - ETA: 1:13 - loss: 0.1621 - accuracy: 0.94 - ETA: 1:13 - loss: 0.1609 - accuracy: 0.94 - ETA: 1:13 - loss: 0.1598 - accuracy: 0.94 - ETA: 1:13 - loss: 0.1598 - accuracy: 0.94 - ETA: 1:13 - loss: 0.1583 - accuracy: 0.94 - ETA: 1:13 - loss: 0.1583 - accuracy: 0.94 - ETA: 1:12 - loss: 0.1579 - accuracy: 0.94 - ETA: 1:12 - loss: 0.1568 - accuracy: 0.94 - ETA: 1:12 - loss: 0.1565 - accuracy: 0.94 - ETA: 1:12 - loss: 0.1565 - accuracy: 0.94 - ETA: 1:12 - loss: 0.1573 - accuracy: 0.94 - ETA: 1:12 - loss: 0.1566 - accuracy: 0.94 - ETA: 1:12 - loss: 0.1561 - accuracy: 0.94 - ETA: 1:12 - loss: 0.1552 - accuracy: 0.94 - ETA: 1:12 - loss: 0.1553 - accuracy: 0.94 - ETA: 1:11 - loss: 0.1548 - accuracy: 0.94 - ETA: 1:11 - loss: 0.1533 - accuracy: 0.94 - ETA: 1:11 - loss: 0.1532 - accuracy: 0.94 - ETA: 1:11 - loss: 0.1548 - accuracy: 0.94 - ETA: 1:11 - loss: 0.1546 - accuracy: 0.94 - ETA: 1:11 - loss: 0.1549 - accuracy: 0.94 - ETA: 1:11 - loss: 0.1544 - accuracy: 0.94 - ETA: 1:11 - loss: 0.1530 - accuracy: 0.94 - ETA: 1:11 - loss: 0.1524 - accuracy: 0.94 - ETA: 1:11 - loss: 0.1516 - accuracy: 0.94 - ETA: 1:11 - loss: 0.1515 - accuracy: 0.94 - ETA: 1:11 - loss: 0.1525 - accuracy: 0.94 - ETA: 1:10 - loss: 0.1531 - accuracy: 0.94 - ETA: 1:10 - loss: 0.1534 - accuracy: 0.94 - ETA: 1:10 - loss: 0.1534 - accuracy: 0.94 - ETA: 1:10 - loss: 0.1549 - accuracy: 0.94 - ETA: 1:10 - loss: 0.1546 - accuracy: 0.94 - ETA: 1:10 - loss: 0.1538 - accuracy: 0.94 - ETA: 1:10 - loss: 0.1541 - accuracy: 0.94 - ETA: 1:10 - loss: 0.1536 - accuracy: 0.94 - ETA: 1:10 - loss: 0.1567 - accuracy: 0.94 - ETA: 1:09 - loss: 0.1566 - accuracy: 0.94 - ETA: 1:09 - loss: 0.1560 - accuracy: 0.94 - ETA: 1:09 - loss: 0.1558 - accuracy: 0.94 - ETA: 1:09 - loss: 0.1556 - accuracy: 0.94 - ETA: 1:09 - loss: 0.1562 - accuracy: 0.94 - ETA: 1:09 - loss: 0.1565 - accuracy: 0.94 - ETA: 1:09 - loss: 0.1583 - accuracy: 0.94 - ETA: 1:09 - loss: 0.1575 - accuracy: 0.94 - ETA: 1:09 - loss: 0.1571 - accuracy: 0.94 - ETA: 1:09 - loss: 0.1562 - accuracy: 0.94 - ETA: 1:08 - loss: 0.1573 - accuracy: 0.94 - ETA: 1:08 - loss: 0.1582 - accuracy: 0.94 - ETA: 1:08 - loss: 0.1574 - accuracy: 0.94 - ETA: 1:08 - loss: 0.1571 - accuracy: 0.94 - ETA: 1:08 - loss: 0.1578 - accuracy: 0.94 - ETA: 1:08 - loss: 0.1574 - accuracy: 0.94 - ETA: 1:08 - loss: 0.1572 - accuracy: 0.94 - ETA: 1:08 - loss: 0.1572 - accuracy: 0.94 - ETA: 1:08 - loss: 0.1574 - accuracy: 0.94 - ETA: 1:08 - loss: 0.1583 - accuracy: 0.94 - ETA: 1:08 - loss: 0.1585 - accuracy: 0.94 - ETA: 1:07 - loss: 0.1576 - accuracy: 0.94 - ETA: 1:07 - loss: 0.1584 - accuracy: 0.94 - ETA: 1:07 - loss: 0.1584 - accuracy: 0.94 - ETA: 1:07 - loss: 0.1591 - accuracy: 0.94 - ETA: 1:07 - loss: 0.1611 - accuracy: 0.94 - ETA: 1:07 - loss: 0.1600 - accuracy: 0.94 - ETA: 1:07 - loss: 0.1593 - accuracy: 0.94 - ETA: 1:07 - loss: 0.1591 - accuracy: 0.94 - ETA: 1:06 - loss: 0.1596 - accuracy: 0.94 - ETA: 1:06 - loss: 0.1594 - accuracy: 0.94 - ETA: 1:06 - loss: 0.1585 - accuracy: 0.94 - ETA: 1:06 - loss: 0.1595 - accuracy: 0.94 - ETA: 1:06 - loss: 0.1596 - accuracy: 0.94 - ETA: 1:06 - loss: 0.1600 - accuracy: 0.94 - ETA: 1:06 - loss: 0.1593 - accuracy: 0.94 - ETA: 1:06 - loss: 0.1593 - accuracy: 0.94 - ETA: 1:05 - loss: 0.1591 - accuracy: 0.94 - ETA: 1:05 - loss: 0.1595 - accuracy: 0.94 - ETA: 1:05 - loss: 0.1615 - accuracy: 0.94 - ETA: 1:05 - loss: 0.1609 - accuracy: 0.94 - ETA: 1:05 - loss: 0.1615 - accuracy: 0.94 - ETA: 1:05 - loss: 0.1616 - accuracy: 0.94 - ETA: 1:05 - loss: 0.1606 - accuracy: 0.94 - ETA: 1:05 - loss: 0.1600 - accuracy: 0.94 - ETA: 1:04 - loss: 0.1604 - accuracy: 0.94 - ETA: 1:04 - loss: 0.1624 - accuracy: 0.94 - ETA: 1:04 - loss: 0.1635 - accuracy: 0.94 - ETA: 1:04 - loss: 0.1631 - accuracy: 0.94 - ETA: 1:04 - loss: 0.1624 - accuracy: 0.94 - ETA: 1:04 - loss: 0.1621 - accuracy: 0.94 - ETA: 1:04 - loss: 0.1614 - accuracy: 0.94 - ETA: 1:04 - loss: 0.1607 - accuracy: 0.94 - ETA: 1:03 - loss: 0.1602 - accuracy: 0.94 - ETA: 1:03 - loss: 0.1610 - accuracy: 0.94 - ETA: 1:03 - loss: 0.1612 - accuracy: 0.94 - ETA: 1:03 - loss: 0.1615 - accuracy: 0.94 - ETA: 1:03 - loss: 0.1611 - accuracy: 0.94 - ETA: 1:03 - loss: 0.1616 - accuracy: 0.94 - ETA: 1:03 - loss: 0.1621 - accuracy: 0.94 - ETA: 1:03 - loss: 0.1630 - accuracy: 0.94 - ETA: 1:03 - loss: 0.1625 - accuracy: 0.94 - ETA: 1:02 - loss: 0.1634 - accuracy: 0.94 - ETA: 1:02 - loss: 0.1639 - accuracy: 0.93 - ETA: 1:02 - loss: 0.1637 - accuracy: 0.93 - ETA: 1:02 - loss: 0.1633 - accuracy: 0.94 - ETA: 1:02 - loss: 0.1633 - accuracy: 0.94 - ETA: 1:02 - loss: 0.1632 - accuracy: 0.94 - ETA: 1:02 - loss: 0.1635 - accuracy: 0.94 - ETA: 1:02 - loss: 0.1647 - accuracy: 0.94 - ETA: 1:01 - loss: 0.1651 - accuracy: 0.93 - ETA: 1:01 - loss: 0.1646 - accuracy: 0.94 - ETA: 1:01 - loss: 0.1643 - accuracy: 0.94 - ETA: 1:01 - loss: 0.1640 - accuracy: 0.94 - ETA: 1:01 - loss: 0.1638 - accuracy: 0.94 - ETA: 1:01 - loss: 0.1638 - accuracy: 0.94 - ETA: 1:01 - loss: 0.1642 - accuracy: 0.94 - ETA: 1:01 - loss: 0.1649 - accuracy: 0.93 - ETA: 1:01 - loss: 0.1642 - accuracy: 0.94 - ETA: 1:00 - loss: 0.1638 - accuracy: 0.94 - ETA: 1:00 - loss: 0.1639 - accuracy: 0.94 - ETA: 1:00 - loss: 0.1641 - accuracy: 0.94 - ETA: 1:00 - loss: 0.1639 - accuracy: 0.94 - ETA: 1:00 - loss: 0.1639 - accuracy: 0.94 - ETA: 1:00 - loss: 0.1637 - accuracy: 0.94 - ETA: 1:00 - loss: 0.1648 - accuracy: 0.94 - ETA: 1:00 - loss: 0.1644 - accuracy: 0.94 - ETA: 1:00 - loss: 0.1649 - accuracy: 0.94 - ETA: 59s - loss: 0.1644 - accuracy: 0.9407 "
     ]
    },
    {
     "name": "stdout",
     "output_type": "stream",
     "text": [
      "11904/25000 [=============>................] - ETA: 59s - loss: 0.1638 - accuracy: 0.941 - ETA: 59s - loss: 0.1640 - accuracy: 0.941 - ETA: 59s - loss: 0.1643 - accuracy: 0.940 - ETA: 59s - loss: 0.1642 - accuracy: 0.940 - ETA: 59s - loss: 0.1645 - accuracy: 0.940 - ETA: 59s - loss: 0.1641 - accuracy: 0.940 - ETA: 59s - loss: 0.1655 - accuracy: 0.940 - ETA: 59s - loss: 0.1655 - accuracy: 0.940 - ETA: 59s - loss: 0.1660 - accuracy: 0.940 - ETA: 59s - loss: 0.1653 - accuracy: 0.940 - ETA: 58s - loss: 0.1650 - accuracy: 0.940 - ETA: 58s - loss: 0.1647 - accuracy: 0.941 - ETA: 58s - loss: 0.1654 - accuracy: 0.941 - ETA: 58s - loss: 0.1655 - accuracy: 0.940 - ETA: 58s - loss: 0.1656 - accuracy: 0.940 - ETA: 58s - loss: 0.1660 - accuracy: 0.940 - ETA: 58s - loss: 0.1659 - accuracy: 0.940 - ETA: 58s - loss: 0.1659 - accuracy: 0.940 - ETA: 58s - loss: 0.1655 - accuracy: 0.940 - ETA: 58s - loss: 0.1654 - accuracy: 0.940 - ETA: 58s - loss: 0.1658 - accuracy: 0.940 - ETA: 57s - loss: 0.1666 - accuracy: 0.939 - ETA: 57s - loss: 0.1663 - accuracy: 0.940 - ETA: 57s - loss: 0.1675 - accuracy: 0.939 - ETA: 57s - loss: 0.1672 - accuracy: 0.939 - ETA: 57s - loss: 0.1675 - accuracy: 0.939 - ETA: 57s - loss: 0.1682 - accuracy: 0.939 - ETA: 57s - loss: 0.1685 - accuracy: 0.939 - ETA: 57s - loss: 0.1684 - accuracy: 0.938 - ETA: 57s - loss: 0.1687 - accuracy: 0.938 - ETA: 57s - loss: 0.1693 - accuracy: 0.938 - ETA: 56s - loss: 0.1693 - accuracy: 0.938 - ETA: 56s - loss: 0.1700 - accuracy: 0.938 - ETA: 56s - loss: 0.1701 - accuracy: 0.938 - ETA: 56s - loss: 0.1707 - accuracy: 0.938 - ETA: 56s - loss: 0.1706 - accuracy: 0.938 - ETA: 56s - loss: 0.1707 - accuracy: 0.938 - ETA: 56s - loss: 0.1702 - accuracy: 0.938 - ETA: 56s - loss: 0.1701 - accuracy: 0.938 - ETA: 55s - loss: 0.1698 - accuracy: 0.938 - ETA: 55s - loss: 0.1702 - accuracy: 0.938 - ETA: 55s - loss: 0.1697 - accuracy: 0.938 - ETA: 55s - loss: 0.1711 - accuracy: 0.938 - ETA: 55s - loss: 0.1710 - accuracy: 0.938 - ETA: 55s - loss: 0.1716 - accuracy: 0.937 - ETA: 55s - loss: 0.1714 - accuracy: 0.937 - ETA: 55s - loss: 0.1710 - accuracy: 0.938 - ETA: 55s - loss: 0.1708 - accuracy: 0.938 - ETA: 54s - loss: 0.1706 - accuracy: 0.938 - ETA: 54s - loss: 0.1704 - accuracy: 0.938 - ETA: 54s - loss: 0.1705 - accuracy: 0.938 - ETA: 54s - loss: 0.1702 - accuracy: 0.938 - ETA: 54s - loss: 0.1700 - accuracy: 0.938 - ETA: 54s - loss: 0.1701 - accuracy: 0.938 - ETA: 54s - loss: 0.1700 - accuracy: 0.938 - ETA: 54s - loss: 0.1696 - accuracy: 0.938 - ETA: 54s - loss: 0.1706 - accuracy: 0.938 - ETA: 54s - loss: 0.1704 - accuracy: 0.938 - ETA: 54s - loss: 0.1700 - accuracy: 0.938 - ETA: 54s - loss: 0.1704 - accuracy: 0.938 - ETA: 53s - loss: 0.1701 - accuracy: 0.938 - ETA: 53s - loss: 0.1698 - accuracy: 0.938 - ETA: 53s - loss: 0.1694 - accuracy: 0.938 - ETA: 53s - loss: 0.1693 - accuracy: 0.938 - ETA: 53s - loss: 0.1695 - accuracy: 0.938 - ETA: 53s - loss: 0.1690 - accuracy: 0.938 - ETA: 53s - loss: 0.1687 - accuracy: 0.938 - ETA: 53s - loss: 0.1705 - accuracy: 0.938 - ETA: 53s - loss: 0.1703 - accuracy: 0.938 - ETA: 53s - loss: 0.1698 - accuracy: 0.938 - ETA: 53s - loss: 0.1702 - accuracy: 0.938 - ETA: 52s - loss: 0.1704 - accuracy: 0.938 - ETA: 52s - loss: 0.1705 - accuracy: 0.938 - ETA: 52s - loss: 0.1702 - accuracy: 0.938 - ETA: 52s - loss: 0.1707 - accuracy: 0.937 - ETA: 52s - loss: 0.1715 - accuracy: 0.937 - ETA: 52s - loss: 0.1717 - accuracy: 0.937 - ETA: 52s - loss: 0.1717 - accuracy: 0.937 - ETA: 52s - loss: 0.1720 - accuracy: 0.937 - ETA: 52s - loss: 0.1721 - accuracy: 0.937 - ETA: 52s - loss: 0.1731 - accuracy: 0.936 - ETA: 51s - loss: 0.1741 - accuracy: 0.936 - ETA: 51s - loss: 0.1748 - accuracy: 0.936 - ETA: 51s - loss: 0.1748 - accuracy: 0.936 - ETA: 51s - loss: 0.1749 - accuracy: 0.935 - ETA: 51s - loss: 0.1748 - accuracy: 0.935 - ETA: 51s - loss: 0.1755 - accuracy: 0.935 - ETA: 51s - loss: 0.1753 - accuracy: 0.935 - ETA: 51s - loss: 0.1750 - accuracy: 0.936 - ETA: 51s - loss: 0.1750 - accuracy: 0.936 - ETA: 50s - loss: 0.1750 - accuracy: 0.936 - ETA: 50s - loss: 0.1753 - accuracy: 0.936 - ETA: 50s - loss: 0.1754 - accuracy: 0.936 - ETA: 50s - loss: 0.1753 - accuracy: 0.935 - ETA: 50s - loss: 0.1753 - accuracy: 0.935 - ETA: 50s - loss: 0.1757 - accuracy: 0.935 - ETA: 50s - loss: 0.1760 - accuracy: 0.935 - ETA: 50s - loss: 0.1758 - accuracy: 0.935 - ETA: 50s - loss: 0.1759 - accuracy: 0.935 - ETA: 49s - loss: 0.1765 - accuracy: 0.934 - ETA: 49s - loss: 0.1766 - accuracy: 0.934 - ETA: 49s - loss: 0.1764 - accuracy: 0.934 - ETA: 49s - loss: 0.1764 - accuracy: 0.934 - ETA: 49s - loss: 0.1763 - accuracy: 0.934 - ETA: 49s - loss: 0.1763 - accuracy: 0.934 - ETA: 49s - loss: 0.1765 - accuracy: 0.934 - ETA: 49s - loss: 0.1771 - accuracy: 0.934 - ETA: 49s - loss: 0.1774 - accuracy: 0.934 - ETA: 48s - loss: 0.1772 - accuracy: 0.934 - ETA: 48s - loss: 0.1780 - accuracy: 0.934 - ETA: 48s - loss: 0.1778 - accuracy: 0.934 - ETA: 48s - loss: 0.1776 - accuracy: 0.934 - ETA: 48s - loss: 0.1779 - accuracy: 0.934 - ETA: 48s - loss: 0.1777 - accuracy: 0.934 - ETA: 48s - loss: 0.1775 - accuracy: 0.934 - ETA: 48s - loss: 0.1777 - accuracy: 0.934 - ETA: 48s - loss: 0.1775 - accuracy: 0.934 - ETA: 48s - loss: 0.1773 - accuracy: 0.934 - ETA: 47s - loss: 0.1773 - accuracy: 0.934 - ETA: 47s - loss: 0.1772 - accuracy: 0.934 - ETA: 47s - loss: 0.1768 - accuracy: 0.934 - ETA: 47s - loss: 0.1764 - accuracy: 0.934 - ETA: 47s - loss: 0.1763 - accuracy: 0.934 - ETA: 47s - loss: 0.1762 - accuracy: 0.934 - ETA: 47s - loss: 0.1763 - accuracy: 0.934 - ETA: 47s - loss: 0.1759 - accuracy: 0.934 - ETA: 47s - loss: 0.1759 - accuracy: 0.934 - ETA: 46s - loss: 0.1756 - accuracy: 0.934 - ETA: 46s - loss: 0.1757 - accuracy: 0.934 - ETA: 46s - loss: 0.1758 - accuracy: 0.934 - ETA: 46s - loss: 0.1766 - accuracy: 0.934 - ETA: 46s - loss: 0.1766 - accuracy: 0.934 - ETA: 46s - loss: 0.1764 - accuracy: 0.934 - ETA: 46s - loss: 0.1760 - accuracy: 0.935 - ETA: 46s - loss: 0.1759 - accuracy: 0.935 - ETA: 46s - loss: 0.1757 - accuracy: 0.935 - ETA: 45s - loss: 0.1760 - accuracy: 0.935 - ETA: 45s - loss: 0.1760 - accuracy: 0.935 - ETA: 45s - loss: 0.1758 - accuracy: 0.935 - ETA: 45s - loss: 0.1766 - accuracy: 0.934 - ETA: 45s - loss: 0.1763 - accuracy: 0.934 - ETA: 45s - loss: 0.1767 - accuracy: 0.934 - ETA: 45s - loss: 0.1765 - accuracy: 0.934 - ETA: 45s - loss: 0.1763 - accuracy: 0.934 - ETA: 45s - loss: 0.1763 - accuracy: 0.934 - ETA: 45s - loss: 0.1765 - accuracy: 0.934 - ETA: 44s - loss: 0.1763 - accuracy: 0.934 - ETA: 44s - loss: 0.1761 - accuracy: 0.934 - ETA: 44s - loss: 0.1761 - accuracy: 0.934 - ETA: 44s - loss: 0.1759 - accuracy: 0.934 - ETA: 44s - loss: 0.1756 - accuracy: 0.934 - ETA: 44s - loss: 0.1755 - accuracy: 0.935 - ETA: 44s - loss: 0.1752 - accuracy: 0.935 - ETA: 44s - loss: 0.1751 - accuracy: 0.935 - ETA: 44s - loss: 0.1753 - accuracy: 0.935 - ETA: 43s - loss: 0.1751 - accuracy: 0.935 - ETA: 43s - loss: 0.1747 - accuracy: 0.935 - ETA: 43s - loss: 0.1747 - accuracy: 0.935 - ETA: 43s - loss: 0.1745 - accuracy: 0.935 - ETA: 43s - loss: 0.1743 - accuracy: 0.935 - ETA: 43s - loss: 0.1744 - accuracy: 0.935 - ETA: 43s - loss: 0.1741 - accuracy: 0.935 - ETA: 43s - loss: 0.1741 - accuracy: 0.935 - ETA: 43s - loss: 0.1747 - accuracy: 0.935 - ETA: 43s - loss: 0.1751 - accuracy: 0.935 - ETA: 42s - loss: 0.1750 - accuracy: 0.935 - ETA: 42s - loss: 0.1751 - accuracy: 0.935 - ETA: 42s - loss: 0.1751 - accuracy: 0.935 - ETA: 42s - loss: 0.1752 - accuracy: 0.934 - ETA: 42s - loss: 0.1751 - accuracy: 0.934 - ETA: 42s - loss: 0.1752 - accuracy: 0.934 - ETA: 42s - loss: 0.1748 - accuracy: 0.935 - ETA: 42s - loss: 0.1746 - accuracy: 0.935 - ETA: 42s - loss: 0.1745 - accuracy: 0.935 - ETA: 41s - loss: 0.1752 - accuracy: 0.934 - ETA: 41s - loss: 0.1754 - accuracy: 0.934 - ETA: 41s - loss: 0.1753 - accuracy: 0.934 - ETA: 41s - loss: 0.1752 - accuracy: 0.934 - ETA: 41s - loss: 0.1751 - accuracy: 0.934 - ETA: 41s - loss: 0.1749 - accuracy: 0.934 - ETA: 41s - loss: 0.1750 - accuracy: 0.934 - ETA: 41s - loss: 0.1751 - accuracy: 0.935 - ETA: 41s - loss: 0.1750 - accuracy: 0.934 - ETA: 41s - loss: 0.1753 - accuracy: 0.934 - ETA: 40s - loss: 0.1751 - accuracy: 0.934 - ETA: 40s - loss: 0.1763 - accuracy: 0.9342"
     ]
    },
    {
     "name": "stdout",
     "output_type": "stream",
     "text": [
      "17856/25000 [====================>.........] - ETA: 40s - loss: 0.1762 - accuracy: 0.934 - ETA: 40s - loss: 0.1761 - accuracy: 0.934 - ETA: 40s - loss: 0.1761 - accuracy: 0.934 - ETA: 40s - loss: 0.1764 - accuracy: 0.934 - ETA: 40s - loss: 0.1767 - accuracy: 0.933 - ETA: 40s - loss: 0.1764 - accuracy: 0.934 - ETA: 40s - loss: 0.1763 - accuracy: 0.934 - ETA: 40s - loss: 0.1765 - accuracy: 0.934 - ETA: 39s - loss: 0.1766 - accuracy: 0.934 - ETA: 39s - loss: 0.1768 - accuracy: 0.933 - ETA: 39s - loss: 0.1767 - accuracy: 0.933 - ETA: 39s - loss: 0.1766 - accuracy: 0.933 - ETA: 39s - loss: 0.1763 - accuracy: 0.934 - ETA: 39s - loss: 0.1763 - accuracy: 0.933 - ETA: 39s - loss: 0.1764 - accuracy: 0.933 - ETA: 39s - loss: 0.1761 - accuracy: 0.934 - ETA: 39s - loss: 0.1758 - accuracy: 0.934 - ETA: 39s - loss: 0.1760 - accuracy: 0.934 - ETA: 38s - loss: 0.1758 - accuracy: 0.934 - ETA: 38s - loss: 0.1756 - accuracy: 0.934 - ETA: 38s - loss: 0.1753 - accuracy: 0.934 - ETA: 38s - loss: 0.1754 - accuracy: 0.934 - ETA: 38s - loss: 0.1752 - accuracy: 0.934 - ETA: 38s - loss: 0.1756 - accuracy: 0.934 - ETA: 38s - loss: 0.1753 - accuracy: 0.934 - ETA: 38s - loss: 0.1753 - accuracy: 0.934 - ETA: 38s - loss: 0.1752 - accuracy: 0.934 - ETA: 37s - loss: 0.1749 - accuracy: 0.934 - ETA: 37s - loss: 0.1747 - accuracy: 0.934 - ETA: 37s - loss: 0.1747 - accuracy: 0.934 - ETA: 37s - loss: 0.1743 - accuracy: 0.934 - ETA: 37s - loss: 0.1740 - accuracy: 0.934 - ETA: 37s - loss: 0.1739 - accuracy: 0.934 - ETA: 37s - loss: 0.1736 - accuracy: 0.934 - ETA: 37s - loss: 0.1733 - accuracy: 0.935 - ETA: 37s - loss: 0.1734 - accuracy: 0.935 - ETA: 37s - loss: 0.1733 - accuracy: 0.935 - ETA: 37s - loss: 0.1733 - accuracy: 0.935 - ETA: 36s - loss: 0.1730 - accuracy: 0.935 - ETA: 36s - loss: 0.1729 - accuracy: 0.935 - ETA: 36s - loss: 0.1733 - accuracy: 0.935 - ETA: 36s - loss: 0.1731 - accuracy: 0.935 - ETA: 36s - loss: 0.1732 - accuracy: 0.934 - ETA: 36s - loss: 0.1737 - accuracy: 0.934 - ETA: 36s - loss: 0.1743 - accuracy: 0.934 - ETA: 36s - loss: 0.1744 - accuracy: 0.934 - ETA: 36s - loss: 0.1746 - accuracy: 0.934 - ETA: 36s - loss: 0.1748 - accuracy: 0.934 - ETA: 35s - loss: 0.1746 - accuracy: 0.934 - ETA: 35s - loss: 0.1745 - accuracy: 0.934 - ETA: 35s - loss: 0.1746 - accuracy: 0.934 - ETA: 35s - loss: 0.1747 - accuracy: 0.934 - ETA: 35s - loss: 0.1749 - accuracy: 0.934 - ETA: 35s - loss: 0.1750 - accuracy: 0.934 - ETA: 35s - loss: 0.1748 - accuracy: 0.934 - ETA: 35s - loss: 0.1749 - accuracy: 0.934 - ETA: 35s - loss: 0.1750 - accuracy: 0.934 - ETA: 35s - loss: 0.1751 - accuracy: 0.934 - ETA: 34s - loss: 0.1749 - accuracy: 0.934 - ETA: 34s - loss: 0.1749 - accuracy: 0.934 - ETA: 34s - loss: 0.1749 - accuracy: 0.934 - ETA: 34s - loss: 0.1748 - accuracy: 0.934 - ETA: 34s - loss: 0.1749 - accuracy: 0.934 - ETA: 34s - loss: 0.1750 - accuracy: 0.934 - ETA: 34s - loss: 0.1751 - accuracy: 0.934 - ETA: 34s - loss: 0.1752 - accuracy: 0.933 - ETA: 34s - loss: 0.1754 - accuracy: 0.933 - ETA: 33s - loss: 0.1754 - accuracy: 0.933 - ETA: 33s - loss: 0.1754 - accuracy: 0.933 - ETA: 33s - loss: 0.1755 - accuracy: 0.933 - ETA: 33s - loss: 0.1754 - accuracy: 0.933 - ETA: 33s - loss: 0.1753 - accuracy: 0.933 - ETA: 33s - loss: 0.1754 - accuracy: 0.933 - ETA: 33s - loss: 0.1756 - accuracy: 0.933 - ETA: 33s - loss: 0.1753 - accuracy: 0.933 - ETA: 33s - loss: 0.1753 - accuracy: 0.933 - ETA: 33s - loss: 0.1751 - accuracy: 0.933 - ETA: 32s - loss: 0.1751 - accuracy: 0.933 - ETA: 32s - loss: 0.1750 - accuracy: 0.933 - ETA: 32s - loss: 0.1750 - accuracy: 0.933 - ETA: 32s - loss: 0.1749 - accuracy: 0.933 - ETA: 32s - loss: 0.1745 - accuracy: 0.934 - ETA: 32s - loss: 0.1744 - accuracy: 0.934 - ETA: 32s - loss: 0.1750 - accuracy: 0.933 - ETA: 32s - loss: 0.1752 - accuracy: 0.933 - ETA: 32s - loss: 0.1753 - accuracy: 0.933 - ETA: 32s - loss: 0.1753 - accuracy: 0.933 - ETA: 31s - loss: 0.1755 - accuracy: 0.933 - ETA: 31s - loss: 0.1753 - accuracy: 0.933 - ETA: 31s - loss: 0.1761 - accuracy: 0.933 - ETA: 31s - loss: 0.1758 - accuracy: 0.933 - ETA: 31s - loss: 0.1760 - accuracy: 0.933 - ETA: 31s - loss: 0.1758 - accuracy: 0.933 - ETA: 31s - loss: 0.1758 - accuracy: 0.933 - ETA: 31s - loss: 0.1755 - accuracy: 0.933 - ETA: 31s - loss: 0.1753 - accuracy: 0.933 - ETA: 31s - loss: 0.1754 - accuracy: 0.933 - ETA: 30s - loss: 0.1757 - accuracy: 0.933 - ETA: 30s - loss: 0.1757 - accuracy: 0.933 - ETA: 30s - loss: 0.1757 - accuracy: 0.933 - ETA: 30s - loss: 0.1761 - accuracy: 0.933 - ETA: 30s - loss: 0.1765 - accuracy: 0.933 - ETA: 30s - loss: 0.1763 - accuracy: 0.933 - ETA: 30s - loss: 0.1763 - accuracy: 0.933 - ETA: 30s - loss: 0.1761 - accuracy: 0.933 - ETA: 30s - loss: 0.1764 - accuracy: 0.933 - ETA: 30s - loss: 0.1765 - accuracy: 0.933 - ETA: 29s - loss: 0.1764 - accuracy: 0.933 - ETA: 29s - loss: 0.1763 - accuracy: 0.933 - ETA: 29s - loss: 0.1764 - accuracy: 0.933 - ETA: 29s - loss: 0.1763 - accuracy: 0.933 - ETA: 29s - loss: 0.1761 - accuracy: 0.933 - ETA: 29s - loss: 0.1759 - accuracy: 0.933 - ETA: 29s - loss: 0.1758 - accuracy: 0.933 - ETA: 29s - loss: 0.1759 - accuracy: 0.933 - ETA: 29s - loss: 0.1757 - accuracy: 0.933 - ETA: 28s - loss: 0.1755 - accuracy: 0.933 - ETA: 28s - loss: 0.1758 - accuracy: 0.933 - ETA: 28s - loss: 0.1760 - accuracy: 0.933 - ETA: 28s - loss: 0.1759 - accuracy: 0.933 - ETA: 28s - loss: 0.1761 - accuracy: 0.933 - ETA: 28s - loss: 0.1760 - accuracy: 0.933 - ETA: 28s - loss: 0.1757 - accuracy: 0.933 - ETA: 28s - loss: 0.1756 - accuracy: 0.933 - ETA: 28s - loss: 0.1757 - accuracy: 0.933 - ETA: 28s - loss: 0.1756 - accuracy: 0.933 - ETA: 27s - loss: 0.1754 - accuracy: 0.933 - ETA: 27s - loss: 0.1755 - accuracy: 0.933 - ETA: 27s - loss: 0.1754 - accuracy: 0.933 - ETA: 27s - loss: 0.1758 - accuracy: 0.933 - ETA: 27s - loss: 0.1762 - accuracy: 0.933 - ETA: 27s - loss: 0.1761 - accuracy: 0.933 - ETA: 27s - loss: 0.1761 - accuracy: 0.933 - ETA: 27s - loss: 0.1759 - accuracy: 0.933 - ETA: 27s - loss: 0.1758 - accuracy: 0.933 - ETA: 27s - loss: 0.1761 - accuracy: 0.933 - ETA: 26s - loss: 0.1761 - accuracy: 0.933 - ETA: 26s - loss: 0.1760 - accuracy: 0.933 - ETA: 26s - loss: 0.1761 - accuracy: 0.933 - ETA: 26s - loss: 0.1758 - accuracy: 0.933 - ETA: 26s - loss: 0.1756 - accuracy: 0.933 - ETA: 26s - loss: 0.1759 - accuracy: 0.933 - ETA: 26s - loss: 0.1763 - accuracy: 0.933 - ETA: 26s - loss: 0.1763 - accuracy: 0.933 - ETA: 26s - loss: 0.1762 - accuracy: 0.933 - ETA: 26s - loss: 0.1761 - accuracy: 0.933 - ETA: 25s - loss: 0.1761 - accuracy: 0.933 - ETA: 25s - loss: 0.1765 - accuracy: 0.933 - ETA: 25s - loss: 0.1765 - accuracy: 0.933 - ETA: 25s - loss: 0.1768 - accuracy: 0.933 - ETA: 25s - loss: 0.1768 - accuracy: 0.933 - ETA: 25s - loss: 0.1766 - accuracy: 0.933 - ETA: 25s - loss: 0.1767 - accuracy: 0.933 - ETA: 25s - loss: 0.1770 - accuracy: 0.933 - ETA: 25s - loss: 0.1768 - accuracy: 0.933 - ETA: 25s - loss: 0.1767 - accuracy: 0.933 - ETA: 24s - loss: 0.1768 - accuracy: 0.933 - ETA: 24s - loss: 0.1772 - accuracy: 0.933 - ETA: 24s - loss: 0.1769 - accuracy: 0.933 - ETA: 24s - loss: 0.1771 - accuracy: 0.933 - ETA: 24s - loss: 0.1772 - accuracy: 0.933 - ETA: 24s - loss: 0.1770 - accuracy: 0.933 - ETA: 24s - loss: 0.1769 - accuracy: 0.933 - ETA: 24s - loss: 0.1769 - accuracy: 0.933 - ETA: 24s - loss: 0.1769 - accuracy: 0.933 - ETA: 24s - loss: 0.1769 - accuracy: 0.933 - ETA: 23s - loss: 0.1769 - accuracy: 0.933 - ETA: 23s - loss: 0.1770 - accuracy: 0.933 - ETA: 23s - loss: 0.1775 - accuracy: 0.932 - ETA: 23s - loss: 0.1774 - accuracy: 0.932 - ETA: 23s - loss: 0.1774 - accuracy: 0.932 - ETA: 23s - loss: 0.1775 - accuracy: 0.932 - ETA: 23s - loss: 0.1773 - accuracy: 0.932 - ETA: 23s - loss: 0.1771 - accuracy: 0.932 - ETA: 23s - loss: 0.1772 - accuracy: 0.932 - ETA: 23s - loss: 0.1771 - accuracy: 0.933 - ETA: 22s - loss: 0.1769 - accuracy: 0.933 - ETA: 22s - loss: 0.1768 - accuracy: 0.933 - ETA: 22s - loss: 0.1770 - accuracy: 0.933 - ETA: 22s - loss: 0.1767 - accuracy: 0.933 - ETA: 22s - loss: 0.1765 - accuracy: 0.933 - ETA: 22s - loss: 0.1764 - accuracy: 0.933 - ETA: 22s - loss: 0.1762 - accuracy: 0.933 - ETA: 22s - loss: 0.1766 - accuracy: 0.933 - ETA: 22s - loss: 0.1766 - accuracy: 0.933 - ETA: 22s - loss: 0.1763 - accuracy: 0.9332"
     ]
    },
    {
     "name": "stdout",
     "output_type": "stream",
     "text": [
      "23904/25000 [===========================>..] - ETA: 21s - loss: 0.1765 - accuracy: 0.933 - ETA: 21s - loss: 0.1765 - accuracy: 0.933 - ETA: 21s - loss: 0.1766 - accuracy: 0.933 - ETA: 21s - loss: 0.1766 - accuracy: 0.933 - ETA: 21s - loss: 0.1767 - accuracy: 0.933 - ETA: 21s - loss: 0.1767 - accuracy: 0.933 - ETA: 21s - loss: 0.1774 - accuracy: 0.932 - ETA: 21s - loss: 0.1777 - accuracy: 0.932 - ETA: 21s - loss: 0.1779 - accuracy: 0.932 - ETA: 21s - loss: 0.1778 - accuracy: 0.932 - ETA: 20s - loss: 0.1777 - accuracy: 0.932 - ETA: 20s - loss: 0.1780 - accuracy: 0.932 - ETA: 20s - loss: 0.1780 - accuracy: 0.932 - ETA: 20s - loss: 0.1780 - accuracy: 0.932 - ETA: 20s - loss: 0.1785 - accuracy: 0.932 - ETA: 20s - loss: 0.1787 - accuracy: 0.932 - ETA: 20s - loss: 0.1787 - accuracy: 0.932 - ETA: 20s - loss: 0.1786 - accuracy: 0.932 - ETA: 20s - loss: 0.1785 - accuracy: 0.932 - ETA: 20s - loss: 0.1786 - accuracy: 0.932 - ETA: 19s - loss: 0.1791 - accuracy: 0.932 - ETA: 19s - loss: 0.1799 - accuracy: 0.932 - ETA: 19s - loss: 0.1800 - accuracy: 0.931 - ETA: 19s - loss: 0.1800 - accuracy: 0.931 - ETA: 19s - loss: 0.1802 - accuracy: 0.931 - ETA: 19s - loss: 0.1802 - accuracy: 0.931 - ETA: 19s - loss: 0.1801 - accuracy: 0.931 - ETA: 19s - loss: 0.1801 - accuracy: 0.931 - ETA: 19s - loss: 0.1801 - accuracy: 0.931 - ETA: 19s - loss: 0.1802 - accuracy: 0.931 - ETA: 18s - loss: 0.1804 - accuracy: 0.931 - ETA: 18s - loss: 0.1807 - accuracy: 0.931 - ETA: 18s - loss: 0.1806 - accuracy: 0.931 - ETA: 18s - loss: 0.1810 - accuracy: 0.930 - ETA: 18s - loss: 0.1811 - accuracy: 0.930 - ETA: 18s - loss: 0.1813 - accuracy: 0.930 - ETA: 18s - loss: 0.1814 - accuracy: 0.930 - ETA: 18s - loss: 0.1817 - accuracy: 0.930 - ETA: 18s - loss: 0.1817 - accuracy: 0.930 - ETA: 18s - loss: 0.1817 - accuracy: 0.930 - ETA: 17s - loss: 0.1818 - accuracy: 0.930 - ETA: 17s - loss: 0.1819 - accuracy: 0.930 - ETA: 17s - loss: 0.1818 - accuracy: 0.930 - ETA: 17s - loss: 0.1817 - accuracy: 0.930 - ETA: 17s - loss: 0.1815 - accuracy: 0.930 - ETA: 17s - loss: 0.1815 - accuracy: 0.930 - ETA: 17s - loss: 0.1815 - accuracy: 0.930 - ETA: 17s - loss: 0.1817 - accuracy: 0.930 - ETA: 17s - loss: 0.1818 - accuracy: 0.930 - ETA: 17s - loss: 0.1820 - accuracy: 0.930 - ETA: 17s - loss: 0.1822 - accuracy: 0.930 - ETA: 16s - loss: 0.1823 - accuracy: 0.930 - ETA: 16s - loss: 0.1822 - accuracy: 0.930 - ETA: 16s - loss: 0.1823 - accuracy: 0.930 - ETA: 16s - loss: 0.1825 - accuracy: 0.930 - ETA: 16s - loss: 0.1826 - accuracy: 0.929 - ETA: 16s - loss: 0.1825 - accuracy: 0.930 - ETA: 16s - loss: 0.1826 - accuracy: 0.929 - ETA: 16s - loss: 0.1827 - accuracy: 0.929 - ETA: 16s - loss: 0.1830 - accuracy: 0.929 - ETA: 16s - loss: 0.1832 - accuracy: 0.929 - ETA: 15s - loss: 0.1832 - accuracy: 0.929 - ETA: 15s - loss: 0.1831 - accuracy: 0.929 - ETA: 15s - loss: 0.1832 - accuracy: 0.929 - ETA: 15s - loss: 0.1831 - accuracy: 0.929 - ETA: 15s - loss: 0.1833 - accuracy: 0.929 - ETA: 15s - loss: 0.1835 - accuracy: 0.929 - ETA: 15s - loss: 0.1836 - accuracy: 0.929 - ETA: 15s - loss: 0.1837 - accuracy: 0.929 - ETA: 15s - loss: 0.1837 - accuracy: 0.929 - ETA: 15s - loss: 0.1838 - accuracy: 0.929 - ETA: 14s - loss: 0.1843 - accuracy: 0.929 - ETA: 14s - loss: 0.1843 - accuracy: 0.929 - ETA: 14s - loss: 0.1843 - accuracy: 0.929 - ETA: 14s - loss: 0.1847 - accuracy: 0.929 - ETA: 14s - loss: 0.1846 - accuracy: 0.929 - ETA: 14s - loss: 0.1845 - accuracy: 0.929 - ETA: 14s - loss: 0.1846 - accuracy: 0.929 - ETA: 14s - loss: 0.1849 - accuracy: 0.929 - ETA: 14s - loss: 0.1849 - accuracy: 0.929 - ETA: 14s - loss: 0.1850 - accuracy: 0.929 - ETA: 13s - loss: 0.1850 - accuracy: 0.929 - ETA: 13s - loss: 0.1849 - accuracy: 0.929 - ETA: 13s - loss: 0.1849 - accuracy: 0.929 - ETA: 13s - loss: 0.1848 - accuracy: 0.929 - ETA: 13s - loss: 0.1848 - accuracy: 0.929 - ETA: 13s - loss: 0.1846 - accuracy: 0.929 - ETA: 13s - loss: 0.1848 - accuracy: 0.929 - ETA: 13s - loss: 0.1846 - accuracy: 0.929 - ETA: 13s - loss: 0.1845 - accuracy: 0.929 - ETA: 13s - loss: 0.1844 - accuracy: 0.929 - ETA: 12s - loss: 0.1845 - accuracy: 0.929 - ETA: 12s - loss: 0.1845 - accuracy: 0.929 - ETA: 12s - loss: 0.1845 - accuracy: 0.929 - ETA: 12s - loss: 0.1845 - accuracy: 0.929 - ETA: 12s - loss: 0.1845 - accuracy: 0.929 - ETA: 12s - loss: 0.1846 - accuracy: 0.929 - ETA: 12s - loss: 0.1845 - accuracy: 0.929 - ETA: 12s - loss: 0.1845 - accuracy: 0.929 - ETA: 12s - loss: 0.1844 - accuracy: 0.929 - ETA: 12s - loss: 0.1845 - accuracy: 0.929 - ETA: 11s - loss: 0.1846 - accuracy: 0.929 - ETA: 11s - loss: 0.1845 - accuracy: 0.929 - ETA: 11s - loss: 0.1846 - accuracy: 0.929 - ETA: 11s - loss: 0.1846 - accuracy: 0.929 - ETA: 11s - loss: 0.1847 - accuracy: 0.929 - ETA: 11s - loss: 0.1847 - accuracy: 0.929 - ETA: 11s - loss: 0.1847 - accuracy: 0.929 - ETA: 11s - loss: 0.1849 - accuracy: 0.929 - ETA: 11s - loss: 0.1851 - accuracy: 0.928 - ETA: 11s - loss: 0.1852 - accuracy: 0.929 - ETA: 10s - loss: 0.1852 - accuracy: 0.929 - ETA: 10s - loss: 0.1851 - accuracy: 0.929 - ETA: 10s - loss: 0.1851 - accuracy: 0.928 - ETA: 10s - loss: 0.1852 - accuracy: 0.928 - ETA: 10s - loss: 0.1853 - accuracy: 0.928 - ETA: 10s - loss: 0.1852 - accuracy: 0.928 - ETA: 10s - loss: 0.1852 - accuracy: 0.928 - ETA: 10s - loss: 0.1851 - accuracy: 0.928 - ETA: 10s - loss: 0.1851 - accuracy: 0.928 - ETA: 10s - loss: 0.1852 - accuracy: 0.928 - ETA: 9s - loss: 0.1852 - accuracy: 0.928 - ETA: 9s - loss: 0.1853 - accuracy: 0.92 - ETA: 9s - loss: 0.1851 - accuracy: 0.92 - ETA: 9s - loss: 0.1851 - accuracy: 0.92 - ETA: 9s - loss: 0.1852 - accuracy: 0.92 - ETA: 9s - loss: 0.1852 - accuracy: 0.92 - ETA: 9s - loss: 0.1851 - accuracy: 0.92 - ETA: 9s - loss: 0.1853 - accuracy: 0.92 - ETA: 9s - loss: 0.1853 - accuracy: 0.92 - ETA: 9s - loss: 0.1852 - accuracy: 0.92 - ETA: 8s - loss: 0.1852 - accuracy: 0.92 - ETA: 8s - loss: 0.1852 - accuracy: 0.92 - ETA: 8s - loss: 0.1852 - accuracy: 0.92 - ETA: 8s - loss: 0.1854 - accuracy: 0.92 - ETA: 8s - loss: 0.1852 - accuracy: 0.92 - ETA: 8s - loss: 0.1853 - accuracy: 0.92 - ETA: 8s - loss: 0.1854 - accuracy: 0.92 - ETA: 8s - loss: 0.1854 - accuracy: 0.92 - ETA: 8s - loss: 0.1855 - accuracy: 0.92 - ETA: 8s - loss: 0.1853 - accuracy: 0.92 - ETA: 8s - loss: 0.1853 - accuracy: 0.92 - ETA: 7s - loss: 0.1853 - accuracy: 0.92 - ETA: 7s - loss: 0.1851 - accuracy: 0.92 - ETA: 7s - loss: 0.1850 - accuracy: 0.92 - ETA: 7s - loss: 0.1850 - accuracy: 0.92 - ETA: 7s - loss: 0.1848 - accuracy: 0.92 - ETA: 7s - loss: 0.1847 - accuracy: 0.92 - ETA: 7s - loss: 0.1848 - accuracy: 0.92 - ETA: 7s - loss: 0.1848 - accuracy: 0.92 - ETA: 7s - loss: 0.1849 - accuracy: 0.92 - ETA: 7s - loss: 0.1851 - accuracy: 0.92 - ETA: 6s - loss: 0.1854 - accuracy: 0.92 - ETA: 6s - loss: 0.1853 - accuracy: 0.92 - ETA: 6s - loss: 0.1854 - accuracy: 0.92 - ETA: 6s - loss: 0.1854 - accuracy: 0.92 - ETA: 6s - loss: 0.1856 - accuracy: 0.92 - ETA: 6s - loss: 0.1856 - accuracy: 0.92 - ETA: 6s - loss: 0.1858 - accuracy: 0.92 - ETA: 6s - loss: 0.1862 - accuracy: 0.92 - ETA: 6s - loss: 0.1863 - accuracy: 0.92 - ETA: 6s - loss: 0.1866 - accuracy: 0.92 - ETA: 5s - loss: 0.1864 - accuracy: 0.92 - ETA: 5s - loss: 0.1866 - accuracy: 0.92 - ETA: 5s - loss: 0.1865 - accuracy: 0.92 - ETA: 5s - loss: 0.1864 - accuracy: 0.92 - ETA: 5s - loss: 0.1864 - accuracy: 0.92 - ETA: 5s - loss: 0.1864 - accuracy: 0.92 - ETA: 5s - loss: 0.1863 - accuracy: 0.92 - ETA: 5s - loss: 0.1864 - accuracy: 0.92 - ETA: 5s - loss: 0.1864 - accuracy: 0.92 - ETA: 5s - loss: 0.1862 - accuracy: 0.92 - ETA: 4s - loss: 0.1864 - accuracy: 0.92 - ETA: 4s - loss: 0.1863 - accuracy: 0.92 - ETA: 4s - loss: 0.1863 - accuracy: 0.92 - ETA: 4s - loss: 0.1863 - accuracy: 0.92 - ETA: 4s - loss: 0.1864 - accuracy: 0.92 - ETA: 4s - loss: 0.1865 - accuracy: 0.92 - ETA: 4s - loss: 0.1866 - accuracy: 0.92 - ETA: 4s - loss: 0.1866 - accuracy: 0.92 - ETA: 4s - loss: 0.1867 - accuracy: 0.92 - ETA: 4s - loss: 0.1869 - accuracy: 0.92 - ETA: 3s - loss: 0.1868 - accuracy: 0.92 - ETA: 3s - loss: 0.1868 - accuracy: 0.92 - ETA: 3s - loss: 0.1870 - accuracy: 0.92 - ETA: 3s - loss: 0.1871 - accuracy: 0.92 - ETA: 3s - loss: 0.1872 - accuracy: 0.92 - ETA: 3s - loss: 0.1873 - accuracy: 0.92 - ETA: 3s - loss: 0.1872 - accuracy: 0.9278"
     ]
    },
    {
     "name": "stdout",
     "output_type": "stream",
     "text": [
      "25000/25000 [==============================] - ETA: 3s - loss: 0.1871 - accuracy: 0.92 - ETA: 3s - loss: 0.1870 - accuracy: 0.92 - ETA: 3s - loss: 0.1870 - accuracy: 0.92 - ETA: 2s - loss: 0.1869 - accuracy: 0.92 - ETA: 2s - loss: 0.1872 - accuracy: 0.92 - ETA: 2s - loss: 0.1871 - accuracy: 0.92 - ETA: 2s - loss: 0.1872 - accuracy: 0.92 - ETA: 2s - loss: 0.1873 - accuracy: 0.92 - ETA: 2s - loss: 0.1873 - accuracy: 0.92 - ETA: 2s - loss: 0.1871 - accuracy: 0.92 - ETA: 2s - loss: 0.1870 - accuracy: 0.92 - ETA: 2s - loss: 0.1872 - accuracy: 0.92 - ETA: 2s - loss: 0.1872 - accuracy: 0.92 - ETA: 2s - loss: 0.1872 - accuracy: 0.92 - ETA: 1s - loss: 0.1871 - accuracy: 0.92 - ETA: 1s - loss: 0.1872 - accuracy: 0.92 - ETA: 1s - loss: 0.1871 - accuracy: 0.92 - ETA: 1s - loss: 0.1870 - accuracy: 0.92 - ETA: 1s - loss: 0.1873 - accuracy: 0.92 - ETA: 1s - loss: 0.1872 - accuracy: 0.92 - ETA: 1s - loss: 0.1877 - accuracy: 0.92 - ETA: 1s - loss: 0.1878 - accuracy: 0.92 - ETA: 1s - loss: 0.1877 - accuracy: 0.92 - ETA: 1s - loss: 0.1877 - accuracy: 0.92 - ETA: 0s - loss: 0.1879 - accuracy: 0.92 - ETA: 0s - loss: 0.1879 - accuracy: 0.92 - ETA: 0s - loss: 0.1880 - accuracy: 0.92 - ETA: 0s - loss: 0.1880 - accuracy: 0.92 - ETA: 0s - loss: 0.1882 - accuracy: 0.92 - ETA: 0s - loss: 0.1883 - accuracy: 0.92 - ETA: 0s - loss: 0.1882 - accuracy: 0.92 - ETA: 0s - loss: 0.1883 - accuracy: 0.92 - ETA: 0s - loss: 0.1885 - accuracy: 0.92 - ETA: 0s - loss: 0.1885 - accuracy: 0.92 - 78s 3ms/sample - loss: 0.1885 - accuracy: 0.9270\n",
      "Epoch 5/5\n"
     ]
    },
    {
     "name": "stdout",
     "output_type": "stream",
     "text": [
      " 5952/25000 [======>.......................] - ETA: 1:09 - loss: 0.0603 - accuracy: 1.00 - ETA: 1:12 - loss: 0.0971 - accuracy: 0.96 - ETA: 1:13 - loss: 0.1142 - accuracy: 0.97 - ETA: 1:15 - loss: 0.1485 - accuracy: 0.96 - ETA: 1:16 - loss: 0.1605 - accuracy: 0.95 - ETA: 1:15 - loss: 0.1487 - accuracy: 0.95 - ETA: 1:15 - loss: 0.1695 - accuracy: 0.95 - ETA: 1:16 - loss: 0.1578 - accuracy: 0.95 - ETA: 1:16 - loss: 0.1540 - accuracy: 0.95 - ETA: 1:16 - loss: 0.1571 - accuracy: 0.95 - ETA: 1:15 - loss: 0.1538 - accuracy: 0.95 - ETA: 1:15 - loss: 0.1469 - accuracy: 0.96 - ETA: 1:15 - loss: 0.1479 - accuracy: 0.95 - ETA: 1:14 - loss: 0.1411 - accuracy: 0.95 - ETA: 1:15 - loss: 0.1461 - accuracy: 0.95 - ETA: 1:15 - loss: 0.1431 - accuracy: 0.96 - ETA: 1:15 - loss: 0.1439 - accuracy: 0.95 - ETA: 1:15 - loss: 0.1424 - accuracy: 0.96 - ETA: 1:15 - loss: 0.1365 - accuracy: 0.96 - ETA: 1:16 - loss: 0.1419 - accuracy: 0.95 - ETA: 1:16 - loss: 0.1462 - accuracy: 0.95 - ETA: 1:16 - loss: 0.1445 - accuracy: 0.95 - ETA: 1:16 - loss: 0.1441 - accuracy: 0.95 - ETA: 1:16 - loss: 0.1450 - accuracy: 0.95 - ETA: 1:17 - loss: 0.1449 - accuracy: 0.95 - ETA: 1:17 - loss: 0.1400 - accuracy: 0.95 - ETA: 1:17 - loss: 0.1371 - accuracy: 0.96 - ETA: 1:17 - loss: 0.1339 - accuracy: 0.96 - ETA: 1:17 - loss: 0.1337 - accuracy: 0.96 - ETA: 1:17 - loss: 0.1318 - accuracy: 0.96 - ETA: 1:18 - loss: 0.1294 - accuracy: 0.96 - ETA: 1:17 - loss: 0.1297 - accuracy: 0.96 - ETA: 1:17 - loss: 0.1323 - accuracy: 0.95 - ETA: 1:18 - loss: 0.1300 - accuracy: 0.96 - ETA: 1:18 - loss: 0.1309 - accuracy: 0.95 - ETA: 1:18 - loss: 0.1283 - accuracy: 0.95 - ETA: 1:18 - loss: 0.1338 - accuracy: 0.95 - ETA: 1:18 - loss: 0.1330 - accuracy: 0.95 - ETA: 1:18 - loss: 0.1337 - accuracy: 0.95 - ETA: 1:18 - loss: 0.1322 - accuracy: 0.95 - ETA: 1:18 - loss: 0.1358 - accuracy: 0.95 - ETA: 1:18 - loss: 0.1361 - accuracy: 0.95 - ETA: 1:18 - loss: 0.1359 - accuracy: 0.95 - ETA: 1:17 - loss: 0.1348 - accuracy: 0.95 - ETA: 1:17 - loss: 0.1349 - accuracy: 0.95 - ETA: 1:17 - loss: 0.1340 - accuracy: 0.95 - ETA: 1:17 - loss: 0.1326 - accuracy: 0.95 - ETA: 1:17 - loss: 0.1318 - accuracy: 0.95 - ETA: 1:18 - loss: 0.1297 - accuracy: 0.95 - ETA: 1:18 - loss: 0.1290 - accuracy: 0.95 - ETA: 1:18 - loss: 0.1281 - accuracy: 0.95 - ETA: 1:18 - loss: 0.1274 - accuracy: 0.95 - ETA: 1:18 - loss: 0.1275 - accuracy: 0.95 - ETA: 1:17 - loss: 0.1266 - accuracy: 0.95 - ETA: 1:17 - loss: 0.1257 - accuracy: 0.95 - ETA: 1:17 - loss: 0.1279 - accuracy: 0.95 - ETA: 1:17 - loss: 0.1270 - accuracy: 0.95 - ETA: 1:17 - loss: 0.1256 - accuracy: 0.95 - ETA: 1:17 - loss: 0.1247 - accuracy: 0.95 - ETA: 1:17 - loss: 0.1252 - accuracy: 0.95 - ETA: 1:17 - loss: 0.1245 - accuracy: 0.95 - ETA: 1:17 - loss: 0.1269 - accuracy: 0.95 - ETA: 1:16 - loss: 0.1266 - accuracy: 0.95 - ETA: 1:16 - loss: 0.1269 - accuracy: 0.95 - ETA: 1:16 - loss: 0.1281 - accuracy: 0.95 - ETA: 1:16 - loss: 0.1274 - accuracy: 0.95 - ETA: 1:16 - loss: 0.1265 - accuracy: 0.95 - ETA: 1:16 - loss: 0.1265 - accuracy: 0.95 - ETA: 1:16 - loss: 0.1273 - accuracy: 0.95 - ETA: 1:16 - loss: 0.1261 - accuracy: 0.95 - ETA: 1:16 - loss: 0.1250 - accuracy: 0.95 - ETA: 1:16 - loss: 0.1269 - accuracy: 0.95 - ETA: 1:15 - loss: 0.1274 - accuracy: 0.95 - ETA: 1:15 - loss: 0.1266 - accuracy: 0.95 - ETA: 1:15 - loss: 0.1277 - accuracy: 0.95 - ETA: 1:15 - loss: 0.1292 - accuracy: 0.95 - ETA: 1:15 - loss: 0.1295 - accuracy: 0.95 - ETA: 1:15 - loss: 0.1300 - accuracy: 0.95 - ETA: 1:15 - loss: 0.1300 - accuracy: 0.95 - ETA: 1:15 - loss: 0.1313 - accuracy: 0.95 - ETA: 1:15 - loss: 0.1301 - accuracy: 0.95 - ETA: 1:15 - loss: 0.1289 - accuracy: 0.95 - ETA: 1:15 - loss: 0.1301 - accuracy: 0.95 - ETA: 1:14 - loss: 0.1292 - accuracy: 0.95 - ETA: 1:14 - loss: 0.1299 - accuracy: 0.95 - ETA: 1:14 - loss: 0.1294 - accuracy: 0.95 - ETA: 1:14 - loss: 0.1286 - accuracy: 0.95 - ETA: 1:14 - loss: 0.1298 - accuracy: 0.95 - ETA: 1:14 - loss: 0.1296 - accuracy: 0.95 - ETA: 1:14 - loss: 0.1300 - accuracy: 0.95 - ETA: 1:14 - loss: 0.1300 - accuracy: 0.95 - ETA: 1:13 - loss: 0.1305 - accuracy: 0.95 - ETA: 1:13 - loss: 0.1304 - accuracy: 0.95 - ETA: 1:13 - loss: 0.1292 - accuracy: 0.95 - ETA: 1:13 - loss: 0.1295 - accuracy: 0.95 - ETA: 1:13 - loss: 0.1302 - accuracy: 0.95 - ETA: 1:13 - loss: 0.1323 - accuracy: 0.95 - ETA: 1:13 - loss: 0.1314 - accuracy: 0.95 - ETA: 1:13 - loss: 0.1311 - accuracy: 0.95 - ETA: 1:13 - loss: 0.1313 - accuracy: 0.95 - ETA: 1:13 - loss: 0.1303 - accuracy: 0.95 - ETA: 1:13 - loss: 0.1309 - accuracy: 0.95 - ETA: 1:13 - loss: 0.1303 - accuracy: 0.95 - ETA: 1:13 - loss: 0.1294 - accuracy: 0.95 - ETA: 1:13 - loss: 0.1287 - accuracy: 0.95 - ETA: 1:13 - loss: 0.1285 - accuracy: 0.95 - ETA: 1:13 - loss: 0.1286 - accuracy: 0.95 - ETA: 1:13 - loss: 0.1296 - accuracy: 0.95 - ETA: 1:12 - loss: 0.1291 - accuracy: 0.95 - ETA: 1:12 - loss: 0.1302 - accuracy: 0.95 - ETA: 1:12 - loss: 0.1299 - accuracy: 0.95 - ETA: 1:12 - loss: 0.1294 - accuracy: 0.95 - ETA: 1:12 - loss: 0.1289 - accuracy: 0.95 - ETA: 1:12 - loss: 0.1286 - accuracy: 0.95 - ETA: 1:12 - loss: 0.1277 - accuracy: 0.95 - ETA: 1:12 - loss: 0.1288 - accuracy: 0.95 - ETA: 1:11 - loss: 0.1279 - accuracy: 0.95 - ETA: 1:11 - loss: 0.1275 - accuracy: 0.95 - ETA: 1:11 - loss: 0.1271 - accuracy: 0.95 - ETA: 1:11 - loss: 0.1280 - accuracy: 0.95 - ETA: 1:11 - loss: 0.1273 - accuracy: 0.95 - ETA: 1:11 - loss: 0.1268 - accuracy: 0.95 - ETA: 1:11 - loss: 0.1277 - accuracy: 0.95 - ETA: 1:10 - loss: 0.1292 - accuracy: 0.95 - ETA: 1:10 - loss: 0.1295 - accuracy: 0.95 - ETA: 1:10 - loss: 0.1291 - accuracy: 0.95 - ETA: 1:10 - loss: 0.1287 - accuracy: 0.95 - ETA: 1:10 - loss: 0.1291 - accuracy: 0.95 - ETA: 1:10 - loss: 0.1291 - accuracy: 0.95 - ETA: 1:10 - loss: 0.1285 - accuracy: 0.95 - ETA: 1:10 - loss: 0.1280 - accuracy: 0.95 - ETA: 1:09 - loss: 0.1276 - accuracy: 0.95 - ETA: 1:09 - loss: 0.1273 - accuracy: 0.95 - ETA: 1:09 - loss: 0.1274 - accuracy: 0.95 - ETA: 1:09 - loss: 0.1282 - accuracy: 0.95 - ETA: 1:09 - loss: 0.1277 - accuracy: 0.95 - ETA: 1:09 - loss: 0.1276 - accuracy: 0.95 - ETA: 1:09 - loss: 0.1270 - accuracy: 0.95 - ETA: 1:09 - loss: 0.1263 - accuracy: 0.95 - ETA: 1:08 - loss: 0.1268 - accuracy: 0.95 - ETA: 1:08 - loss: 0.1260 - accuracy: 0.95 - ETA: 1:08 - loss: 0.1255 - accuracy: 0.95 - ETA: 1:08 - loss: 0.1253 - accuracy: 0.95 - ETA: 1:08 - loss: 0.1254 - accuracy: 0.95 - ETA: 1:08 - loss: 0.1246 - accuracy: 0.95 - ETA: 1:08 - loss: 0.1255 - accuracy: 0.95 - ETA: 1:08 - loss: 0.1257 - accuracy: 0.95 - ETA: 1:07 - loss: 0.1266 - accuracy: 0.95 - ETA: 1:07 - loss: 0.1269 - accuracy: 0.95 - ETA: 1:07 - loss: 0.1278 - accuracy: 0.95 - ETA: 1:07 - loss: 0.1279 - accuracy: 0.95 - ETA: 1:07 - loss: 0.1273 - accuracy: 0.95 - ETA: 1:07 - loss: 0.1276 - accuracy: 0.95 - ETA: 1:07 - loss: 0.1276 - accuracy: 0.95 - ETA: 1:06 - loss: 0.1293 - accuracy: 0.95 - ETA: 1:06 - loss: 0.1289 - accuracy: 0.95 - ETA: 1:06 - loss: 0.1290 - accuracy: 0.95 - ETA: 1:06 - loss: 0.1289 - accuracy: 0.95 - ETA: 1:06 - loss: 0.1284 - accuracy: 0.95 - ETA: 1:06 - loss: 0.1287 - accuracy: 0.95 - ETA: 1:06 - loss: 0.1284 - accuracy: 0.95 - ETA: 1:06 - loss: 0.1293 - accuracy: 0.95 - ETA: 1:05 - loss: 0.1294 - accuracy: 0.95 - ETA: 1:05 - loss: 0.1295 - accuracy: 0.95 - ETA: 1:05 - loss: 0.1293 - accuracy: 0.95 - ETA: 1:05 - loss: 0.1289 - accuracy: 0.95 - ETA: 1:05 - loss: 0.1294 - accuracy: 0.95 - ETA: 1:05 - loss: 0.1289 - accuracy: 0.95 - ETA: 1:05 - loss: 0.1288 - accuracy: 0.95 - ETA: 1:05 - loss: 0.1289 - accuracy: 0.95 - ETA: 1:04 - loss: 0.1283 - accuracy: 0.95 - ETA: 1:04 - loss: 0.1281 - accuracy: 0.95 - ETA: 1:04 - loss: 0.1280 - accuracy: 0.95 - ETA: 1:04 - loss: 0.1276 - accuracy: 0.95 - ETA: 1:04 - loss: 0.1277 - accuracy: 0.95 - ETA: 1:04 - loss: 0.1272 - accuracy: 0.95 - ETA: 1:04 - loss: 0.1268 - accuracy: 0.95 - ETA: 1:04 - loss: 0.1268 - accuracy: 0.95 - ETA: 1:04 - loss: 0.1266 - accuracy: 0.95 - ETA: 1:04 - loss: 0.1265 - accuracy: 0.95 - ETA: 1:03 - loss: 0.1262 - accuracy: 0.95 - ETA: 1:03 - loss: 0.1268 - accuracy: 0.95 - ETA: 1:03 - loss: 0.1271 - accuracy: 0.95 - ETA: 1:03 - loss: 0.1272 - accuracy: 0.95 - ETA: 1:03 - loss: 0.1280 - accuracy: 0.95 - ETA: 1:03 - loss: 0.1276 - accuracy: 0.9561"
     ]
    },
    {
     "name": "stdout",
     "output_type": "stream",
     "text": [
      "11904/25000 [=============>................] - ETA: 1:03 - loss: 0.1274 - accuracy: 0.95 - ETA: 1:03 - loss: 0.1270 - accuracy: 0.95 - ETA: 1:03 - loss: 0.1265 - accuracy: 0.95 - ETA: 1:02 - loss: 0.1261 - accuracy: 0.95 - ETA: 1:02 - loss: 0.1270 - accuracy: 0.95 - ETA: 1:02 - loss: 0.1264 - accuracy: 0.95 - ETA: 1:02 - loss: 0.1262 - accuracy: 0.95 - ETA: 1:02 - loss: 0.1267 - accuracy: 0.95 - ETA: 1:02 - loss: 0.1269 - accuracy: 0.95 - ETA: 1:02 - loss: 0.1268 - accuracy: 0.95 - ETA: 1:02 - loss: 0.1270 - accuracy: 0.95 - ETA: 1:01 - loss: 0.1273 - accuracy: 0.95 - ETA: 1:01 - loss: 0.1271 - accuracy: 0.95 - ETA: 1:01 - loss: 0.1266 - accuracy: 0.95 - ETA: 1:01 - loss: 0.1267 - accuracy: 0.95 - ETA: 1:01 - loss: 0.1263 - accuracy: 0.95 - ETA: 1:01 - loss: 0.1267 - accuracy: 0.95 - ETA: 1:01 - loss: 0.1262 - accuracy: 0.95 - ETA: 1:01 - loss: 0.1257 - accuracy: 0.95 - ETA: 1:00 - loss: 0.1256 - accuracy: 0.95 - ETA: 1:00 - loss: 0.1253 - accuracy: 0.95 - ETA: 1:00 - loss: 0.1252 - accuracy: 0.95 - ETA: 1:00 - loss: 0.1250 - accuracy: 0.95 - ETA: 1:00 - loss: 0.1248 - accuracy: 0.95 - ETA: 1:00 - loss: 0.1245 - accuracy: 0.95 - ETA: 1:00 - loss: 0.1243 - accuracy: 0.95 - ETA: 1:00 - loss: 0.1242 - accuracy: 0.95 - ETA: 59s - loss: 0.1243 - accuracy: 0.9574 - ETA: 59s - loss: 0.1252 - accuracy: 0.957 - ETA: 59s - loss: 0.1247 - accuracy: 0.957 - ETA: 59s - loss: 0.1245 - accuracy: 0.957 - ETA: 59s - loss: 0.1247 - accuracy: 0.957 - ETA: 59s - loss: 0.1244 - accuracy: 0.957 - ETA: 59s - loss: 0.1248 - accuracy: 0.957 - ETA: 59s - loss: 0.1251 - accuracy: 0.957 - ETA: 58s - loss: 0.1254 - accuracy: 0.956 - ETA: 58s - loss: 0.1257 - accuracy: 0.957 - ETA: 58s - loss: 0.1254 - accuracy: 0.957 - ETA: 58s - loss: 0.1252 - accuracy: 0.957 - ETA: 58s - loss: 0.1249 - accuracy: 0.957 - ETA: 58s - loss: 0.1264 - accuracy: 0.957 - ETA: 58s - loss: 0.1271 - accuracy: 0.957 - ETA: 58s - loss: 0.1269 - accuracy: 0.957 - ETA: 57s - loss: 0.1274 - accuracy: 0.957 - ETA: 57s - loss: 0.1276 - accuracy: 0.957 - ETA: 57s - loss: 0.1275 - accuracy: 0.957 - ETA: 57s - loss: 0.1277 - accuracy: 0.956 - ETA: 57s - loss: 0.1274 - accuracy: 0.957 - ETA: 57s - loss: 0.1273 - accuracy: 0.957 - ETA: 57s - loss: 0.1271 - accuracy: 0.957 - ETA: 57s - loss: 0.1269 - accuracy: 0.957 - ETA: 56s - loss: 0.1266 - accuracy: 0.957 - ETA: 56s - loss: 0.1261 - accuracy: 0.957 - ETA: 56s - loss: 0.1262 - accuracy: 0.957 - ETA: 56s - loss: 0.1259 - accuracy: 0.957 - ETA: 56s - loss: 0.1256 - accuracy: 0.957 - ETA: 56s - loss: 0.1254 - accuracy: 0.957 - ETA: 56s - loss: 0.1258 - accuracy: 0.957 - ETA: 56s - loss: 0.1259 - accuracy: 0.957 - ETA: 55s - loss: 0.1255 - accuracy: 0.957 - ETA: 55s - loss: 0.1260 - accuracy: 0.957 - ETA: 55s - loss: 0.1258 - accuracy: 0.957 - ETA: 55s - loss: 0.1255 - accuracy: 0.957 - ETA: 55s - loss: 0.1251 - accuracy: 0.957 - ETA: 55s - loss: 0.1249 - accuracy: 0.957 - ETA: 55s - loss: 0.1245 - accuracy: 0.957 - ETA: 55s - loss: 0.1246 - accuracy: 0.957 - ETA: 55s - loss: 0.1250 - accuracy: 0.957 - ETA: 55s - loss: 0.1252 - accuracy: 0.957 - ETA: 54s - loss: 0.1248 - accuracy: 0.957 - ETA: 54s - loss: 0.1245 - accuracy: 0.957 - ETA: 54s - loss: 0.1244 - accuracy: 0.957 - ETA: 54s - loss: 0.1243 - accuracy: 0.957 - ETA: 54s - loss: 0.1241 - accuracy: 0.957 - ETA: 54s - loss: 0.1244 - accuracy: 0.957 - ETA: 54s - loss: 0.1246 - accuracy: 0.957 - ETA: 54s - loss: 0.1242 - accuracy: 0.957 - ETA: 54s - loss: 0.1245 - accuracy: 0.957 - ETA: 53s - loss: 0.1246 - accuracy: 0.957 - ETA: 53s - loss: 0.1250 - accuracy: 0.957 - ETA: 53s - loss: 0.1258 - accuracy: 0.956 - ETA: 53s - loss: 0.1264 - accuracy: 0.956 - ETA: 53s - loss: 0.1266 - accuracy: 0.956 - ETA: 53s - loss: 0.1266 - accuracy: 0.956 - ETA: 53s - loss: 0.1264 - accuracy: 0.956 - ETA: 53s - loss: 0.1268 - accuracy: 0.956 - ETA: 53s - loss: 0.1264 - accuracy: 0.956 - ETA: 52s - loss: 0.1267 - accuracy: 0.956 - ETA: 52s - loss: 0.1270 - accuracy: 0.956 - ETA: 52s - loss: 0.1271 - accuracy: 0.956 - ETA: 52s - loss: 0.1275 - accuracy: 0.956 - ETA: 52s - loss: 0.1278 - accuracy: 0.956 - ETA: 52s - loss: 0.1281 - accuracy: 0.956 - ETA: 52s - loss: 0.1278 - accuracy: 0.956 - ETA: 52s - loss: 0.1275 - accuracy: 0.956 - ETA: 52s - loss: 0.1274 - accuracy: 0.956 - ETA: 51s - loss: 0.1271 - accuracy: 0.956 - ETA: 51s - loss: 0.1269 - accuracy: 0.956 - ETA: 51s - loss: 0.1267 - accuracy: 0.956 - ETA: 51s - loss: 0.1264 - accuracy: 0.956 - ETA: 51s - loss: 0.1261 - accuracy: 0.956 - ETA: 51s - loss: 0.1261 - accuracy: 0.956 - ETA: 51s - loss: 0.1260 - accuracy: 0.956 - ETA: 51s - loss: 0.1260 - accuracy: 0.956 - ETA: 50s - loss: 0.1258 - accuracy: 0.956 - ETA: 50s - loss: 0.1255 - accuracy: 0.956 - ETA: 50s - loss: 0.1255 - accuracy: 0.956 - ETA: 50s - loss: 0.1257 - accuracy: 0.956 - ETA: 50s - loss: 0.1258 - accuracy: 0.956 - ETA: 50s - loss: 0.1255 - accuracy: 0.956 - ETA: 50s - loss: 0.1256 - accuracy: 0.956 - ETA: 50s - loss: 0.1260 - accuracy: 0.955 - ETA: 50s - loss: 0.1257 - accuracy: 0.956 - ETA: 49s - loss: 0.1255 - accuracy: 0.956 - ETA: 49s - loss: 0.1258 - accuracy: 0.956 - ETA: 49s - loss: 0.1255 - accuracy: 0.956 - ETA: 49s - loss: 0.1266 - accuracy: 0.955 - ETA: 49s - loss: 0.1268 - accuracy: 0.955 - ETA: 49s - loss: 0.1265 - accuracy: 0.955 - ETA: 49s - loss: 0.1268 - accuracy: 0.955 - ETA: 49s - loss: 0.1269 - accuracy: 0.955 - ETA: 49s - loss: 0.1267 - accuracy: 0.955 - ETA: 48s - loss: 0.1266 - accuracy: 0.955 - ETA: 48s - loss: 0.1266 - accuracy: 0.955 - ETA: 48s - loss: 0.1263 - accuracy: 0.955 - ETA: 48s - loss: 0.1264 - accuracy: 0.955 - ETA: 48s - loss: 0.1263 - accuracy: 0.955 - ETA: 48s - loss: 0.1262 - accuracy: 0.955 - ETA: 48s - loss: 0.1259 - accuracy: 0.955 - ETA: 48s - loss: 0.1258 - accuracy: 0.955 - ETA: 48s - loss: 0.1260 - accuracy: 0.955 - ETA: 47s - loss: 0.1258 - accuracy: 0.955 - ETA: 47s - loss: 0.1255 - accuracy: 0.955 - ETA: 47s - loss: 0.1260 - accuracy: 0.955 - ETA: 47s - loss: 0.1262 - accuracy: 0.955 - ETA: 47s - loss: 0.1263 - accuracy: 0.955 - ETA: 47s - loss: 0.1263 - accuracy: 0.955 - ETA: 47s - loss: 0.1271 - accuracy: 0.955 - ETA: 47s - loss: 0.1269 - accuracy: 0.955 - ETA: 47s - loss: 0.1272 - accuracy: 0.955 - ETA: 46s - loss: 0.1270 - accuracy: 0.955 - ETA: 46s - loss: 0.1272 - accuracy: 0.955 - ETA: 46s - loss: 0.1274 - accuracy: 0.955 - ETA: 46s - loss: 0.1272 - accuracy: 0.955 - ETA: 46s - loss: 0.1271 - accuracy: 0.955 - ETA: 46s - loss: 0.1279 - accuracy: 0.954 - ETA: 46s - loss: 0.1280 - accuracy: 0.954 - ETA: 46s - loss: 0.1278 - accuracy: 0.954 - ETA: 46s - loss: 0.1279 - accuracy: 0.954 - ETA: 45s - loss: 0.1281 - accuracy: 0.954 - ETA: 45s - loss: 0.1279 - accuracy: 0.954 - ETA: 45s - loss: 0.1279 - accuracy: 0.954 - ETA: 45s - loss: 0.1277 - accuracy: 0.955 - ETA: 45s - loss: 0.1281 - accuracy: 0.954 - ETA: 45s - loss: 0.1279 - accuracy: 0.955 - ETA: 45s - loss: 0.1276 - accuracy: 0.955 - ETA: 45s - loss: 0.1274 - accuracy: 0.955 - ETA: 45s - loss: 0.1274 - accuracy: 0.955 - ETA: 45s - loss: 0.1279 - accuracy: 0.955 - ETA: 44s - loss: 0.1278 - accuracy: 0.955 - ETA: 44s - loss: 0.1276 - accuracy: 0.955 - ETA: 44s - loss: 0.1276 - accuracy: 0.955 - ETA: 44s - loss: 0.1278 - accuracy: 0.955 - ETA: 44s - loss: 0.1281 - accuracy: 0.954 - ETA: 44s - loss: 0.1280 - accuracy: 0.954 - ETA: 44s - loss: 0.1282 - accuracy: 0.954 - ETA: 44s - loss: 0.1280 - accuracy: 0.954 - ETA: 44s - loss: 0.1278 - accuracy: 0.954 - ETA: 43s - loss: 0.1279 - accuracy: 0.954 - ETA: 43s - loss: 0.1276 - accuracy: 0.954 - ETA: 43s - loss: 0.1274 - accuracy: 0.954 - ETA: 43s - loss: 0.1276 - accuracy: 0.954 - ETA: 43s - loss: 0.1276 - accuracy: 0.954 - ETA: 43s - loss: 0.1274 - accuracy: 0.954 - ETA: 43s - loss: 0.1272 - accuracy: 0.954 - ETA: 43s - loss: 0.1270 - accuracy: 0.954 - ETA: 43s - loss: 0.1270 - accuracy: 0.954 - ETA: 42s - loss: 0.1274 - accuracy: 0.954 - ETA: 42s - loss: 0.1273 - accuracy: 0.954 - ETA: 42s - loss: 0.1273 - accuracy: 0.954 - ETA: 42s - loss: 0.1273 - accuracy: 0.954 - ETA: 42s - loss: 0.1274 - accuracy: 0.954 - ETA: 42s - loss: 0.1279 - accuracy: 0.954 - ETA: 42s - loss: 0.1278 - accuracy: 0.954 - ETA: 42s - loss: 0.1279 - accuracy: 0.954 - ETA: 42s - loss: 0.1280 - accuracy: 0.9539"
     ]
    },
    {
     "name": "stdout",
     "output_type": "stream",
     "text": [
      "17856/25000 [====================>.........] - ETA: 41s - loss: 0.1279 - accuracy: 0.953 - ETA: 41s - loss: 0.1280 - accuracy: 0.953 - ETA: 41s - loss: 0.1282 - accuracy: 0.953 - ETA: 41s - loss: 0.1282 - accuracy: 0.953 - ETA: 41s - loss: 0.1280 - accuracy: 0.953 - ETA: 41s - loss: 0.1281 - accuracy: 0.953 - ETA: 41s - loss: 0.1282 - accuracy: 0.953 - ETA: 41s - loss: 0.1284 - accuracy: 0.953 - ETA: 41s - loss: 0.1286 - accuracy: 0.953 - ETA: 41s - loss: 0.1295 - accuracy: 0.953 - ETA: 40s - loss: 0.1296 - accuracy: 0.953 - ETA: 40s - loss: 0.1293 - accuracy: 0.953 - ETA: 40s - loss: 0.1295 - accuracy: 0.953 - ETA: 40s - loss: 0.1297 - accuracy: 0.953 - ETA: 40s - loss: 0.1294 - accuracy: 0.953 - ETA: 40s - loss: 0.1295 - accuracy: 0.953 - ETA: 40s - loss: 0.1293 - accuracy: 0.953 - ETA: 40s - loss: 0.1294 - accuracy: 0.953 - ETA: 40s - loss: 0.1295 - accuracy: 0.953 - ETA: 39s - loss: 0.1294 - accuracy: 0.953 - ETA: 39s - loss: 0.1293 - accuracy: 0.953 - ETA: 39s - loss: 0.1291 - accuracy: 0.953 - ETA: 39s - loss: 0.1291 - accuracy: 0.953 - ETA: 39s - loss: 0.1290 - accuracy: 0.953 - ETA: 39s - loss: 0.1293 - accuracy: 0.953 - ETA: 39s - loss: 0.1300 - accuracy: 0.953 - ETA: 39s - loss: 0.1301 - accuracy: 0.953 - ETA: 39s - loss: 0.1300 - accuracy: 0.953 - ETA: 39s - loss: 0.1302 - accuracy: 0.953 - ETA: 38s - loss: 0.1307 - accuracy: 0.952 - ETA: 38s - loss: 0.1308 - accuracy: 0.952 - ETA: 38s - loss: 0.1306 - accuracy: 0.952 - ETA: 38s - loss: 0.1307 - accuracy: 0.952 - ETA: 38s - loss: 0.1305 - accuracy: 0.952 - ETA: 38s - loss: 0.1304 - accuracy: 0.952 - ETA: 38s - loss: 0.1307 - accuracy: 0.952 - ETA: 38s - loss: 0.1312 - accuracy: 0.952 - ETA: 38s - loss: 0.1312 - accuracy: 0.952 - ETA: 37s - loss: 0.1310 - accuracy: 0.952 - ETA: 37s - loss: 0.1308 - accuracy: 0.952 - ETA: 37s - loss: 0.1309 - accuracy: 0.952 - ETA: 37s - loss: 0.1307 - accuracy: 0.952 - ETA: 37s - loss: 0.1309 - accuracy: 0.952 - ETA: 37s - loss: 0.1311 - accuracy: 0.952 - ETA: 37s - loss: 0.1314 - accuracy: 0.952 - ETA: 37s - loss: 0.1315 - accuracy: 0.952 - ETA: 37s - loss: 0.1313 - accuracy: 0.952 - ETA: 37s - loss: 0.1311 - accuracy: 0.952 - ETA: 36s - loss: 0.1313 - accuracy: 0.952 - ETA: 36s - loss: 0.1311 - accuracy: 0.952 - ETA: 36s - loss: 0.1310 - accuracy: 0.952 - ETA: 36s - loss: 0.1314 - accuracy: 0.952 - ETA: 36s - loss: 0.1313 - accuracy: 0.952 - ETA: 36s - loss: 0.1311 - accuracy: 0.952 - ETA: 36s - loss: 0.1313 - accuracy: 0.952 - ETA: 36s - loss: 0.1314 - accuracy: 0.952 - ETA: 36s - loss: 0.1315 - accuracy: 0.952 - ETA: 36s - loss: 0.1313 - accuracy: 0.952 - ETA: 35s - loss: 0.1312 - accuracy: 0.952 - ETA: 35s - loss: 0.1315 - accuracy: 0.952 - ETA: 35s - loss: 0.1315 - accuracy: 0.952 - ETA: 35s - loss: 0.1313 - accuracy: 0.952 - ETA: 35s - loss: 0.1312 - accuracy: 0.952 - ETA: 35s - loss: 0.1312 - accuracy: 0.952 - ETA: 35s - loss: 0.1314 - accuracy: 0.952 - ETA: 35s - loss: 0.1312 - accuracy: 0.952 - ETA: 35s - loss: 0.1314 - accuracy: 0.952 - ETA: 34s - loss: 0.1315 - accuracy: 0.952 - ETA: 34s - loss: 0.1313 - accuracy: 0.952 - ETA: 34s - loss: 0.1312 - accuracy: 0.952 - ETA: 34s - loss: 0.1311 - accuracy: 0.952 - ETA: 34s - loss: 0.1311 - accuracy: 0.952 - ETA: 34s - loss: 0.1314 - accuracy: 0.952 - ETA: 34s - loss: 0.1313 - accuracy: 0.952 - ETA: 34s - loss: 0.1312 - accuracy: 0.952 - ETA: 34s - loss: 0.1313 - accuracy: 0.952 - ETA: 34s - loss: 0.1314 - accuracy: 0.952 - ETA: 33s - loss: 0.1315 - accuracy: 0.952 - ETA: 33s - loss: 0.1315 - accuracy: 0.952 - ETA: 33s - loss: 0.1317 - accuracy: 0.952 - ETA: 33s - loss: 0.1317 - accuracy: 0.952 - ETA: 33s - loss: 0.1322 - accuracy: 0.952 - ETA: 33s - loss: 0.1324 - accuracy: 0.952 - ETA: 33s - loss: 0.1325 - accuracy: 0.952 - ETA: 33s - loss: 0.1327 - accuracy: 0.952 - ETA: 33s - loss: 0.1325 - accuracy: 0.952 - ETA: 33s - loss: 0.1324 - accuracy: 0.952 - ETA: 32s - loss: 0.1329 - accuracy: 0.952 - ETA: 32s - loss: 0.1328 - accuracy: 0.952 - ETA: 32s - loss: 0.1326 - accuracy: 0.952 - ETA: 32s - loss: 0.1326 - accuracy: 0.952 - ETA: 32s - loss: 0.1327 - accuracy: 0.952 - ETA: 32s - loss: 0.1325 - accuracy: 0.952 - ETA: 32s - loss: 0.1323 - accuracy: 0.952 - ETA: 32s - loss: 0.1323 - accuracy: 0.952 - ETA: 32s - loss: 0.1323 - accuracy: 0.952 - ETA: 32s - loss: 0.1322 - accuracy: 0.952 - ETA: 31s - loss: 0.1323 - accuracy: 0.952 - ETA: 31s - loss: 0.1323 - accuracy: 0.952 - ETA: 31s - loss: 0.1322 - accuracy: 0.952 - ETA: 31s - loss: 0.1320 - accuracy: 0.952 - ETA: 31s - loss: 0.1318 - accuracy: 0.953 - ETA: 31s - loss: 0.1316 - accuracy: 0.953 - ETA: 31s - loss: 0.1315 - accuracy: 0.953 - ETA: 31s - loss: 0.1317 - accuracy: 0.953 - ETA: 31s - loss: 0.1316 - accuracy: 0.953 - ETA: 30s - loss: 0.1314 - accuracy: 0.953 - ETA: 30s - loss: 0.1315 - accuracy: 0.953 - ETA: 30s - loss: 0.1313 - accuracy: 0.953 - ETA: 30s - loss: 0.1312 - accuracy: 0.953 - ETA: 30s - loss: 0.1316 - accuracy: 0.953 - ETA: 30s - loss: 0.1317 - accuracy: 0.953 - ETA: 30s - loss: 0.1316 - accuracy: 0.953 - ETA: 30s - loss: 0.1318 - accuracy: 0.953 - ETA: 30s - loss: 0.1318 - accuracy: 0.953 - ETA: 30s - loss: 0.1321 - accuracy: 0.952 - ETA: 30s - loss: 0.1320 - accuracy: 0.952 - ETA: 29s - loss: 0.1325 - accuracy: 0.952 - ETA: 29s - loss: 0.1323 - accuracy: 0.952 - ETA: 29s - loss: 0.1321 - accuracy: 0.952 - ETA: 29s - loss: 0.1319 - accuracy: 0.953 - ETA: 29s - loss: 0.1318 - accuracy: 0.953 - ETA: 29s - loss: 0.1321 - accuracy: 0.952 - ETA: 29s - loss: 0.1329 - accuracy: 0.952 - ETA: 29s - loss: 0.1336 - accuracy: 0.952 - ETA: 29s - loss: 0.1334 - accuracy: 0.952 - ETA: 29s - loss: 0.1334 - accuracy: 0.952 - ETA: 28s - loss: 0.1335 - accuracy: 0.952 - ETA: 28s - loss: 0.1335 - accuracy: 0.952 - ETA: 28s - loss: 0.1333 - accuracy: 0.952 - ETA: 28s - loss: 0.1331 - accuracy: 0.952 - ETA: 28s - loss: 0.1334 - accuracy: 0.952 - ETA: 28s - loss: 0.1333 - accuracy: 0.952 - ETA: 28s - loss: 0.1335 - accuracy: 0.952 - ETA: 28s - loss: 0.1335 - accuracy: 0.952 - ETA: 28s - loss: 0.1333 - accuracy: 0.952 - ETA: 28s - loss: 0.1334 - accuracy: 0.952 - ETA: 27s - loss: 0.1336 - accuracy: 0.952 - ETA: 27s - loss: 0.1336 - accuracy: 0.952 - ETA: 27s - loss: 0.1337 - accuracy: 0.952 - ETA: 27s - loss: 0.1337 - accuracy: 0.952 - ETA: 27s - loss: 0.1337 - accuracy: 0.952 - ETA: 27s - loss: 0.1336 - accuracy: 0.952 - ETA: 27s - loss: 0.1337 - accuracy: 0.952 - ETA: 27s - loss: 0.1337 - accuracy: 0.952 - ETA: 27s - loss: 0.1335 - accuracy: 0.952 - ETA: 26s - loss: 0.1334 - accuracy: 0.952 - ETA: 26s - loss: 0.1335 - accuracy: 0.952 - ETA: 26s - loss: 0.1335 - accuracy: 0.952 - ETA: 26s - loss: 0.1333 - accuracy: 0.952 - ETA: 26s - loss: 0.1333 - accuracy: 0.952 - ETA: 26s - loss: 0.1334 - accuracy: 0.952 - ETA: 26s - loss: 0.1334 - accuracy: 0.952 - ETA: 26s - loss: 0.1333 - accuracy: 0.952 - ETA: 26s - loss: 0.1331 - accuracy: 0.952 - ETA: 26s - loss: 0.1332 - accuracy: 0.952 - ETA: 25s - loss: 0.1330 - accuracy: 0.952 - ETA: 25s - loss: 0.1330 - accuracy: 0.952 - ETA: 25s - loss: 0.1331 - accuracy: 0.952 - ETA: 25s - loss: 0.1332 - accuracy: 0.952 - ETA: 25s - loss: 0.1331 - accuracy: 0.952 - ETA: 25s - loss: 0.1331 - accuracy: 0.952 - ETA: 25s - loss: 0.1329 - accuracy: 0.952 - ETA: 25s - loss: 0.1329 - accuracy: 0.952 - ETA: 25s - loss: 0.1328 - accuracy: 0.952 - ETA: 25s - loss: 0.1329 - accuracy: 0.952 - ETA: 24s - loss: 0.1331 - accuracy: 0.952 - ETA: 24s - loss: 0.1331 - accuracy: 0.952 - ETA: 24s - loss: 0.1331 - accuracy: 0.952 - ETA: 24s - loss: 0.1330 - accuracy: 0.952 - ETA: 24s - loss: 0.1329 - accuracy: 0.952 - ETA: 24s - loss: 0.1328 - accuracy: 0.952 - ETA: 24s - loss: 0.1328 - accuracy: 0.952 - ETA: 24s - loss: 0.1327 - accuracy: 0.952 - ETA: 24s - loss: 0.1326 - accuracy: 0.952 - ETA: 24s - loss: 0.1326 - accuracy: 0.952 - ETA: 23s - loss: 0.1327 - accuracy: 0.952 - ETA: 23s - loss: 0.1326 - accuracy: 0.952 - ETA: 23s - loss: 0.1329 - accuracy: 0.952 - ETA: 23s - loss: 0.1331 - accuracy: 0.952 - ETA: 23s - loss: 0.1333 - accuracy: 0.952 - ETA: 23s - loss: 0.1333 - accuracy: 0.952 - ETA: 23s - loss: 0.1331 - accuracy: 0.952 - ETA: 23s - loss: 0.1329 - accuracy: 0.952 - ETA: 23s - loss: 0.1331 - accuracy: 0.952 - ETA: 23s - loss: 0.1332 - accuracy: 0.9522"
     ]
    },
    {
     "name": "stdout",
     "output_type": "stream",
     "text": [
      "23872/25000 [===========================>..] - ETA: 22s - loss: 0.1333 - accuracy: 0.952 - ETA: 22s - loss: 0.1332 - accuracy: 0.952 - ETA: 22s - loss: 0.1332 - accuracy: 0.952 - ETA: 22s - loss: 0.1334 - accuracy: 0.952 - ETA: 22s - loss: 0.1332 - accuracy: 0.952 - ETA: 22s - loss: 0.1334 - accuracy: 0.952 - ETA: 22s - loss: 0.1336 - accuracy: 0.951 - ETA: 22s - loss: 0.1336 - accuracy: 0.951 - ETA: 22s - loss: 0.1339 - accuracy: 0.951 - ETA: 22s - loss: 0.1338 - accuracy: 0.951 - ETA: 21s - loss: 0.1340 - accuracy: 0.951 - ETA: 21s - loss: 0.1341 - accuracy: 0.951 - ETA: 21s - loss: 0.1340 - accuracy: 0.951 - ETA: 21s - loss: 0.1339 - accuracy: 0.951 - ETA: 21s - loss: 0.1338 - accuracy: 0.951 - ETA: 21s - loss: 0.1337 - accuracy: 0.951 - ETA: 21s - loss: 0.1338 - accuracy: 0.951 - ETA: 21s - loss: 0.1337 - accuracy: 0.951 - ETA: 21s - loss: 0.1337 - accuracy: 0.951 - ETA: 21s - loss: 0.1337 - accuracy: 0.951 - ETA: 20s - loss: 0.1335 - accuracy: 0.951 - ETA: 20s - loss: 0.1334 - accuracy: 0.951 - ETA: 20s - loss: 0.1335 - accuracy: 0.952 - ETA: 20s - loss: 0.1335 - accuracy: 0.952 - ETA: 20s - loss: 0.1335 - accuracy: 0.952 - ETA: 20s - loss: 0.1333 - accuracy: 0.952 - ETA: 20s - loss: 0.1332 - accuracy: 0.952 - ETA: 20s - loss: 0.1332 - accuracy: 0.952 - ETA: 20s - loss: 0.1336 - accuracy: 0.951 - ETA: 20s - loss: 0.1337 - accuracy: 0.951 - ETA: 19s - loss: 0.1339 - accuracy: 0.951 - ETA: 19s - loss: 0.1337 - accuracy: 0.951 - ETA: 19s - loss: 0.1337 - accuracy: 0.951 - ETA: 19s - loss: 0.1338 - accuracy: 0.951 - ETA: 19s - loss: 0.1337 - accuracy: 0.951 - ETA: 19s - loss: 0.1338 - accuracy: 0.951 - ETA: 19s - loss: 0.1337 - accuracy: 0.951 - ETA: 19s - loss: 0.1337 - accuracy: 0.951 - ETA: 19s - loss: 0.1340 - accuracy: 0.951 - ETA: 19s - loss: 0.1339 - accuracy: 0.951 - ETA: 18s - loss: 0.1340 - accuracy: 0.951 - ETA: 18s - loss: 0.1339 - accuracy: 0.951 - ETA: 18s - loss: 0.1340 - accuracy: 0.951 - ETA: 18s - loss: 0.1340 - accuracy: 0.951 - ETA: 18s - loss: 0.1340 - accuracy: 0.951 - ETA: 18s - loss: 0.1339 - accuracy: 0.951 - ETA: 18s - loss: 0.1340 - accuracy: 0.951 - ETA: 18s - loss: 0.1341 - accuracy: 0.951 - ETA: 18s - loss: 0.1340 - accuracy: 0.951 - ETA: 17s - loss: 0.1339 - accuracy: 0.951 - ETA: 17s - loss: 0.1338 - accuracy: 0.951 - ETA: 17s - loss: 0.1338 - accuracy: 0.951 - ETA: 17s - loss: 0.1340 - accuracy: 0.951 - ETA: 17s - loss: 0.1341 - accuracy: 0.951 - ETA: 17s - loss: 0.1341 - accuracy: 0.951 - ETA: 17s - loss: 0.1340 - accuracy: 0.951 - ETA: 17s - loss: 0.1341 - accuracy: 0.951 - ETA: 17s - loss: 0.1340 - accuracy: 0.951 - ETA: 17s - loss: 0.1340 - accuracy: 0.951 - ETA: 16s - loss: 0.1344 - accuracy: 0.951 - ETA: 16s - loss: 0.1346 - accuracy: 0.951 - ETA: 16s - loss: 0.1344 - accuracy: 0.951 - ETA: 16s - loss: 0.1344 - accuracy: 0.951 - ETA: 16s - loss: 0.1343 - accuracy: 0.951 - ETA: 16s - loss: 0.1343 - accuracy: 0.951 - ETA: 16s - loss: 0.1344 - accuracy: 0.951 - ETA: 16s - loss: 0.1343 - accuracy: 0.951 - ETA: 16s - loss: 0.1343 - accuracy: 0.951 - ETA: 16s - loss: 0.1342 - accuracy: 0.951 - ETA: 15s - loss: 0.1346 - accuracy: 0.951 - ETA: 15s - loss: 0.1344 - accuracy: 0.951 - ETA: 15s - loss: 0.1344 - accuracy: 0.951 - ETA: 15s - loss: 0.1344 - accuracy: 0.951 - ETA: 15s - loss: 0.1343 - accuracy: 0.951 - ETA: 15s - loss: 0.1342 - accuracy: 0.951 - ETA: 15s - loss: 0.1341 - accuracy: 0.951 - ETA: 15s - loss: 0.1340 - accuracy: 0.951 - ETA: 15s - loss: 0.1339 - accuracy: 0.951 - ETA: 14s - loss: 0.1340 - accuracy: 0.951 - ETA: 14s - loss: 0.1340 - accuracy: 0.951 - ETA: 14s - loss: 0.1340 - accuracy: 0.951 - ETA: 14s - loss: 0.1339 - accuracy: 0.951 - ETA: 14s - loss: 0.1345 - accuracy: 0.951 - ETA: 14s - loss: 0.1346 - accuracy: 0.951 - ETA: 14s - loss: 0.1345 - accuracy: 0.951 - ETA: 14s - loss: 0.1345 - accuracy: 0.951 - ETA: 14s - loss: 0.1345 - accuracy: 0.951 - ETA: 14s - loss: 0.1351 - accuracy: 0.951 - ETA: 13s - loss: 0.1353 - accuracy: 0.951 - ETA: 13s - loss: 0.1353 - accuracy: 0.951 - ETA: 13s - loss: 0.1353 - accuracy: 0.951 - ETA: 13s - loss: 0.1353 - accuracy: 0.951 - ETA: 13s - loss: 0.1355 - accuracy: 0.951 - ETA: 13s - loss: 0.1356 - accuracy: 0.951 - ETA: 13s - loss: 0.1357 - accuracy: 0.951 - ETA: 13s - loss: 0.1356 - accuracy: 0.951 - ETA: 13s - loss: 0.1357 - accuracy: 0.951 - ETA: 12s - loss: 0.1360 - accuracy: 0.951 - ETA: 12s - loss: 0.1361 - accuracy: 0.951 - ETA: 12s - loss: 0.1362 - accuracy: 0.951 - ETA: 12s - loss: 0.1362 - accuracy: 0.951 - ETA: 12s - loss: 0.1361 - accuracy: 0.951 - ETA: 12s - loss: 0.1361 - accuracy: 0.951 - ETA: 12s - loss: 0.1362 - accuracy: 0.951 - ETA: 12s - loss: 0.1362 - accuracy: 0.951 - ETA: 12s - loss: 0.1363 - accuracy: 0.951 - ETA: 12s - loss: 0.1363 - accuracy: 0.951 - ETA: 11s - loss: 0.1365 - accuracy: 0.951 - ETA: 11s - loss: 0.1366 - accuracy: 0.951 - ETA: 11s - loss: 0.1364 - accuracy: 0.951 - ETA: 11s - loss: 0.1366 - accuracy: 0.951 - ETA: 11s - loss: 0.1365 - accuracy: 0.951 - ETA: 11s - loss: 0.1363 - accuracy: 0.951 - ETA: 11s - loss: 0.1363 - accuracy: 0.951 - ETA: 11s - loss: 0.1364 - accuracy: 0.951 - ETA: 11s - loss: 0.1364 - accuracy: 0.951 - ETA: 10s - loss: 0.1367 - accuracy: 0.951 - ETA: 10s - loss: 0.1368 - accuracy: 0.951 - ETA: 10s - loss: 0.1367 - accuracy: 0.951 - ETA: 10s - loss: 0.1367 - accuracy: 0.951 - ETA: 10s - loss: 0.1366 - accuracy: 0.951 - ETA: 10s - loss: 0.1366 - accuracy: 0.951 - ETA: 10s - loss: 0.1365 - accuracy: 0.951 - ETA: 10s - loss: 0.1366 - accuracy: 0.951 - ETA: 10s - loss: 0.1365 - accuracy: 0.951 - ETA: 10s - loss: 0.1364 - accuracy: 0.951 - ETA: 9s - loss: 0.1363 - accuracy: 0.951 - ETA: 9s - loss: 0.1363 - accuracy: 0.95 - ETA: 9s - loss: 0.1363 - accuracy: 0.95 - ETA: 9s - loss: 0.1363 - accuracy: 0.95 - ETA: 9s - loss: 0.1362 - accuracy: 0.95 - ETA: 9s - loss: 0.1363 - accuracy: 0.95 - ETA: 9s - loss: 0.1362 - accuracy: 0.95 - ETA: 9s - loss: 0.1362 - accuracy: 0.95 - ETA: 9s - loss: 0.1363 - accuracy: 0.95 - ETA: 9s - loss: 0.1362 - accuracy: 0.95 - ETA: 8s - loss: 0.1363 - accuracy: 0.95 - ETA: 8s - loss: 0.1362 - accuracy: 0.95 - ETA: 8s - loss: 0.1363 - accuracy: 0.95 - ETA: 8s - loss: 0.1363 - accuracy: 0.95 - ETA: 8s - loss: 0.1363 - accuracy: 0.95 - ETA: 8s - loss: 0.1363 - accuracy: 0.95 - ETA: 8s - loss: 0.1363 - accuracy: 0.95 - ETA: 8s - loss: 0.1362 - accuracy: 0.95 - ETA: 8s - loss: 0.1362 - accuracy: 0.95 - ETA: 7s - loss: 0.1361 - accuracy: 0.95 - ETA: 7s - loss: 0.1360 - accuracy: 0.95 - ETA: 7s - loss: 0.1360 - accuracy: 0.95 - ETA: 7s - loss: 0.1359 - accuracy: 0.95 - ETA: 7s - loss: 0.1360 - accuracy: 0.95 - ETA: 7s - loss: 0.1359 - accuracy: 0.95 - ETA: 7s - loss: 0.1359 - accuracy: 0.95 - ETA: 7s - loss: 0.1359 - accuracy: 0.95 - ETA: 7s - loss: 0.1360 - accuracy: 0.95 - ETA: 7s - loss: 0.1360 - accuracy: 0.95 - ETA: 6s - loss: 0.1361 - accuracy: 0.95 - ETA: 6s - loss: 0.1362 - accuracy: 0.95 - ETA: 6s - loss: 0.1365 - accuracy: 0.95 - ETA: 6s - loss: 0.1364 - accuracy: 0.95 - ETA: 6s - loss: 0.1364 - accuracy: 0.95 - ETA: 6s - loss: 0.1364 - accuracy: 0.95 - ETA: 6s - loss: 0.1364 - accuracy: 0.95 - ETA: 6s - loss: 0.1364 - accuracy: 0.95 - ETA: 6s - loss: 0.1364 - accuracy: 0.95 - ETA: 6s - loss: 0.1365 - accuracy: 0.95 - ETA: 5s - loss: 0.1363 - accuracy: 0.95 - ETA: 5s - loss: 0.1366 - accuracy: 0.95 - ETA: 5s - loss: 0.1367 - accuracy: 0.95 - ETA: 5s - loss: 0.1368 - accuracy: 0.95 - ETA: 5s - loss: 0.1369 - accuracy: 0.95 - ETA: 5s - loss: 0.1370 - accuracy: 0.95 - ETA: 5s - loss: 0.1371 - accuracy: 0.95 - ETA: 5s - loss: 0.1371 - accuracy: 0.95 - ETA: 5s - loss: 0.1371 - accuracy: 0.95 - ETA: 4s - loss: 0.1371 - accuracy: 0.95 - ETA: 4s - loss: 0.1371 - accuracy: 0.95 - ETA: 4s - loss: 0.1373 - accuracy: 0.95 - ETA: 4s - loss: 0.1371 - accuracy: 0.95 - ETA: 4s - loss: 0.1370 - accuracy: 0.95 - ETA: 4s - loss: 0.1369 - accuracy: 0.95 - ETA: 4s - loss: 0.1367 - accuracy: 0.95 - ETA: 4s - loss: 0.1367 - accuracy: 0.95 - ETA: 4s - loss: 0.1369 - accuracy: 0.95 - ETA: 4s - loss: 0.1371 - accuracy: 0.95 - ETA: 3s - loss: 0.1373 - accuracy: 0.95 - ETA: 3s - loss: 0.1372 - accuracy: 0.95 - ETA: 3s - loss: 0.1374 - accuracy: 0.95 - ETA: 3s - loss: 0.1375 - accuracy: 0.9507"
     ]
    },
    {
     "name": "stdout",
     "output_type": "stream",
     "text": [
      "25000/25000 [==============================] - ETA: 3s - loss: 0.1374 - accuracy: 0.95 - ETA: 3s - loss: 0.1374 - accuracy: 0.95 - ETA: 3s - loss: 0.1373 - accuracy: 0.95 - ETA: 3s - loss: 0.1373 - accuracy: 0.95 - ETA: 3s - loss: 0.1375 - accuracy: 0.95 - ETA: 3s - loss: 0.1374 - accuracy: 0.95 - ETA: 2s - loss: 0.1375 - accuracy: 0.95 - ETA: 2s - loss: 0.1375 - accuracy: 0.95 - ETA: 2s - loss: 0.1376 - accuracy: 0.95 - ETA: 2s - loss: 0.1377 - accuracy: 0.95 - ETA: 2s - loss: 0.1379 - accuracy: 0.95 - ETA: 2s - loss: 0.1379 - accuracy: 0.95 - ETA: 2s - loss: 0.1379 - accuracy: 0.95 - ETA: 2s - loss: 0.1380 - accuracy: 0.95 - ETA: 2s - loss: 0.1381 - accuracy: 0.95 - ETA: 1s - loss: 0.1381 - accuracy: 0.95 - ETA: 1s - loss: 0.1381 - accuracy: 0.95 - ETA: 1s - loss: 0.1383 - accuracy: 0.95 - ETA: 1s - loss: 0.1383 - accuracy: 0.95 - ETA: 1s - loss: 0.1386 - accuracy: 0.95 - ETA: 1s - loss: 0.1386 - accuracy: 0.95 - ETA: 1s - loss: 0.1387 - accuracy: 0.95 - ETA: 1s - loss: 0.1385 - accuracy: 0.95 - ETA: 1s - loss: 0.1386 - accuracy: 0.95 - ETA: 1s - loss: 0.1388 - accuracy: 0.95 - ETA: 0s - loss: 0.1388 - accuracy: 0.95 - ETA: 0s - loss: 0.1389 - accuracy: 0.95 - ETA: 0s - loss: 0.1390 - accuracy: 0.94 - ETA: 0s - loss: 0.1391 - accuracy: 0.94 - ETA: 0s - loss: 0.1391 - accuracy: 0.94 - ETA: 0s - loss: 0.1392 - accuracy: 0.94 - ETA: 0s - loss: 0.1392 - accuracy: 0.94 - ETA: 0s - loss: 0.1394 - accuracy: 0.94 - ETA: 0s - loss: 0.1393 - accuracy: 0.94 - ETA: 0s - loss: 0.1394 - accuracy: 0.94 - 80s 3ms/sample - loss: 0.1393 - accuracy: 0.9496\n"
     ]
    }
   ],
   "source": [
    "history_3 = model_3.fit(X_train, y_train, epochs=5)"
   ]
  },
  {
   "cell_type": "markdown",
   "metadata": {},
   "source": [
    "# validate the model_3"
   ]
  },
  {
   "cell_type": "code",
   "execution_count": 51,
   "metadata": {},
   "outputs": [
    {
     "name": "stdout",
     "output_type": "stream",
     "text": [
      "18176/25000 [====================>.........] - ETA: 6:59 - loss: 0.7449 - accuracy: 0.81 - ETA: 1:55 - loss: 0.5655 - accuracy: 0.81 - ETA: 1:11 - loss: 0.5391 - accuracy: 0.81 - ETA: 54s - loss: 0.6433 - accuracy: 0.7750 - ETA: 44s - loss: 0.6332 - accuracy: 0.774 - ETA: 39s - loss: 0.6640 - accuracy: 0.763 - ETA: 35s - loss: 0.6584 - accuracy: 0.769 - ETA: 32s - loss: 0.6377 - accuracy: 0.777 - ETA: 29s - loss: 0.6228 - accuracy: 0.781 - ETA: 28s - loss: 0.6020 - accuracy: 0.792 - ETA: 26s - loss: 0.6176 - accuracy: 0.787 - ETA: 25s - loss: 0.6080 - accuracy: 0.790 - ETA: 24s - loss: 0.5992 - accuracy: 0.792 - ETA: 23s - loss: 0.5981 - accuracy: 0.792 - ETA: 22s - loss: 0.6030 - accuracy: 0.788 - ETA: 22s - loss: 0.6085 - accuracy: 0.786 - ETA: 21s - loss: 0.6026 - accuracy: 0.788 - ETA: 21s - loss: 0.5917 - accuracy: 0.793 - ETA: 20s - loss: 0.5973 - accuracy: 0.793 - ETA: 20s - loss: 0.6090 - accuracy: 0.789 - ETA: 19s - loss: 0.6024 - accuracy: 0.790 - ETA: 19s - loss: 0.5994 - accuracy: 0.791 - ETA: 19s - loss: 0.6008 - accuracy: 0.790 - ETA: 18s - loss: 0.6038 - accuracy: 0.789 - ETA: 18s - loss: 0.6110 - accuracy: 0.788 - ETA: 18s - loss: 0.6230 - accuracy: 0.786 - ETA: 17s - loss: 0.6180 - accuracy: 0.787 - ETA: 17s - loss: 0.6119 - accuracy: 0.788 - ETA: 17s - loss: 0.6183 - accuracy: 0.786 - ETA: 17s - loss: 0.6276 - accuracy: 0.784 - ETA: 17s - loss: 0.6285 - accuracy: 0.781 - ETA: 16s - loss: 0.6204 - accuracy: 0.784 - ETA: 16s - loss: 0.6141 - accuracy: 0.786 - ETA: 16s - loss: 0.6125 - accuracy: 0.787 - ETA: 16s - loss: 0.6141 - accuracy: 0.785 - ETA: 16s - loss: 0.6054 - accuracy: 0.788 - ETA: 15s - loss: 0.6034 - accuracy: 0.789 - ETA: 15s - loss: 0.6059 - accuracy: 0.788 - ETA: 15s - loss: 0.6049 - accuracy: 0.789 - ETA: 15s - loss: 0.6076 - accuracy: 0.790 - ETA: 15s - loss: 0.6079 - accuracy: 0.790 - ETA: 15s - loss: 0.6072 - accuracy: 0.789 - ETA: 15s - loss: 0.6020 - accuracy: 0.791 - ETA: 14s - loss: 0.6015 - accuracy: 0.791 - ETA: 14s - loss: 0.6038 - accuracy: 0.790 - ETA: 14s - loss: 0.6040 - accuracy: 0.790 - ETA: 14s - loss: 0.6092 - accuracy: 0.788 - ETA: 14s - loss: 0.6068 - accuracy: 0.789 - ETA: 14s - loss: 0.6048 - accuracy: 0.790 - ETA: 14s - loss: 0.6047 - accuracy: 0.790 - ETA: 14s - loss: 0.6033 - accuracy: 0.789 - ETA: 14s - loss: 0.6014 - accuracy: 0.790 - ETA: 13s - loss: 0.6039 - accuracy: 0.790 - ETA: 13s - loss: 0.6024 - accuracy: 0.790 - ETA: 13s - loss: 0.6038 - accuracy: 0.789 - ETA: 13s - loss: 0.6037 - accuracy: 0.789 - ETA: 13s - loss: 0.6022 - accuracy: 0.789 - ETA: 13s - loss: 0.6002 - accuracy: 0.789 - ETA: 13s - loss: 0.5969 - accuracy: 0.790 - ETA: 13s - loss: 0.5951 - accuracy: 0.790 - ETA: 13s - loss: 0.5935 - accuracy: 0.791 - ETA: 13s - loss: 0.5953 - accuracy: 0.790 - ETA: 12s - loss: 0.5932 - accuracy: 0.791 - ETA: 12s - loss: 0.5949 - accuracy: 0.791 - ETA: 12s - loss: 0.5954 - accuracy: 0.791 - ETA: 12s - loss: 0.5959 - accuracy: 0.790 - ETA: 12s - loss: 0.5980 - accuracy: 0.790 - ETA: 12s - loss: 0.5984 - accuracy: 0.789 - ETA: 12s - loss: 0.5978 - accuracy: 0.789 - ETA: 12s - loss: 0.6008 - accuracy: 0.789 - ETA: 12s - loss: 0.5989 - accuracy: 0.789 - ETA: 12s - loss: 0.5999 - accuracy: 0.789 - ETA: 12s - loss: 0.5994 - accuracy: 0.789 - ETA: 11s - loss: 0.6024 - accuracy: 0.789 - ETA: 11s - loss: 0.6054 - accuracy: 0.788 - ETA: 11s - loss: 0.6035 - accuracy: 0.788 - ETA: 11s - loss: 0.6011 - accuracy: 0.789 - ETA: 11s - loss: 0.6021 - accuracy: 0.788 - ETA: 11s - loss: 0.6034 - accuracy: 0.789 - ETA: 11s - loss: 0.6028 - accuracy: 0.789 - ETA: 11s - loss: 0.6014 - accuracy: 0.790 - ETA: 11s - loss: 0.6002 - accuracy: 0.790 - ETA: 11s - loss: 0.5976 - accuracy: 0.790 - ETA: 11s - loss: 0.5962 - accuracy: 0.790 - ETA: 11s - loss: 0.5973 - accuracy: 0.790 - ETA: 11s - loss: 0.5970 - accuracy: 0.791 - ETA: 10s - loss: 0.5973 - accuracy: 0.791 - ETA: 10s - loss: 0.5972 - accuracy: 0.791 - ETA: 10s - loss: 0.5937 - accuracy: 0.792 - ETA: 10s - loss: 0.5930 - accuracy: 0.792 - ETA: 10s - loss: 0.5946 - accuracy: 0.792 - ETA: 10s - loss: 0.5933 - accuracy: 0.793 - ETA: 10s - loss: 0.5945 - accuracy: 0.793 - ETA: 10s - loss: 0.5956 - accuracy: 0.793 - ETA: 10s - loss: 0.5957 - accuracy: 0.793 - ETA: 10s - loss: 0.5942 - accuracy: 0.793 - ETA: 10s - loss: 0.5940 - accuracy: 0.794 - ETA: 10s - loss: 0.5938 - accuracy: 0.794 - ETA: 10s - loss: 0.5944 - accuracy: 0.794 - ETA: 9s - loss: 0.5963 - accuracy: 0.794 - ETA: 9s - loss: 0.5964 - accuracy: 0.79 - ETA: 9s - loss: 0.5952 - accuracy: 0.79 - ETA: 9s - loss: 0.5945 - accuracy: 0.79 - ETA: 9s - loss: 0.5943 - accuracy: 0.79 - ETA: 9s - loss: 0.5947 - accuracy: 0.79 - ETA: 9s - loss: 0.5945 - accuracy: 0.79 - ETA: 9s - loss: 0.5931 - accuracy: 0.79 - ETA: 9s - loss: 0.5920 - accuracy: 0.79 - ETA: 9s - loss: 0.5909 - accuracy: 0.79 - ETA: 9s - loss: 0.5910 - accuracy: 0.79 - ETA: 9s - loss: 0.5914 - accuracy: 0.79 - ETA: 9s - loss: 0.5923 - accuracy: 0.79 - ETA: 9s - loss: 0.5917 - accuracy: 0.79 - ETA: 8s - loss: 0.5901 - accuracy: 0.79 - ETA: 8s - loss: 0.5893 - accuracy: 0.79 - ETA: 8s - loss: 0.5885 - accuracy: 0.79 - ETA: 8s - loss: 0.5894 - accuracy: 0.79 - ETA: 8s - loss: 0.5880 - accuracy: 0.79 - ETA: 8s - loss: 0.5891 - accuracy: 0.79 - ETA: 8s - loss: 0.5884 - accuracy: 0.79 - ETA: 8s - loss: 0.5876 - accuracy: 0.79 - ETA: 8s - loss: 0.5872 - accuracy: 0.79 - ETA: 8s - loss: 0.5862 - accuracy: 0.79 - ETA: 8s - loss: 0.5872 - accuracy: 0.79 - ETA: 8s - loss: 0.5864 - accuracy: 0.79 - ETA: 8s - loss: 0.5875 - accuracy: 0.79 - ETA: 8s - loss: 0.5874 - accuracy: 0.79 - ETA: 8s - loss: 0.5877 - accuracy: 0.79 - ETA: 7s - loss: 0.5869 - accuracy: 0.79 - ETA: 7s - loss: 0.5865 - accuracy: 0.79 - ETA: 7s - loss: 0.5872 - accuracy: 0.79 - ETA: 7s - loss: 0.5861 - accuracy: 0.79 - ETA: 7s - loss: 0.5862 - accuracy: 0.79 - ETA: 7s - loss: 0.5867 - accuracy: 0.79 - ETA: 7s - loss: 0.5860 - accuracy: 0.79 - ETA: 7s - loss: 0.5861 - accuracy: 0.79 - ETA: 7s - loss: 0.5848 - accuracy: 0.79 - ETA: 7s - loss: 0.5852 - accuracy: 0.79 - ETA: 7s - loss: 0.5833 - accuracy: 0.79 - ETA: 7s - loss: 0.5844 - accuracy: 0.79 - ETA: 7s - loss: 0.5836 - accuracy: 0.79 - ETA: 7s - loss: 0.5835 - accuracy: 0.79 - ETA: 7s - loss: 0.5840 - accuracy: 0.79 - ETA: 7s - loss: 0.5841 - accuracy: 0.79 - ETA: 6s - loss: 0.5849 - accuracy: 0.79 - ETA: 6s - loss: 0.5845 - accuracy: 0.79 - ETA: 6s - loss: 0.5842 - accuracy: 0.79 - ETA: 6s - loss: 0.5854 - accuracy: 0.79 - ETA: 6s - loss: 0.5851 - accuracy: 0.79 - ETA: 6s - loss: 0.5857 - accuracy: 0.79 - ETA: 6s - loss: 0.5854 - accuracy: 0.79 - ETA: 6s - loss: 0.5856 - accuracy: 0.79 - ETA: 6s - loss: 0.5849 - accuracy: 0.79 - ETA: 6s - loss: 0.5845 - accuracy: 0.79 - ETA: 6s - loss: 0.5836 - accuracy: 0.79 - ETA: 6s - loss: 0.5824 - accuracy: 0.79 - ETA: 6s - loss: 0.5839 - accuracy: 0.79 - ETA: 6s - loss: 0.5840 - accuracy: 0.79 - ETA: 6s - loss: 0.5835 - accuracy: 0.79 - ETA: 6s - loss: 0.5834 - accuracy: 0.79 - ETA: 5s - loss: 0.5840 - accuracy: 0.79 - ETA: 5s - loss: 0.5835 - accuracy: 0.79 - ETA: 5s - loss: 0.5825 - accuracy: 0.79 - ETA: 5s - loss: 0.5809 - accuracy: 0.79 - ETA: 5s - loss: 0.5792 - accuracy: 0.79 - ETA: 5s - loss: 0.5796 - accuracy: 0.79 - ETA: 5s - loss: 0.5795 - accuracy: 0.79 - ETA: 5s - loss: 0.5783 - accuracy: 0.79 - ETA: 5s - loss: 0.5781 - accuracy: 0.80 - ETA: 5s - loss: 0.5782 - accuracy: 0.80 - ETA: 5s - loss: 0.5790 - accuracy: 0.79 - ETA: 5s - loss: 0.5798 - accuracy: 0.79 - ETA: 5s - loss: 0.5789 - accuracy: 0.79 - ETA: 5s - loss: 0.5797 - accuracy: 0.79 - ETA: 5s - loss: 0.5799 - accuracy: 0.79 - ETA: 5s - loss: 0.5792 - accuracy: 0.80 - ETA: 4s - loss: 0.5795 - accuracy: 0.80 - ETA: 4s - loss: 0.5803 - accuracy: 0.79 - ETA: 4s - loss: 0.5819 - accuracy: 0.79 - ETA: 4s - loss: 0.5820 - accuracy: 0.79 - ETA: 4s - loss: 0.5819 - accuracy: 0.79 - ETA: 4s - loss: 0.5815 - accuracy: 0.79 - ETA: 4s - loss: 0.5808 - accuracy: 0.80 - ETA: 4s - loss: 0.5806 - accuracy: 0.79 - ETA: 4s - loss: 0.5801 - accuracy: 0.80 - ETA: 4s - loss: 0.5792 - accuracy: 0.80 - ETA: 4s - loss: 0.5785 - accuracy: 0.80 - ETA: 4s - loss: 0.5786 - accuracy: 0.80 - ETA: 4s - loss: 0.5786 - accuracy: 0.80 - ETA: 4s - loss: 0.5786 - accuracy: 0.8005"
     ]
    },
    {
     "name": "stdout",
     "output_type": "stream",
     "text": [
      "25000/25000 [==============================] - ETA: 4s - loss: 0.5784 - accuracy: 0.80 - ETA: 4s - loss: 0.5783 - accuracy: 0.80 - ETA: 4s - loss: 0.5781 - accuracy: 0.80 - ETA: 3s - loss: 0.5779 - accuracy: 0.80 - ETA: 3s - loss: 0.5782 - accuracy: 0.80 - ETA: 3s - loss: 0.5786 - accuracy: 0.80 - ETA: 3s - loss: 0.5784 - accuracy: 0.80 - ETA: 3s - loss: 0.5791 - accuracy: 0.80 - ETA: 3s - loss: 0.5781 - accuracy: 0.80 - ETA: 3s - loss: 0.5774 - accuracy: 0.80 - ETA: 3s - loss: 0.5767 - accuracy: 0.80 - ETA: 3s - loss: 0.5779 - accuracy: 0.80 - ETA: 3s - loss: 0.5781 - accuracy: 0.80 - ETA: 3s - loss: 0.5778 - accuracy: 0.80 - ETA: 3s - loss: 0.5781 - accuracy: 0.80 - ETA: 3s - loss: 0.5783 - accuracy: 0.80 - ETA: 3s - loss: 0.5775 - accuracy: 0.80 - ETA: 3s - loss: 0.5772 - accuracy: 0.80 - ETA: 3s - loss: 0.5771 - accuracy: 0.80 - ETA: 3s - loss: 0.5781 - accuracy: 0.80 - ETA: 2s - loss: 0.5775 - accuracy: 0.80 - ETA: 2s - loss: 0.5781 - accuracy: 0.80 - ETA: 2s - loss: 0.5778 - accuracy: 0.80 - ETA: 2s - loss: 0.5789 - accuracy: 0.80 - ETA: 2s - loss: 0.5793 - accuracy: 0.80 - ETA: 2s - loss: 0.5797 - accuracy: 0.80 - ETA: 2s - loss: 0.5804 - accuracy: 0.79 - ETA: 2s - loss: 0.5801 - accuracy: 0.79 - ETA: 2s - loss: 0.5799 - accuracy: 0.80 - ETA: 2s - loss: 0.5801 - accuracy: 0.79 - ETA: 2s - loss: 0.5808 - accuracy: 0.79 - ETA: 2s - loss: 0.5804 - accuracy: 0.80 - ETA: 2s - loss: 0.5795 - accuracy: 0.80 - ETA: 2s - loss: 0.5790 - accuracy: 0.80 - ETA: 2s - loss: 0.5793 - accuracy: 0.80 - ETA: 2s - loss: 0.5795 - accuracy: 0.80 - ETA: 2s - loss: 0.5801 - accuracy: 0.79 - ETA: 1s - loss: 0.5795 - accuracy: 0.80 - ETA: 1s - loss: 0.5795 - accuracy: 0.80 - ETA: 1s - loss: 0.5789 - accuracy: 0.80 - ETA: 1s - loss: 0.5786 - accuracy: 0.80 - ETA: 1s - loss: 0.5789 - accuracy: 0.80 - ETA: 1s - loss: 0.5794 - accuracy: 0.80 - ETA: 1s - loss: 0.5799 - accuracy: 0.80 - ETA: 1s - loss: 0.5797 - accuracy: 0.80 - ETA: 1s - loss: 0.5794 - accuracy: 0.80 - ETA: 1s - loss: 0.5798 - accuracy: 0.80 - ETA: 1s - loss: 0.5806 - accuracy: 0.80 - ETA: 1s - loss: 0.5812 - accuracy: 0.79 - ETA: 1s - loss: 0.5817 - accuracy: 0.79 - ETA: 1s - loss: 0.5814 - accuracy: 0.79 - ETA: 1s - loss: 0.5815 - accuracy: 0.79 - ETA: 1s - loss: 0.5815 - accuracy: 0.79 - ETA: 1s - loss: 0.5811 - accuracy: 0.79 - ETA: 1s - loss: 0.5812 - accuracy: 0.79 - ETA: 1s - loss: 0.5818 - accuracy: 0.79 - ETA: 1s - loss: 0.5814 - accuracy: 0.79 - ETA: 1s - loss: 0.5811 - accuracy: 0.79 - ETA: 1s - loss: 0.5813 - accuracy: 0.79 - ETA: 0s - loss: 0.5812 - accuracy: 0.80 - ETA: 0s - loss: 0.5809 - accuracy: 0.80 - ETA: 0s - loss: 0.5806 - accuracy: 0.80 - ETA: 0s - loss: 0.5804 - accuracy: 0.80 - ETA: 0s - loss: 0.5806 - accuracy: 0.80 - ETA: 0s - loss: 0.5806 - accuracy: 0.80 - ETA: 0s - loss: 0.5802 - accuracy: 0.80 - ETA: 0s - loss: 0.5797 - accuracy: 0.80 - ETA: 0s - loss: 0.5789 - accuracy: 0.80 - ETA: 0s - loss: 0.5790 - accuracy: 0.80 - ETA: 0s - loss: 0.5788 - accuracy: 0.80 - ETA: 0s - loss: 0.5790 - accuracy: 0.80 - ETA: 0s - loss: 0.5788 - accuracy: 0.80 - ETA: 0s - loss: 0.5785 - accuracy: 0.80 - ETA: 0s - loss: 0.5793 - accuracy: 0.80 - ETA: 0s - loss: 0.5795 - accuracy: 0.80 - ETA: 0s - loss: 0.5795 - accuracy: 0.80 - ETA: 0s - loss: 0.5797 - accuracy: 0.80 - ETA: 0s - loss: 0.5789 - accuracy: 0.80 - ETA: 0s - loss: 0.5787 - accuracy: 0.80 - ETA: 0s - loss: 0.5787 - accuracy: 0.80 - ETA: 0s - loss: 0.5783 - accuracy: 0.80 - ETA: 0s - loss: 0.5793 - accuracy: 0.80 - ETA: 0s - loss: 0.5793 - accuracy: 0.80 - ETA: 0s - loss: 0.5786 - accuracy: 0.80 - 16s 643us/sample - loss: 0.5788 - accuracy: 0.8010\n"
     ]
    },
    {
     "data": {
      "text/plain": [
       "[0.5788243908023835, 0.80096]"
      ]
     },
     "execution_count": 51,
     "metadata": {},
     "output_type": "execute_result"
    }
   ],
   "source": [
    "model_3.evaluate(X_test, y_test)"
   ]
  },
  {
   "cell_type": "code",
   "execution_count": null,
   "metadata": {},
   "outputs": [],
   "source": []
  }
 ],
 "metadata": {
  "kernelspec": {
   "display_name": "Python 3",
   "language": "python",
   "name": "python3"
  },
  "language_info": {
   "codemirror_mode": {
    "name": "ipython",
    "version": 3
   },
   "file_extension": ".py",
   "mimetype": "text/x-python",
   "name": "python",
   "nbconvert_exporter": "python",
   "pygments_lexer": "ipython3",
   "version": "3.7.4"
  }
 },
 "nbformat": 4,
 "nbformat_minor": 2
}
