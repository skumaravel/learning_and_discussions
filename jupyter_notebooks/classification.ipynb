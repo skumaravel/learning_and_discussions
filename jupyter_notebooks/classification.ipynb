{
 "cells": [
  {
   "cell_type": "code",
   "execution_count": 1,
   "metadata": {},
   "outputs": [],
   "source": [
    "import numpy as np\n",
    "import pandas as pd\n",
    "import os"
   ]
  },
  {
   "cell_type": "code",
   "execution_count": 2,
   "metadata": {},
   "outputs": [],
   "source": [
    "df = pd.read_excel('../datasets/healthcare/social_media_posts_1.xlsx')"
   ]
  },
  {
   "cell_type": "code",
   "execution_count": 3,
   "metadata": {},
   "outputs": [
    {
     "data": {
      "text/html": [
       "<div>\n",
       "<style scoped>\n",
       "    .dataframe tbody tr th:only-of-type {\n",
       "        vertical-align: middle;\n",
       "    }\n",
       "\n",
       "    .dataframe tbody tr th {\n",
       "        vertical-align: top;\n",
       "    }\n",
       "\n",
       "    .dataframe thead th {\n",
       "        text-align: right;\n",
       "    }\n",
       "</style>\n",
       "<table border=\"1\" class=\"dataframe\">\n",
       "  <thead>\n",
       "    <tr style=\"text-align: right;\">\n",
       "      <th></th>\n",
       "      <th>Key</th>\n",
       "      <th>Date</th>\n",
       "      <th>Headline</th>\n",
       "      <th>URL</th>\n",
       "      <th>Hit Sentence</th>\n",
       "      <th>Source</th>\n",
       "      <th>Download Source</th>\n",
       "      <th>Replies/ Comments</th>\n",
       "      <th>Influencer</th>\n",
       "      <th>Country</th>\n",
       "      <th>...</th>\n",
       "      <th>Sub category 2: Drug availability</th>\n",
       "      <th>Sub category 3 Packaging</th>\n",
       "      <th>Sub category 4.3</th>\n",
       "      <th>Sub category 5.4</th>\n",
       "      <th>Unmet need Keywords</th>\n",
       "      <th>Sub category</th>\n",
       "      <th>Others</th>\n",
       "      <th>Switch Information</th>\n",
       "      <th>YouTube Video Analysis</th>\n",
       "      <th>Comment</th>\n",
       "    </tr>\n",
       "  </thead>\n",
       "  <tbody>\n",
       "    <tr>\n",
       "      <th>0</th>\n",
       "      <td>1</td>\n",
       "      <td>20-Jan-2019 01:18PM</td>\n",
       "      <td>What does it mean to have dormant meibomian gl...</td>\n",
       "      <td>http://forum.dryeyezone.com/forum/dry-eye-talk...</td>\n",
       "      <td>(dormant, or previously thought dead glands),...</td>\n",
       "      <td>Forums</td>\n",
       "      <td>Meltwater</td>\n",
       "      <td>NaN</td>\n",
       "      <td>quattroboy</td>\n",
       "      <td>United States</td>\n",
       "      <td>...</td>\n",
       "      <td>NaN</td>\n",
       "      <td>NaN</td>\n",
       "      <td>NaN</td>\n",
       "      <td>NaN</td>\n",
       "      <td>NaN</td>\n",
       "      <td>NaN</td>\n",
       "      <td>NaN</td>\n",
       "      <td>NaN</td>\n",
       "      <td>NaN</td>\n",
       "      <td>NaN</td>\n",
       "    </tr>\n",
       "    <tr>\n",
       "      <th>1</th>\n",
       "      <td>2</td>\n",
       "      <td>20-Jan-2019 10:46AM</td>\n",
       "      <td>What does it mean to have dormant meibomian gl...</td>\n",
       "      <td>http://forum.dryeyezone.com/forum/dry-eye-talk...</td>\n",
       "      <td>(dormant, or previously thought dead glands),...</td>\n",
       "      <td>Forums</td>\n",
       "      <td>Meltwater</td>\n",
       "      <td>NaN</td>\n",
       "      <td>deep_dry_eye</td>\n",
       "      <td>United States</td>\n",
       "      <td>...</td>\n",
       "      <td>NaN</td>\n",
       "      <td>NaN</td>\n",
       "      <td>NaN</td>\n",
       "      <td>NaN</td>\n",
       "      <td>NaN</td>\n",
       "      <td>NaN</td>\n",
       "      <td>NaN</td>\n",
       "      <td>NaN</td>\n",
       "      <td>NaN</td>\n",
       "      <td>NaN</td>\n",
       "    </tr>\n",
       "    <tr>\n",
       "      <th>2</th>\n",
       "      <td>5</td>\n",
       "      <td>28-May-2019 10:50PM</td>\n",
       "      <td>Swollen Red Eyes From Crying, Causes, Treatment</td>\n",
       "      <td>https://www.rxharun.com/rx-eye-care/swollen-re...</td>\n",
       "      <td>– In patients with posterior blepharitis oral ...</td>\n",
       "      <td>Blogs</td>\n",
       "      <td>Meltwater</td>\n",
       "      <td>NaN</td>\n",
       "      <td>harunrxharun</td>\n",
       "      <td>United States</td>\n",
       "      <td>...</td>\n",
       "      <td>NaN</td>\n",
       "      <td>NaN</td>\n",
       "      <td>NaN</td>\n",
       "      <td>NaN</td>\n",
       "      <td>NaN</td>\n",
       "      <td>NaN</td>\n",
       "      <td>NaN</td>\n",
       "      <td>NaN</td>\n",
       "      <td>NaN</td>\n",
       "      <td>NaN</td>\n",
       "    </tr>\n",
       "    <tr>\n",
       "      <th>3</th>\n",
       "      <td>6</td>\n",
       "      <td>28-May-2019 10:42PM</td>\n",
       "      <td>Swollen Red Eyes After Crying, Causes, Symptom...</td>\n",
       "      <td>https://www.rxharun.com/rx-eye-care/swollen-re...</td>\n",
       "      <td>– In patients with posterior blepharitis oral ...</td>\n",
       "      <td>Blogs</td>\n",
       "      <td>Meltwater</td>\n",
       "      <td>NaN</td>\n",
       "      <td>harunrxharun</td>\n",
       "      <td>United States</td>\n",
       "      <td>...</td>\n",
       "      <td>NaN</td>\n",
       "      <td>NaN</td>\n",
       "      <td>NaN</td>\n",
       "      <td>NaN</td>\n",
       "      <td>NaN</td>\n",
       "      <td>NaN</td>\n",
       "      <td>NaN</td>\n",
       "      <td>NaN</td>\n",
       "      <td>NaN</td>\n",
       "      <td>NaN</td>\n",
       "    </tr>\n",
       "    <tr>\n",
       "      <th>4</th>\n",
       "      <td>7</td>\n",
       "      <td>28-May-2019 10:28PM</td>\n",
       "      <td>Swollen Eyes After Crying, Causes, Symptoms, T...</td>\n",
       "      <td>https://www.rxharun.com/rx-eye-care/swollen-ey...</td>\n",
       "      <td>– In patients with posterior blepharitis oral ...</td>\n",
       "      <td>Blogs</td>\n",
       "      <td>Meltwater</td>\n",
       "      <td>NaN</td>\n",
       "      <td>harunrxharun</td>\n",
       "      <td>United States</td>\n",
       "      <td>...</td>\n",
       "      <td>NaN</td>\n",
       "      <td>NaN</td>\n",
       "      <td>NaN</td>\n",
       "      <td>NaN</td>\n",
       "      <td>NaN</td>\n",
       "      <td>NaN</td>\n",
       "      <td>NaN</td>\n",
       "      <td>NaN</td>\n",
       "      <td>NaN</td>\n",
       "      <td>NaN</td>\n",
       "    </tr>\n",
       "  </tbody>\n",
       "</table>\n",
       "<p>5 rows × 63 columns</p>\n",
       "</div>"
      ],
      "text/plain": [
       "   Key                 Date  \\\n",
       "0    1  20-Jan-2019 01:18PM   \n",
       "1    2  20-Jan-2019 10:46AM   \n",
       "2    5  28-May-2019 10:50PM   \n",
       "3    6  28-May-2019 10:42PM   \n",
       "4    7  28-May-2019 10:28PM   \n",
       "\n",
       "                                            Headline  \\\n",
       "0  What does it mean to have dormant meibomian gl...   \n",
       "1  What does it mean to have dormant meibomian gl...   \n",
       "2    Swollen Red Eyes From Crying, Causes, Treatment   \n",
       "3  Swollen Red Eyes After Crying, Causes, Symptom...   \n",
       "4  Swollen Eyes After Crying, Causes, Symptoms, T...   \n",
       "\n",
       "                                                 URL  \\\n",
       "0  http://forum.dryeyezone.com/forum/dry-eye-talk...   \n",
       "1  http://forum.dryeyezone.com/forum/dry-eye-talk...   \n",
       "2  https://www.rxharun.com/rx-eye-care/swollen-re...   \n",
       "3  https://www.rxharun.com/rx-eye-care/swollen-re...   \n",
       "4  https://www.rxharun.com/rx-eye-care/swollen-ey...   \n",
       "\n",
       "                                        Hit Sentence  Source Download Source  \\\n",
       "0   (dormant, or previously thought dead glands),...  Forums       Meltwater   \n",
       "1   (dormant, or previously thought dead glands),...  Forums       Meltwater   \n",
       "2  – In patients with posterior blepharitis oral ...   Blogs       Meltwater   \n",
       "3  – In patients with posterior blepharitis oral ...   Blogs       Meltwater   \n",
       "4  – In patients with posterior blepharitis oral ...   Blogs       Meltwater   \n",
       "\n",
       "   Replies/ Comments    Influencer        Country  ...  \\\n",
       "0                NaN    quattroboy  United States  ...   \n",
       "1                NaN  deep_dry_eye  United States  ...   \n",
       "2                NaN  harunrxharun  United States  ...   \n",
       "3                NaN  harunrxharun  United States  ...   \n",
       "4                NaN  harunrxharun  United States  ...   \n",
       "\n",
       "  Sub category 2: Drug availability  Sub category 3 Packaging  \\\n",
       "0                               NaN                       NaN   \n",
       "1                               NaN                       NaN   \n",
       "2                               NaN                       NaN   \n",
       "3                               NaN                       NaN   \n",
       "4                               NaN                       NaN   \n",
       "\n",
       "   Sub category 4.3  Sub category 5.4  Unmet need Keywords Sub category  \\\n",
       "0               NaN               NaN                  NaN          NaN   \n",
       "1               NaN               NaN                  NaN          NaN   \n",
       "2               NaN               NaN                  NaN          NaN   \n",
       "3               NaN               NaN                  NaN          NaN   \n",
       "4               NaN               NaN                  NaN          NaN   \n",
       "\n",
       "  Others Switch Information YouTube Video Analysis Comment  \n",
       "0    NaN                NaN                    NaN     NaN  \n",
       "1    NaN                NaN                    NaN     NaN  \n",
       "2    NaN                NaN                    NaN     NaN  \n",
       "3    NaN                NaN                    NaN     NaN  \n",
       "4    NaN                NaN                    NaN     NaN  \n",
       "\n",
       "[5 rows x 63 columns]"
      ]
     },
     "execution_count": 3,
     "metadata": {},
     "output_type": "execute_result"
    }
   ],
   "source": [
    "df.head()"
   ]
  },
  {
   "cell_type": "code",
   "execution_count": 4,
   "metadata": {},
   "outputs": [
    {
     "data": {
      "text/plain": [
       "Index(['Key', 'Date', 'Headline', 'URL', 'Hit Sentence', 'Source',\n",
       "       'Download Source', 'Replies/ Comments', 'Influencer', 'Country',\n",
       "       'Language', 'Reach', 'Engagement', 'AVE', 'Likes', 'Sentiment Auto',\n",
       "       'Key Phrases', 'Keywords tagged', 'Allocation',\n",
       "       'Patient/ Physician/ Others', 'Sentiment Validation', 'Relevancy',\n",
       "       'Cost', 'Keywords', 'Sub category 1: Remibursement/ Insurance',\n",
       "       'Sub category 2: Pricing', 'Sub category 3: Out of pocket',\n",
       "       'Sub category 4: Company coupons', 'Sub category 5', 'Efficacy',\n",
       "       'Keywords.1', 'Sub category 1', 'Sub category 2', 'Sub category 3',\n",
       "       'Sub category 4', 'Sub category 5.1', 'Safety', 'Keywords.2',\n",
       "       'Sub category 1: Adverse event listed in PI',\n",
       "       'Sub category 2: Other adverse events', 'Sub category 3.1',\n",
       "       'Sub category 4.1', 'Sub category 5.2', 'Compliance/ adherence',\n",
       "       'Keywords.3', 'Sub category 1: Frequency of dosage',\n",
       "       'Sub category 2: Duration of therapy', 'Sub category 3.2',\n",
       "       'Sub category 4.2', 'Sub category 5.3', 'Comfort/ convenience',\n",
       "       'Keywords.4', 'Sub category 1: Route of administration',\n",
       "       'Sub category 2: Drug availability', 'Sub category 3 Packaging',\n",
       "       'Sub category 4.3', 'Sub category 5.4', 'Unmet need Keywords',\n",
       "       'Sub category', 'Others', 'Switch Information',\n",
       "       'YouTube Video Analysis', 'Comment'],\n",
       "      dtype='object')"
      ]
     },
     "execution_count": 4,
     "metadata": {},
     "output_type": "execute_result"
    }
   ],
   "source": [
    "df.columns"
   ]
  },
  {
   "cell_type": "code",
   "execution_count": 5,
   "metadata": {},
   "outputs": [],
   "source": [
    "textdf = df['Hit Sentence']"
   ]
  },
  {
   "cell_type": "code",
   "execution_count": 6,
   "metadata": {},
   "outputs": [
    {
     "data": {
      "text/plain": [
       "' (dormant, or previously thought dead glands), but somehow able to recover and secret oil. Some treatments that *may* help include IPL, Xiidra, and Restasis. The theory is that these treatments can reduce inflammation, and create an environment for the glands/tissue to recover.'"
      ]
     },
     "execution_count": 6,
     "metadata": {},
     "output_type": "execute_result"
    }
   ],
   "source": [
    "textdf[0]"
   ]
  },
  {
   "cell_type": "code",
   "execution_count": 7,
   "metadata": {},
   "outputs": [],
   "source": [
    "categoriesdf =   df[['Cost', 'Safety', 'Efficacy', 'Compliance/ adherence','Comfort/ convenience'  ]] "
   ]
  },
  {
   "cell_type": "code",
   "execution_count": 10,
   "metadata": {},
   "outputs": [
    {
     "data": {
      "text/html": [
       "<div>\n",
       "<style scoped>\n",
       "    .dataframe tbody tr th:only-of-type {\n",
       "        vertical-align: middle;\n",
       "    }\n",
       "\n",
       "    .dataframe tbody tr th {\n",
       "        vertical-align: top;\n",
       "    }\n",
       "\n",
       "    .dataframe thead th {\n",
       "        text-align: right;\n",
       "    }\n",
       "</style>\n",
       "<table border=\"1\" class=\"dataframe\">\n",
       "  <thead>\n",
       "    <tr style=\"text-align: right;\">\n",
       "      <th></th>\n",
       "      <th>Cost</th>\n",
       "      <th>Safety</th>\n",
       "      <th>Efficacy</th>\n",
       "      <th>Compliance/ adherence</th>\n",
       "      <th>Comfort/ convenience</th>\n",
       "    </tr>\n",
       "  </thead>\n",
       "  <tbody>\n",
       "    <tr>\n",
       "      <th>0</th>\n",
       "      <td>NaN</td>\n",
       "      <td>NaN</td>\n",
       "      <td>1.0</td>\n",
       "      <td>NaN</td>\n",
       "      <td>NaN</td>\n",
       "    </tr>\n",
       "    <tr>\n",
       "      <th>1</th>\n",
       "      <td>NaN</td>\n",
       "      <td>NaN</td>\n",
       "      <td>1.0</td>\n",
       "      <td>NaN</td>\n",
       "      <td>NaN</td>\n",
       "    </tr>\n",
       "    <tr>\n",
       "      <th>2</th>\n",
       "      <td>NaN</td>\n",
       "      <td>NaN</td>\n",
       "      <td>1.0</td>\n",
       "      <td>NaN</td>\n",
       "      <td>NaN</td>\n",
       "    </tr>\n",
       "    <tr>\n",
       "      <th>3</th>\n",
       "      <td>NaN</td>\n",
       "      <td>NaN</td>\n",
       "      <td>1.0</td>\n",
       "      <td>NaN</td>\n",
       "      <td>NaN</td>\n",
       "    </tr>\n",
       "    <tr>\n",
       "      <th>4</th>\n",
       "      <td>NaN</td>\n",
       "      <td>NaN</td>\n",
       "      <td>1.0</td>\n",
       "      <td>NaN</td>\n",
       "      <td>NaN</td>\n",
       "    </tr>\n",
       "  </tbody>\n",
       "</table>\n",
       "</div>"
      ],
      "text/plain": [
       "  Cost  Safety  Efficacy  Compliance/ adherence  Comfort/ convenience\n",
       "0  NaN     NaN       1.0                    NaN                   NaN\n",
       "1  NaN     NaN       1.0                    NaN                   NaN\n",
       "2  NaN     NaN       1.0                    NaN                   NaN\n",
       "3  NaN     NaN       1.0                    NaN                   NaN\n",
       "4  NaN     NaN       1.0                    NaN                   NaN"
      ]
     },
     "execution_count": 10,
     "metadata": {},
     "output_type": "execute_result"
    }
   ],
   "source": [
    "categoriesdf.head()"
   ]
  },
  {
   "cell_type": "code",
   "execution_count": 9,
   "metadata": {},
   "outputs": [
    {
     "data": {
      "text/plain": [
       "float"
      ]
     },
     "execution_count": 9,
     "metadata": {},
     "output_type": "execute_result"
    }
   ],
   "source": [
    "type(categoriesdf.Cost[0])"
   ]
  },
  {
   "cell_type": "code",
   "execution_count": 14,
   "metadata": {},
   "outputs": [
    {
     "name": "stderr",
     "output_type": "stream",
     "text": [
      "/home/dlgpu-aus/anaconda3/envs/nlp/lib/python3.7/site-packages/ipykernel_launcher.py:1: SettingWithCopyWarning: \n",
      "A value is trying to be set on a copy of a slice from a DataFrame.\n",
      "Try using .loc[row_indexer,col_indexer] = value instead\n",
      "\n",
      "See the caveats in the documentation: https://pandas.pydata.org/pandas-docs/stable/user_guide/indexing.html#returning-a-view-versus-a-copy\n",
      "  \"\"\"Entry point for launching an IPython kernel.\n",
      "/home/dlgpu-aus/anaconda3/envs/nlp/lib/python3.7/site-packages/ipykernel_launcher.py:2: SettingWithCopyWarning: \n",
      "A value is trying to be set on a copy of a slice from a DataFrame.\n",
      "Try using .loc[row_indexer,col_indexer] = value instead\n",
      "\n",
      "See the caveats in the documentation: https://pandas.pydata.org/pandas-docs/stable/user_guide/indexing.html#returning-a-view-versus-a-copy\n",
      "  \n",
      "/home/dlgpu-aus/anaconda3/envs/nlp/lib/python3.7/site-packages/ipykernel_launcher.py:3: SettingWithCopyWarning: \n",
      "A value is trying to be set on a copy of a slice from a DataFrame.\n",
      "Try using .loc[row_indexer,col_indexer] = value instead\n",
      "\n",
      "See the caveats in the documentation: https://pandas.pydata.org/pandas-docs/stable/user_guide/indexing.html#returning-a-view-versus-a-copy\n",
      "  This is separate from the ipykernel package so we can avoid doing imports until\n",
      "/home/dlgpu-aus/anaconda3/envs/nlp/lib/python3.7/site-packages/ipykernel_launcher.py:4: SettingWithCopyWarning: \n",
      "A value is trying to be set on a copy of a slice from a DataFrame.\n",
      "Try using .loc[row_indexer,col_indexer] = value instead\n",
      "\n",
      "See the caveats in the documentation: https://pandas.pydata.org/pandas-docs/stable/user_guide/indexing.html#returning-a-view-versus-a-copy\n",
      "  after removing the cwd from sys.path.\n",
      "/home/dlgpu-aus/anaconda3/envs/nlp/lib/python3.7/site-packages/ipykernel_launcher.py:5: SettingWithCopyWarning: \n",
      "A value is trying to be set on a copy of a slice from a DataFrame.\n",
      "Try using .loc[row_indexer,col_indexer] = value instead\n",
      "\n",
      "See the caveats in the documentation: https://pandas.pydata.org/pandas-docs/stable/user_guide/indexing.html#returning-a-view-versus-a-copy\n",
      "  \"\"\"\n"
     ]
    }
   ],
   "source": [
    "categoriesdf['Cost'] = pd.to_numeric(categoriesdf['Cost'], errors='coerce')\n",
    "categoriesdf['Safety'] = pd.to_numeric(categoriesdf['Safety'], errors='coerce')\n",
    "categoriesdf['Efficacy'] = pd.to_numeric(categoriesdf['Efficacy'], errors='coerce')\n",
    "categoriesdf['Compliance/ adherence'] = pd.to_numeric(categoriesdf['Compliance/ adherence'], errors='coerce')\n",
    "categoriesdf['Comfort/ convenience'] = pd.to_numeric(categoriesdf['Comfort/ convenience'], errors='coerce')"
   ]
  },
  {
   "cell_type": "code",
   "execution_count": 15,
   "metadata": {},
   "outputs": [
    {
     "data": {
      "text/plain": [
       "numpy.float64"
      ]
     },
     "execution_count": 15,
     "metadata": {},
     "output_type": "execute_result"
    }
   ],
   "source": [
    "type(categoriesdf['Comfort/ convenience'][0])"
   ]
  },
  {
   "cell_type": "code",
   "execution_count": 16,
   "metadata": {},
   "outputs": [],
   "source": [
    "categoriesdf = categoriesdf.fillna(0)"
   ]
  },
  {
   "cell_type": "code",
   "execution_count": 17,
   "metadata": {},
   "outputs": [
    {
     "data": {
      "text/html": [
       "<div>\n",
       "<style scoped>\n",
       "    .dataframe tbody tr th:only-of-type {\n",
       "        vertical-align: middle;\n",
       "    }\n",
       "\n",
       "    .dataframe tbody tr th {\n",
       "        vertical-align: top;\n",
       "    }\n",
       "\n",
       "    .dataframe thead th {\n",
       "        text-align: right;\n",
       "    }\n",
       "</style>\n",
       "<table border=\"1\" class=\"dataframe\">\n",
       "  <thead>\n",
       "    <tr style=\"text-align: right;\">\n",
       "      <th></th>\n",
       "      <th>Cost</th>\n",
       "      <th>Safety</th>\n",
       "      <th>Efficacy</th>\n",
       "      <th>Compliance/ adherence</th>\n",
       "      <th>Comfort/ convenience</th>\n",
       "    </tr>\n",
       "  </thead>\n",
       "  <tbody>\n",
       "    <tr>\n",
       "      <th>0</th>\n",
       "      <td>0.0</td>\n",
       "      <td>0.0</td>\n",
       "      <td>1.0</td>\n",
       "      <td>0.0</td>\n",
       "      <td>0.0</td>\n",
       "    </tr>\n",
       "    <tr>\n",
       "      <th>1</th>\n",
       "      <td>0.0</td>\n",
       "      <td>0.0</td>\n",
       "      <td>1.0</td>\n",
       "      <td>0.0</td>\n",
       "      <td>0.0</td>\n",
       "    </tr>\n",
       "    <tr>\n",
       "      <th>2</th>\n",
       "      <td>0.0</td>\n",
       "      <td>0.0</td>\n",
       "      <td>1.0</td>\n",
       "      <td>0.0</td>\n",
       "      <td>0.0</td>\n",
       "    </tr>\n",
       "    <tr>\n",
       "      <th>3</th>\n",
       "      <td>0.0</td>\n",
       "      <td>0.0</td>\n",
       "      <td>1.0</td>\n",
       "      <td>0.0</td>\n",
       "      <td>0.0</td>\n",
       "    </tr>\n",
       "    <tr>\n",
       "      <th>4</th>\n",
       "      <td>0.0</td>\n",
       "      <td>0.0</td>\n",
       "      <td>1.0</td>\n",
       "      <td>0.0</td>\n",
       "      <td>0.0</td>\n",
       "    </tr>\n",
       "    <tr>\n",
       "      <th>5</th>\n",
       "      <td>0.0</td>\n",
       "      <td>0.0</td>\n",
       "      <td>1.0</td>\n",
       "      <td>0.0</td>\n",
       "      <td>0.0</td>\n",
       "    </tr>\n",
       "    <tr>\n",
       "      <th>6</th>\n",
       "      <td>0.0</td>\n",
       "      <td>0.0</td>\n",
       "      <td>1.0</td>\n",
       "      <td>0.0</td>\n",
       "      <td>0.0</td>\n",
       "    </tr>\n",
       "    <tr>\n",
       "      <th>7</th>\n",
       "      <td>0.0</td>\n",
       "      <td>0.0</td>\n",
       "      <td>1.0</td>\n",
       "      <td>0.0</td>\n",
       "      <td>0.0</td>\n",
       "    </tr>\n",
       "    <tr>\n",
       "      <th>8</th>\n",
       "      <td>0.0</td>\n",
       "      <td>0.0</td>\n",
       "      <td>1.0</td>\n",
       "      <td>0.0</td>\n",
       "      <td>0.0</td>\n",
       "    </tr>\n",
       "    <tr>\n",
       "      <th>9</th>\n",
       "      <td>0.0</td>\n",
       "      <td>0.0</td>\n",
       "      <td>1.0</td>\n",
       "      <td>0.0</td>\n",
       "      <td>0.0</td>\n",
       "    </tr>\n",
       "  </tbody>\n",
       "</table>\n",
       "</div>"
      ],
      "text/plain": [
       "   Cost  Safety  Efficacy  Compliance/ adherence  Comfort/ convenience\n",
       "0   0.0     0.0       1.0                    0.0                   0.0\n",
       "1   0.0     0.0       1.0                    0.0                   0.0\n",
       "2   0.0     0.0       1.0                    0.0                   0.0\n",
       "3   0.0     0.0       1.0                    0.0                   0.0\n",
       "4   0.0     0.0       1.0                    0.0                   0.0\n",
       "5   0.0     0.0       1.0                    0.0                   0.0\n",
       "6   0.0     0.0       1.0                    0.0                   0.0\n",
       "7   0.0     0.0       1.0                    0.0                   0.0\n",
       "8   0.0     0.0       1.0                    0.0                   0.0\n",
       "9   0.0     0.0       1.0                    0.0                   0.0"
      ]
     },
     "execution_count": 17,
     "metadata": {},
     "output_type": "execute_result"
    }
   ],
   "source": [
    "categoriesdf.head(10)"
   ]
  },
  {
   "cell_type": "code",
   "execution_count": 17,
   "metadata": {},
   "outputs": [],
   "source": [
    "categoriesdf = categoriesdf.fillna(0)"
   ]
  },
  {
   "cell_type": "code",
   "execution_count": 18,
   "metadata": {},
   "outputs": [
    {
     "data": {
      "text/html": [
       "<div>\n",
       "<style scoped>\n",
       "    .dataframe tbody tr th:only-of-type {\n",
       "        vertical-align: middle;\n",
       "    }\n",
       "\n",
       "    .dataframe tbody tr th {\n",
       "        vertical-align: top;\n",
       "    }\n",
       "\n",
       "    .dataframe thead th {\n",
       "        text-align: right;\n",
       "    }\n",
       "</style>\n",
       "<table border=\"1\" class=\"dataframe\">\n",
       "  <thead>\n",
       "    <tr style=\"text-align: right;\">\n",
       "      <th></th>\n",
       "      <th>Cost</th>\n",
       "      <th>Safety</th>\n",
       "      <th>Efficacy</th>\n",
       "      <th>Compliance/ adherence</th>\n",
       "      <th>Comfort/ convenience</th>\n",
       "    </tr>\n",
       "  </thead>\n",
       "  <tbody>\n",
       "    <tr>\n",
       "      <th>0</th>\n",
       "      <td>0</td>\n",
       "      <td>0.0</td>\n",
       "      <td>1.0</td>\n",
       "      <td>0.0</td>\n",
       "      <td>0.0</td>\n",
       "    </tr>\n",
       "    <tr>\n",
       "      <th>1</th>\n",
       "      <td>0</td>\n",
       "      <td>0.0</td>\n",
       "      <td>1.0</td>\n",
       "      <td>0.0</td>\n",
       "      <td>0.0</td>\n",
       "    </tr>\n",
       "    <tr>\n",
       "      <th>2</th>\n",
       "      <td>0</td>\n",
       "      <td>0.0</td>\n",
       "      <td>1.0</td>\n",
       "      <td>0.0</td>\n",
       "      <td>0.0</td>\n",
       "    </tr>\n",
       "    <tr>\n",
       "      <th>3</th>\n",
       "      <td>0</td>\n",
       "      <td>0.0</td>\n",
       "      <td>1.0</td>\n",
       "      <td>0.0</td>\n",
       "      <td>0.0</td>\n",
       "    </tr>\n",
       "    <tr>\n",
       "      <th>4</th>\n",
       "      <td>0</td>\n",
       "      <td>0.0</td>\n",
       "      <td>1.0</td>\n",
       "      <td>0.0</td>\n",
       "      <td>0.0</td>\n",
       "    </tr>\n",
       "  </tbody>\n",
       "</table>\n",
       "</div>"
      ],
      "text/plain": [
       "  Cost  Safety  Efficacy  Compliance/ adherence  Comfort/ convenience\n",
       "0    0     0.0       1.0                    0.0                   0.0\n",
       "1    0     0.0       1.0                    0.0                   0.0\n",
       "2    0     0.0       1.0                    0.0                   0.0\n",
       "3    0     0.0       1.0                    0.0                   0.0\n",
       "4    0     0.0       1.0                    0.0                   0.0"
      ]
     },
     "execution_count": 18,
     "metadata": {},
     "output_type": "execute_result"
    }
   ],
   "source": [
    "categoriesdf.head()"
   ]
  },
  {
   "cell_type": "code",
   "execution_count": 19,
   "metadata": {},
   "outputs": [
    {
     "data": {
      "text/plain": [
       "Cost                     1045\n",
       "Safety                   1045\n",
       "Efficacy                 1045\n",
       "Compliance/ adherence    1045\n",
       "Comfort/ convenience     1045\n",
       "dtype: int64"
      ]
     },
     "execution_count": 19,
     "metadata": {},
     "output_type": "execute_result"
    }
   ],
   "source": [
    "categoriesdf.isnull().count()"
   ]
  },
  {
   "cell_type": "code",
   "execution_count": 20,
   "metadata": {},
   "outputs": [
    {
     "data": {
      "text/plain": [
       "(1045, 5)"
      ]
     },
     "execution_count": 20,
     "metadata": {},
     "output_type": "execute_result"
    }
   ],
   "source": [
    "categoriesdf.shape\n"
   ]
  },
  {
   "cell_type": "code",
   "execution_count": 21,
   "metadata": {},
   "outputs": [],
   "source": [
    "categoriesdf =  categoriesdf.idxmax(axis=1)"
   ]
  },
  {
   "cell_type": "code",
   "execution_count": 23,
   "metadata": {},
   "outputs": [
    {
     "data": {
      "text/plain": [
       "1040                     Cost\n",
       "1041                 Efficacy\n",
       "1042                     Cost\n",
       "1043                     Cost\n",
       "1044    Compliance/ adherence\n",
       "dtype: object"
      ]
     },
     "execution_count": 23,
     "metadata": {},
     "output_type": "execute_result"
    }
   ],
   "source": [
    "categoriesdf.tail()"
   ]
  },
  {
   "cell_type": "code",
   "execution_count": 24,
   "metadata": {},
   "outputs": [
    {
     "data": {
      "text/plain": [
       "count     1045\n",
       "unique       5\n",
       "top       Cost\n",
       "freq       777\n",
       "dtype: object"
      ]
     },
     "execution_count": 24,
     "metadata": {},
     "output_type": "execute_result"
    }
   ],
   "source": [
    "categoriesdf.describe()"
   ]
  },
  {
   "cell_type": "code",
   "execution_count": 27,
   "metadata": {},
   "outputs": [],
   "source": [
    "a = np.array(categoriesdf)"
   ]
  },
  {
   "cell_type": "code",
   "execution_count": 28,
   "metadata": {},
   "outputs": [
    {
     "name": "stdout",
     "output_type": "stream",
     "text": [
      "[['Comfort/ convenience' 'Compliance/ adherence' 'Cost' 'Efficacy'\n",
      "  'Safety']\n",
      " [30 71 777 107 60]]\n"
     ]
    }
   ],
   "source": [
    "unique_elements, counts_elements = np.unique(a, return_counts=True)\n",
    "print(np.asarray((unique_elements, counts_elements)))"
   ]
  },
  {
   "cell_type": "code",
   "execution_count": 29,
   "metadata": {},
   "outputs": [
    {
     "data": {
      "text/plain": [
       "0    Efficacy\n",
       "1    Efficacy\n",
       "2    Efficacy\n",
       "3    Efficacy\n",
       "4    Efficacy\n",
       "dtype: object"
      ]
     },
     "execution_count": 29,
     "metadata": {},
     "output_type": "execute_result"
    }
   ],
   "source": [
    "categoriesdf.head()"
   ]
  },
  {
   "cell_type": "code",
   "execution_count": null,
   "metadata": {},
   "outputs": [],
   "source": []
  }
 ],
 "metadata": {
  "kernelspec": {
   "display_name": "Python 3",
   "language": "python",
   "name": "python3"
  },
  "language_info": {
   "codemirror_mode": {
    "name": "ipython",
    "version": 3
   },
   "file_extension": ".py",
   "mimetype": "text/x-python",
   "name": "python",
   "nbconvert_exporter": "python",
   "pygments_lexer": "ipython3",
   "version": "3.7.4"
  }
 },
 "nbformat": 4,
 "nbformat_minor": 2
}
